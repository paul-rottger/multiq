{
 "cells": [
  {
   "cell_type": "markdown",
   "metadata": {},
   "source": [
    "# Imports"
   ]
  },
  {
   "cell_type": "code",
   "execution_count": 15,
   "metadata": {},
   "outputs": [],
   "source": [
    "import sys\n",
    "import pandas as pd\n",
    "import numpy as np\n",
    "import itertools\n",
    "from plotly.subplots import make_subplots\n",
    "import plotly.graph_objects as go\n",
    "\n",
    "from dash import Dash, html, dcc, callback, Output, Input\n",
    "import plotly.express as px\n",
    "import pandas as pd\n",
    "import plotly.graph_objects as go\n",
    "import re\n",
    "\n",
    "\n",
    "import random\n",
    "import scipy.stats\n",
    "import os\n",
    "\n",
    "from transformers import AutoTokenizer\n",
    "\n",
    "\n",
    "custom_template = dict(\n",
    "    layout=go.Layout(title_font=dict(family=\"Times New Roman\"))\n",
    ")\n",
    "\n"
   ]
  },
  {
   "cell_type": "markdown",
   "metadata": {},
   "source": [
    "# Analysis of Model Answer Accuracy"
   ]
  },
  {
   "cell_type": "markdown",
   "metadata": {},
   "source": [
    "### Import MulitQ Answer Accuracy DFs"
   ]
  },
  {
   "cell_type": "code",
   "execution_count": 16,
   "metadata": {},
   "outputs": [
    {
     "name": "stdout",
     "output_type": "stream",
     "text": [
      "Loaded Mistral-7B-Instruct-v0.1.csv (27400 rows)\n",
      "Loaded Qwen1.5-7B-Chat.csv (27400 rows)\n",
      "Loaded Llama-2-70b-chat-hf.csv (27400 rows)\n",
      "Loaded Llama-2-13b-chat-hf.csv (27400 rows)\n",
      "Loaded Mixtral-8x7B-Instruct-v0.1.csv (27400 rows)\n",
      "Loaded Llama-2-7b-chat-hf.csv (27400 rows)\n"
     ]
    }
   ],
   "source": [
    "df_validation = {}\n",
    "\n",
    "for model in os.listdir(f\"../../data/model_answer_accuracy/completions/\"):\n",
    "        df_validation[model[:-4]] = pd.read_csv(f\"../../data/model_answer_accuracy/completions/{model}\")\n",
    "        print(f\"Loaded {model} ({len(df_validation[model[:-4]])} rows)\")"
   ]
  },
  {
   "cell_type": "code",
   "execution_count": 18,
   "metadata": {},
   "outputs": [],
   "source": [
    "#  Normalize model answers\n",
    "def normalize(row):\n",
    "    return_value = 'unknown'\n",
    "    if bool(re.search('^No|no', row['eval_completion'])):\n",
    "        return_value =  'incorrect'\n",
    "    elif bool(re.search('^Yes|yes', row['eval_completion'])):\n",
    "        return_value =  'correct'\n",
    "    elif bool(re.search('correct or incorrect', row['eval_completion'])):\n",
    "        return_value =  'incorrect'\n",
    "    elif bool(re.search('is incorrect', row['eval_completion'])):\n",
    "        return_value =  'incorrect'\n",
    "    elif bool(re.search('is correct', row['eval_completion'])):\n",
    "        return_value =  'correct'\n",
    "    else:\n",
    "        return_value =  'incorrect'\n",
    "    return return_value\n",
    "\n",
    "for model in df_validation:\n",
    "    df_validation[model]['eval_completion_normalized'] = df_validation[model].apply(lambda row: normalize(row), axis=1)"
   ]
  },
  {
   "cell_type": "code",
   "execution_count": 19,
   "metadata": {},
   "outputs": [
    {
     "name": "stdout",
     "output_type": "stream",
     "text": [
      "Mistral-7B-Instruct-v0.1\n",
      "incorrect    23180\n",
      "correct       4220\n",
      "Name: eval_completion_normalized, dtype: int64\n",
      "-----------\n",
      "Qwen1.5-7B-Chat\n",
      "incorrect    22853\n",
      "correct       4547\n",
      "Name: eval_completion_normalized, dtype: int64\n",
      "-----------\n",
      "Llama-2-70b-chat-hf\n",
      "incorrect    19424\n",
      "correct       7976\n",
      "Name: eval_completion_normalized, dtype: int64\n",
      "-----------\n",
      "Llama-2-13b-chat-hf\n",
      "incorrect    20985\n",
      "correct       6415\n",
      "Name: eval_completion_normalized, dtype: int64\n",
      "-----------\n",
      "Mixtral-8x7B-Instruct-v0.1\n",
      "incorrect    18148\n",
      "correct       9252\n",
      "Name: eval_completion_normalized, dtype: int64\n",
      "-----------\n",
      "Llama-2-7b-chat-hf\n",
      "incorrect    22129\n",
      "correct       5271\n",
      "Name: eval_completion_normalized, dtype: int64\n",
      "-----------\n"
     ]
    }
   ],
   "source": [
    "for model in df_validation: \n",
    "    print(model)\n",
    "    print(df_validation[model]['eval_completion_normalized'].value_counts())\n",
    "    print('-----------')"
   ]
  },
  {
   "cell_type": "markdown",
   "metadata": {},
   "source": [
    "### Import Model Language Fidelity"
   ]
  },
  {
   "cell_type": "code",
   "execution_count": 20,
   "metadata": {},
   "outputs": [
    {
     "name": "stdout",
     "output_type": "stream",
     "text": [
      "Loaded Mistral-7B-Instruct-v0.1.csv (27400 rows)\n",
      "Loaded Qwen1.5-7B-Chat.csv (27400 rows)\n",
      "Loaded Mistral-7B-Instruct-v0.2.csv (27400 rows)\n",
      "Loaded Llama-2-70b-chat-hf.csv (27400 rows)\n",
      "Loaded Llama-2-13b-chat-hf.csv (27400 rows)\n",
      "Loaded zephyr-7b-beta.csv (27400 rows)\n",
      "Loaded Yi-6B-Chat.csv (27400 rows)\n",
      "Loaded Mixtral-8x7B-Instruct-v0.1.csv (27400 rows)\n",
      "Loaded Llama-2-7b-chat-hf.csv (27400 rows)\n"
     ]
    }
   ],
   "source": [
    "df_detection = {}\n",
    "\n",
    "for model in os.listdir(f\"../../data/model_language_fidelity/\"):\n",
    "        df_detection[model[:-4]] = pd.read_csv(f\"../../data/model_language_fidelity/{model}\")\n",
    "        print(f\"Loaded {model} ({len(df_detection[model[:-4]])} rows)\")"
   ]
  },
  {
   "cell_type": "markdown",
   "metadata": {},
   "source": [
    "## Merge the dataframes"
   ]
  },
  {
   "cell_type": "code",
   "execution_count": 39,
   "metadata": {},
   "outputs": [],
   "source": [
    "def get_answered_language(row):\n",
    "    if row['detected_language'] in row['iso_range']:\n",
    "        return 'Same Language'\n",
    "    elif row['detected_language'] == 'eng':\n",
    "        return 'English'\n",
    "    else:\n",
    "        return 'Other'"
   ]
  },
  {
   "cell_type": "code",
   "execution_count": 21,
   "metadata": {},
   "outputs": [
    {
     "name": "stdout",
     "output_type": "stream",
     "text": [
      "Mistral-7B-Instruct-v0.1\n",
      "Qwen1.5-7B-Chat\n",
      "Llama-2-70b-chat-hf\n",
      "Llama-2-13b-chat-hf\n",
      "Mixtral-8x7B-Instruct-v0.1\n",
      "Llama-2-7b-chat-hf\n"
     ]
    }
   ],
   "source": [
    "df_dict = {}\n",
    "for model in df_validation:\n",
    "    print(model)\n",
    "    df_dict[model] = df_validation[model].merge(df_detection[model], on=['id', 'language'])"
   ]
  },
  {
   "cell_type": "code",
   "execution_count": 40,
   "metadata": {},
   "outputs": [],
   "source": [
    "for model in df_dict:\n",
    "    df_dict[model]['answered_language'] = df_dict[model].apply(lambda row: get_answered_language(row), axis = 1)"
   ]
  },
  {
   "cell_type": "markdown",
   "metadata": {},
   "source": [
    "# Analyse Answer Accuracy over different languages"
   ]
  },
  {
   "cell_type": "code",
   "execution_count": 13,
   "metadata": {},
   "outputs": [
    {
     "name": "stdout",
     "output_type": "stream",
     "text": [
      "Qwen1.5-7B-Chat\n",
      "137\n",
      "Mistral-7B-Instruct-v0.1\n",
      "131\n",
      "Mixtral-8x7B-Instruct-v0.1\n",
      "137\n",
      "Llama-2-7b-chat-hf\n",
      "137\n"
     ]
    },
    {
     "name": "stderr",
     "output_type": "stream",
     "text": [
      "/var/folders/8g/lh2lrvsj7837bypfsr65hcb80000gn/T/ipykernel_44334/2331577376.py:37: FutureWarning:\n",
      "\n",
      "Passing 'suffixes' which cause duplicate columns {'eval_completion_normalized_x', 'size_x'} in the result is deprecated and will raise a MergeError in a future version.\n",
      "\n"
     ]
    },
    {
     "data": {
      "application/vnd.plotly.v1+json": {
       "config": {
        "plotlyServerURL": "https://plot.ly"
       },
       "data": [
        {
         "marker": {
          "color": "#8ed1c4",
          "symbol": "circle"
         },
         "mode": "markers",
         "name": "Qwen1.5-7B",
         "type": "scatter",
         "x": [
          "af",
          "ak",
          "am",
          "ar",
          "as",
          "ay",
          "az",
          "be",
          "bg",
          "bho",
          "bm",
          "bn",
          "bs",
          "ca",
          "ceb",
          "ckb",
          "co",
          "cs",
          "cy",
          "da",
          "de",
          "doi",
          "dv",
          "ee",
          "el",
          "en",
          "eo",
          "es",
          "et",
          "eu",
          "fa",
          "fi",
          "fil",
          "fr",
          "fy",
          "ga",
          "gd",
          "gl",
          "gn",
          "gom",
          "gu",
          "ha",
          "haw",
          "he",
          "hi",
          "hmn",
          "hr",
          "ht",
          "hu",
          "hy",
          "id",
          "ig",
          "ilo",
          "is",
          "it",
          "iw",
          "ja",
          "jv",
          "jw",
          "ka",
          "kk",
          "km",
          "kn",
          "ko",
          "kri",
          "ku",
          "ky",
          "la",
          "lb",
          "lg",
          "ln",
          "lo",
          "lt",
          "lus",
          "lv",
          "mai",
          "mg",
          "mi",
          "mk",
          "ml",
          "mn",
          "mni-Mtei",
          "mr",
          "ms",
          "mt",
          "my",
          "ne",
          "nl",
          "no",
          "nso",
          "ny",
          "om",
          "or",
          "pa",
          "pl",
          "ps",
          "pt",
          "qu",
          "ro",
          "ru",
          "rw",
          "sa",
          "sd",
          "si",
          "sk",
          "sl",
          "sm",
          "sn",
          "so",
          "sq",
          "sr",
          "st",
          "su",
          "sv",
          "sw",
          "ta",
          "te",
          "tg",
          "th",
          "ti",
          "tk",
          "tl",
          "tr",
          "ts",
          "tt",
          "ug",
          "uk",
          "ur",
          "uz",
          "vi",
          "xh",
          "yi",
          "yo",
          "zh",
          "zh-CN",
          "zh-TW",
          "zu"
         ],
         "y": [
          36,
          3.5000000000000004,
          8,
          27,
          7.000000000000001,
          3.5000000000000004,
          14.499999999999998,
          14.000000000000002,
          28.499999999999996,
          10.5,
          4,
          14.000000000000002,
          33,
          36.5,
          7.5,
          4.5,
          32.5,
          31.5,
          3.5000000000000004,
          35.5,
          47.5,
          10,
          3.5000000000000004,
          3,
          13.5,
          84,
          13.5,
          56.99999999999999,
          11,
          1,
          17.5,
          20.5,
          17,
          51.5,
          11.5,
          6,
          4.5,
          43,
          3.5000000000000004,
          5.5,
          16,
          3,
          4.5,
          17,
          16.5,
          2.5,
          33.5,
          5.5,
          22.5,
          2.5,
          35,
          4,
          7.000000000000001,
          8,
          46,
          18,
          54,
          12,
          10.5,
          6,
          15.5,
          6.5,
          9,
          37.5,
          11.5,
          3.5000000000000004,
          4.5,
          20,
          19,
          3,
          6,
          5,
          15,
          9,
          16.5,
          9.5,
          3.5000000000000004,
          2.5,
          25,
          12,
          4.5,
          10,
          13.5,
          31,
          4.5,
          9,
          11.5,
          47,
          32.5,
          3,
          3,
          2.5,
          7.000000000000001,
          9.5,
          33,
          7.000000000000001,
          52.5,
          3,
          38,
          39,
          1.5,
          7.000000000000001,
          3.5000000000000004,
          3,
          20,
          27,
          3.5000000000000004,
          4,
          4,
          7.000000000000001,
          31,
          5,
          16,
          40.5,
          3,
          9.5,
          5,
          3,
          19,
          18,
          4,
          17,
          16.5,
          2.5,
          2.5,
          2,
          25.5,
          7.5,
          2.5,
          32,
          2.5,
          2.5,
          3,
          73.5,
          75.5,
          73.5,
          2
         ]
        },
        {
         "marker": {
          "color": "#bfa0ee",
          "symbol": "square"
         },
         "mode": "markers",
         "name": "Mistral-7B-v0.1",
         "type": "scatter",
         "x": [
          "af",
          "ak",
          "ar",
          "as",
          "ay",
          "az",
          "be",
          "bg",
          "bho",
          "bm",
          "bn",
          "bs",
          "ca",
          "ceb",
          "ckb",
          "co",
          "cs",
          "cy",
          "da",
          "de",
          "doi",
          "dv",
          "ee",
          "el",
          "en",
          "eo",
          "es",
          "et",
          "eu",
          "fa",
          "fi",
          "fil",
          "fr",
          "fy",
          "ga",
          "gd",
          "gl",
          "gn",
          "gu",
          "ha",
          "haw",
          "he",
          "hi",
          "hmn",
          "hr",
          "ht",
          "hu",
          "hy",
          "id",
          "ig",
          "ilo",
          "is",
          "it",
          "iw",
          "ja",
          "jv",
          "jw",
          "kk",
          "km",
          "kn",
          "ko",
          "kri",
          "ku",
          "ky",
          "la",
          "lb",
          "lg",
          "ln",
          "lo",
          "lt",
          "lus",
          "lv",
          "mai",
          "mg",
          "mi",
          "mk",
          "ml",
          "mn",
          "mni-Mtei",
          "mr",
          "ms",
          "mt",
          "my",
          "ne",
          "nl",
          "no",
          "nso",
          "ny",
          "om",
          "or",
          "pa",
          "pl",
          "ps",
          "pt",
          "qu",
          "ro",
          "ru",
          "rw",
          "sa",
          "si",
          "sk",
          "sl",
          "sm",
          "sn",
          "so",
          "sq",
          "sr",
          "st",
          "su",
          "sv",
          "sw",
          "ta",
          "te",
          "tg",
          "th",
          "tk",
          "tl",
          "tr",
          "ts",
          "tt",
          "ug",
          "uk",
          "ur",
          "uz",
          "vi",
          "xh",
          "yo",
          "zh",
          "zh-CN",
          "zh-TW",
          "zu"
         ],
         "y": [
          40,
          2,
          9.5,
          1,
          4.5,
          5,
          19,
          52.5,
          3,
          2.5,
          1.5,
          46,
          45.5,
          18,
          1,
          38,
          45.5,
          2.5,
          57.99999999999999,
          66.5,
          1.5,
          2.5,
          1.5,
          7.000000000000001,
          84.5,
          15,
          67.5,
          6.5,
          1.5,
          6,
          14.000000000000002,
          22,
          68,
          17.5,
          1,
          3,
          45,
          4,
          2.5,
          3,
          3,
          0.5,
          1.5,
          4.5,
          42.5,
          4,
          36.5,
          0.5,
          31.5,
          1.5,
          5.5,
          13.5,
          64,
          0.5,
          30.5,
          9.5,
          8,
          2.5,
          1,
          4.5,
          28.000000000000004,
          9.5,
          3,
          2,
          23.5,
          16.5,
          2,
          6,
          1,
          7.5,
          11.5,
          5.5,
          0.5,
          2.5,
          2.5,
          34.5,
          7.000000000000001,
          1,
          0.5,
          1,
          27.500000000000004,
          5,
          0.5,
          1,
          57.99999999999999,
          56.00000000000001,
          4,
          1.5,
          2.5,
          2.5,
          2.5,
          56.99999999999999,
          2.5,
          61.5,
          1.5,
          37,
          59.5,
          2,
          1,
          6.5,
          36.5,
          40.5,
          3.5000000000000004,
          3,
          3.5000000000000004,
          4.5,
          40.5,
          6.5,
          6,
          57.99999999999999,
          3,
          0.5,
          1,
          3,
          0.5,
          4.5,
          22,
          18,
          2,
          2,
          0.5,
          55.50000000000001,
          3,
          2.5,
          14.499999999999998,
          0.5,
          2.5,
          39.5,
          40.5,
          36,
          0.5
         ]
        },
        {
         "marker": {
          "color": "#90cdff",
          "symbol": "diamond"
         },
         "mode": "markers",
         "name": "Mixtral-8x7B-v0.1",
         "type": "scatter",
         "x": [
          "af",
          "ak",
          "am",
          "ar",
          "as",
          "ay",
          "az",
          "be",
          "bg",
          "bho",
          "bm",
          "bn",
          "bs",
          "ca",
          "ceb",
          "ckb",
          "co",
          "cs",
          "cy",
          "da",
          "de",
          "doi",
          "dv",
          "ee",
          "el",
          "en",
          "eo",
          "es",
          "et",
          "eu",
          "fa",
          "fi",
          "fil",
          "fr",
          "fy",
          "ga",
          "gd",
          "gl",
          "gn",
          "gom",
          "gu",
          "ha",
          "haw",
          "he",
          "hi",
          "hmn",
          "hr",
          "ht",
          "hu",
          "hy",
          "id",
          "ig",
          "ilo",
          "is",
          "it",
          "iw",
          "ja",
          "jv",
          "jw",
          "ka",
          "kk",
          "km",
          "kn",
          "ko",
          "kri",
          "ku",
          "ky",
          "la",
          "lb",
          "lg",
          "ln",
          "lo",
          "lt",
          "lus",
          "lv",
          "mai",
          "mg",
          "mi",
          "mk",
          "ml",
          "mn",
          "mni-Mtei",
          "mr",
          "ms",
          "mt",
          "my",
          "ne",
          "nl",
          "no",
          "nso",
          "ny",
          "om",
          "or",
          "pa",
          "pl",
          "ps",
          "pt",
          "qu",
          "ro",
          "ru",
          "rw",
          "sa",
          "sd",
          "si",
          "sk",
          "sl",
          "sm",
          "sn",
          "so",
          "sq",
          "sr",
          "st",
          "su",
          "sv",
          "sw",
          "ta",
          "te",
          "tg",
          "th",
          "ti",
          "tk",
          "tl",
          "tr",
          "ts",
          "tt",
          "ug",
          "uk",
          "ur",
          "uz",
          "vi",
          "xh",
          "yi",
          "yo",
          "zh",
          "zh-CN",
          "zh-TW",
          "zu"
         ],
         "y": [
          67,
          8.5,
          4.5,
          46.5,
          14.499999999999998,
          9,
          28.999999999999996,
          43.5,
          87,
          25,
          7.000000000000001,
          31.5,
          77.5,
          82.5,
          31,
          11.5,
          68,
          81.5,
          10.5,
          85.5,
          86.5,
          25.5,
          6.5,
          6.5,
          48.5,
          90.5,
          44,
          89.5,
          24,
          13,
          48.5,
          50.5,
          50,
          89,
          35.5,
          14.499999999999998,
          10.5,
          73.5,
          13,
          13,
          15,
          8,
          13.5,
          32.5,
          38,
          5,
          80.5,
          17.5,
          71.5,
          18,
          68,
          7.000000000000001,
          17.5,
          32.5,
          87,
          32,
          67.5,
          31,
          31,
          19.5,
          16,
          6,
          13.5,
          68.5,
          29.5,
          5.5,
          14.499999999999998,
          43.5,
          50,
          7.5,
          12.5,
          7.5,
          28.000000000000004,
          18.5,
          21.5,
          26,
          4,
          13,
          68.5,
          10.5,
          8,
          1,
          21.5,
          58.5,
          12,
          5,
          31.5,
          88.5,
          80,
          8.5,
          6,
          4.5,
          9.5,
          16,
          85,
          7.5,
          87.5,
          10.5,
          79,
          85.5,
          6.5,
          26,
          11,
          3.5000000000000004,
          66.5,
          77,
          6,
          10.5,
          8.5,
          20,
          84.5,
          10.5,
          27,
          85.5,
          15,
          17,
          12,
          9.5,
          33,
          6.5,
          14.499999999999998,
          47.5,
          44.5,
          7.000000000000001,
          14.499999999999998,
          12.5,
          83,
          27.500000000000004,
          14.499999999999998,
          53,
          6,
          23,
          7.5,
          69,
          71,
          72,
          7.000000000000001
         ]
        },
        {
         "marker": {
          "color": "#005397",
          "symbol": "triangle-up"
         },
         "mode": "markers",
         "name": "Llama-2-7B",
         "type": "scatter",
         "x": [
          "af",
          "ak",
          "am",
          "ar",
          "as",
          "ay",
          "az",
          "be",
          "bg",
          "bho",
          "bm",
          "bn",
          "bs",
          "ca",
          "ceb",
          "ckb",
          "co",
          "cs",
          "cy",
          "da",
          "de",
          "doi",
          "dv",
          "ee",
          "el",
          "en",
          "eo",
          "es",
          "et",
          "eu",
          "fa",
          "fi",
          "fil",
          "fr",
          "fy",
          "ga",
          "gd",
          "gl",
          "gn",
          "gom",
          "gu",
          "ha",
          "haw",
          "he",
          "hi",
          "hmn",
          "hr",
          "ht",
          "hu",
          "hy",
          "id",
          "ig",
          "ilo",
          "is",
          "it",
          "iw",
          "ja",
          "jv",
          "jw",
          "ka",
          "kk",
          "km",
          "kn",
          "ko",
          "kri",
          "ku",
          "ky",
          "la",
          "lb",
          "lg",
          "ln",
          "lo",
          "lt",
          "lus",
          "lv",
          "mai",
          "mg",
          "mi",
          "mk",
          "ml",
          "mn",
          "mni-Mtei",
          "mr",
          "ms",
          "mt",
          "my",
          "ne",
          "nl",
          "no",
          "nso",
          "ny",
          "om",
          "or",
          "pa",
          "pl",
          "ps",
          "pt",
          "qu",
          "ro",
          "ru",
          "rw",
          "sa",
          "sd",
          "si",
          "sk",
          "sl",
          "sm",
          "sn",
          "so",
          "sq",
          "sr",
          "st",
          "su",
          "sv",
          "sw",
          "ta",
          "te",
          "tg",
          "th",
          "ti",
          "tk",
          "tl",
          "tr",
          "ts",
          "tt",
          "ug",
          "uk",
          "ur",
          "uz",
          "vi",
          "xh",
          "yi",
          "yo",
          "zh",
          "zh-CN",
          "zh-TW",
          "zu"
         ],
         "y": [
          44,
          4.5,
          3.5000000000000004,
          25.5,
          1.5,
          4,
          7.5,
          18.5,
          54,
          16,
          4,
          9,
          41.5,
          44,
          26.5,
          4.5,
          42,
          41.5,
          6,
          56.00000000000001,
          50,
          14.499999999999998,
          3.5000000000000004,
          4,
          30,
          81.5,
          25,
          53,
          13.5,
          8.5,
          19.5,
          39.5,
          36,
          55.00000000000001,
          18.5,
          11,
          8.5,
          42.5,
          9,
          7.000000000000001,
          4,
          4,
          6,
          13.5,
          26.5,
          0.5,
          44,
          7.000000000000001,
          30,
          5,
          46,
          6.5,
          10,
          10,
          55.50000000000001,
          12.5,
          56.49999999999999,
          14.000000000000002,
          13,
          14.000000000000002,
          7.000000000000001,
          3.5000000000000004,
          3.5000000000000004,
          51.5,
          7.000000000000001,
          4.5,
          5,
          24.5,
          19,
          4,
          10.5,
          7.000000000000001,
          7.5,
          11,
          8.5,
          12.5,
          4,
          8,
          45.5,
          5,
          3.5000000000000004,
          1.5,
          9.5,
          35,
          13,
          4,
          13.5,
          48.5,
          55.50000000000001,
          5.5,
          2,
          3.5000000000000004,
          3,
          3,
          40,
          3.5000000000000004,
          49,
          5,
          47,
          40,
          5.5,
          5.5,
          4,
          3.5000000000000004,
          43,
          40.5,
          5.5,
          4,
          3.5000000000000004,
          13,
          42.5,
          7.5,
          15,
          55.00000000000001,
          6,
          4.5,
          3,
          4.5,
          5.5,
          3,
          5,
          35.5,
          19.5,
          4,
          6.5,
          4,
          49,
          8.5,
          6,
          44.5,
          2.5,
          3.5000000000000004,
          5,
          54.50000000000001,
          56.99999999999999,
          56.99999999999999,
          2
         ]
        }
       ],
       "layout": {
        "font": {
         "family": "Times New Roman"
        },
        "height": 400,
        "legend": {
         "font": {
          "size": 20
         },
         "x": 1,
         "xanchor": "right",
         "y": 1,
         "yanchor": "top"
        },
        "margin": {
         "b": 70,
         "l": 30,
         "r": 0,
         "t": 20
        },
        "template": {
         "data": {
          "bar": [
           {
            "error_x": {
             "color": "#2a3f5f"
            },
            "error_y": {
             "color": "#2a3f5f"
            },
            "marker": {
             "line": {
              "color": "#E5ECF6",
              "width": 0.5
             },
             "pattern": {
              "fillmode": "overlay",
              "size": 10,
              "solidity": 0.2
             }
            },
            "type": "bar"
           }
          ],
          "barpolar": [
           {
            "marker": {
             "line": {
              "color": "#E5ECF6",
              "width": 0.5
             },
             "pattern": {
              "fillmode": "overlay",
              "size": 10,
              "solidity": 0.2
             }
            },
            "type": "barpolar"
           }
          ],
          "carpet": [
           {
            "aaxis": {
             "endlinecolor": "#2a3f5f",
             "gridcolor": "white",
             "linecolor": "white",
             "minorgridcolor": "white",
             "startlinecolor": "#2a3f5f"
            },
            "baxis": {
             "endlinecolor": "#2a3f5f",
             "gridcolor": "white",
             "linecolor": "white",
             "minorgridcolor": "white",
             "startlinecolor": "#2a3f5f"
            },
            "type": "carpet"
           }
          ],
          "choropleth": [
           {
            "colorbar": {
             "outlinewidth": 0,
             "ticks": ""
            },
            "type": "choropleth"
           }
          ],
          "contour": [
           {
            "colorbar": {
             "outlinewidth": 0,
             "ticks": ""
            },
            "colorscale": [
             [
              0,
              "#0d0887"
             ],
             [
              0.1111111111111111,
              "#46039f"
             ],
             [
              0.2222222222222222,
              "#7201a8"
             ],
             [
              0.3333333333333333,
              "#9c179e"
             ],
             [
              0.4444444444444444,
              "#bd3786"
             ],
             [
              0.5555555555555556,
              "#d8576b"
             ],
             [
              0.6666666666666666,
              "#ed7953"
             ],
             [
              0.7777777777777778,
              "#fb9f3a"
             ],
             [
              0.8888888888888888,
              "#fdca26"
             ],
             [
              1,
              "#f0f921"
             ]
            ],
            "type": "contour"
           }
          ],
          "contourcarpet": [
           {
            "colorbar": {
             "outlinewidth": 0,
             "ticks": ""
            },
            "type": "contourcarpet"
           }
          ],
          "heatmap": [
           {
            "colorbar": {
             "outlinewidth": 0,
             "ticks": ""
            },
            "colorscale": [
             [
              0,
              "#0d0887"
             ],
             [
              0.1111111111111111,
              "#46039f"
             ],
             [
              0.2222222222222222,
              "#7201a8"
             ],
             [
              0.3333333333333333,
              "#9c179e"
             ],
             [
              0.4444444444444444,
              "#bd3786"
             ],
             [
              0.5555555555555556,
              "#d8576b"
             ],
             [
              0.6666666666666666,
              "#ed7953"
             ],
             [
              0.7777777777777778,
              "#fb9f3a"
             ],
             [
              0.8888888888888888,
              "#fdca26"
             ],
             [
              1,
              "#f0f921"
             ]
            ],
            "type": "heatmap"
           }
          ],
          "heatmapgl": [
           {
            "colorbar": {
             "outlinewidth": 0,
             "ticks": ""
            },
            "colorscale": [
             [
              0,
              "#0d0887"
             ],
             [
              0.1111111111111111,
              "#46039f"
             ],
             [
              0.2222222222222222,
              "#7201a8"
             ],
             [
              0.3333333333333333,
              "#9c179e"
             ],
             [
              0.4444444444444444,
              "#bd3786"
             ],
             [
              0.5555555555555556,
              "#d8576b"
             ],
             [
              0.6666666666666666,
              "#ed7953"
             ],
             [
              0.7777777777777778,
              "#fb9f3a"
             ],
             [
              0.8888888888888888,
              "#fdca26"
             ],
             [
              1,
              "#f0f921"
             ]
            ],
            "type": "heatmapgl"
           }
          ],
          "histogram": [
           {
            "marker": {
             "pattern": {
              "fillmode": "overlay",
              "size": 10,
              "solidity": 0.2
             }
            },
            "type": "histogram"
           }
          ],
          "histogram2d": [
           {
            "colorbar": {
             "outlinewidth": 0,
             "ticks": ""
            },
            "colorscale": [
             [
              0,
              "#0d0887"
             ],
             [
              0.1111111111111111,
              "#46039f"
             ],
             [
              0.2222222222222222,
              "#7201a8"
             ],
             [
              0.3333333333333333,
              "#9c179e"
             ],
             [
              0.4444444444444444,
              "#bd3786"
             ],
             [
              0.5555555555555556,
              "#d8576b"
             ],
             [
              0.6666666666666666,
              "#ed7953"
             ],
             [
              0.7777777777777778,
              "#fb9f3a"
             ],
             [
              0.8888888888888888,
              "#fdca26"
             ],
             [
              1,
              "#f0f921"
             ]
            ],
            "type": "histogram2d"
           }
          ],
          "histogram2dcontour": [
           {
            "colorbar": {
             "outlinewidth": 0,
             "ticks": ""
            },
            "colorscale": [
             [
              0,
              "#0d0887"
             ],
             [
              0.1111111111111111,
              "#46039f"
             ],
             [
              0.2222222222222222,
              "#7201a8"
             ],
             [
              0.3333333333333333,
              "#9c179e"
             ],
             [
              0.4444444444444444,
              "#bd3786"
             ],
             [
              0.5555555555555556,
              "#d8576b"
             ],
             [
              0.6666666666666666,
              "#ed7953"
             ],
             [
              0.7777777777777778,
              "#fb9f3a"
             ],
             [
              0.8888888888888888,
              "#fdca26"
             ],
             [
              1,
              "#f0f921"
             ]
            ],
            "type": "histogram2dcontour"
           }
          ],
          "mesh3d": [
           {
            "colorbar": {
             "outlinewidth": 0,
             "ticks": ""
            },
            "type": "mesh3d"
           }
          ],
          "parcoords": [
           {
            "line": {
             "colorbar": {
              "outlinewidth": 0,
              "ticks": ""
             }
            },
            "type": "parcoords"
           }
          ],
          "pie": [
           {
            "automargin": true,
            "type": "pie"
           }
          ],
          "scatter": [
           {
            "fillpattern": {
             "fillmode": "overlay",
             "size": 10,
             "solidity": 0.2
            },
            "type": "scatter"
           }
          ],
          "scatter3d": [
           {
            "line": {
             "colorbar": {
              "outlinewidth": 0,
              "ticks": ""
             }
            },
            "marker": {
             "colorbar": {
              "outlinewidth": 0,
              "ticks": ""
             }
            },
            "type": "scatter3d"
           }
          ],
          "scattercarpet": [
           {
            "marker": {
             "colorbar": {
              "outlinewidth": 0,
              "ticks": ""
             }
            },
            "type": "scattercarpet"
           }
          ],
          "scattergeo": [
           {
            "marker": {
             "colorbar": {
              "outlinewidth": 0,
              "ticks": ""
             }
            },
            "type": "scattergeo"
           }
          ],
          "scattergl": [
           {
            "marker": {
             "colorbar": {
              "outlinewidth": 0,
              "ticks": ""
             }
            },
            "type": "scattergl"
           }
          ],
          "scattermapbox": [
           {
            "marker": {
             "colorbar": {
              "outlinewidth": 0,
              "ticks": ""
             }
            },
            "type": "scattermapbox"
           }
          ],
          "scatterpolar": [
           {
            "marker": {
             "colorbar": {
              "outlinewidth": 0,
              "ticks": ""
             }
            },
            "type": "scatterpolar"
           }
          ],
          "scatterpolargl": [
           {
            "marker": {
             "colorbar": {
              "outlinewidth": 0,
              "ticks": ""
             }
            },
            "type": "scatterpolargl"
           }
          ],
          "scatterternary": [
           {
            "marker": {
             "colorbar": {
              "outlinewidth": 0,
              "ticks": ""
             }
            },
            "type": "scatterternary"
           }
          ],
          "surface": [
           {
            "colorbar": {
             "outlinewidth": 0,
             "ticks": ""
            },
            "colorscale": [
             [
              0,
              "#0d0887"
             ],
             [
              0.1111111111111111,
              "#46039f"
             ],
             [
              0.2222222222222222,
              "#7201a8"
             ],
             [
              0.3333333333333333,
              "#9c179e"
             ],
             [
              0.4444444444444444,
              "#bd3786"
             ],
             [
              0.5555555555555556,
              "#d8576b"
             ],
             [
              0.6666666666666666,
              "#ed7953"
             ],
             [
              0.7777777777777778,
              "#fb9f3a"
             ],
             [
              0.8888888888888888,
              "#fdca26"
             ],
             [
              1,
              "#f0f921"
             ]
            ],
            "type": "surface"
           }
          ],
          "table": [
           {
            "cells": {
             "fill": {
              "color": "#EBF0F8"
             },
             "line": {
              "color": "white"
             }
            },
            "header": {
             "fill": {
              "color": "#C8D4E3"
             },
             "line": {
              "color": "white"
             }
            },
            "type": "table"
           }
          ]
         },
         "layout": {
          "title": {
           "font": {
            "family": "Times New Roman"
           }
          }
         }
        },
        "width": 1100,
        "xaxis": {
         "autorange": false,
         "categoryarray": [
          "en",
          "zh-TW",
          "zh-CN",
          "es",
          "zh",
          "fr",
          "it",
          "de",
          "da",
          "pt",
          "sv",
          "no",
          "ja",
          "bg",
          "nl",
          "uk",
          "ru",
          "pl",
          "ca",
          "ko",
          "gl",
          "bs",
          "cs",
          "hr",
          "ro",
          "af",
          "sr",
          "sl",
          "id",
          "mk",
          "co",
          "sk",
          "vi",
          "hu",
          "ms",
          "fi",
          "fil",
          "tl",
          "ar",
          "la",
          "ceb",
          "el",
          "hi",
          "eo",
          "lb",
          "tr",
          "be",
          "fa",
          "fy",
          "su",
          "iw",
          "he",
          "ka",
          "bho",
          "jv",
          "ne",
          "lv",
          "et",
          "th",
          "doi",
          "is",
          "jw",
          "mr",
          "bn",
          "kk",
          "lt",
          "lus",
          "az",
          "mai",
          "kri",
          "sq",
          "gu",
          "ml",
          "mt",
          "ga",
          "ilo",
          "ln",
          "ur",
          "gom",
          "st",
          "ta",
          "kn",
          "gd",
          "ti",
          "gn",
          "pa",
          "ht",
          "sa",
          "lo",
          "ps",
          "mi",
          "haw",
          "ig",
          "eu",
          "or",
          "ky",
          "cy",
          "nso",
          "tk",
          "km",
          "am",
          "sw",
          "my",
          "ckb",
          "sm",
          "tt",
          "uz",
          "as",
          "ay",
          "bm",
          "te",
          "yo",
          "sd",
          "ku",
          "qu",
          "ak",
          "sn",
          "mn",
          "so",
          "mg",
          "hy",
          "rw",
          "tg",
          "yi",
          "dv",
          "si",
          "lg",
          "ee",
          "ha",
          "hmn",
          "ts",
          "om",
          "ug",
          "xh",
          "ny",
          "zu",
          "mni-Mtei"
         ],
         "categoryorder": "array",
         "dtick": 1,
         "range": [
          -1,
          137
         ],
         "tick0": 0,
         "ticktext": [
          "en",
          "zh-TW",
          "zh-CN",
          "es",
          "zh",
          "fr",
          "it",
          "de",
          "da",
          "pt",
          "sv",
          "no",
          "ja",
          "bg",
          "nl",
          "uk",
          "ru",
          "pl",
          "ca",
          "ko",
          "gl",
          "bs",
          "cs",
          "hr",
          "ro",
          "af",
          "sr",
          "sl",
          "id",
          "mk",
          "co",
          "sk",
          "vi",
          "hu",
          "ms",
          "fi",
          "fil",
          "tl",
          "ar",
          "la",
          "ceb",
          "el",
          "hi",
          "eo",
          "lb",
          "tr",
          "be",
          "fa",
          "fy",
          "su",
          "iw",
          "he",
          "ka",
          "bho",
          "jv",
          "ne",
          "lv",
          "et",
          "th",
          "doi",
          "is",
          "jw",
          "mr",
          "bn",
          "kk",
          "lt",
          "lus",
          "az",
          "mai",
          "kri",
          "sq",
          "gu",
          "ml",
          "mt",
          "ga",
          "ilo",
          "ln",
          "ur",
          "gom",
          "st",
          "ta",
          "kn",
          "gd",
          "ti",
          "gn",
          "pa",
          "ht",
          "sa",
          "lo",
          "ps",
          "mi",
          "haw",
          "ig",
          "eu",
          "or",
          "ky",
          "cy",
          "nso",
          "tk",
          "km",
          "am",
          "sw",
          "my",
          "ckb",
          "sm",
          "tt",
          "uz",
          "as",
          "ay",
          "bm",
          "te",
          "yo",
          "sd",
          "ku",
          "qu",
          "ak",
          "sn",
          "mn",
          "so",
          "mg",
          "hy",
          "rw",
          "tg",
          "yi",
          "dv",
          "si",
          "lg",
          "ee",
          "ha",
          "hmn",
          "ts",
          "om",
          "ug",
          "xh",
          "ny",
          "zu",
          "mni-Mtei"
         ],
         "tickvals": [
          0,
          1,
          2,
          3,
          4,
          5,
          6,
          7,
          8,
          9,
          10,
          11,
          12,
          13,
          14,
          15,
          16,
          17,
          18,
          19,
          20,
          21,
          22,
          23,
          24,
          25,
          26,
          27,
          28,
          29,
          30,
          31,
          32,
          33,
          34,
          35,
          36,
          37,
          38,
          39,
          40,
          41,
          42,
          43,
          44,
          45,
          46,
          47,
          48,
          49,
          50,
          51,
          52,
          53,
          54,
          55,
          56,
          57,
          58,
          59,
          60,
          61,
          62,
          63,
          64,
          65,
          66,
          67,
          68,
          69,
          70,
          71,
          72,
          73,
          74,
          75,
          76,
          77,
          78,
          79,
          80,
          81,
          82,
          83,
          84,
          85,
          86,
          87,
          88,
          89,
          90,
          91,
          92,
          93,
          94,
          95,
          96,
          97,
          98,
          99,
          100,
          101,
          102,
          103,
          104,
          105,
          106,
          107,
          108,
          109,
          110,
          111,
          112,
          113,
          114,
          115,
          116,
          117,
          118,
          119,
          120,
          121,
          122,
          123,
          124,
          125,
          126,
          127,
          128,
          129,
          130,
          131,
          132,
          133,
          134,
          135,
          136
         ],
         "title": {
          "text": ""
         }
        },
        "yaxis": {
         "range": [
          0,
          100
         ],
         "tickfont": {
          "size": 20
         },
         "title": {
          "text": ""
         }
        }
       }
      }
     },
     "metadata": {},
     "output_type": "display_data"
    }
   ],
   "source": [
    "fig = go.Figure()\n",
    "\n",
    "symbols=['circle', 'square', 'diamond', 'triangle-up', 'triangle-down', 'star', 'hexagon', 'circle-cross', 'octagon']\n",
    "colors = ['#8ed1c4', '#bfa0ee', '#90cdff', '#005397']\n",
    "i = 0\n",
    "saved_df = pd.DataFrame()\n",
    "model_names=[]\n",
    "\n",
    "for model in [ 'Qwen1.5-7B-Chat', 'Mistral-7B-Instruct-v0.1', 'Mixtral-8x7B-Instruct-v0.1', 'Llama-2-7b-chat-hf']:\n",
    "\n",
    "    group = df_dict[model].groupby(['language', 'eval_completion_normalized']).size().to_frame('size').reset_index()\n",
    "    group['percentage'] = (group['size'] / group.groupby('language')['size'].transform('sum')) * 100\n",
    "\n",
    "\n",
    "    model_names.append(model)\n",
    "\n",
    "    if 'Llama' in model:\n",
    "        model_name = model.replace('-chat-hf', '')\n",
    "    elif 'tral' in model:\n",
    "        model_name = model.replace('-Instruct', '')\n",
    "    elif 'Qwen' in model:\n",
    "        model_name = model.replace('-Chat', '')\n",
    "    else:\n",
    "        model_name = model.replace('-beta', '')\n",
    "        model_name = model_name.replace('z', 'Z')\n",
    "    model_name = model_name.replace('b', 'B')\n",
    "\n",
    "    group = group[group['eval_completion_normalized'] == 'correct']\n",
    "\n",
    "    print(model)\n",
    "    print(len(group.language.unique()))\n",
    "\n",
    "    if len(saved_df) == 0:\n",
    "        saved_df = group.copy()\n",
    "        saved_df.rename(columns={'percentage': model}, inplace=True)\n",
    "    else: \n",
    "        saved_df = saved_df.merge(group, on=['language'], how='left')\n",
    "        saved_df.rename(columns={'percentage': model}, inplace=True)\n",
    "\n",
    "\n",
    "\n",
    "    fig.add_trace(go.Scatter(\n",
    "        x=group['language'], \n",
    "        y=group['percentage'],\n",
    "        marker_symbol=symbols[i],\n",
    "        mode='markers',\n",
    "        marker_color=colors[i],\n",
    "        name=model_name))\n",
    "\n",
    "    i+=1\n",
    "\n",
    "\n",
    "\n",
    "\n",
    "saved_df['median'] = saved_df[model_names].median(axis=1)\n",
    "\n",
    "fig.update_xaxes(\n",
    "    categoryorder='array', \n",
    "    categoryarray= saved_df.sort_values(by='median', ascending=False)['language'].unique(),\n",
    "    tickvals=list(range(0,len(saved_df['language'].unique()))),\n",
    "    ticktext=saved_df.sort_values(by='median', ascending=False)['language'].unique(),\n",
    "    autorange=False,\n",
    "    range = [-1,len(list(range(0,len(saved_df['language'].unique()))))],\n",
    "    tick0=0,\n",
    "    dtick=1)\n",
    "\n",
    "\n",
    "\n",
    "fig.update_layout(\n",
    "    yaxis_title=\"\",\n",
    "    xaxis_title=\"\",\n",
    "    font_family=\"Times New Roman\",\n",
    "    yaxis_range=[0,100],\n",
    "    width=1100,\n",
    "    height=400,\n",
    "    #font=dict(size=24),\n",
    "    template=custom_template,\n",
    "    margin=dict(l=30, r=0, t=20, b=70),\n",
    "    yaxis = dict(tickfont = dict(size=20)),\n",
    "    legend = dict(font = dict(size = 20),\n",
    "    yanchor=\"top\",\n",
    "    y=1,\n",
    "    xanchor=\"right\",\n",
    "    x=1)\n",
    "    )\n",
    "\n",
    "fig.show()\n",
    "fig.write_image(\"../../img/correct_answer_proportion.pdf\", format=\"pdf\")"
   ]
  },
  {
   "cell_type": "code",
   "execution_count": 73,
   "metadata": {},
   "outputs": [
    {
     "name": "stdout",
     "output_type": "stream",
     "text": [
      "Mistral-7B-Instruct-v0.1\n",
      "Average Answer Accuracy: 0.15401459854014599\n",
      "Accuracy for english: 84.5\n",
      "Accuracy of 10 best performing: 64.55\n",
      "Accuracy of 20 best performing: 56.575\n",
      "Accuracy of 50 best performing: 37.63\n",
      "-----------\n",
      "Qwen1.5-7B-Chat\n",
      "Average Answer Accuracy: 0.16594890510948906\n",
      "Accuracy for english: 84.0\n",
      "Accuracy of 10 best performing: 61.6\n",
      "Accuracy of 20 best performing: 50.15\n",
      "Accuracy of 50 best performing: 34.34\n",
      "-----------\n",
      "Llama-2-70b-chat-hf\n",
      "Average Answer Accuracy: 0.2910948905109489\n",
      "Accuracy for english: 90.5\n",
      "Accuracy of 10 best performing: 80.7\n",
      "Accuracy of 20 best performing: 76.525\n",
      "Accuracy of 50 best performing: 61.21\n",
      "-----------\n",
      "Llama-2-13b-chat-hf\n",
      "Average Answer Accuracy: 0.23412408759124087\n",
      "Accuracy for english: 82.0\n",
      "Accuracy of 10 best performing: 66.4\n",
      "Accuracy of 20 best performing: 62.65\n",
      "Accuracy of 50 best performing: 49.61\n",
      "-----------\n",
      "Mixtral-8x7B-Instruct-v0.1\n",
      "Average Answer Accuracy: 0.3376642335766423\n",
      "Accuracy for english: 90.5\n",
      "Accuracy of 10 best performing: 87.65\n",
      "Accuracy of 20 best performing: 84.775\n",
      "Accuracy of 50 best performing: 67.42\n",
      "-----------\n",
      "Llama-2-7b-chat-hf\n",
      "Average Answer Accuracy: 0.19237226277372263\n",
      "Accuracy for english: 81.5\n",
      "Accuracy of 10 best performing: 58.35\n",
      "Accuracy of 20 best performing: 53.85\n",
      "Accuracy of 50 best performing: 41.44\n",
      "-----------\n"
     ]
    }
   ],
   "source": [
    "for model in df_dict:\n",
    "    print(model)\n",
    "    print('Average Answer Accuracy: '+ str(len(df_dict[model][df_dict[model]['eval_completion_normalized'] == 'correct']) / len(df_dict[model])))    \n",
    "    group = df_dict[model].groupby(['language', 'eval_completion_normalized']).size().to_frame('size').reset_index()\n",
    "    group['percentage'] = (group['size'] / group.groupby('language')['size'].transform('sum')) * 100\n",
    "    group = group[group['eval_completion_normalized'] == 'correct']\n",
    "    print('Accuracy for english: '+ str(group[group['language'] == 'en']['percentage'].iloc[0]))\n",
    "    print('Accuracy of 10 best performing: ' + str(group['percentage'].nlargest(10).mean()))\n",
    "    print('Accuracy of 20 best performing: ' + str(group['percentage'].nlargest(20).mean()))\n",
    "    print('Accuracy of 50 best performing: ' + str(group['percentage'].nlargest(50).mean()))\n",
    "    print('-----------')"
   ]
  },
  {
   "cell_type": "code",
   "execution_count": 37,
   "metadata": {},
   "outputs": [
    {
     "name": "stdout",
     "output_type": "stream",
     "text": [
      "Llama-2-7b-chat-hf\n",
      "137\n",
      "Llama-2-13b-chat-hf\n",
      "137\n",
      "Llama-2-70b-chat-hf\n",
      "137\n"
     ]
    },
    {
     "data": {
      "application/vnd.plotly.v1+json": {
       "config": {
        "plotlyServerURL": "https://plot.ly"
       },
       "data": [
        {
         "marker": {
          "color": "#005397",
          "symbol": "triangle-up"
         },
         "mode": "markers",
         "name": "Llama-2-7B",
         "type": "scatter",
         "x": [
          "af",
          "ak",
          "am",
          "ar",
          "as",
          "ay",
          "az",
          "be",
          "bg",
          "bho",
          "bm",
          "bn",
          "bs",
          "ca",
          "ceb",
          "ckb",
          "co",
          "cs",
          "cy",
          "da",
          "de",
          "doi",
          "dv",
          "ee",
          "el",
          "en",
          "eo",
          "es",
          "et",
          "eu",
          "fa",
          "fi",
          "fil",
          "fr",
          "fy",
          "ga",
          "gd",
          "gl",
          "gn",
          "gom",
          "gu",
          "ha",
          "haw",
          "he",
          "hi",
          "hmn",
          "hr",
          "ht",
          "hu",
          "hy",
          "id",
          "ig",
          "ilo",
          "is",
          "it",
          "iw",
          "ja",
          "jv",
          "jw",
          "ka",
          "kk",
          "km",
          "kn",
          "ko",
          "kri",
          "ku",
          "ky",
          "la",
          "lb",
          "lg",
          "ln",
          "lo",
          "lt",
          "lus",
          "lv",
          "mai",
          "mg",
          "mi",
          "mk",
          "ml",
          "mn",
          "mni-Mtei",
          "mr",
          "ms",
          "mt",
          "my",
          "ne",
          "nl",
          "no",
          "nso",
          "ny",
          "om",
          "or",
          "pa",
          "pl",
          "ps",
          "pt",
          "qu",
          "ro",
          "ru",
          "rw",
          "sa",
          "sd",
          "si",
          "sk",
          "sl",
          "sm",
          "sn",
          "so",
          "sq",
          "sr",
          "st",
          "su",
          "sv",
          "sw",
          "ta",
          "te",
          "tg",
          "th",
          "ti",
          "tk",
          "tl",
          "tr",
          "ts",
          "tt",
          "ug",
          "uk",
          "ur",
          "uz",
          "vi",
          "xh",
          "yi",
          "yo",
          "zh",
          "zh-CN",
          "zh-TW",
          "zu"
         ],
         "y": [
          44,
          4.5,
          3.5000000000000004,
          25.5,
          1.5,
          4,
          7.5,
          18.5,
          54,
          16,
          4,
          9,
          41.5,
          44,
          26.5,
          4.5,
          42,
          41.5,
          6,
          56.00000000000001,
          50,
          14.499999999999998,
          3.5000000000000004,
          4,
          30,
          81.5,
          25,
          53,
          13.5,
          8.5,
          19.5,
          39.5,
          36,
          55.00000000000001,
          18.5,
          11,
          8.5,
          42.5,
          9,
          7.000000000000001,
          4,
          4,
          6,
          13.5,
          26.5,
          0.5,
          44,
          7.000000000000001,
          30,
          5,
          46,
          6.5,
          10,
          10,
          55.50000000000001,
          12.5,
          56.49999999999999,
          14.000000000000002,
          13,
          14.000000000000002,
          7.000000000000001,
          3.5000000000000004,
          3.5000000000000004,
          51.5,
          7.000000000000001,
          4.5,
          5,
          24.5,
          19,
          4,
          10.5,
          7.000000000000001,
          7.5,
          11,
          8.5,
          12.5,
          4,
          8,
          45.5,
          5,
          3.5000000000000004,
          1.5,
          9.5,
          35,
          13,
          4,
          13.5,
          48.5,
          55.50000000000001,
          5.5,
          2,
          3.5000000000000004,
          3,
          3,
          40,
          3.5000000000000004,
          49,
          5,
          47,
          40,
          5.5,
          5.5,
          4,
          3.5000000000000004,
          43,
          40.5,
          5.5,
          4,
          3.5000000000000004,
          13,
          42.5,
          7.5,
          15,
          55.00000000000001,
          6,
          4.5,
          3,
          4.5,
          5.5,
          3,
          5,
          35.5,
          19.5,
          4,
          6.5,
          4,
          49,
          8.5,
          6,
          44.5,
          2.5,
          3.5000000000000004,
          5,
          54.50000000000001,
          56.99999999999999,
          56.99999999999999,
          2
         ]
        },
        {
         "marker": {
          "color": "#4cc9f0",
          "symbol": "hexagon"
         },
         "mode": "markers",
         "name": "Llama-2-13B",
         "type": "scatter",
         "x": [
          "af",
          "ak",
          "am",
          "ar",
          "as",
          "ay",
          "az",
          "be",
          "bg",
          "bho",
          "bm",
          "bn",
          "bs",
          "ca",
          "ceb",
          "ckb",
          "co",
          "cs",
          "cy",
          "da",
          "de",
          "doi",
          "dv",
          "ee",
          "el",
          "en",
          "eo",
          "es",
          "et",
          "eu",
          "fa",
          "fi",
          "fil",
          "fr",
          "fy",
          "ga",
          "gd",
          "gl",
          "gn",
          "gom",
          "gu",
          "ha",
          "haw",
          "he",
          "hi",
          "hmn",
          "hr",
          "ht",
          "hu",
          "hy",
          "id",
          "ig",
          "ilo",
          "is",
          "it",
          "iw",
          "ja",
          "jv",
          "jw",
          "ka",
          "kk",
          "km",
          "kn",
          "ko",
          "kri",
          "ku",
          "ky",
          "la",
          "lb",
          "lg",
          "ln",
          "lo",
          "lt",
          "lus",
          "lv",
          "mai",
          "mg",
          "mi",
          "mk",
          "ml",
          "mn",
          "mni-Mtei",
          "mr",
          "ms",
          "mt",
          "my",
          "ne",
          "nl",
          "no",
          "nso",
          "ny",
          "om",
          "or",
          "pa",
          "pl",
          "ps",
          "pt",
          "qu",
          "ro",
          "ru",
          "rw",
          "sa",
          "sd",
          "si",
          "sk",
          "sl",
          "sm",
          "sn",
          "so",
          "sq",
          "sr",
          "st",
          "su",
          "sv",
          "sw",
          "ta",
          "te",
          "tg",
          "th",
          "ti",
          "tk",
          "tl",
          "tr",
          "ts",
          "tt",
          "ug",
          "uk",
          "ur",
          "uz",
          "vi",
          "xh",
          "yi",
          "yo",
          "zh",
          "zh-CN",
          "zh-TW",
          "zu"
         ],
         "y": [
          44.5,
          4.5,
          4,
          30.5,
          5.5,
          5.5,
          15,
          27.500000000000004,
          59.5,
          25,
          3.5000000000000004,
          17.5,
          52.5,
          56.00000000000001,
          29.5,
          3,
          46.5,
          62.5,
          11.5,
          57.99999999999999,
          62,
          18.5,
          2,
          3.5000000000000004,
          46,
          82,
          27,
          68.5,
          16.5,
          7.5,
          26.5,
          41,
          42.5,
          65.5,
          21,
          14.000000000000002,
          12,
          53,
          7.5,
          12.5,
          7.000000000000001,
          3,
          7.000000000000001,
          20.5,
          35.5,
          3.5000000000000004,
          51,
          7.5,
          38,
          6.5,
          55.00000000000001,
          4.5,
          8,
          20,
          64,
          22,
          61.5,
          13,
          13,
          17,
          10.5,
          3,
          3,
          56.00000000000001,
          11.5,
          4,
          10.5,
          36,
          19,
          5,
          9,
          5,
          15,
          9,
          17,
          21,
          5,
          7.000000000000001,
          45,
          5.5,
          4.5,
          1.5,
          19.5,
          44.5,
          15,
          5,
          21.5,
          65.5,
          58.5,
          5,
          5.5,
          2.5,
          2,
          4,
          56.49999999999999,
          5,
          60.5,
          3.5000000000000004,
          52,
          54.50000000000001,
          3.5000000000000004,
          18,
          4.5,
          3.5000000000000004,
          52.5,
          54.50000000000001,
          4,
          2,
          5,
          17.5,
          52.5,
          6,
          17.5,
          60.5,
          7.000000000000001,
          6,
          5,
          6.5,
          12,
          3,
          6.5,
          43.5,
          29.5,
          2,
          7.000000000000001,
          4,
          63,
          17,
          6,
          48,
          0.5,
          6.5,
          5.5,
          65.5,
          64.5,
          63,
          2.5
         ]
        },
        {
         "marker": {
          "color": "#57cc99",
          "symbol": "cross"
         },
         "mode": "markers",
         "name": "Llama-2-70B",
         "type": "scatter",
         "x": [
          "af",
          "ak",
          "am",
          "ar",
          "as",
          "ay",
          "az",
          "be",
          "bg",
          "bho",
          "bm",
          "bn",
          "bs",
          "ca",
          "ceb",
          "ckb",
          "co",
          "cs",
          "cy",
          "da",
          "de",
          "doi",
          "dv",
          "ee",
          "el",
          "en",
          "eo",
          "es",
          "et",
          "eu",
          "fa",
          "fi",
          "fil",
          "fr",
          "fy",
          "ga",
          "gd",
          "gl",
          "gn",
          "gom",
          "gu",
          "ha",
          "haw",
          "he",
          "hi",
          "hmn",
          "hr",
          "ht",
          "hu",
          "hy",
          "id",
          "ig",
          "ilo",
          "is",
          "it",
          "iw",
          "ja",
          "jv",
          "jw",
          "ka",
          "kk",
          "km",
          "kn",
          "ko",
          "kri",
          "ku",
          "ky",
          "la",
          "lb",
          "lg",
          "ln",
          "lo",
          "lt",
          "lus",
          "lv",
          "mai",
          "mg",
          "mi",
          "mk",
          "ml",
          "mn",
          "mni-Mtei",
          "mr",
          "ms",
          "mt",
          "my",
          "ne",
          "nl",
          "no",
          "nso",
          "ny",
          "om",
          "or",
          "pa",
          "pl",
          "ps",
          "pt",
          "qu",
          "ro",
          "ru",
          "rw",
          "sa",
          "sd",
          "si",
          "sk",
          "sl",
          "sm",
          "sn",
          "so",
          "sq",
          "sr",
          "st",
          "su",
          "sv",
          "sw",
          "ta",
          "te",
          "tg",
          "th",
          "ti",
          "tk",
          "tl",
          "tr",
          "ts",
          "tt",
          "ug",
          "uk",
          "ur",
          "uz",
          "vi",
          "xh",
          "yi",
          "yo",
          "zh",
          "zh-CN",
          "zh-TW",
          "zu"
         ],
         "y": [
          54.50000000000001,
          4,
          4.5,
          42,
          9.5,
          7.5,
          16,
          40.5,
          70.5,
          28.000000000000004,
          4.5,
          20,
          66.5,
          77,
          33.5,
          6.5,
          53,
          68.5,
          15.5,
          73,
          82,
          27.500000000000004,
          2.5,
          2,
          56.99999999999999,
          90.5,
          23.5,
          81.5,
          20,
          6,
          40,
          63,
          46,
          82,
          30,
          23.5,
          15,
          62,
          7.5,
          13.5,
          9.5,
          5,
          8,
          36.5,
          46,
          1,
          68.5,
          12,
          56.00000000000001,
          9,
          67,
          4.5,
          14.000000000000002,
          26,
          81,
          34.5,
          73.5,
          22.5,
          22.5,
          16,
          12,
          4,
          5.5,
          66.5,
          5.5,
          4.5,
          10.5,
          43.5,
          29.5,
          4,
          8.5,
          5,
          17.5,
          9,
          21,
          25.5,
          5.5,
          7.5,
          54.50000000000001,
          7.5,
          5.5,
          1.5,
          24.5,
          56.49999999999999,
          23.5,
          5,
          25.5,
          79,
          78,
          7.000000000000001,
          4,
          5,
          5,
          12,
          75,
          7.000000000000001,
          76.5,
          8.5,
          62,
          74.5,
          5.5,
          23.5,
          7.5,
          4.5,
          56.99999999999999,
          64.5,
          4,
          2.5,
          5.5,
          16,
          72,
          6.5,
          21,
          79,
          13,
          7.5,
          4,
          4.5,
          17.5,
          4,
          6.5,
          48,
          29.5,
          3.5000000000000004,
          11,
          7.000000000000001,
          77,
          25.5,
          6,
          53.5,
          2,
          16,
          7.000000000000001,
          70,
          69.5,
          69,
          2
         ]
        }
       ],
       "layout": {
        "font": {
         "family": "Times New Roman"
        },
        "height": 400,
        "legend": {
         "font": {
          "size": 20
         },
         "x": 1,
         "xanchor": "right",
         "y": 1,
         "yanchor": "top"
        },
        "margin": {
         "b": 70,
         "l": 30,
         "r": 0,
         "t": 20
        },
        "template": {
         "data": {
          "bar": [
           {
            "error_x": {
             "color": "#2a3f5f"
            },
            "error_y": {
             "color": "#2a3f5f"
            },
            "marker": {
             "line": {
              "color": "#E5ECF6",
              "width": 0.5
             },
             "pattern": {
              "fillmode": "overlay",
              "size": 10,
              "solidity": 0.2
             }
            },
            "type": "bar"
           }
          ],
          "barpolar": [
           {
            "marker": {
             "line": {
              "color": "#E5ECF6",
              "width": 0.5
             },
             "pattern": {
              "fillmode": "overlay",
              "size": 10,
              "solidity": 0.2
             }
            },
            "type": "barpolar"
           }
          ],
          "carpet": [
           {
            "aaxis": {
             "endlinecolor": "#2a3f5f",
             "gridcolor": "white",
             "linecolor": "white",
             "minorgridcolor": "white",
             "startlinecolor": "#2a3f5f"
            },
            "baxis": {
             "endlinecolor": "#2a3f5f",
             "gridcolor": "white",
             "linecolor": "white",
             "minorgridcolor": "white",
             "startlinecolor": "#2a3f5f"
            },
            "type": "carpet"
           }
          ],
          "choropleth": [
           {
            "colorbar": {
             "outlinewidth": 0,
             "ticks": ""
            },
            "type": "choropleth"
           }
          ],
          "contour": [
           {
            "colorbar": {
             "outlinewidth": 0,
             "ticks": ""
            },
            "colorscale": [
             [
              0,
              "#0d0887"
             ],
             [
              0.1111111111111111,
              "#46039f"
             ],
             [
              0.2222222222222222,
              "#7201a8"
             ],
             [
              0.3333333333333333,
              "#9c179e"
             ],
             [
              0.4444444444444444,
              "#bd3786"
             ],
             [
              0.5555555555555556,
              "#d8576b"
             ],
             [
              0.6666666666666666,
              "#ed7953"
             ],
             [
              0.7777777777777778,
              "#fb9f3a"
             ],
             [
              0.8888888888888888,
              "#fdca26"
             ],
             [
              1,
              "#f0f921"
             ]
            ],
            "type": "contour"
           }
          ],
          "contourcarpet": [
           {
            "colorbar": {
             "outlinewidth": 0,
             "ticks": ""
            },
            "type": "contourcarpet"
           }
          ],
          "heatmap": [
           {
            "colorbar": {
             "outlinewidth": 0,
             "ticks": ""
            },
            "colorscale": [
             [
              0,
              "#0d0887"
             ],
             [
              0.1111111111111111,
              "#46039f"
             ],
             [
              0.2222222222222222,
              "#7201a8"
             ],
             [
              0.3333333333333333,
              "#9c179e"
             ],
             [
              0.4444444444444444,
              "#bd3786"
             ],
             [
              0.5555555555555556,
              "#d8576b"
             ],
             [
              0.6666666666666666,
              "#ed7953"
             ],
             [
              0.7777777777777778,
              "#fb9f3a"
             ],
             [
              0.8888888888888888,
              "#fdca26"
             ],
             [
              1,
              "#f0f921"
             ]
            ],
            "type": "heatmap"
           }
          ],
          "heatmapgl": [
           {
            "colorbar": {
             "outlinewidth": 0,
             "ticks": ""
            },
            "colorscale": [
             [
              0,
              "#0d0887"
             ],
             [
              0.1111111111111111,
              "#46039f"
             ],
             [
              0.2222222222222222,
              "#7201a8"
             ],
             [
              0.3333333333333333,
              "#9c179e"
             ],
             [
              0.4444444444444444,
              "#bd3786"
             ],
             [
              0.5555555555555556,
              "#d8576b"
             ],
             [
              0.6666666666666666,
              "#ed7953"
             ],
             [
              0.7777777777777778,
              "#fb9f3a"
             ],
             [
              0.8888888888888888,
              "#fdca26"
             ],
             [
              1,
              "#f0f921"
             ]
            ],
            "type": "heatmapgl"
           }
          ],
          "histogram": [
           {
            "marker": {
             "pattern": {
              "fillmode": "overlay",
              "size": 10,
              "solidity": 0.2
             }
            },
            "type": "histogram"
           }
          ],
          "histogram2d": [
           {
            "colorbar": {
             "outlinewidth": 0,
             "ticks": ""
            },
            "colorscale": [
             [
              0,
              "#0d0887"
             ],
             [
              0.1111111111111111,
              "#46039f"
             ],
             [
              0.2222222222222222,
              "#7201a8"
             ],
             [
              0.3333333333333333,
              "#9c179e"
             ],
             [
              0.4444444444444444,
              "#bd3786"
             ],
             [
              0.5555555555555556,
              "#d8576b"
             ],
             [
              0.6666666666666666,
              "#ed7953"
             ],
             [
              0.7777777777777778,
              "#fb9f3a"
             ],
             [
              0.8888888888888888,
              "#fdca26"
             ],
             [
              1,
              "#f0f921"
             ]
            ],
            "type": "histogram2d"
           }
          ],
          "histogram2dcontour": [
           {
            "colorbar": {
             "outlinewidth": 0,
             "ticks": ""
            },
            "colorscale": [
             [
              0,
              "#0d0887"
             ],
             [
              0.1111111111111111,
              "#46039f"
             ],
             [
              0.2222222222222222,
              "#7201a8"
             ],
             [
              0.3333333333333333,
              "#9c179e"
             ],
             [
              0.4444444444444444,
              "#bd3786"
             ],
             [
              0.5555555555555556,
              "#d8576b"
             ],
             [
              0.6666666666666666,
              "#ed7953"
             ],
             [
              0.7777777777777778,
              "#fb9f3a"
             ],
             [
              0.8888888888888888,
              "#fdca26"
             ],
             [
              1,
              "#f0f921"
             ]
            ],
            "type": "histogram2dcontour"
           }
          ],
          "mesh3d": [
           {
            "colorbar": {
             "outlinewidth": 0,
             "ticks": ""
            },
            "type": "mesh3d"
           }
          ],
          "parcoords": [
           {
            "line": {
             "colorbar": {
              "outlinewidth": 0,
              "ticks": ""
             }
            },
            "type": "parcoords"
           }
          ],
          "pie": [
           {
            "automargin": true,
            "type": "pie"
           }
          ],
          "scatter": [
           {
            "fillpattern": {
             "fillmode": "overlay",
             "size": 10,
             "solidity": 0.2
            },
            "type": "scatter"
           }
          ],
          "scatter3d": [
           {
            "line": {
             "colorbar": {
              "outlinewidth": 0,
              "ticks": ""
             }
            },
            "marker": {
             "colorbar": {
              "outlinewidth": 0,
              "ticks": ""
             }
            },
            "type": "scatter3d"
           }
          ],
          "scattercarpet": [
           {
            "marker": {
             "colorbar": {
              "outlinewidth": 0,
              "ticks": ""
             }
            },
            "type": "scattercarpet"
           }
          ],
          "scattergeo": [
           {
            "marker": {
             "colorbar": {
              "outlinewidth": 0,
              "ticks": ""
             }
            },
            "type": "scattergeo"
           }
          ],
          "scattergl": [
           {
            "marker": {
             "colorbar": {
              "outlinewidth": 0,
              "ticks": ""
             }
            },
            "type": "scattergl"
           }
          ],
          "scattermapbox": [
           {
            "marker": {
             "colorbar": {
              "outlinewidth": 0,
              "ticks": ""
             }
            },
            "type": "scattermapbox"
           }
          ],
          "scatterpolar": [
           {
            "marker": {
             "colorbar": {
              "outlinewidth": 0,
              "ticks": ""
             }
            },
            "type": "scatterpolar"
           }
          ],
          "scatterpolargl": [
           {
            "marker": {
             "colorbar": {
              "outlinewidth": 0,
              "ticks": ""
             }
            },
            "type": "scatterpolargl"
           }
          ],
          "scatterternary": [
           {
            "marker": {
             "colorbar": {
              "outlinewidth": 0,
              "ticks": ""
             }
            },
            "type": "scatterternary"
           }
          ],
          "surface": [
           {
            "colorbar": {
             "outlinewidth": 0,
             "ticks": ""
            },
            "colorscale": [
             [
              0,
              "#0d0887"
             ],
             [
              0.1111111111111111,
              "#46039f"
             ],
             [
              0.2222222222222222,
              "#7201a8"
             ],
             [
              0.3333333333333333,
              "#9c179e"
             ],
             [
              0.4444444444444444,
              "#bd3786"
             ],
             [
              0.5555555555555556,
              "#d8576b"
             ],
             [
              0.6666666666666666,
              "#ed7953"
             ],
             [
              0.7777777777777778,
              "#fb9f3a"
             ],
             [
              0.8888888888888888,
              "#fdca26"
             ],
             [
              1,
              "#f0f921"
             ]
            ],
            "type": "surface"
           }
          ],
          "table": [
           {
            "cells": {
             "fill": {
              "color": "#EBF0F8"
             },
             "line": {
              "color": "white"
             }
            },
            "header": {
             "fill": {
              "color": "#C8D4E3"
             },
             "line": {
              "color": "white"
             }
            },
            "type": "table"
           }
          ]
         },
         "layout": {
          "title": {
           "font": {
            "family": "Times New Roman"
           }
          }
         }
        },
        "width": 1100,
        "xaxis": {
         "autorange": false,
         "categoryarray": [
          "en",
          "es",
          "nl",
          "fr",
          "zh",
          "zh-CN",
          "it",
          "uk",
          "zh-TW",
          "cs",
          "de",
          "ja",
          "pt",
          "sv",
          "bg",
          "no",
          "da",
          "pl",
          "ko",
          "ca",
          "id",
          "ru",
          "sl",
          "gl",
          "sk",
          "sr",
          "bs",
          "ro",
          "hr",
          "vi",
          "co",
          "el",
          "mk",
          "ms",
          "af",
          "tl",
          "fil",
          "fi",
          "hu",
          "la",
          "hi",
          "ar",
          "tr",
          "ceb",
          "be",
          "fa",
          "bho",
          "eo",
          "iw",
          "ne",
          "mai",
          "fy",
          "he",
          "is",
          "mr",
          "lb",
          "doi",
          "sa",
          "bn",
          "su",
          "lv",
          "ur",
          "et",
          "ka",
          "sq",
          "az",
          "lt",
          "mt",
          "ga",
          "jv",
          "jw",
          "gom",
          "th",
          "gd",
          "cy",
          "kk",
          "ky",
          "ilo",
          "ln",
          "lus",
          "gn",
          "mi",
          "ht",
          "eu",
          "kri",
          "gu",
          "sw",
          "haw",
          "tt",
          "tk",
          "hy",
          "st",
          "yi",
          "ta",
          "uz",
          "rw",
          "ml",
          "ay",
          "yo",
          "as",
          "nso",
          "lo",
          "so",
          "my",
          "qu",
          "mg",
          "ps",
          "sd",
          "mn",
          "ak",
          "ku",
          "ig",
          "ckb",
          "tg",
          "ha",
          "bm",
          "ug",
          "am",
          "sm",
          "te",
          "ny",
          "lg",
          "pa",
          "si",
          "ts",
          "om",
          "kn",
          "km",
          "ee",
          "ti",
          "or",
          "sn",
          "dv",
          "zu",
          "xh",
          "mni-Mtei",
          "hmn"
         ],
         "categoryorder": "array",
         "dtick": 1,
         "range": [
          -1,
          137
         ],
         "tick0": 0,
         "ticktext": [
          "en",
          "es",
          "nl",
          "fr",
          "zh",
          "zh-CN",
          "it",
          "uk",
          "zh-TW",
          "cs",
          "de",
          "ja",
          "pt",
          "sv",
          "bg",
          "no",
          "da",
          "pl",
          "ko",
          "ca",
          "id",
          "ru",
          "sl",
          "gl",
          "sk",
          "sr",
          "bs",
          "ro",
          "hr",
          "vi",
          "co",
          "el",
          "mk",
          "ms",
          "af",
          "tl",
          "fil",
          "fi",
          "hu",
          "la",
          "hi",
          "ar",
          "tr",
          "ceb",
          "be",
          "fa",
          "bho",
          "eo",
          "iw",
          "ne",
          "mai",
          "fy",
          "he",
          "is",
          "mr",
          "lb",
          "doi",
          "sa",
          "bn",
          "su",
          "lv",
          "ur",
          "et",
          "ka",
          "sq",
          "az",
          "lt",
          "mt",
          "ga",
          "jv",
          "jw",
          "gom",
          "th",
          "gd",
          "cy",
          "kk",
          "ky",
          "ilo",
          "ln",
          "lus",
          "gn",
          "mi",
          "ht",
          "eu",
          "kri",
          "gu",
          "sw",
          "haw",
          "tt",
          "tk",
          "hy",
          "st",
          "yi",
          "ta",
          "uz",
          "rw",
          "ml",
          "ay",
          "yo",
          "as",
          "nso",
          "lo",
          "so",
          "my",
          "qu",
          "mg",
          "ps",
          "sd",
          "mn",
          "ak",
          "ku",
          "ig",
          "ckb",
          "tg",
          "ha",
          "bm",
          "ug",
          "am",
          "sm",
          "te",
          "ny",
          "lg",
          "pa",
          "si",
          "ts",
          "om",
          "kn",
          "km",
          "ee",
          "ti",
          "or",
          "sn",
          "dv",
          "zu",
          "xh",
          "mni-Mtei",
          "hmn"
         ],
         "tickvals": [
          0,
          1,
          2,
          3,
          4,
          5,
          6,
          7,
          8,
          9,
          10,
          11,
          12,
          13,
          14,
          15,
          16,
          17,
          18,
          19,
          20,
          21,
          22,
          23,
          24,
          25,
          26,
          27,
          28,
          29,
          30,
          31,
          32,
          33,
          34,
          35,
          36,
          37,
          38,
          39,
          40,
          41,
          42,
          43,
          44,
          45,
          46,
          47,
          48,
          49,
          50,
          51,
          52,
          53,
          54,
          55,
          56,
          57,
          58,
          59,
          60,
          61,
          62,
          63,
          64,
          65,
          66,
          67,
          68,
          69,
          70,
          71,
          72,
          73,
          74,
          75,
          76,
          77,
          78,
          79,
          80,
          81,
          82,
          83,
          84,
          85,
          86,
          87,
          88,
          89,
          90,
          91,
          92,
          93,
          94,
          95,
          96,
          97,
          98,
          99,
          100,
          101,
          102,
          103,
          104,
          105,
          106,
          107,
          108,
          109,
          110,
          111,
          112,
          113,
          114,
          115,
          116,
          117,
          118,
          119,
          120,
          121,
          122,
          123,
          124,
          125,
          126,
          127,
          128,
          129,
          130,
          131,
          132,
          133,
          134,
          135,
          136
         ],
         "title": {
          "text": ""
         }
        },
        "yaxis": {
         "range": [
          0,
          100
         ],
         "tickfont": {
          "size": 20
         },
         "title": {
          "text": ""
         }
        }
       }
      }
     },
     "metadata": {},
     "output_type": "display_data"
    }
   ],
   "source": [
    "fig = go.Figure()\n",
    "\n",
    "symbols=['triangle-up', 'hexagon', 'cross', 'octagon']\n",
    "colors = ['#005397', '#4cc9f0', '#57cc99']\n",
    "i = 0\n",
    "saved_df = pd.DataFrame()\n",
    "model_names=[]\n",
    "\n",
    "for model in ['Llama-2-7b-chat-hf', 'Llama-2-13b-chat-hf', 'Llama-2-70b-chat-hf']:\n",
    "\n",
    "    group = df_dict[model].groupby(['language', 'eval_completion_normalized']).size().to_frame('size').reset_index()\n",
    "    group['percentage'] = (group['size'] / group.groupby('language')['size'].transform('sum')) * 100\n",
    "\n",
    "\n",
    "    model_names.append(model)\n",
    "\n",
    "    if 'Llama' in model:\n",
    "        model_name = model.replace('-chat-hf', '')\n",
    "    elif 'tral' in model:\n",
    "        model_name = model.replace('-Instruct', '')\n",
    "    elif 'Qwen' in model:\n",
    "        model_name = model.replace('-Chat', '')\n",
    "    else:\n",
    "        model_name = model.replace('-beta', '')\n",
    "        model_name = model_name.replace('z', 'Z')\n",
    "    model_name = model_name.replace('b', 'B')\n",
    "\n",
    "    group = group[group['eval_completion_normalized'] == 'correct']\n",
    "\n",
    "    print(model)\n",
    "    print(len(group.language.unique()))\n",
    "\n",
    "    if len(saved_df) == 0:\n",
    "        saved_df = group.copy()\n",
    "        saved_df.rename(columns={'percentage': model}, inplace=True)\n",
    "    else: \n",
    "        saved_df = saved_df.merge(group, on=['language'], how='left')\n",
    "        saved_df.rename(columns={'percentage': model}, inplace=True)\n",
    "\n",
    "\n",
    "\n",
    "    fig.add_trace(go.Scatter(\n",
    "        x=group['language'], \n",
    "        y=group['percentage'],\n",
    "        marker_symbol=symbols[i],\n",
    "        mode='markers',\n",
    "        marker_color=colors[i],\n",
    "        name=model_name))\n",
    "\n",
    "    i+=1\n",
    "\n",
    "\n",
    "\n",
    "\n",
    "saved_df['median'] = saved_df[model_names].median(axis=1)\n",
    "\n",
    "fig.update_xaxes(\n",
    "    categoryorder='array', \n",
    "    categoryarray= saved_df.sort_values(by='median', ascending=False)['language'].unique(),\n",
    "    tickvals=list(range(0,len(saved_df['language'].unique()))),\n",
    "    ticktext=saved_df.sort_values(by='median', ascending=False)['language'].unique(),\n",
    "    autorange=False,\n",
    "    range = [-1,len(list(range(0,len(saved_df['language'].unique()))))],\n",
    "    tick0=0,\n",
    "    dtick=1)\n",
    "\n",
    "\n",
    "\n",
    "fig.update_layout(\n",
    "    yaxis_title=\"\",\n",
    "    xaxis_title=\"\",\n",
    "    font_family=\"Times New Roman\",\n",
    "    yaxis_range=[0,100],\n",
    "    width=1100,\n",
    "    height=400,\n",
    "    #font=dict(size=24),\n",
    "    template=custom_template,\n",
    "    margin=dict(l=30, r=0, t=20, b=70),\n",
    "    yaxis = dict(tickfont = dict(size=20)),\n",
    "    legend = dict(font = dict(size = 20),\n",
    "    yanchor=\"top\",\n",
    "    y=1,\n",
    "    xanchor=\"right\",\n",
    "    x=1)\n",
    "    )\n",
    "\n",
    "fig.show()\n",
    "fig.write_image(\"../../img/correct_answer_proportion_llamas.pdf\", format=\"pdf\")"
   ]
  },
  {
   "cell_type": "markdown",
   "metadata": {},
   "source": [
    "## Analyse Answer Accuracy vs. Language Fidelity"
   ]
  },
  {
   "cell_type": "code",
   "execution_count": 129,
   "metadata": {},
   "outputs": [
    {
     "data": {
      "application/vnd.plotly.v1+json": {
       "config": {
        "plotlyServerURL": "https://plot.ly"
       },
       "data": [
        {
         "coloraxis": "coloraxis",
         "hovertemplate": "eval_completion_normalized: %{x}<br>answered_language: %{y}<br>color: %{z}<extra></extra>",
         "name": "0",
         "texttemplate": "%{z}",
         "type": "heatmap",
         "x": [
          "correct",
          "incorrect"
         ],
         "xaxis": "x",
         "y": [
          "English",
          "Other",
          "Same"
         ],
         "yaxis": "y",
         "z": [
          [
           1.58,
           9.26
          ],
          [
           3.18,
           23.7
          ],
          [
           10.64,
           51.64
          ]
         ]
        }
       ],
       "layout": {
        "coloraxis": {
         "cmax": 100,
         "cmin": 0,
         "colorscale": [
          [
           0,
           "#16193C"
          ],
          [
           0.05,
           "#4c55be"
          ],
          [
           0.1,
           "#4D79C7"
          ],
          [
           0.2,
           "#7FB2F0"
          ],
          [
           0.3,
           "#ABD4F7"
          ],
          [
           0.4,
           "#E6DE00"
          ],
          [
           0.5,
           "#F2E826"
          ],
          [
           0.6,
           "#BDDB39"
          ],
          [
           0.7,
           "#B6E656"
          ],
          [
           0.8,
           "#68BB6C"
          ],
          [
           0.9,
           "#44A248"
          ],
          [
           1,
           "#32671D"
          ]
         ]
        },
        "font": {
         "family": "Times New Roman",
         "size": 28
        },
        "height": 400,
        "margin": {
         "b": 50,
         "l": 75,
         "r": 0,
         "t": 10
        },
        "template": {
         "data": {
          "bar": [
           {
            "error_x": {
             "color": "#2a3f5f"
            },
            "error_y": {
             "color": "#2a3f5f"
            },
            "marker": {
             "line": {
              "color": "#E5ECF6",
              "width": 0.5
             },
             "pattern": {
              "fillmode": "overlay",
              "size": 10,
              "solidity": 0.2
             }
            },
            "type": "bar"
           }
          ],
          "barpolar": [
           {
            "marker": {
             "line": {
              "color": "#E5ECF6",
              "width": 0.5
             },
             "pattern": {
              "fillmode": "overlay",
              "size": 10,
              "solidity": 0.2
             }
            },
            "type": "barpolar"
           }
          ],
          "carpet": [
           {
            "aaxis": {
             "endlinecolor": "#2a3f5f",
             "gridcolor": "white",
             "linecolor": "white",
             "minorgridcolor": "white",
             "startlinecolor": "#2a3f5f"
            },
            "baxis": {
             "endlinecolor": "#2a3f5f",
             "gridcolor": "white",
             "linecolor": "white",
             "minorgridcolor": "white",
             "startlinecolor": "#2a3f5f"
            },
            "type": "carpet"
           }
          ],
          "choropleth": [
           {
            "colorbar": {
             "outlinewidth": 0,
             "ticks": ""
            },
            "type": "choropleth"
           }
          ],
          "contour": [
           {
            "colorbar": {
             "outlinewidth": 0,
             "ticks": ""
            },
            "colorscale": [
             [
              0,
              "#0d0887"
             ],
             [
              0.1111111111111111,
              "#46039f"
             ],
             [
              0.2222222222222222,
              "#7201a8"
             ],
             [
              0.3333333333333333,
              "#9c179e"
             ],
             [
              0.4444444444444444,
              "#bd3786"
             ],
             [
              0.5555555555555556,
              "#d8576b"
             ],
             [
              0.6666666666666666,
              "#ed7953"
             ],
             [
              0.7777777777777778,
              "#fb9f3a"
             ],
             [
              0.8888888888888888,
              "#fdca26"
             ],
             [
              1,
              "#f0f921"
             ]
            ],
            "type": "contour"
           }
          ],
          "contourcarpet": [
           {
            "colorbar": {
             "outlinewidth": 0,
             "ticks": ""
            },
            "type": "contourcarpet"
           }
          ],
          "heatmap": [
           {
            "colorbar": {
             "outlinewidth": 0,
             "ticks": ""
            },
            "colorscale": [
             [
              0,
              "#0d0887"
             ],
             [
              0.1111111111111111,
              "#46039f"
             ],
             [
              0.2222222222222222,
              "#7201a8"
             ],
             [
              0.3333333333333333,
              "#9c179e"
             ],
             [
              0.4444444444444444,
              "#bd3786"
             ],
             [
              0.5555555555555556,
              "#d8576b"
             ],
             [
              0.6666666666666666,
              "#ed7953"
             ],
             [
              0.7777777777777778,
              "#fb9f3a"
             ],
             [
              0.8888888888888888,
              "#fdca26"
             ],
             [
              1,
              "#f0f921"
             ]
            ],
            "type": "heatmap"
           }
          ],
          "heatmapgl": [
           {
            "colorbar": {
             "outlinewidth": 0,
             "ticks": ""
            },
            "colorscale": [
             [
              0,
              "#0d0887"
             ],
             [
              0.1111111111111111,
              "#46039f"
             ],
             [
              0.2222222222222222,
              "#7201a8"
             ],
             [
              0.3333333333333333,
              "#9c179e"
             ],
             [
              0.4444444444444444,
              "#bd3786"
             ],
             [
              0.5555555555555556,
              "#d8576b"
             ],
             [
              0.6666666666666666,
              "#ed7953"
             ],
             [
              0.7777777777777778,
              "#fb9f3a"
             ],
             [
              0.8888888888888888,
              "#fdca26"
             ],
             [
              1,
              "#f0f921"
             ]
            ],
            "type": "heatmapgl"
           }
          ],
          "histogram": [
           {
            "marker": {
             "pattern": {
              "fillmode": "overlay",
              "size": 10,
              "solidity": 0.2
             }
            },
            "type": "histogram"
           }
          ],
          "histogram2d": [
           {
            "colorbar": {
             "outlinewidth": 0,
             "ticks": ""
            },
            "colorscale": [
             [
              0,
              "#0d0887"
             ],
             [
              0.1111111111111111,
              "#46039f"
             ],
             [
              0.2222222222222222,
              "#7201a8"
             ],
             [
              0.3333333333333333,
              "#9c179e"
             ],
             [
              0.4444444444444444,
              "#bd3786"
             ],
             [
              0.5555555555555556,
              "#d8576b"
             ],
             [
              0.6666666666666666,
              "#ed7953"
             ],
             [
              0.7777777777777778,
              "#fb9f3a"
             ],
             [
              0.8888888888888888,
              "#fdca26"
             ],
             [
              1,
              "#f0f921"
             ]
            ],
            "type": "histogram2d"
           }
          ],
          "histogram2dcontour": [
           {
            "colorbar": {
             "outlinewidth": 0,
             "ticks": ""
            },
            "colorscale": [
             [
              0,
              "#0d0887"
             ],
             [
              0.1111111111111111,
              "#46039f"
             ],
             [
              0.2222222222222222,
              "#7201a8"
             ],
             [
              0.3333333333333333,
              "#9c179e"
             ],
             [
              0.4444444444444444,
              "#bd3786"
             ],
             [
              0.5555555555555556,
              "#d8576b"
             ],
             [
              0.6666666666666666,
              "#ed7953"
             ],
             [
              0.7777777777777778,
              "#fb9f3a"
             ],
             [
              0.8888888888888888,
              "#fdca26"
             ],
             [
              1,
              "#f0f921"
             ]
            ],
            "type": "histogram2dcontour"
           }
          ],
          "mesh3d": [
           {
            "colorbar": {
             "outlinewidth": 0,
             "ticks": ""
            },
            "type": "mesh3d"
           }
          ],
          "parcoords": [
           {
            "line": {
             "colorbar": {
              "outlinewidth": 0,
              "ticks": ""
             }
            },
            "type": "parcoords"
           }
          ],
          "pie": [
           {
            "automargin": true,
            "type": "pie"
           }
          ],
          "scatter": [
           {
            "fillpattern": {
             "fillmode": "overlay",
             "size": 10,
             "solidity": 0.2
            },
            "type": "scatter"
           }
          ],
          "scatter3d": [
           {
            "line": {
             "colorbar": {
              "outlinewidth": 0,
              "ticks": ""
             }
            },
            "marker": {
             "colorbar": {
              "outlinewidth": 0,
              "ticks": ""
             }
            },
            "type": "scatter3d"
           }
          ],
          "scattercarpet": [
           {
            "marker": {
             "colorbar": {
              "outlinewidth": 0,
              "ticks": ""
             }
            },
            "type": "scattercarpet"
           }
          ],
          "scattergeo": [
           {
            "marker": {
             "colorbar": {
              "outlinewidth": 0,
              "ticks": ""
             }
            },
            "type": "scattergeo"
           }
          ],
          "scattergl": [
           {
            "marker": {
             "colorbar": {
              "outlinewidth": 0,
              "ticks": ""
             }
            },
            "type": "scattergl"
           }
          ],
          "scattermapbox": [
           {
            "marker": {
             "colorbar": {
              "outlinewidth": 0,
              "ticks": ""
             }
            },
            "type": "scattermapbox"
           }
          ],
          "scatterpolar": [
           {
            "marker": {
             "colorbar": {
              "outlinewidth": 0,
              "ticks": ""
             }
            },
            "type": "scatterpolar"
           }
          ],
          "scatterpolargl": [
           {
            "marker": {
             "colorbar": {
              "outlinewidth": 0,
              "ticks": ""
             }
            },
            "type": "scatterpolargl"
           }
          ],
          "scatterternary": [
           {
            "marker": {
             "colorbar": {
              "outlinewidth": 0,
              "ticks": ""
             }
            },
            "type": "scatterternary"
           }
          ],
          "surface": [
           {
            "colorbar": {
             "outlinewidth": 0,
             "ticks": ""
            },
            "colorscale": [
             [
              0,
              "#0d0887"
             ],
             [
              0.1111111111111111,
              "#46039f"
             ],
             [
              0.2222222222222222,
              "#7201a8"
             ],
             [
              0.3333333333333333,
              "#9c179e"
             ],
             [
              0.4444444444444444,
              "#bd3786"
             ],
             [
              0.5555555555555556,
              "#d8576b"
             ],
             [
              0.6666666666666666,
              "#ed7953"
             ],
             [
              0.7777777777777778,
              "#fb9f3a"
             ],
             [
              0.8888888888888888,
              "#fdca26"
             ],
             [
              1,
              "#f0f921"
             ]
            ],
            "type": "surface"
           }
          ],
          "table": [
           {
            "cells": {
             "fill": {
              "color": "#EBF0F8"
             },
             "line": {
              "color": "white"
             }
            },
            "header": {
             "fill": {
              "color": "#C8D4E3"
             },
             "line": {
              "color": "white"
             }
            },
            "type": "table"
           }
          ]
         },
         "layout": {
          "title": {
           "font": {
            "family": "Times New Roman"
           }
          }
         }
        },
        "width": 450,
        "xaxis": {
         "anchor": "y",
         "constrain": "domain",
         "domain": [
          0,
          1
         ],
         "scaleanchor": "y",
         "title": {
          "text": ""
         }
        },
        "yaxis": {
         "anchor": "x",
         "autorange": "reversed",
         "constrain": "domain",
         "domain": [
          0,
          1
         ],
         "title": {
          "text": ""
         }
        }
       }
      }
     },
     "metadata": {},
     "output_type": "display_data"
    },
    {
     "data": {
      "application/vnd.plotly.v1+json": {
       "config": {
        "plotlyServerURL": "https://plot.ly"
       },
       "data": [
        {
         "coloraxis": "coloraxis",
         "hovertemplate": "eval_completion_normalized: %{x}<br>answered_language: %{y}<br>color: %{z}<extra></extra>",
         "name": "0",
         "texttemplate": "%{z}",
         "type": "heatmap",
         "x": [
          "correct",
          "incorrect"
         ],
         "xaxis": "x",
         "y": [
          "English",
          "Other",
          "Same"
         ],
         "yaxis": "y",
         "z": [
          [
           1.45,
           11.31
          ],
          [
           4.32,
           32.5
          ],
          [
           10.83,
           39.59
          ]
         ]
        }
       ],
       "layout": {
        "coloraxis": {
         "cmax": 100,
         "cmin": 0,
         "colorscale": [
          [
           0,
           "#16193C"
          ],
          [
           0.05,
           "#4c55be"
          ],
          [
           0.1,
           "#4D79C7"
          ],
          [
           0.2,
           "#7FB2F0"
          ],
          [
           0.3,
           "#ABD4F7"
          ],
          [
           0.4,
           "#E6DE00"
          ],
          [
           0.5,
           "#F2E826"
          ],
          [
           0.6,
           "#BDDB39"
          ],
          [
           0.7,
           "#B6E656"
          ],
          [
           0.8,
           "#68BB6C"
          ],
          [
           0.9,
           "#44A248"
          ],
          [
           1,
           "#32671D"
          ]
         ]
        },
        "font": {
         "family": "Times New Roman",
         "size": 28
        },
        "height": 400,
        "margin": {
         "b": 50,
         "l": 75,
         "r": 0,
         "t": 10
        },
        "template": {
         "data": {
          "bar": [
           {
            "error_x": {
             "color": "#2a3f5f"
            },
            "error_y": {
             "color": "#2a3f5f"
            },
            "marker": {
             "line": {
              "color": "#E5ECF6",
              "width": 0.5
             },
             "pattern": {
              "fillmode": "overlay",
              "size": 10,
              "solidity": 0.2
             }
            },
            "type": "bar"
           }
          ],
          "barpolar": [
           {
            "marker": {
             "line": {
              "color": "#E5ECF6",
              "width": 0.5
             },
             "pattern": {
              "fillmode": "overlay",
              "size": 10,
              "solidity": 0.2
             }
            },
            "type": "barpolar"
           }
          ],
          "carpet": [
           {
            "aaxis": {
             "endlinecolor": "#2a3f5f",
             "gridcolor": "white",
             "linecolor": "white",
             "minorgridcolor": "white",
             "startlinecolor": "#2a3f5f"
            },
            "baxis": {
             "endlinecolor": "#2a3f5f",
             "gridcolor": "white",
             "linecolor": "white",
             "minorgridcolor": "white",
             "startlinecolor": "#2a3f5f"
            },
            "type": "carpet"
           }
          ],
          "choropleth": [
           {
            "colorbar": {
             "outlinewidth": 0,
             "ticks": ""
            },
            "type": "choropleth"
           }
          ],
          "contour": [
           {
            "colorbar": {
             "outlinewidth": 0,
             "ticks": ""
            },
            "colorscale": [
             [
              0,
              "#0d0887"
             ],
             [
              0.1111111111111111,
              "#46039f"
             ],
             [
              0.2222222222222222,
              "#7201a8"
             ],
             [
              0.3333333333333333,
              "#9c179e"
             ],
             [
              0.4444444444444444,
              "#bd3786"
             ],
             [
              0.5555555555555556,
              "#d8576b"
             ],
             [
              0.6666666666666666,
              "#ed7953"
             ],
             [
              0.7777777777777778,
              "#fb9f3a"
             ],
             [
              0.8888888888888888,
              "#fdca26"
             ],
             [
              1,
              "#f0f921"
             ]
            ],
            "type": "contour"
           }
          ],
          "contourcarpet": [
           {
            "colorbar": {
             "outlinewidth": 0,
             "ticks": ""
            },
            "type": "contourcarpet"
           }
          ],
          "heatmap": [
           {
            "colorbar": {
             "outlinewidth": 0,
             "ticks": ""
            },
            "colorscale": [
             [
              0,
              "#0d0887"
             ],
             [
              0.1111111111111111,
              "#46039f"
             ],
             [
              0.2222222222222222,
              "#7201a8"
             ],
             [
              0.3333333333333333,
              "#9c179e"
             ],
             [
              0.4444444444444444,
              "#bd3786"
             ],
             [
              0.5555555555555556,
              "#d8576b"
             ],
             [
              0.6666666666666666,
              "#ed7953"
             ],
             [
              0.7777777777777778,
              "#fb9f3a"
             ],
             [
              0.8888888888888888,
              "#fdca26"
             ],
             [
              1,
              "#f0f921"
             ]
            ],
            "type": "heatmap"
           }
          ],
          "heatmapgl": [
           {
            "colorbar": {
             "outlinewidth": 0,
             "ticks": ""
            },
            "colorscale": [
             [
              0,
              "#0d0887"
             ],
             [
              0.1111111111111111,
              "#46039f"
             ],
             [
              0.2222222222222222,
              "#7201a8"
             ],
             [
              0.3333333333333333,
              "#9c179e"
             ],
             [
              0.4444444444444444,
              "#bd3786"
             ],
             [
              0.5555555555555556,
              "#d8576b"
             ],
             [
              0.6666666666666666,
              "#ed7953"
             ],
             [
              0.7777777777777778,
              "#fb9f3a"
             ],
             [
              0.8888888888888888,
              "#fdca26"
             ],
             [
              1,
              "#f0f921"
             ]
            ],
            "type": "heatmapgl"
           }
          ],
          "histogram": [
           {
            "marker": {
             "pattern": {
              "fillmode": "overlay",
              "size": 10,
              "solidity": 0.2
             }
            },
            "type": "histogram"
           }
          ],
          "histogram2d": [
           {
            "colorbar": {
             "outlinewidth": 0,
             "ticks": ""
            },
            "colorscale": [
             [
              0,
              "#0d0887"
             ],
             [
              0.1111111111111111,
              "#46039f"
             ],
             [
              0.2222222222222222,
              "#7201a8"
             ],
             [
              0.3333333333333333,
              "#9c179e"
             ],
             [
              0.4444444444444444,
              "#bd3786"
             ],
             [
              0.5555555555555556,
              "#d8576b"
             ],
             [
              0.6666666666666666,
              "#ed7953"
             ],
             [
              0.7777777777777778,
              "#fb9f3a"
             ],
             [
              0.8888888888888888,
              "#fdca26"
             ],
             [
              1,
              "#f0f921"
             ]
            ],
            "type": "histogram2d"
           }
          ],
          "histogram2dcontour": [
           {
            "colorbar": {
             "outlinewidth": 0,
             "ticks": ""
            },
            "colorscale": [
             [
              0,
              "#0d0887"
             ],
             [
              0.1111111111111111,
              "#46039f"
             ],
             [
              0.2222222222222222,
              "#7201a8"
             ],
             [
              0.3333333333333333,
              "#9c179e"
             ],
             [
              0.4444444444444444,
              "#bd3786"
             ],
             [
              0.5555555555555556,
              "#d8576b"
             ],
             [
              0.6666666666666666,
              "#ed7953"
             ],
             [
              0.7777777777777778,
              "#fb9f3a"
             ],
             [
              0.8888888888888888,
              "#fdca26"
             ],
             [
              1,
              "#f0f921"
             ]
            ],
            "type": "histogram2dcontour"
           }
          ],
          "mesh3d": [
           {
            "colorbar": {
             "outlinewidth": 0,
             "ticks": ""
            },
            "type": "mesh3d"
           }
          ],
          "parcoords": [
           {
            "line": {
             "colorbar": {
              "outlinewidth": 0,
              "ticks": ""
             }
            },
            "type": "parcoords"
           }
          ],
          "pie": [
           {
            "automargin": true,
            "type": "pie"
           }
          ],
          "scatter": [
           {
            "fillpattern": {
             "fillmode": "overlay",
             "size": 10,
             "solidity": 0.2
            },
            "type": "scatter"
           }
          ],
          "scatter3d": [
           {
            "line": {
             "colorbar": {
              "outlinewidth": 0,
              "ticks": ""
             }
            },
            "marker": {
             "colorbar": {
              "outlinewidth": 0,
              "ticks": ""
             }
            },
            "type": "scatter3d"
           }
          ],
          "scattercarpet": [
           {
            "marker": {
             "colorbar": {
              "outlinewidth": 0,
              "ticks": ""
             }
            },
            "type": "scattercarpet"
           }
          ],
          "scattergeo": [
           {
            "marker": {
             "colorbar": {
              "outlinewidth": 0,
              "ticks": ""
             }
            },
            "type": "scattergeo"
           }
          ],
          "scattergl": [
           {
            "marker": {
             "colorbar": {
              "outlinewidth": 0,
              "ticks": ""
             }
            },
            "type": "scattergl"
           }
          ],
          "scattermapbox": [
           {
            "marker": {
             "colorbar": {
              "outlinewidth": 0,
              "ticks": ""
             }
            },
            "type": "scattermapbox"
           }
          ],
          "scatterpolar": [
           {
            "marker": {
             "colorbar": {
              "outlinewidth": 0,
              "ticks": ""
             }
            },
            "type": "scatterpolar"
           }
          ],
          "scatterpolargl": [
           {
            "marker": {
             "colorbar": {
              "outlinewidth": 0,
              "ticks": ""
             }
            },
            "type": "scatterpolargl"
           }
          ],
          "scatterternary": [
           {
            "marker": {
             "colorbar": {
              "outlinewidth": 0,
              "ticks": ""
             }
            },
            "type": "scatterternary"
           }
          ],
          "surface": [
           {
            "colorbar": {
             "outlinewidth": 0,
             "ticks": ""
            },
            "colorscale": [
             [
              0,
              "#0d0887"
             ],
             [
              0.1111111111111111,
              "#46039f"
             ],
             [
              0.2222222222222222,
              "#7201a8"
             ],
             [
              0.3333333333333333,
              "#9c179e"
             ],
             [
              0.4444444444444444,
              "#bd3786"
             ],
             [
              0.5555555555555556,
              "#d8576b"
             ],
             [
              0.6666666666666666,
              "#ed7953"
             ],
             [
              0.7777777777777778,
              "#fb9f3a"
             ],
             [
              0.8888888888888888,
              "#fdca26"
             ],
             [
              1,
              "#f0f921"
             ]
            ],
            "type": "surface"
           }
          ],
          "table": [
           {
            "cells": {
             "fill": {
              "color": "#EBF0F8"
             },
             "line": {
              "color": "white"
             }
            },
            "header": {
             "fill": {
              "color": "#C8D4E3"
             },
             "line": {
              "color": "white"
             }
            },
            "type": "table"
           }
          ]
         },
         "layout": {
          "title": {
           "font": {
            "family": "Times New Roman"
           }
          }
         }
        },
        "width": 450,
        "xaxis": {
         "anchor": "y",
         "constrain": "domain",
         "domain": [
          0,
          1
         ],
         "scaleanchor": "y",
         "title": {
          "text": ""
         }
        },
        "yaxis": {
         "anchor": "x",
         "autorange": "reversed",
         "constrain": "domain",
         "domain": [
          0,
          1
         ],
         "title": {
          "text": ""
         }
        }
       }
      }
     },
     "metadata": {},
     "output_type": "display_data"
    },
    {
     "data": {
      "application/vnd.plotly.v1+json": {
       "config": {
        "plotlyServerURL": "https://plot.ly"
       },
       "data": [
        {
         "coloraxis": "coloraxis",
         "hovertemplate": "eval_completion_normalized: %{x}<br>answered_language: %{y}<br>color: %{z}<extra></extra>",
         "name": "0",
         "texttemplate": "%{z}",
         "type": "heatmap",
         "x": [
          "correct",
          "incorrect"
         ],
         "xaxis": "x",
         "y": [
          "English",
          "Other",
          "Same"
         ],
         "yaxis": "y",
         "z": [
          [
           12.32,
           58.7
          ],
          [
           3.68,
           3.95
          ],
          [
           13.11,
           8.24
          ]
         ]
        }
       ],
       "layout": {
        "coloraxis": {
         "cmax": 100,
         "cmin": 0,
         "colorscale": [
          [
           0,
           "#16193C"
          ],
          [
           0.05,
           "#4c55be"
          ],
          [
           0.1,
           "#4D79C7"
          ],
          [
           0.2,
           "#7FB2F0"
          ],
          [
           0.3,
           "#ABD4F7"
          ],
          [
           0.4,
           "#E6DE00"
          ],
          [
           0.5,
           "#F2E826"
          ],
          [
           0.6,
           "#BDDB39"
          ],
          [
           0.7,
           "#B6E656"
          ],
          [
           0.8,
           "#68BB6C"
          ],
          [
           0.9,
           "#44A248"
          ],
          [
           1,
           "#32671D"
          ]
         ]
        },
        "font": {
         "family": "Times New Roman",
         "size": 28
        },
        "height": 400,
        "margin": {
         "b": 50,
         "l": 75,
         "r": 0,
         "t": 10
        },
        "template": {
         "data": {
          "bar": [
           {
            "error_x": {
             "color": "#2a3f5f"
            },
            "error_y": {
             "color": "#2a3f5f"
            },
            "marker": {
             "line": {
              "color": "#E5ECF6",
              "width": 0.5
             },
             "pattern": {
              "fillmode": "overlay",
              "size": 10,
              "solidity": 0.2
             }
            },
            "type": "bar"
           }
          ],
          "barpolar": [
           {
            "marker": {
             "line": {
              "color": "#E5ECF6",
              "width": 0.5
             },
             "pattern": {
              "fillmode": "overlay",
              "size": 10,
              "solidity": 0.2
             }
            },
            "type": "barpolar"
           }
          ],
          "carpet": [
           {
            "aaxis": {
             "endlinecolor": "#2a3f5f",
             "gridcolor": "white",
             "linecolor": "white",
             "minorgridcolor": "white",
             "startlinecolor": "#2a3f5f"
            },
            "baxis": {
             "endlinecolor": "#2a3f5f",
             "gridcolor": "white",
             "linecolor": "white",
             "minorgridcolor": "white",
             "startlinecolor": "#2a3f5f"
            },
            "type": "carpet"
           }
          ],
          "choropleth": [
           {
            "colorbar": {
             "outlinewidth": 0,
             "ticks": ""
            },
            "type": "choropleth"
           }
          ],
          "contour": [
           {
            "colorbar": {
             "outlinewidth": 0,
             "ticks": ""
            },
            "colorscale": [
             [
              0,
              "#0d0887"
             ],
             [
              0.1111111111111111,
              "#46039f"
             ],
             [
              0.2222222222222222,
              "#7201a8"
             ],
             [
              0.3333333333333333,
              "#9c179e"
             ],
             [
              0.4444444444444444,
              "#bd3786"
             ],
             [
              0.5555555555555556,
              "#d8576b"
             ],
             [
              0.6666666666666666,
              "#ed7953"
             ],
             [
              0.7777777777777778,
              "#fb9f3a"
             ],
             [
              0.8888888888888888,
              "#fdca26"
             ],
             [
              1,
              "#f0f921"
             ]
            ],
            "type": "contour"
           }
          ],
          "contourcarpet": [
           {
            "colorbar": {
             "outlinewidth": 0,
             "ticks": ""
            },
            "type": "contourcarpet"
           }
          ],
          "heatmap": [
           {
            "colorbar": {
             "outlinewidth": 0,
             "ticks": ""
            },
            "colorscale": [
             [
              0,
              "#0d0887"
             ],
             [
              0.1111111111111111,
              "#46039f"
             ],
             [
              0.2222222222222222,
              "#7201a8"
             ],
             [
              0.3333333333333333,
              "#9c179e"
             ],
             [
              0.4444444444444444,
              "#bd3786"
             ],
             [
              0.5555555555555556,
              "#d8576b"
             ],
             [
              0.6666666666666666,
              "#ed7953"
             ],
             [
              0.7777777777777778,
              "#fb9f3a"
             ],
             [
              0.8888888888888888,
              "#fdca26"
             ],
             [
              1,
              "#f0f921"
             ]
            ],
            "type": "heatmap"
           }
          ],
          "heatmapgl": [
           {
            "colorbar": {
             "outlinewidth": 0,
             "ticks": ""
            },
            "colorscale": [
             [
              0,
              "#0d0887"
             ],
             [
              0.1111111111111111,
              "#46039f"
             ],
             [
              0.2222222222222222,
              "#7201a8"
             ],
             [
              0.3333333333333333,
              "#9c179e"
             ],
             [
              0.4444444444444444,
              "#bd3786"
             ],
             [
              0.5555555555555556,
              "#d8576b"
             ],
             [
              0.6666666666666666,
              "#ed7953"
             ],
             [
              0.7777777777777778,
              "#fb9f3a"
             ],
             [
              0.8888888888888888,
              "#fdca26"
             ],
             [
              1,
              "#f0f921"
             ]
            ],
            "type": "heatmapgl"
           }
          ],
          "histogram": [
           {
            "marker": {
             "pattern": {
              "fillmode": "overlay",
              "size": 10,
              "solidity": 0.2
             }
            },
            "type": "histogram"
           }
          ],
          "histogram2d": [
           {
            "colorbar": {
             "outlinewidth": 0,
             "ticks": ""
            },
            "colorscale": [
             [
              0,
              "#0d0887"
             ],
             [
              0.1111111111111111,
              "#46039f"
             ],
             [
              0.2222222222222222,
              "#7201a8"
             ],
             [
              0.3333333333333333,
              "#9c179e"
             ],
             [
              0.4444444444444444,
              "#bd3786"
             ],
             [
              0.5555555555555556,
              "#d8576b"
             ],
             [
              0.6666666666666666,
              "#ed7953"
             ],
             [
              0.7777777777777778,
              "#fb9f3a"
             ],
             [
              0.8888888888888888,
              "#fdca26"
             ],
             [
              1,
              "#f0f921"
             ]
            ],
            "type": "histogram2d"
           }
          ],
          "histogram2dcontour": [
           {
            "colorbar": {
             "outlinewidth": 0,
             "ticks": ""
            },
            "colorscale": [
             [
              0,
              "#0d0887"
             ],
             [
              0.1111111111111111,
              "#46039f"
             ],
             [
              0.2222222222222222,
              "#7201a8"
             ],
             [
              0.3333333333333333,
              "#9c179e"
             ],
             [
              0.4444444444444444,
              "#bd3786"
             ],
             [
              0.5555555555555556,
              "#d8576b"
             ],
             [
              0.6666666666666666,
              "#ed7953"
             ],
             [
              0.7777777777777778,
              "#fb9f3a"
             ],
             [
              0.8888888888888888,
              "#fdca26"
             ],
             [
              1,
              "#f0f921"
             ]
            ],
            "type": "histogram2dcontour"
           }
          ],
          "mesh3d": [
           {
            "colorbar": {
             "outlinewidth": 0,
             "ticks": ""
            },
            "type": "mesh3d"
           }
          ],
          "parcoords": [
           {
            "line": {
             "colorbar": {
              "outlinewidth": 0,
              "ticks": ""
             }
            },
            "type": "parcoords"
           }
          ],
          "pie": [
           {
            "automargin": true,
            "type": "pie"
           }
          ],
          "scatter": [
           {
            "fillpattern": {
             "fillmode": "overlay",
             "size": 10,
             "solidity": 0.2
            },
            "type": "scatter"
           }
          ],
          "scatter3d": [
           {
            "line": {
             "colorbar": {
              "outlinewidth": 0,
              "ticks": ""
             }
            },
            "marker": {
             "colorbar": {
              "outlinewidth": 0,
              "ticks": ""
             }
            },
            "type": "scatter3d"
           }
          ],
          "scattercarpet": [
           {
            "marker": {
             "colorbar": {
              "outlinewidth": 0,
              "ticks": ""
             }
            },
            "type": "scattercarpet"
           }
          ],
          "scattergeo": [
           {
            "marker": {
             "colorbar": {
              "outlinewidth": 0,
              "ticks": ""
             }
            },
            "type": "scattergeo"
           }
          ],
          "scattergl": [
           {
            "marker": {
             "colorbar": {
              "outlinewidth": 0,
              "ticks": ""
             }
            },
            "type": "scattergl"
           }
          ],
          "scattermapbox": [
           {
            "marker": {
             "colorbar": {
              "outlinewidth": 0,
              "ticks": ""
             }
            },
            "type": "scattermapbox"
           }
          ],
          "scatterpolar": [
           {
            "marker": {
             "colorbar": {
              "outlinewidth": 0,
              "ticks": ""
             }
            },
            "type": "scatterpolar"
           }
          ],
          "scatterpolargl": [
           {
            "marker": {
             "colorbar": {
              "outlinewidth": 0,
              "ticks": ""
             }
            },
            "type": "scatterpolargl"
           }
          ],
          "scatterternary": [
           {
            "marker": {
             "colorbar": {
              "outlinewidth": 0,
              "ticks": ""
             }
            },
            "type": "scatterternary"
           }
          ],
          "surface": [
           {
            "colorbar": {
             "outlinewidth": 0,
             "ticks": ""
            },
            "colorscale": [
             [
              0,
              "#0d0887"
             ],
             [
              0.1111111111111111,
              "#46039f"
             ],
             [
              0.2222222222222222,
              "#7201a8"
             ],
             [
              0.3333333333333333,
              "#9c179e"
             ],
             [
              0.4444444444444444,
              "#bd3786"
             ],
             [
              0.5555555555555556,
              "#d8576b"
             ],
             [
              0.6666666666666666,
              "#ed7953"
             ],
             [
              0.7777777777777778,
              "#fb9f3a"
             ],
             [
              0.8888888888888888,
              "#fdca26"
             ],
             [
              1,
              "#f0f921"
             ]
            ],
            "type": "surface"
           }
          ],
          "table": [
           {
            "cells": {
             "fill": {
              "color": "#EBF0F8"
             },
             "line": {
              "color": "white"
             }
            },
            "header": {
             "fill": {
              "color": "#C8D4E3"
             },
             "line": {
              "color": "white"
             }
            },
            "type": "table"
           }
          ]
         },
         "layout": {
          "title": {
           "font": {
            "family": "Times New Roman"
           }
          }
         }
        },
        "width": 450,
        "xaxis": {
         "anchor": "y",
         "constrain": "domain",
         "domain": [
          0,
          1
         ],
         "scaleanchor": "y",
         "title": {
          "text": ""
         }
        },
        "yaxis": {
         "anchor": "x",
         "autorange": "reversed",
         "constrain": "domain",
         "domain": [
          0,
          1
         ],
         "title": {
          "text": ""
         }
        }
       }
      }
     },
     "metadata": {},
     "output_type": "display_data"
    },
    {
     "data": {
      "application/vnd.plotly.v1+json": {
       "config": {
        "plotlyServerURL": "https://plot.ly"
       },
       "data": [
        {
         "coloraxis": "coloraxis",
         "hovertemplate": "eval_completion_normalized: %{x}<br>answered_language: %{y}<br>color: %{z}<extra></extra>",
         "name": "0",
         "texttemplate": "%{z}",
         "type": "heatmap",
         "x": [
          "correct",
          "incorrect"
         ],
         "xaxis": "x",
         "y": [
          "English",
          "Other",
          "Same"
         ],
         "yaxis": "y",
         "z": [
          [
           11.62,
           65.31
          ],
          [
           2.94,
           2.99
          ],
          [
           8.85,
           8.3
          ]
         ]
        }
       ],
       "layout": {
        "coloraxis": {
         "cmax": 100,
         "cmin": 0,
         "colorscale": [
          [
           0,
           "#16193C"
          ],
          [
           0.05,
           "#4c55be"
          ],
          [
           0.1,
           "#4D79C7"
          ],
          [
           0.2,
           "#7FB2F0"
          ],
          [
           0.3,
           "#ABD4F7"
          ],
          [
           0.4,
           "#E6DE00"
          ],
          [
           0.5,
           "#F2E826"
          ],
          [
           0.6,
           "#BDDB39"
          ],
          [
           0.7,
           "#B6E656"
          ],
          [
           0.8,
           "#68BB6C"
          ],
          [
           0.9,
           "#44A248"
          ],
          [
           1,
           "#32671D"
          ]
         ]
        },
        "font": {
         "family": "Times New Roman",
         "size": 28
        },
        "height": 400,
        "margin": {
         "b": 50,
         "l": 75,
         "r": 0,
         "t": 10
        },
        "template": {
         "data": {
          "bar": [
           {
            "error_x": {
             "color": "#2a3f5f"
            },
            "error_y": {
             "color": "#2a3f5f"
            },
            "marker": {
             "line": {
              "color": "#E5ECF6",
              "width": 0.5
             },
             "pattern": {
              "fillmode": "overlay",
              "size": 10,
              "solidity": 0.2
             }
            },
            "type": "bar"
           }
          ],
          "barpolar": [
           {
            "marker": {
             "line": {
              "color": "#E5ECF6",
              "width": 0.5
             },
             "pattern": {
              "fillmode": "overlay",
              "size": 10,
              "solidity": 0.2
             }
            },
            "type": "barpolar"
           }
          ],
          "carpet": [
           {
            "aaxis": {
             "endlinecolor": "#2a3f5f",
             "gridcolor": "white",
             "linecolor": "white",
             "minorgridcolor": "white",
             "startlinecolor": "#2a3f5f"
            },
            "baxis": {
             "endlinecolor": "#2a3f5f",
             "gridcolor": "white",
             "linecolor": "white",
             "minorgridcolor": "white",
             "startlinecolor": "#2a3f5f"
            },
            "type": "carpet"
           }
          ],
          "choropleth": [
           {
            "colorbar": {
             "outlinewidth": 0,
             "ticks": ""
            },
            "type": "choropleth"
           }
          ],
          "contour": [
           {
            "colorbar": {
             "outlinewidth": 0,
             "ticks": ""
            },
            "colorscale": [
             [
              0,
              "#0d0887"
             ],
             [
              0.1111111111111111,
              "#46039f"
             ],
             [
              0.2222222222222222,
              "#7201a8"
             ],
             [
              0.3333333333333333,
              "#9c179e"
             ],
             [
              0.4444444444444444,
              "#bd3786"
             ],
             [
              0.5555555555555556,
              "#d8576b"
             ],
             [
              0.6666666666666666,
              "#ed7953"
             ],
             [
              0.7777777777777778,
              "#fb9f3a"
             ],
             [
              0.8888888888888888,
              "#fdca26"
             ],
             [
              1,
              "#f0f921"
             ]
            ],
            "type": "contour"
           }
          ],
          "contourcarpet": [
           {
            "colorbar": {
             "outlinewidth": 0,
             "ticks": ""
            },
            "type": "contourcarpet"
           }
          ],
          "heatmap": [
           {
            "colorbar": {
             "outlinewidth": 0,
             "ticks": ""
            },
            "colorscale": [
             [
              0,
              "#0d0887"
             ],
             [
              0.1111111111111111,
              "#46039f"
             ],
             [
              0.2222222222222222,
              "#7201a8"
             ],
             [
              0.3333333333333333,
              "#9c179e"
             ],
             [
              0.4444444444444444,
              "#bd3786"
             ],
             [
              0.5555555555555556,
              "#d8576b"
             ],
             [
              0.6666666666666666,
              "#ed7953"
             ],
             [
              0.7777777777777778,
              "#fb9f3a"
             ],
             [
              0.8888888888888888,
              "#fdca26"
             ],
             [
              1,
              "#f0f921"
             ]
            ],
            "type": "heatmap"
           }
          ],
          "heatmapgl": [
           {
            "colorbar": {
             "outlinewidth": 0,
             "ticks": ""
            },
            "colorscale": [
             [
              0,
              "#0d0887"
             ],
             [
              0.1111111111111111,
              "#46039f"
             ],
             [
              0.2222222222222222,
              "#7201a8"
             ],
             [
              0.3333333333333333,
              "#9c179e"
             ],
             [
              0.4444444444444444,
              "#bd3786"
             ],
             [
              0.5555555555555556,
              "#d8576b"
             ],
             [
              0.6666666666666666,
              "#ed7953"
             ],
             [
              0.7777777777777778,
              "#fb9f3a"
             ],
             [
              0.8888888888888888,
              "#fdca26"
             ],
             [
              1,
              "#f0f921"
             ]
            ],
            "type": "heatmapgl"
           }
          ],
          "histogram": [
           {
            "marker": {
             "pattern": {
              "fillmode": "overlay",
              "size": 10,
              "solidity": 0.2
             }
            },
            "type": "histogram"
           }
          ],
          "histogram2d": [
           {
            "colorbar": {
             "outlinewidth": 0,
             "ticks": ""
            },
            "colorscale": [
             [
              0,
              "#0d0887"
             ],
             [
              0.1111111111111111,
              "#46039f"
             ],
             [
              0.2222222222222222,
              "#7201a8"
             ],
             [
              0.3333333333333333,
              "#9c179e"
             ],
             [
              0.4444444444444444,
              "#bd3786"
             ],
             [
              0.5555555555555556,
              "#d8576b"
             ],
             [
              0.6666666666666666,
              "#ed7953"
             ],
             [
              0.7777777777777778,
              "#fb9f3a"
             ],
             [
              0.8888888888888888,
              "#fdca26"
             ],
             [
              1,
              "#f0f921"
             ]
            ],
            "type": "histogram2d"
           }
          ],
          "histogram2dcontour": [
           {
            "colorbar": {
             "outlinewidth": 0,
             "ticks": ""
            },
            "colorscale": [
             [
              0,
              "#0d0887"
             ],
             [
              0.1111111111111111,
              "#46039f"
             ],
             [
              0.2222222222222222,
              "#7201a8"
             ],
             [
              0.3333333333333333,
              "#9c179e"
             ],
             [
              0.4444444444444444,
              "#bd3786"
             ],
             [
              0.5555555555555556,
              "#d8576b"
             ],
             [
              0.6666666666666666,
              "#ed7953"
             ],
             [
              0.7777777777777778,
              "#fb9f3a"
             ],
             [
              0.8888888888888888,
              "#fdca26"
             ],
             [
              1,
              "#f0f921"
             ]
            ],
            "type": "histogram2dcontour"
           }
          ],
          "mesh3d": [
           {
            "colorbar": {
             "outlinewidth": 0,
             "ticks": ""
            },
            "type": "mesh3d"
           }
          ],
          "parcoords": [
           {
            "line": {
             "colorbar": {
              "outlinewidth": 0,
              "ticks": ""
             }
            },
            "type": "parcoords"
           }
          ],
          "pie": [
           {
            "automargin": true,
            "type": "pie"
           }
          ],
          "scatter": [
           {
            "fillpattern": {
             "fillmode": "overlay",
             "size": 10,
             "solidity": 0.2
            },
            "type": "scatter"
           }
          ],
          "scatter3d": [
           {
            "line": {
             "colorbar": {
              "outlinewidth": 0,
              "ticks": ""
             }
            },
            "marker": {
             "colorbar": {
              "outlinewidth": 0,
              "ticks": ""
             }
            },
            "type": "scatter3d"
           }
          ],
          "scattercarpet": [
           {
            "marker": {
             "colorbar": {
              "outlinewidth": 0,
              "ticks": ""
             }
            },
            "type": "scattercarpet"
           }
          ],
          "scattergeo": [
           {
            "marker": {
             "colorbar": {
              "outlinewidth": 0,
              "ticks": ""
             }
            },
            "type": "scattergeo"
           }
          ],
          "scattergl": [
           {
            "marker": {
             "colorbar": {
              "outlinewidth": 0,
              "ticks": ""
             }
            },
            "type": "scattergl"
           }
          ],
          "scattermapbox": [
           {
            "marker": {
             "colorbar": {
              "outlinewidth": 0,
              "ticks": ""
             }
            },
            "type": "scattermapbox"
           }
          ],
          "scatterpolar": [
           {
            "marker": {
             "colorbar": {
              "outlinewidth": 0,
              "ticks": ""
             }
            },
            "type": "scatterpolar"
           }
          ],
          "scatterpolargl": [
           {
            "marker": {
             "colorbar": {
              "outlinewidth": 0,
              "ticks": ""
             }
            },
            "type": "scatterpolargl"
           }
          ],
          "scatterternary": [
           {
            "marker": {
             "colorbar": {
              "outlinewidth": 0,
              "ticks": ""
             }
            },
            "type": "scatterternary"
           }
          ],
          "surface": [
           {
            "colorbar": {
             "outlinewidth": 0,
             "ticks": ""
            },
            "colorscale": [
             [
              0,
              "#0d0887"
             ],
             [
              0.1111111111111111,
              "#46039f"
             ],
             [
              0.2222222222222222,
              "#7201a8"
             ],
             [
              0.3333333333333333,
              "#9c179e"
             ],
             [
              0.4444444444444444,
              "#bd3786"
             ],
             [
              0.5555555555555556,
              "#d8576b"
             ],
             [
              0.6666666666666666,
              "#ed7953"
             ],
             [
              0.7777777777777778,
              "#fb9f3a"
             ],
             [
              0.8888888888888888,
              "#fdca26"
             ],
             [
              1,
              "#f0f921"
             ]
            ],
            "type": "surface"
           }
          ],
          "table": [
           {
            "cells": {
             "fill": {
              "color": "#EBF0F8"
             },
             "line": {
              "color": "white"
             }
            },
            "header": {
             "fill": {
              "color": "#C8D4E3"
             },
             "line": {
              "color": "white"
             }
            },
            "type": "table"
           }
          ]
         },
         "layout": {
          "title": {
           "font": {
            "family": "Times New Roman"
           }
          }
         }
        },
        "width": 450,
        "xaxis": {
         "anchor": "y",
         "constrain": "domain",
         "domain": [
          0,
          1
         ],
         "scaleanchor": "y",
         "title": {
          "text": ""
         }
        },
        "yaxis": {
         "anchor": "x",
         "autorange": "reversed",
         "constrain": "domain",
         "domain": [
          0,
          1
         ],
         "title": {
          "text": ""
         }
        }
       }
      }
     },
     "metadata": {},
     "output_type": "display_data"
    },
    {
     "data": {
      "application/vnd.plotly.v1+json": {
       "config": {
        "plotlyServerURL": "https://plot.ly"
       },
       "data": [
        {
         "coloraxis": "coloraxis",
         "hovertemplate": "eval_completion_normalized: %{x}<br>answered_language: %{y}<br>color: %{z}<extra></extra>",
         "name": "0",
         "texttemplate": "%{z}",
         "type": "heatmap",
         "x": [
          "correct",
          "incorrect"
         ],
         "xaxis": "x",
         "y": [
          "English",
          "Other",
          "Same"
         ],
         "yaxis": "y",
         "z": [
          [
           7.3,
           12.44
          ],
          [
           5.24,
           14.38
          ],
          [
           21.23,
           39.41
          ]
         ]
        }
       ],
       "layout": {
        "coloraxis": {
         "cmax": 100,
         "cmin": 0,
         "colorscale": [
          [
           0,
           "#16193C"
          ],
          [
           0.05,
           "#4c55be"
          ],
          [
           0.1,
           "#4D79C7"
          ],
          [
           0.2,
           "#7FB2F0"
          ],
          [
           0.3,
           "#ABD4F7"
          ],
          [
           0.4,
           "#E6DE00"
          ],
          [
           0.5,
           "#F2E826"
          ],
          [
           0.6,
           "#BDDB39"
          ],
          [
           0.7,
           "#B6E656"
          ],
          [
           0.8,
           "#68BB6C"
          ],
          [
           0.9,
           "#44A248"
          ],
          [
           1,
           "#32671D"
          ]
         ]
        },
        "font": {
         "family": "Times New Roman",
         "size": 28
        },
        "height": 400,
        "margin": {
         "b": 50,
         "l": 75,
         "r": 0,
         "t": 10
        },
        "template": {
         "data": {
          "bar": [
           {
            "error_x": {
             "color": "#2a3f5f"
            },
            "error_y": {
             "color": "#2a3f5f"
            },
            "marker": {
             "line": {
              "color": "#E5ECF6",
              "width": 0.5
             },
             "pattern": {
              "fillmode": "overlay",
              "size": 10,
              "solidity": 0.2
             }
            },
            "type": "bar"
           }
          ],
          "barpolar": [
           {
            "marker": {
             "line": {
              "color": "#E5ECF6",
              "width": 0.5
             },
             "pattern": {
              "fillmode": "overlay",
              "size": 10,
              "solidity": 0.2
             }
            },
            "type": "barpolar"
           }
          ],
          "carpet": [
           {
            "aaxis": {
             "endlinecolor": "#2a3f5f",
             "gridcolor": "white",
             "linecolor": "white",
             "minorgridcolor": "white",
             "startlinecolor": "#2a3f5f"
            },
            "baxis": {
             "endlinecolor": "#2a3f5f",
             "gridcolor": "white",
             "linecolor": "white",
             "minorgridcolor": "white",
             "startlinecolor": "#2a3f5f"
            },
            "type": "carpet"
           }
          ],
          "choropleth": [
           {
            "colorbar": {
             "outlinewidth": 0,
             "ticks": ""
            },
            "type": "choropleth"
           }
          ],
          "contour": [
           {
            "colorbar": {
             "outlinewidth": 0,
             "ticks": ""
            },
            "colorscale": [
             [
              0,
              "#0d0887"
             ],
             [
              0.1111111111111111,
              "#46039f"
             ],
             [
              0.2222222222222222,
              "#7201a8"
             ],
             [
              0.3333333333333333,
              "#9c179e"
             ],
             [
              0.4444444444444444,
              "#bd3786"
             ],
             [
              0.5555555555555556,
              "#d8576b"
             ],
             [
              0.6666666666666666,
              "#ed7953"
             ],
             [
              0.7777777777777778,
              "#fb9f3a"
             ],
             [
              0.8888888888888888,
              "#fdca26"
             ],
             [
              1,
              "#f0f921"
             ]
            ],
            "type": "contour"
           }
          ],
          "contourcarpet": [
           {
            "colorbar": {
             "outlinewidth": 0,
             "ticks": ""
            },
            "type": "contourcarpet"
           }
          ],
          "heatmap": [
           {
            "colorbar": {
             "outlinewidth": 0,
             "ticks": ""
            },
            "colorscale": [
             [
              0,
              "#0d0887"
             ],
             [
              0.1111111111111111,
              "#46039f"
             ],
             [
              0.2222222222222222,
              "#7201a8"
             ],
             [
              0.3333333333333333,
              "#9c179e"
             ],
             [
              0.4444444444444444,
              "#bd3786"
             ],
             [
              0.5555555555555556,
              "#d8576b"
             ],
             [
              0.6666666666666666,
              "#ed7953"
             ],
             [
              0.7777777777777778,
              "#fb9f3a"
             ],
             [
              0.8888888888888888,
              "#fdca26"
             ],
             [
              1,
              "#f0f921"
             ]
            ],
            "type": "heatmap"
           }
          ],
          "heatmapgl": [
           {
            "colorbar": {
             "outlinewidth": 0,
             "ticks": ""
            },
            "colorscale": [
             [
              0,
              "#0d0887"
             ],
             [
              0.1111111111111111,
              "#46039f"
             ],
             [
              0.2222222222222222,
              "#7201a8"
             ],
             [
              0.3333333333333333,
              "#9c179e"
             ],
             [
              0.4444444444444444,
              "#bd3786"
             ],
             [
              0.5555555555555556,
              "#d8576b"
             ],
             [
              0.6666666666666666,
              "#ed7953"
             ],
             [
              0.7777777777777778,
              "#fb9f3a"
             ],
             [
              0.8888888888888888,
              "#fdca26"
             ],
             [
              1,
              "#f0f921"
             ]
            ],
            "type": "heatmapgl"
           }
          ],
          "histogram": [
           {
            "marker": {
             "pattern": {
              "fillmode": "overlay",
              "size": 10,
              "solidity": 0.2
             }
            },
            "type": "histogram"
           }
          ],
          "histogram2d": [
           {
            "colorbar": {
             "outlinewidth": 0,
             "ticks": ""
            },
            "colorscale": [
             [
              0,
              "#0d0887"
             ],
             [
              0.1111111111111111,
              "#46039f"
             ],
             [
              0.2222222222222222,
              "#7201a8"
             ],
             [
              0.3333333333333333,
              "#9c179e"
             ],
             [
              0.4444444444444444,
              "#bd3786"
             ],
             [
              0.5555555555555556,
              "#d8576b"
             ],
             [
              0.6666666666666666,
              "#ed7953"
             ],
             [
              0.7777777777777778,
              "#fb9f3a"
             ],
             [
              0.8888888888888888,
              "#fdca26"
             ],
             [
              1,
              "#f0f921"
             ]
            ],
            "type": "histogram2d"
           }
          ],
          "histogram2dcontour": [
           {
            "colorbar": {
             "outlinewidth": 0,
             "ticks": ""
            },
            "colorscale": [
             [
              0,
              "#0d0887"
             ],
             [
              0.1111111111111111,
              "#46039f"
             ],
             [
              0.2222222222222222,
              "#7201a8"
             ],
             [
              0.3333333333333333,
              "#9c179e"
             ],
             [
              0.4444444444444444,
              "#bd3786"
             ],
             [
              0.5555555555555556,
              "#d8576b"
             ],
             [
              0.6666666666666666,
              "#ed7953"
             ],
             [
              0.7777777777777778,
              "#fb9f3a"
             ],
             [
              0.8888888888888888,
              "#fdca26"
             ],
             [
              1,
              "#f0f921"
             ]
            ],
            "type": "histogram2dcontour"
           }
          ],
          "mesh3d": [
           {
            "colorbar": {
             "outlinewidth": 0,
             "ticks": ""
            },
            "type": "mesh3d"
           }
          ],
          "parcoords": [
           {
            "line": {
             "colorbar": {
              "outlinewidth": 0,
              "ticks": ""
             }
            },
            "type": "parcoords"
           }
          ],
          "pie": [
           {
            "automargin": true,
            "type": "pie"
           }
          ],
          "scatter": [
           {
            "fillpattern": {
             "fillmode": "overlay",
             "size": 10,
             "solidity": 0.2
            },
            "type": "scatter"
           }
          ],
          "scatter3d": [
           {
            "line": {
             "colorbar": {
              "outlinewidth": 0,
              "ticks": ""
             }
            },
            "marker": {
             "colorbar": {
              "outlinewidth": 0,
              "ticks": ""
             }
            },
            "type": "scatter3d"
           }
          ],
          "scattercarpet": [
           {
            "marker": {
             "colorbar": {
              "outlinewidth": 0,
              "ticks": ""
             }
            },
            "type": "scattercarpet"
           }
          ],
          "scattergeo": [
           {
            "marker": {
             "colorbar": {
              "outlinewidth": 0,
              "ticks": ""
             }
            },
            "type": "scattergeo"
           }
          ],
          "scattergl": [
           {
            "marker": {
             "colorbar": {
              "outlinewidth": 0,
              "ticks": ""
             }
            },
            "type": "scattergl"
           }
          ],
          "scattermapbox": [
           {
            "marker": {
             "colorbar": {
              "outlinewidth": 0,
              "ticks": ""
             }
            },
            "type": "scattermapbox"
           }
          ],
          "scatterpolar": [
           {
            "marker": {
             "colorbar": {
              "outlinewidth": 0,
              "ticks": ""
             }
            },
            "type": "scatterpolar"
           }
          ],
          "scatterpolargl": [
           {
            "marker": {
             "colorbar": {
              "outlinewidth": 0,
              "ticks": ""
             }
            },
            "type": "scatterpolargl"
           }
          ],
          "scatterternary": [
           {
            "marker": {
             "colorbar": {
              "outlinewidth": 0,
              "ticks": ""
             }
            },
            "type": "scatterternary"
           }
          ],
          "surface": [
           {
            "colorbar": {
             "outlinewidth": 0,
             "ticks": ""
            },
            "colorscale": [
             [
              0,
              "#0d0887"
             ],
             [
              0.1111111111111111,
              "#46039f"
             ],
             [
              0.2222222222222222,
              "#7201a8"
             ],
             [
              0.3333333333333333,
              "#9c179e"
             ],
             [
              0.4444444444444444,
              "#bd3786"
             ],
             [
              0.5555555555555556,
              "#d8576b"
             ],
             [
              0.6666666666666666,
              "#ed7953"
             ],
             [
              0.7777777777777778,
              "#fb9f3a"
             ],
             [
              0.8888888888888888,
              "#fdca26"
             ],
             [
              1,
              "#f0f921"
             ]
            ],
            "type": "surface"
           }
          ],
          "table": [
           {
            "cells": {
             "fill": {
              "color": "#EBF0F8"
             },
             "line": {
              "color": "white"
             }
            },
            "header": {
             "fill": {
              "color": "#C8D4E3"
             },
             "line": {
              "color": "white"
             }
            },
            "type": "table"
           }
          ]
         },
         "layout": {
          "title": {
           "font": {
            "family": "Times New Roman"
           }
          }
         }
        },
        "width": 450,
        "xaxis": {
         "anchor": "y",
         "constrain": "domain",
         "domain": [
          0,
          1
         ],
         "scaleanchor": "y",
         "title": {
          "text": ""
         }
        },
        "yaxis": {
         "anchor": "x",
         "autorange": "reversed",
         "constrain": "domain",
         "domain": [
          0,
          1
         ],
         "title": {
          "text": ""
         }
        }
       }
      }
     },
     "metadata": {},
     "output_type": "display_data"
    },
    {
     "data": {
      "application/vnd.plotly.v1+json": {
       "config": {
        "plotlyServerURL": "https://plot.ly"
       },
       "data": [
        {
         "coloraxis": "coloraxis",
         "hovertemplate": "eval_completion_normalized: %{x}<br>answered_language: %{y}<br>color: %{z}<extra></extra>",
         "name": "0",
         "texttemplate": "%{z}",
         "type": "heatmap",
         "x": [
          "correct",
          "incorrect"
         ],
         "xaxis": "x",
         "y": [
          "English",
          "Other",
          "Same"
         ],
         "yaxis": "y",
         "z": [
          [
           12.73,
           72.84
          ],
          [
           1.58,
           1.82
          ],
          [
           4.93,
           6.1
          ]
         ]
        }
       ],
       "layout": {
        "coloraxis": {
         "cmax": 100,
         "cmin": 0,
         "colorscale": [
          [
           0,
           "#16193C"
          ],
          [
           0.05,
           "#4c55be"
          ],
          [
           0.1,
           "#4D79C7"
          ],
          [
           0.2,
           "#7FB2F0"
          ],
          [
           0.3,
           "#ABD4F7"
          ],
          [
           0.4,
           "#E6DE00"
          ],
          [
           0.5,
           "#F2E826"
          ],
          [
           0.6,
           "#BDDB39"
          ],
          [
           0.7,
           "#B6E656"
          ],
          [
           0.8,
           "#68BB6C"
          ],
          [
           0.9,
           "#44A248"
          ],
          [
           1,
           "#32671D"
          ]
         ]
        },
        "font": {
         "family": "Times New Roman",
         "size": 28
        },
        "height": 400,
        "margin": {
         "b": 50,
         "l": 75,
         "r": 0,
         "t": 10
        },
        "template": {
         "data": {
          "bar": [
           {
            "error_x": {
             "color": "#2a3f5f"
            },
            "error_y": {
             "color": "#2a3f5f"
            },
            "marker": {
             "line": {
              "color": "#E5ECF6",
              "width": 0.5
             },
             "pattern": {
              "fillmode": "overlay",
              "size": 10,
              "solidity": 0.2
             }
            },
            "type": "bar"
           }
          ],
          "barpolar": [
           {
            "marker": {
             "line": {
              "color": "#E5ECF6",
              "width": 0.5
             },
             "pattern": {
              "fillmode": "overlay",
              "size": 10,
              "solidity": 0.2
             }
            },
            "type": "barpolar"
           }
          ],
          "carpet": [
           {
            "aaxis": {
             "endlinecolor": "#2a3f5f",
             "gridcolor": "white",
             "linecolor": "white",
             "minorgridcolor": "white",
             "startlinecolor": "#2a3f5f"
            },
            "baxis": {
             "endlinecolor": "#2a3f5f",
             "gridcolor": "white",
             "linecolor": "white",
             "minorgridcolor": "white",
             "startlinecolor": "#2a3f5f"
            },
            "type": "carpet"
           }
          ],
          "choropleth": [
           {
            "colorbar": {
             "outlinewidth": 0,
             "ticks": ""
            },
            "type": "choropleth"
           }
          ],
          "contour": [
           {
            "colorbar": {
             "outlinewidth": 0,
             "ticks": ""
            },
            "colorscale": [
             [
              0,
              "#0d0887"
             ],
             [
              0.1111111111111111,
              "#46039f"
             ],
             [
              0.2222222222222222,
              "#7201a8"
             ],
             [
              0.3333333333333333,
              "#9c179e"
             ],
             [
              0.4444444444444444,
              "#bd3786"
             ],
             [
              0.5555555555555556,
              "#d8576b"
             ],
             [
              0.6666666666666666,
              "#ed7953"
             ],
             [
              0.7777777777777778,
              "#fb9f3a"
             ],
             [
              0.8888888888888888,
              "#fdca26"
             ],
             [
              1,
              "#f0f921"
             ]
            ],
            "type": "contour"
           }
          ],
          "contourcarpet": [
           {
            "colorbar": {
             "outlinewidth": 0,
             "ticks": ""
            },
            "type": "contourcarpet"
           }
          ],
          "heatmap": [
           {
            "colorbar": {
             "outlinewidth": 0,
             "ticks": ""
            },
            "colorscale": [
             [
              0,
              "#0d0887"
             ],
             [
              0.1111111111111111,
              "#46039f"
             ],
             [
              0.2222222222222222,
              "#7201a8"
             ],
             [
              0.3333333333333333,
              "#9c179e"
             ],
             [
              0.4444444444444444,
              "#bd3786"
             ],
             [
              0.5555555555555556,
              "#d8576b"
             ],
             [
              0.6666666666666666,
              "#ed7953"
             ],
             [
              0.7777777777777778,
              "#fb9f3a"
             ],
             [
              0.8888888888888888,
              "#fdca26"
             ],
             [
              1,
              "#f0f921"
             ]
            ],
            "type": "heatmap"
           }
          ],
          "heatmapgl": [
           {
            "colorbar": {
             "outlinewidth": 0,
             "ticks": ""
            },
            "colorscale": [
             [
              0,
              "#0d0887"
             ],
             [
              0.1111111111111111,
              "#46039f"
             ],
             [
              0.2222222222222222,
              "#7201a8"
             ],
             [
              0.3333333333333333,
              "#9c179e"
             ],
             [
              0.4444444444444444,
              "#bd3786"
             ],
             [
              0.5555555555555556,
              "#d8576b"
             ],
             [
              0.6666666666666666,
              "#ed7953"
             ],
             [
              0.7777777777777778,
              "#fb9f3a"
             ],
             [
              0.8888888888888888,
              "#fdca26"
             ],
             [
              1,
              "#f0f921"
             ]
            ],
            "type": "heatmapgl"
           }
          ],
          "histogram": [
           {
            "marker": {
             "pattern": {
              "fillmode": "overlay",
              "size": 10,
              "solidity": 0.2
             }
            },
            "type": "histogram"
           }
          ],
          "histogram2d": [
           {
            "colorbar": {
             "outlinewidth": 0,
             "ticks": ""
            },
            "colorscale": [
             [
              0,
              "#0d0887"
             ],
             [
              0.1111111111111111,
              "#46039f"
             ],
             [
              0.2222222222222222,
              "#7201a8"
             ],
             [
              0.3333333333333333,
              "#9c179e"
             ],
             [
              0.4444444444444444,
              "#bd3786"
             ],
             [
              0.5555555555555556,
              "#d8576b"
             ],
             [
              0.6666666666666666,
              "#ed7953"
             ],
             [
              0.7777777777777778,
              "#fb9f3a"
             ],
             [
              0.8888888888888888,
              "#fdca26"
             ],
             [
              1,
              "#f0f921"
             ]
            ],
            "type": "histogram2d"
           }
          ],
          "histogram2dcontour": [
           {
            "colorbar": {
             "outlinewidth": 0,
             "ticks": ""
            },
            "colorscale": [
             [
              0,
              "#0d0887"
             ],
             [
              0.1111111111111111,
              "#46039f"
             ],
             [
              0.2222222222222222,
              "#7201a8"
             ],
             [
              0.3333333333333333,
              "#9c179e"
             ],
             [
              0.4444444444444444,
              "#bd3786"
             ],
             [
              0.5555555555555556,
              "#d8576b"
             ],
             [
              0.6666666666666666,
              "#ed7953"
             ],
             [
              0.7777777777777778,
              "#fb9f3a"
             ],
             [
              0.8888888888888888,
              "#fdca26"
             ],
             [
              1,
              "#f0f921"
             ]
            ],
            "type": "histogram2dcontour"
           }
          ],
          "mesh3d": [
           {
            "colorbar": {
             "outlinewidth": 0,
             "ticks": ""
            },
            "type": "mesh3d"
           }
          ],
          "parcoords": [
           {
            "line": {
             "colorbar": {
              "outlinewidth": 0,
              "ticks": ""
             }
            },
            "type": "parcoords"
           }
          ],
          "pie": [
           {
            "automargin": true,
            "type": "pie"
           }
          ],
          "scatter": [
           {
            "fillpattern": {
             "fillmode": "overlay",
             "size": 10,
             "solidity": 0.2
            },
            "type": "scatter"
           }
          ],
          "scatter3d": [
           {
            "line": {
             "colorbar": {
              "outlinewidth": 0,
              "ticks": ""
             }
            },
            "marker": {
             "colorbar": {
              "outlinewidth": 0,
              "ticks": ""
             }
            },
            "type": "scatter3d"
           }
          ],
          "scattercarpet": [
           {
            "marker": {
             "colorbar": {
              "outlinewidth": 0,
              "ticks": ""
             }
            },
            "type": "scattercarpet"
           }
          ],
          "scattergeo": [
           {
            "marker": {
             "colorbar": {
              "outlinewidth": 0,
              "ticks": ""
             }
            },
            "type": "scattergeo"
           }
          ],
          "scattergl": [
           {
            "marker": {
             "colorbar": {
              "outlinewidth": 0,
              "ticks": ""
             }
            },
            "type": "scattergl"
           }
          ],
          "scattermapbox": [
           {
            "marker": {
             "colorbar": {
              "outlinewidth": 0,
              "ticks": ""
             }
            },
            "type": "scattermapbox"
           }
          ],
          "scatterpolar": [
           {
            "marker": {
             "colorbar": {
              "outlinewidth": 0,
              "ticks": ""
             }
            },
            "type": "scatterpolar"
           }
          ],
          "scatterpolargl": [
           {
            "marker": {
             "colorbar": {
              "outlinewidth": 0,
              "ticks": ""
             }
            },
            "type": "scatterpolargl"
           }
          ],
          "scatterternary": [
           {
            "marker": {
             "colorbar": {
              "outlinewidth": 0,
              "ticks": ""
             }
            },
            "type": "scatterternary"
           }
          ],
          "surface": [
           {
            "colorbar": {
             "outlinewidth": 0,
             "ticks": ""
            },
            "colorscale": [
             [
              0,
              "#0d0887"
             ],
             [
              0.1111111111111111,
              "#46039f"
             ],
             [
              0.2222222222222222,
              "#7201a8"
             ],
             [
              0.3333333333333333,
              "#9c179e"
             ],
             [
              0.4444444444444444,
              "#bd3786"
             ],
             [
              0.5555555555555556,
              "#d8576b"
             ],
             [
              0.6666666666666666,
              "#ed7953"
             ],
             [
              0.7777777777777778,
              "#fb9f3a"
             ],
             [
              0.8888888888888888,
              "#fdca26"
             ],
             [
              1,
              "#f0f921"
             ]
            ],
            "type": "surface"
           }
          ],
          "table": [
           {
            "cells": {
             "fill": {
              "color": "#EBF0F8"
             },
             "line": {
              "color": "white"
             }
            },
            "header": {
             "fill": {
              "color": "#C8D4E3"
             },
             "line": {
              "color": "white"
             }
            },
            "type": "table"
           }
          ]
         },
         "layout": {
          "title": {
           "font": {
            "family": "Times New Roman"
           }
          }
         }
        },
        "width": 450,
        "xaxis": {
         "anchor": "y",
         "constrain": "domain",
         "domain": [
          0,
          1
         ],
         "scaleanchor": "y",
         "title": {
          "text": ""
         }
        },
        "yaxis": {
         "anchor": "x",
         "autorange": "reversed",
         "constrain": "domain",
         "domain": [
          0,
          1
         ],
         "title": {
          "text": ""
         }
        }
       }
      }
     },
     "metadata": {},
     "output_type": "display_data"
    }
   ],
   "source": [
    "for model in df_dict:\n",
    "    subset = df_dict[model][~df_dict[model]['answered_language'].isin(['Mni-mtei', 'doi']) ]\n",
    "    subset.loc[subset['answered_language'] == 'Same Language', 'answered_language'] = 'Same'\n",
    "    confusion_matrix = pd.crosstab(subset['answered_language'], subset['eval_completion_normalized'])\n",
    "    confusion_matrix_percentage = round(confusion_matrix.div(confusion_matrix.sum().sum()) * 100,2)\n",
    "\n",
    "    \n",
    "\n",
    "    color_scale = [[0, '#16193C'], \n",
    "                [0.05, '#4c55be'], \n",
    "                [0.1, '#4D79C7'], \n",
    "                [0.2, '#7FB2F0'], \n",
    "                [0.3, '#ABD4F7'], \n",
    "                [0.4, '#E6DE00'], \n",
    "                [0.5, '#F2E826'], \n",
    "                [0.6, '#BDDB39'],\n",
    "                [0.7, '#B6E656'],\n",
    "                [0.8, '#68BB6C'],\n",
    "                [0.9, '#44A248'],\n",
    "                [1, '#32671D']]\n",
    "    \n",
    "    fig = px.imshow(confusion_matrix_percentage, \n",
    "                    range_color=(0,100),\n",
    "                    color_continuous_scale=color_scale, text_auto=True)\n",
    "\n",
    "\n",
    "    fig.update_layout(\n",
    "        #yaxis_title=\"Response Language\",\n",
    "        yaxis_title=\"\",\n",
    "        xaxis_title=\"\",\n",
    "        #coloraxis_showscale=False,\n",
    "        font_family=\"Times New Roman\",\n",
    "        font=dict(size=28),\n",
    "        #title=model,\n",
    "        width=450,\n",
    "        height=400,\n",
    "        margin=dict(l=75, r=0, t=10, b=50),\n",
    "        #margin=dict(l=120, r=0, t=50, b=50),\n",
    "        template=custom_template\n",
    "        )\n",
    "\n",
    "    fig.show()\n",
    "    fig.write_image(\"../../img/fidelity_and_accuracy\"+model+\".pdf\", format=\"pdf\")"
   ]
  },
  {
   "cell_type": "code",
   "execution_count": 134,
   "metadata": {},
   "outputs": [
    {
     "name": "stdout",
     "output_type": "stream",
     "text": [
      "Mistral-7B-Instruct-v0.1\n",
      "  answered_language eval_completion_normalized   size  percentage\n",
      "0           English                    correct    433   14.579125\n",
      "1           English                  incorrect   2537   85.420875\n",
      "2             Other                    correct    872   11.836568\n",
      "3             Other                  incorrect   6495   88.163432\n",
      "4     Same Language                    correct   2915   17.083748\n",
      "5     Same Language                  incorrect  14148   82.916252\n",
      "_______________________\n",
      "Qwen1.5-7B-Chat\n",
      "  answered_language eval_completion_normalized   size  percentage\n",
      "0           English                    correct    397   11.355835\n",
      "1           English                  incorrect   3099   88.644165\n",
      "2             Other                    correct   1183   11.726804\n",
      "3             Other                  incorrect   8905   88.273196\n",
      "4     Same Language                    correct   2967   21.475101\n",
      "5     Same Language                  incorrect  10849   78.524899\n",
      "_______________________\n",
      "Llama-2-70b-chat-hf\n",
      "  answered_language eval_completion_normalized   size  percentage\n",
      "0           English                    correct   3376   17.348407\n",
      "1           English                  incorrect  16084   82.651593\n",
      "2             Other                    correct   1007   48.204883\n",
      "3             Other                  incorrect   1082   51.795117\n",
      "4     Same Language                    correct   3593   61.408306\n",
      "5     Same Language                  incorrect   2258   38.591694\n",
      "_______________________\n",
      "Llama-2-13b-chat-hf\n",
      "  answered_language eval_completion_normalized   size  percentage\n",
      "0           English                    correct   3183   15.101770\n",
      "1           English                  incorrect  17894   84.898230\n",
      "2             Other                    correct    806   49.630542\n",
      "3             Other                  incorrect    818   50.369458\n",
      "4     Same Language                    correct   2426   51.628006\n",
      "5     Same Language                  incorrect   2273   48.371994\n",
      "_______________________\n",
      "Mixtral-8x7B-Instruct-v0.1\n",
      "  answered_language eval_completion_normalized   size  percentage\n",
      "0           English                    correct   1999   36.963757\n",
      "1           English                  incorrect   3409   63.036243\n",
      "2             Other                    correct   1437   26.719970\n",
      "3             Other                  incorrect   3941   73.280030\n",
      "4     Same Language                    correct   5816   35.006621\n",
      "5     Same Language                  incorrect  10798   64.993379\n",
      "_______________________\n",
      "Llama-2-7b-chat-hf\n",
      "  answered_language eval_completion_normalized   size  percentage\n",
      "0           English                    correct   3487   14.872473\n",
      "1           English                  incorrect  19959   85.127527\n",
      "2             Other                    correct    433   46.459227\n",
      "3             Other                  incorrect    499   53.540773\n",
      "4     Same Language                    correct   1351   44.705493\n",
      "5     Same Language                  incorrect   1671   55.294507\n",
      "_______________________\n"
     ]
    }
   ],
   "source": [
    "for model in df_dict: \n",
    "    print(model)\n",
    "    subset = df_dict[model][~df_dict[model]['answered_language'].isin(['Mni-mtei', 'doi']) ]\n",
    "    group = subset.groupby(['answered_language', 'eval_completion_normalized']).size().to_frame('size').reset_index()\n",
    "    group['percentage'] = (group['size'] / group.groupby('answered_language')['size'].transform('sum')) * 100\n",
    "    print(group)\n",
    "    print('_______________________')"
   ]
  }
 ],
 "metadata": {
  "kernelspec": {
   "display_name": "Python 3",
   "language": "python",
   "name": "python3"
  },
  "language_info": {
   "codemirror_mode": {
    "name": "ipython",
    "version": 3
   },
   "file_extension": ".py",
   "mimetype": "text/x-python",
   "name": "python",
   "nbconvert_exporter": "python",
   "pygments_lexer": "ipython3",
   "version": "3.9.6"
  }
 },
 "nbformat": 4,
 "nbformat_minor": 2
}
