{
 "cells": [
  {
   "cell_type": "markdown",
   "metadata": {},
   "source": [
    "# Analysis of the Tokenizaton of Language Models"
   ]
  },
  {
   "cell_type": "markdown",
   "metadata": {},
   "source": [
    "## Imports and Helper"
   ]
  },
  {
   "cell_type": "code",
   "execution_count": 16,
   "metadata": {},
   "outputs": [],
   "source": [
    "import pandas as pd\n",
    "import numpy as np\n",
    "import itertools\n",
    "from plotly.subplots import make_subplots\n",
    "import plotly.graph_objects as go\n",
    "\n",
    "from dash import Dash, html, dcc, callback, Output, Input\n",
    "import plotly.express as px\n",
    "import pandas as pd\n",
    "import plotly.graph_objects as go\n",
    "\n",
    "import random\n",
    "import scipy.stats\n",
    "import os\n",
    "import re\n",
    "\n",
    "from transformers import AutoTokenizer\n",
    "\n",
    "custom_template = dict(\n",
    "    layout=go.Layout(title_font=dict(family=\"Times New Roman\"))\n",
    ")\n",
    "\n",
    "color_map = {'el': '#FEE374',\n",
    "'en': 'black',\n",
    "'es': '#F58A21',\n",
    "'sw': '#40A9ED',\n",
    "'ur': '#99C367',\n",
    "'tr': '#BFB5D7',\n",
    "'ar': '#A9FCFF',\n",
    "'zh': '#B52742',\n",
    "'fr': '#B98446',\n",
    "'th': '#790D7E',\n",
    "'hi': '#1A4F9A',\n",
    "'vi': 'darkred',\n",
    "'bg': 'purple', \n",
    "'ru': '#F23916', \n",
    "'de': '#958F1B',\n",
    "'ja': '#E1308B',\n",
    "'te': '#0C00FB',\n",
    "'bn': '#2C7E80',\n",
    "'it': '#4BC998',\n",
    "'id': '#F9CF5D',\n",
    "'ht': '#6668F7',\n",
    "'ta': '#E46241',\n",
    "'et': '#F69AFD',\n",
    "'qu': '#A661F7',\n",
    "}\n",
    "\n",
    "def get_answered_correct(row):\n",
    "    if row['detected_language'] in row['iso_range']:\n",
    "        return True\n",
    "    else:\n",
    "        return False"
   ]
  },
  {
   "cell_type": "markdown",
   "metadata": {},
   "source": [
    "## Load Language Fidelity,Answer Accuracy and PPL and Tokenization Datasets and merge them"
   ]
  },
  {
   "cell_type": "code",
   "execution_count": 10,
   "metadata": {},
   "outputs": [
    {
     "name": "stdout",
     "output_type": "stream",
     "text": [
      "Loaded Mistral-7B-Instruct-v0.1.csv (27400 rows)\n",
      "Loaded Qwen1.5-7B-Chat.csv (27400 rows)\n",
      "Loaded Llama-2-13b-chat-hf.csv (27400 rows)\n",
      "Loaded Mixtral-8x7B-Instruct-v0.1.csv (27400 rows)\n",
      "Loaded Llama-2-7b-chat-hf.csv (27400 rows)\n"
     ]
    }
   ],
   "source": [
    "df_dict= {}\n",
    "\n",
    "\n",
    "for model in os.listdir(f\"../../../data/model_ppl_and_token_eval/\"):\n",
    "        df_dict[model[:-4]] = pd.read_csv(f\"../../../data/model_ppl_and_token_eval/{model}\", \n",
    "                                          converters={'token_ids': pd.eval, \n",
    "                                                                   'tokens_decoded': pd.eval,\n",
    "                                                                   'token_length': pd.eval\n",
    "                                                                   }\n",
    "                                                                   )\n",
    "        print(f\"Loaded {model} ({len(df_dict[model[:-4]])} rows)\")"
   ]
  },
  {
   "cell_type": "code",
   "execution_count": 11,
   "metadata": {},
   "outputs": [],
   "source": [
    "# Merge iso and input language\n",
    "for model in df_dict:\n",
    "    path = '../../../data/model_language_fidelity/' + str(model) + '.csv'\n",
    "    df_tmp = pd.read_csv(path)\n",
    "    df_tmp = df_tmp[['id', 'language','iso_range','iso_639_3','detected_language', 'input_family', 'output_family']]\n",
    "    df_dict[model] = df_dict[model].merge(df_tmp, on=['id', 'language'])\n"
   ]
  },
  {
   "cell_type": "code",
   "execution_count": 13,
   "metadata": {},
   "outputs": [],
   "source": [
    "# Merge model validation\n",
    "for model in ['Mistral-7B-Instruct-v0.1', 'Qwen1.5-7B-Chat', 'Mixtral-8x7B-Instruct-v0.1', 'Llama-2-7b-chat-hf']:\n",
    "    path = '../../../data/model_answer_accuracy/completions/' + str(model) + '.csv'\n",
    "    df_tmp = pd.read_csv(path)\n",
    "\n",
    "    #  Normalize model answers\n",
    "    def normalize(row):\n",
    "        return_value = 'unknown'\n",
    "        if bool(re.search('^No|no', row['eval_completion'])):\n",
    "            return_value =  'incorrect'\n",
    "        elif bool(re.search('^Yes|yes', row['eval_completion'])):\n",
    "            return_value =  'correct'\n",
    "        elif bool(re.search('correct or incorrect', row['eval_completion'])):\n",
    "            return_value =  'incorrect'\n",
    "        elif bool(re.search('is incorrect', row['eval_completion'])):\n",
    "            return_value =  'incorrect'\n",
    "        elif bool(re.search('is correct', row['eval_completion'])):\n",
    "            return_value =  'correct'\n",
    "        else:\n",
    "            return_value =  'incorrect'\n",
    "        return return_value\n",
    "\n",
    "    df_tmp['eval_completion'] = df_tmp.apply(lambda row: normalize(row), axis=1)\n",
    "    df_tmp = df_tmp[['id', 'language','eval_completion']]\n",
    "    df_dict[model] = df_dict[model].merge(df_tmp, on=['id', 'language'])"
   ]
  },
  {
   "cell_type": "code",
   "execution_count": 15,
   "metadata": {},
   "outputs": [
    {
     "name": "stdout",
     "output_type": "stream",
     "text": [
      "Mistral-7B-Instruct-v0.1\n",
      "Qwen1.5-7B-Chat\n",
      "Llama-2-13b-chat-hf\n",
      "Mixtral-8x7B-Instruct-v0.1\n",
      "Llama-2-7b-chat-hf\n"
     ]
    }
   ],
   "source": [
    "for model in df_dict:\n",
    "    print(model)\n",
    "    df_dict[model]['correct_language'] = df_dict[model].apply(lambda row: get_answered_correct(row), axis = 1)"
   ]
  },
  {
   "cell_type": "markdown",
   "metadata": {},
   "source": [
    "## Plot Perplexity vs. Language Fidelity"
   ]
  },
  {
   "cell_type": "code",
   "execution_count": 18,
   "metadata": {},
   "outputs": [
    {
     "name": "stdout",
     "output_type": "stream",
     "text": [
      "Mistral-7B-Instruct-v0.1\n"
     ]
    },
    {
     "data": {
      "application/vnd.plotly.v1+json": {
       "config": {
        "plotlyServerURL": "https://plot.ly"
       },
       "data": [
        {
         "hovertemplate": "iso_639_3=afr<br>ppl_mean=%{x}<br>correct_language=%{y}<extra></extra>",
         "legendgroup": "afr",
         "marker": {
          "color": "#FFA15A",
          "symbol": "circle"
         },
         "mode": "markers",
         "name": "afr",
         "orientation": "v",
         "showlegend": true,
         "type": "scatter",
         "x": [
          968.1926662921906
         ],
         "xaxis": "x",
         "y": [
          0.04
         ],
         "yaxis": "y"
        },
        {
         "hovertemplate": "iso_639_3=aka<br>ppl_mean=%{x}<br>correct_language=%{y}<extra></extra>",
         "legendgroup": "aka",
         "marker": {
          "color": "#19d3f3",
          "symbol": "circle"
         },
         "mode": "markers",
         "name": "aka",
         "orientation": "v",
         "showlegend": true,
         "type": "scatter",
         "x": [
          2042.9260876846313
         ],
         "xaxis": "x",
         "y": [
          0.48
         ],
         "yaxis": "y"
        },
        {
         "hovertemplate": "iso_639_3=amh<br>ppl_mean=%{x}<br>correct_language=%{y}<extra></extra>",
         "legendgroup": "amh",
         "marker": {
          "color": "#FF6692",
          "symbol": "circle"
         },
         "mode": "markers",
         "name": "amh",
         "orientation": "v",
         "showlegend": true,
         "type": "scatter",
         "x": [
          32.33927087783813
         ],
         "xaxis": "x",
         "y": [
          0.335
         ],
         "yaxis": "y"
        },
        {
         "hovertemplate": "iso_639_3=arb<br>ppl_mean=%{x}<br>correct_language=%{y}<extra></extra>",
         "legendgroup": "arb",
         "marker": {
          "color": "#B6E880",
          "symbol": "circle"
         },
         "mode": "markers",
         "name": "arb",
         "orientation": "v",
         "showlegend": true,
         "type": "scatter",
         "x": [
          107.97173853158951
         ],
         "xaxis": "x",
         "y": [
          0.795
         ],
         "yaxis": "y"
        },
        {
         "hovertemplate": "iso_639_3=asm<br>ppl_mean=%{x}<br>correct_language=%{y}<extra></extra>",
         "legendgroup": "asm",
         "marker": {
          "color": "#FF97FF",
          "symbol": "circle"
         },
         "mode": "markers",
         "name": "asm",
         "orientation": "v",
         "showlegend": true,
         "type": "scatter",
         "x": [
          187.65845900058747
         ],
         "xaxis": "x",
         "y": [
          0.325
         ],
         "yaxis": "y"
        },
        {
         "hovertemplate": "iso_639_3=ayr<br>ppl_mean=%{x}<br>correct_language=%{y}<extra></extra>",
         "legendgroup": "ayr",
         "marker": {
          "color": "#FECB52",
          "symbol": "circle"
         },
         "mode": "markers",
         "name": "ayr",
         "orientation": "v",
         "showlegend": true,
         "type": "scatter",
         "x": [
          2276.5542850494385
         ],
         "xaxis": "x",
         "y": [
          0.535
         ],
         "yaxis": "y"
        },
        {
         "hovertemplate": "iso_639_3=azb<br>ppl_mean=%{x}<br>correct_language=%{y}<extra></extra>",
         "legendgroup": "azb",
         "marker": {
          "color": "#636efa",
          "symbol": "circle"
         },
         "mode": "markers",
         "name": "azb",
         "orientation": "v",
         "showlegend": true,
         "type": "scatter",
         "x": [
          991.8114165973664
         ],
         "xaxis": "x",
         "y": [
          0.46
         ],
         "yaxis": "y"
        },
        {
         "hovertemplate": "iso_639_3=bam<br>ppl_mean=%{x}<br>correct_language=%{y}<extra></extra>",
         "legendgroup": "bam",
         "marker": {
          "color": "#EF553B",
          "symbol": "circle"
         },
         "mode": "markers",
         "name": "bam",
         "orientation": "v",
         "showlegend": true,
         "type": "scatter",
         "x": [
          1898.7953912734986
         ],
         "xaxis": "x",
         "y": [
          0.54
         ],
         "yaxis": "y"
        },
        {
         "hovertemplate": "iso_639_3=bel<br>ppl_mean=%{x}<br>correct_language=%{y}<extra></extra>",
         "legendgroup": "bel",
         "marker": {
          "color": "#00cc96",
          "symbol": "circle"
         },
         "mode": "markers",
         "name": "bel",
         "orientation": "v",
         "showlegend": true,
         "type": "scatter",
         "x": [
          1843.0395010375976
         ],
         "xaxis": "x",
         "y": [
          0.115
         ],
         "yaxis": "y"
        },
        {
         "hovertemplate": "iso_639_3=ben<br>ppl_mean=%{x}<br>correct_language=%{y}<extra></extra>",
         "legendgroup": "ben",
         "marker": {
          "color": "#ab63fa",
          "symbol": "circle"
         },
         "mode": "markers",
         "name": "ben",
         "orientation": "v",
         "showlegend": true,
         "type": "scatter",
         "x": [
          92.170758330822
         ],
         "xaxis": "x",
         "y": [
          0.64
         ],
         "yaxis": "y"
        },
        {
         "hovertemplate": "iso_639_3=bho<br>ppl_mean=%{x}<br>correct_language=%{y}<extra></extra>",
         "legendgroup": "bho",
         "marker": {
          "color": "#FFA15A",
          "symbol": "circle"
         },
         "mode": "markers",
         "name": "bho",
         "orientation": "v",
         "showlegend": true,
         "type": "scatter",
         "x": [
          31.291556327342988
         ],
         "xaxis": "x",
         "y": [
          0.375
         ],
         "yaxis": "y"
        },
        {
         "hovertemplate": "iso_639_3=bos<br>ppl_mean=%{x}<br>correct_language=%{y}<extra></extra>",
         "legendgroup": "bos",
         "marker": {
          "color": "#19d3f3",
          "symbol": "circle"
         },
         "mode": "markers",
         "name": "bos",
         "orientation": "v",
         "showlegend": true,
         "type": "scatter",
         "x": [
          1243.3709590148926
         ],
         "xaxis": "x",
         "y": [
          0.74
         ],
         "yaxis": "y"
        },
        {
         "hovertemplate": "iso_639_3=bul<br>ppl_mean=%{x}<br>correct_language=%{y}<extra></extra>",
         "legendgroup": "bul",
         "marker": {
          "color": "#FF6692",
          "symbol": "circle"
         },
         "mode": "markers",
         "name": "bul",
         "orientation": "v",
         "showlegend": true,
         "type": "scatter",
         "x": [
          666.9550589895248
         ],
         "xaxis": "x",
         "y": [
          0.84
         ],
         "yaxis": "y"
        },
        {
         "hovertemplate": "iso_639_3=cat<br>ppl_mean=%{x}<br>correct_language=%{y}<extra></extra>",
         "legendgroup": "cat",
         "marker": {
          "color": "#B6E880",
          "symbol": "circle"
         },
         "mode": "markers",
         "name": "cat",
         "orientation": "v",
         "showlegend": true,
         "type": "scatter",
         "x": [
          488.0578940224648
         ],
         "xaxis": "x",
         "y": [
          0.885
         ],
         "yaxis": "y"
        },
        {
         "hovertemplate": "iso_639_3=ceb<br>ppl_mean=%{x}<br>correct_language=%{y}<extra></extra>",
         "legendgroup": "ceb",
         "marker": {
          "color": "#FF97FF",
          "symbol": "circle"
         },
         "mode": "markers",
         "name": "ceb",
         "orientation": "v",
         "showlegend": true,
         "type": "scatter",
         "x": [
          1163.8963840866088
         ],
         "xaxis": "x",
         "y": [
          0.44
         ],
         "yaxis": "y"
        },
        {
         "hovertemplate": "iso_639_3=ces<br>ppl_mean=%{x}<br>correct_language=%{y}<extra></extra>",
         "legendgroup": "ces",
         "marker": {
          "color": "#FECB52",
          "symbol": "circle"
         },
         "mode": "markers",
         "name": "ces",
         "orientation": "v",
         "showlegend": true,
         "type": "scatter",
         "x": [
          1002.6730763149261
         ],
         "xaxis": "x",
         "y": [
          0.86
         ],
         "yaxis": "y"
        },
        {
         "hovertemplate": "iso_639_3=ckb<br>ppl_mean=%{x}<br>correct_language=%{y}<extra></extra>",
         "legendgroup": "ckb",
         "marker": {
          "color": "#636efa",
          "symbol": "circle"
         },
         "mode": "markers",
         "name": "ckb",
         "orientation": "v",
         "showlegend": true,
         "type": "scatter",
         "x": [
          1406.2686419820786
         ],
         "xaxis": "x",
         "y": [
          0.6275
         ],
         "yaxis": "y"
        },
        {
         "hovertemplate": "iso_639_3=cos<br>ppl_mean=%{x}<br>correct_language=%{y}<extra></extra>",
         "legendgroup": "cos",
         "marker": {
          "color": "#EF553B",
          "symbol": "circle"
         },
         "mode": "markers",
         "name": "cos",
         "orientation": "v",
         "showlegend": true,
         "type": "scatter",
         "x": [
          1026.098519935608
         ],
         "xaxis": "x",
         "y": [
          0.085
         ],
         "yaxis": "y"
        },
        {
         "hovertemplate": "iso_639_3=cym<br>ppl_mean=%{x}<br>correct_language=%{y}<extra></extra>",
         "legendgroup": "cym",
         "marker": {
          "color": "#00cc96",
          "symbol": "circle"
         },
         "mode": "markers",
         "name": "cym",
         "orientation": "v",
         "showlegend": true,
         "type": "scatter",
         "x": [
          1628.020064277649
         ],
         "xaxis": "x",
         "y": [
          0.695
         ],
         "yaxis": "y"
        },
        {
         "hovertemplate": "iso_639_3=dan<br>ppl_mean=%{x}<br>correct_language=%{y}<extra></extra>",
         "legendgroup": "dan",
         "marker": {
          "color": "#ab63fa",
          "symbol": "circle"
         },
         "mode": "markers",
         "name": "dan",
         "orientation": "v",
         "showlegend": true,
         "type": "scatter",
         "x": [
          360.17408018112184
         ],
         "xaxis": "x",
         "y": [
          0.88
         ],
         "yaxis": "y"
        },
        {
         "hovertemplate": "iso_639_3=deu<br>ppl_mean=%{x}<br>correct_language=%{y}<extra></extra>",
         "legendgroup": "deu",
         "marker": {
          "color": "#FFA15A",
          "symbol": "circle"
         },
         "mode": "markers",
         "name": "deu",
         "orientation": "v",
         "showlegend": true,
         "type": "scatter",
         "x": [
          1214.6374000167846
         ],
         "xaxis": "x",
         "y": [
          0.94
         ],
         "yaxis": "y"
        },
        {
         "hovertemplate": "iso_639_3=dgo<br>ppl_mean=%{x}<br>correct_language=%{y}<extra></extra>",
         "legendgroup": "dgo",
         "marker": {
          "color": "#19d3f3",
          "symbol": "circle"
         },
         "mode": "markers",
         "name": "dgo",
         "orientation": "v",
         "showlegend": true,
         "type": "scatter",
         "x": [
          37.83770073890686
         ],
         "xaxis": "x",
         "y": [
          0
         ],
         "yaxis": "y"
        },
        {
         "hovertemplate": "iso_639_3=div<br>ppl_mean=%{x}<br>correct_language=%{y}<extra></extra>",
         "legendgroup": "div",
         "marker": {
          "color": "#FF6692",
          "symbol": "circle"
         },
         "mode": "markers",
         "name": "div",
         "orientation": "v",
         "showlegend": true,
         "type": "scatter",
         "x": [
          6.705749989748001
         ],
         "xaxis": "x",
         "y": [
          0.79
         ],
         "yaxis": "y"
        },
        {
         "hovertemplate": "iso_639_3=ekk<br>ppl_mean=%{x}<br>correct_language=%{y}<extra></extra>",
         "legendgroup": "ekk",
         "marker": {
          "color": "#B6E880",
          "symbol": "circle"
         },
         "mode": "markers",
         "name": "ekk",
         "orientation": "v",
         "showlegend": true,
         "type": "scatter",
         "x": [
          2672.0971688842774
         ],
         "xaxis": "x",
         "y": [
          0.585
         ],
         "yaxis": "y"
        },
        {
         "hovertemplate": "iso_639_3=ell<br>ppl_mean=%{x}<br>correct_language=%{y}<extra></extra>",
         "legendgroup": "ell",
         "marker": {
          "color": "#FF97FF",
          "symbol": "circle"
         },
         "mode": "markers",
         "name": "ell",
         "orientation": "v",
         "showlegend": true,
         "type": "scatter",
         "x": [
          9.911979148387909
         ],
         "xaxis": "x",
         "y": [
          0.805
         ],
         "yaxis": "y"
        },
        {
         "hovertemplate": "iso_639_3=eng<br>ppl_mean=%{x}<br>correct_language=%{y}<extra></extra>",
         "legendgroup": "eng",
         "marker": {
          "color": "#FECB52",
          "symbol": "circle"
         },
         "mode": "markers",
         "name": "eng",
         "orientation": "v",
         "showlegend": true,
         "type": "scatter",
         "x": [
          117.26532154798508
         ],
         "xaxis": "x",
         "y": [
          0.9
         ],
         "yaxis": "y"
        },
        {
         "hovertemplate": "iso_639_3=epo<br>ppl_mean=%{x}<br>correct_language=%{y}<extra></extra>",
         "legendgroup": "epo",
         "marker": {
          "color": "#636efa",
          "symbol": "circle"
         },
         "mode": "markers",
         "name": "epo",
         "orientation": "v",
         "showlegend": true,
         "type": "scatter",
         "x": [
          1996.7250625801087
         ],
         "xaxis": "x",
         "y": [
          0.605
         ],
         "yaxis": "y"
        },
        {
         "hovertemplate": "iso_639_3=eus<br>ppl_mean=%{x}<br>correct_language=%{y}<extra></extra>",
         "legendgroup": "eus",
         "marker": {
          "color": "#EF553B",
          "symbol": "circle"
         },
         "mode": "markers",
         "name": "eus",
         "orientation": "v",
         "showlegend": true,
         "type": "scatter",
         "x": [
          4041.9002556610108
         ],
         "xaxis": "x",
         "y": [
          0.615
         ],
         "yaxis": "y"
        },
        {
         "hovertemplate": "iso_639_3=ewe<br>ppl_mean=%{x}<br>correct_language=%{y}<extra></extra>",
         "legendgroup": "ewe",
         "marker": {
          "color": "#00cc96",
          "symbol": "circle"
         },
         "mode": "markers",
         "name": "ewe",
         "orientation": "v",
         "showlegend": true,
         "type": "scatter",
         "x": [
          1859.0373430633545
         ],
         "xaxis": "x",
         "y": [
          0.395
         ],
         "yaxis": "y"
        },
        {
         "hovertemplate": "iso_639_3=fin<br>ppl_mean=%{x}<br>correct_language=%{y}<extra></extra>",
         "legendgroup": "fin",
         "marker": {
          "color": "#ab63fa",
          "symbol": "circle"
         },
         "mode": "markers",
         "name": "fin",
         "orientation": "v",
         "showlegend": true,
         "type": "scatter",
         "x": [
          2492.8631253147123
         ],
         "xaxis": "x",
         "y": [
          0.895
         ],
         "yaxis": "y"
        },
        {
         "hovertemplate": "iso_639_3=fra<br>ppl_mean=%{x}<br>correct_language=%{y}<extra></extra>",
         "legendgroup": "fra",
         "marker": {
          "color": "#FFA15A",
          "symbol": "circle"
         },
         "mode": "markers",
         "name": "fra",
         "orientation": "v",
         "showlegend": true,
         "type": "scatter",
         "x": [
          146.9056429862976
         ],
         "xaxis": "x",
         "y": [
          0.955
         ],
         "yaxis": "y"
        },
        {
         "hovertemplate": "iso_639_3=fry<br>ppl_mean=%{x}<br>correct_language=%{y}<extra></extra>",
         "legendgroup": "fry",
         "marker": {
          "color": "#19d3f3",
          "symbol": "circle"
         },
         "mode": "markers",
         "name": "fry",
         "orientation": "v",
         "showlegend": true,
         "type": "scatter",
         "x": [
          2306.6332878685
         ],
         "xaxis": "x",
         "y": [
          0.07
         ],
         "yaxis": "y"
        },
        {
         "hovertemplate": "iso_639_3=gaz<br>ppl_mean=%{x}<br>correct_language=%{y}<extra></extra>",
         "legendgroup": "gaz",
         "marker": {
          "color": "#FF6692",
          "symbol": "circle"
         },
         "mode": "markers",
         "name": "gaz",
         "orientation": "v",
         "showlegend": true,
         "type": "scatter",
         "x": [
          1746.5368754196168
         ],
         "xaxis": "x",
         "y": [
          0.68
         ],
         "yaxis": "y"
        },
        {
         "hovertemplate": "iso_639_3=gla<br>ppl_mean=%{x}<br>correct_language=%{y}<extra></extra>",
         "legendgroup": "gla",
         "marker": {
          "color": "#B6E880",
          "symbol": "circle"
         },
         "mode": "markers",
         "name": "gla",
         "orientation": "v",
         "showlegend": true,
         "type": "scatter",
         "x": [
          1365.3290335273743
         ],
         "xaxis": "x",
         "y": [
          0.655
         ],
         "yaxis": "y"
        },
        {
         "hovertemplate": "iso_639_3=gle<br>ppl_mean=%{x}<br>correct_language=%{y}<extra></extra>",
         "legendgroup": "gle",
         "marker": {
          "color": "#FF97FF",
          "symbol": "circle"
         },
         "mode": "markers",
         "name": "gle",
         "orientation": "v",
         "showlegend": true,
         "type": "scatter",
         "x": [
          5013.001796875
         ],
         "xaxis": "x",
         "y": [
          0.615
         ],
         "yaxis": "y"
        },
        {
         "hovertemplate": "iso_639_3=glg<br>ppl_mean=%{x}<br>correct_language=%{y}<extra></extra>",
         "legendgroup": "glg",
         "marker": {
          "color": "#FECB52",
          "symbol": "circle"
         },
         "mode": "markers",
         "name": "glg",
         "orientation": "v",
         "showlegend": true,
         "type": "scatter",
         "x": [
          1284.7155423545837
         ],
         "xaxis": "x",
         "y": [
          0.065
         ],
         "yaxis": "y"
        },
        {
         "hovertemplate": "iso_639_3=gug<br>ppl_mean=%{x}<br>correct_language=%{y}<extra></extra>",
         "legendgroup": "gug",
         "marker": {
          "color": "#636efa",
          "symbol": "circle"
         },
         "mode": "markers",
         "name": "gug",
         "orientation": "v",
         "showlegend": true,
         "type": "scatter",
         "x": [
          2825.186002807617
         ],
         "xaxis": "x",
         "y": [
          0.18
         ],
         "yaxis": "y"
        },
        {
         "hovertemplate": "iso_639_3=guj<br>ppl_mean=%{x}<br>correct_language=%{y}<extra></extra>",
         "legendgroup": "guj",
         "marker": {
          "color": "#EF553B",
          "symbol": "circle"
         },
         "mode": "markers",
         "name": "guj",
         "orientation": "v",
         "showlegend": true,
         "type": "scatter",
         "x": [
          7.165092599391937
         ],
         "xaxis": "x",
         "y": [
          0.995
         ],
         "yaxis": "y"
        },
        {
         "hovertemplate": "iso_639_3=hat<br>ppl_mean=%{x}<br>correct_language=%{y}<extra></extra>",
         "legendgroup": "hat",
         "marker": {
          "color": "#00cc96",
          "symbol": "circle"
         },
         "mode": "markers",
         "name": "hat",
         "orientation": "v",
         "showlegend": true,
         "type": "scatter",
         "x": [
          4833.034895858765
         ],
         "xaxis": "x",
         "y": [
          0.465
         ],
         "yaxis": "y"
        },
        {
         "hovertemplate": "iso_639_3=hau<br>ppl_mean=%{x}<br>correct_language=%{y}<extra></extra>",
         "legendgroup": "hau",
         "marker": {
          "color": "#ab63fa",
          "symbol": "circle"
         },
         "mode": "markers",
         "name": "hau",
         "orientation": "v",
         "showlegend": true,
         "type": "scatter",
         "x": [
          4876.099713516235
         ],
         "xaxis": "x",
         "y": [
          0.41
         ],
         "yaxis": "y"
        },
        {
         "hovertemplate": "iso_639_3=haw<br>ppl_mean=%{x}<br>correct_language=%{y}<extra></extra>",
         "legendgroup": "haw",
         "marker": {
          "color": "#FFA15A",
          "symbol": "circle"
         },
         "mode": "markers",
         "name": "haw",
         "orientation": "v",
         "showlegend": true,
         "type": "scatter",
         "x": [
          397.88195286750795
         ],
         "xaxis": "x",
         "y": [
          0.39
         ],
         "yaxis": "y"
        },
        {
         "hovertemplate": "iso_639_3=hbs<br>ppl_mean=%{x}<br>correct_language=%{y}<extra></extra>",
         "legendgroup": "hbs",
         "marker": {
          "color": "#19d3f3",
          "symbol": "circle"
         },
         "mode": "markers",
         "name": "hbs",
         "orientation": "v",
         "showlegend": true,
         "type": "scatter",
         "x": [
          1813.715298719406
         ],
         "xaxis": "x",
         "y": [
          0.9
         ],
         "yaxis": "y"
        },
        {
         "hovertemplate": "iso_639_3=heb<br>ppl_mean=%{x}<br>correct_language=%{y}<extra></extra>",
         "legendgroup": "heb",
         "marker": {
          "color": "#FF6692",
          "symbol": "circle"
         },
         "mode": "markers",
         "name": "heb",
         "orientation": "v",
         "showlegend": true,
         "type": "scatter",
         "x": [
          21.834227473735808
         ],
         "xaxis": "x",
         "y": [
          0.9225
         ],
         "yaxis": "y"
        },
        {
         "hovertemplate": "iso_639_3=hin<br>ppl_mean=%{x}<br>correct_language=%{y}<extra></extra>",
         "legendgroup": "hin",
         "marker": {
          "color": "#B6E880",
          "symbol": "circle"
         },
         "mode": "markers",
         "name": "hin",
         "orientation": "v",
         "showlegend": true,
         "type": "scatter",
         "x": [
          12.222110795974732
         ],
         "xaxis": "x",
         "y": [
          0.91
         ],
         "yaxis": "y"
        },
        {
         "hovertemplate": "iso_639_3=hun<br>ppl_mean=%{x}<br>correct_language=%{y}<extra></extra>",
         "legendgroup": "hun",
         "marker": {
          "color": "#FF97FF",
          "symbol": "circle"
         },
         "mode": "markers",
         "name": "hun",
         "orientation": "v",
         "showlegend": true,
         "type": "scatter",
         "x": [
          588.3794647979736
         ],
         "xaxis": "x",
         "y": [
          0.905
         ],
         "yaxis": "y"
        },
        {
         "hovertemplate": "iso_639_3=hye<br>ppl_mean=%{x}<br>correct_language=%{y}<extra></extra>",
         "legendgroup": "hye",
         "marker": {
          "color": "#FECB52",
          "symbol": "circle"
         },
         "mode": "markers",
         "name": "hye",
         "orientation": "v",
         "showlegend": true,
         "type": "scatter",
         "x": [
          20.799433839321136
         ],
         "xaxis": "x",
         "y": [
          0.915
         ],
         "yaxis": "y"
        },
        {
         "hovertemplate": "iso_639_3=ibo<br>ppl_mean=%{x}<br>correct_language=%{y}<extra></extra>",
         "legendgroup": "ibo",
         "marker": {
          "color": "#636efa",
          "symbol": "circle"
         },
         "mode": "markers",
         "name": "ibo",
         "orientation": "v",
         "showlegend": true,
         "type": "scatter",
         "x": [
          1257.8980141448974
         ],
         "xaxis": "x",
         "y": [
          0.745
         ],
         "yaxis": "y"
        },
        {
         "hovertemplate": "iso_639_3=ilo<br>ppl_mean=%{x}<br>correct_language=%{y}<extra></extra>",
         "legendgroup": "ilo",
         "marker": {
          "color": "#EF553B",
          "symbol": "circle"
         },
         "mode": "markers",
         "name": "ilo",
         "orientation": "v",
         "showlegend": true,
         "type": "scatter",
         "x": [
          2004.6072334289552
         ],
         "xaxis": "x",
         "y": [
          0.465
         ],
         "yaxis": "y"
        },
        {
         "hovertemplate": "iso_639_3=ind<br>ppl_mean=%{x}<br>correct_language=%{y}<extra></extra>",
         "legendgroup": "ind",
         "marker": {
          "color": "#00cc96",
          "symbol": "circle"
         },
         "mode": "markers",
         "name": "ind",
         "orientation": "v",
         "showlegend": true,
         "type": "scatter",
         "x": [
          214.90485144138336
         ],
         "xaxis": "x",
         "y": [
          0.885
         ],
         "yaxis": "y"
        },
        {
         "hovertemplate": "iso_639_3=isl<br>ppl_mean=%{x}<br>correct_language=%{y}<extra></extra>",
         "legendgroup": "isl",
         "marker": {
          "color": "#ab63fa",
          "symbol": "circle"
         },
         "mode": "markers",
         "name": "isl",
         "orientation": "v",
         "showlegend": true,
         "type": "scatter",
         "x": [
          474.22912684440615
         ],
         "xaxis": "x",
         "y": [
          0.745
         ],
         "yaxis": "y"
        },
        {
         "hovertemplate": "iso_639_3=ita<br>ppl_mean=%{x}<br>correct_language=%{y}<extra></extra>",
         "legendgroup": "ita",
         "marker": {
          "color": "#FFA15A",
          "symbol": "circle"
         },
         "mode": "markers",
         "name": "ita",
         "orientation": "v",
         "showlegend": true,
         "type": "scatter",
         "x": [
          317.3235853385925
         ],
         "xaxis": "x",
         "y": [
          0.915
         ],
         "yaxis": "y"
        },
        {
         "hovertemplate": "iso_639_3=jav<br>ppl_mean=%{x}<br>correct_language=%{y}<extra></extra>",
         "legendgroup": "jav",
         "marker": {
          "color": "#19d3f3",
          "symbol": "circle"
         },
         "mode": "markers",
         "name": "jav",
         "orientation": "v",
         "showlegend": true,
         "type": "scatter",
         "x": [
          1293.0087142944335
         ],
         "xaxis": "x",
         "y": [
          0.24
         ],
         "yaxis": "y"
        },
        {
         "hovertemplate": "iso_639_3=jpn<br>ppl_mean=%{x}<br>correct_language=%{y}<extra></extra>",
         "legendgroup": "jpn",
         "marker": {
          "color": "#FF6692",
          "symbol": "circle"
         },
         "mode": "markers",
         "name": "jpn",
         "orientation": "v",
         "showlegend": true,
         "type": "scatter",
         "x": [
          58.535118131637574
         ],
         "xaxis": "x",
         "y": [
          0.98
         ],
         "yaxis": "y"
        },
        {
         "hovertemplate": "iso_639_3=kan<br>ppl_mean=%{x}<br>correct_language=%{y}<extra></extra>",
         "legendgroup": "kan",
         "marker": {
          "color": "#B6E880",
          "symbol": "circle"
         },
         "mode": "markers",
         "name": "kan",
         "orientation": "v",
         "showlegend": true,
         "type": "scatter",
         "x": [
          14.962436513900757
         ],
         "xaxis": "x",
         "y": [
          0.965
         ],
         "yaxis": "y"
        },
        {
         "hovertemplate": "iso_639_3=kat<br>ppl_mean=%{x}<br>correct_language=%{y}<extra></extra>",
         "legendgroup": "kat",
         "marker": {
          "color": "#FF97FF",
          "symbol": "circle"
         },
         "mode": "markers",
         "name": "kat",
         "orientation": "v",
         "showlegend": true,
         "type": "scatter",
         "x": [
          971.4510410404205
         ],
         "xaxis": "x",
         "y": [
          0.41
         ],
         "yaxis": "y"
        },
        {
         "hovertemplate": "iso_639_3=kaz<br>ppl_mean=%{x}<br>correct_language=%{y}<extra></extra>",
         "legendgroup": "kaz",
         "marker": {
          "color": "#FECB52",
          "symbol": "circle"
         },
         "mode": "markers",
         "name": "kaz",
         "orientation": "v",
         "showlegend": true,
         "type": "scatter",
         "x": [
          2381.568350582123
         ],
         "xaxis": "x",
         "y": [
          0.67
         ],
         "yaxis": "y"
        },
        {
         "hovertemplate": "iso_639_3=khm<br>ppl_mean=%{x}<br>correct_language=%{y}<extra></extra>",
         "legendgroup": "khm",
         "marker": {
          "color": "#636efa",
          "symbol": "circle"
         },
         "mode": "markers",
         "name": "khm",
         "orientation": "v",
         "showlegend": true,
         "type": "scatter",
         "x": [
          129.01471101760865
         ],
         "xaxis": "x",
         "y": [
          0.085
         ],
         "yaxis": "y"
        },
        {
         "hovertemplate": "iso_639_3=kin<br>ppl_mean=%{x}<br>correct_language=%{y}<extra></extra>",
         "legendgroup": "kin",
         "marker": {
          "color": "#EF553B",
          "symbol": "circle"
         },
         "mode": "markers",
         "name": "kin",
         "orientation": "v",
         "showlegend": true,
         "type": "scatter",
         "x": [
          1455.6706118392945
         ],
         "xaxis": "x",
         "y": [
          0.37
         ],
         "yaxis": "y"
        },
        {
         "hovertemplate": "iso_639_3=kir<br>ppl_mean=%{x}<br>correct_language=%{y}<extra></extra>",
         "legendgroup": "kir",
         "marker": {
          "color": "#00cc96",
          "symbol": "circle"
         },
         "mode": "markers",
         "name": "kir",
         "orientation": "v",
         "showlegend": true,
         "type": "scatter",
         "x": [
          11250.073827896118
         ],
         "xaxis": "x",
         "y": [
          0.57
         ],
         "yaxis": "y"
        },
        {
         "hovertemplate": "iso_639_3=knn<br>ppl_mean=%{x}<br>correct_language=%{y}<extra></extra>",
         "legendgroup": "knn",
         "marker": {
          "color": "#ab63fa",
          "symbol": "circle"
         },
         "mode": "markers",
         "name": "knn",
         "orientation": "v",
         "showlegend": true,
         "type": "scatter",
         "x": [
          39.36402284622192
         ],
         "xaxis": "x",
         "y": [
          0
         ],
         "yaxis": "y"
        },
        {
         "hovertemplate": "iso_639_3=kor<br>ppl_mean=%{x}<br>correct_language=%{y}<extra></extra>",
         "legendgroup": "kor",
         "marker": {
          "color": "#FFA15A",
          "symbol": "circle"
         },
         "mode": "markers",
         "name": "kor",
         "orientation": "v",
         "showlegend": true,
         "type": "scatter",
         "x": [
          17.690493552684785
         ],
         "xaxis": "x",
         "y": [
          1
         ],
         "yaxis": "y"
        },
        {
         "hovertemplate": "iso_639_3=kri<br>ppl_mean=%{x}<br>correct_language=%{y}<extra></extra>",
         "legendgroup": "kri",
         "marker": {
          "color": "#19d3f3",
          "symbol": "circle"
         },
         "mode": "markers",
         "name": "kri",
         "orientation": "v",
         "showlegend": true,
         "type": "scatter",
         "x": [
          1148.1379587173462
         ],
         "xaxis": "x",
         "y": [
          0.315
         ],
         "yaxis": "y"
        },
        {
         "hovertemplate": "iso_639_3=lao<br>ppl_mean=%{x}<br>correct_language=%{y}<extra></extra>",
         "legendgroup": "lao",
         "marker": {
          "color": "#FF6692",
          "symbol": "circle"
         },
         "mode": "markers",
         "name": "lao",
         "orientation": "v",
         "showlegend": true,
         "type": "scatter",
         "x": [
          10.774639081954955
         ],
         "xaxis": "x",
         "y": [
          0.61
         ],
         "yaxis": "y"
        },
        {
         "hovertemplate": "iso_639_3=lat<br>ppl_mean=%{x}<br>correct_language=%{y}<extra></extra>",
         "legendgroup": "lat",
         "marker": {
          "color": "#B6E880",
          "symbol": "circle"
         },
         "mode": "markers",
         "name": "lat",
         "orientation": "v",
         "showlegend": true,
         "type": "scatter",
         "x": [
          728.0894215774537
         ],
         "xaxis": "x",
         "y": [
          0.22
         ],
         "yaxis": "y"
        },
        {
         "hovertemplate": "iso_639_3=lav<br>ppl_mean=%{x}<br>correct_language=%{y}<extra></extra>",
         "legendgroup": "lav",
         "marker": {
          "color": "#FF97FF",
          "symbol": "circle"
         },
         "mode": "markers",
         "name": "lav",
         "orientation": "v",
         "showlegend": true,
         "type": "scatter",
         "x": [
          2757.4244186878204
         ],
         "xaxis": "x",
         "y": [
          0.675
         ],
         "yaxis": "y"
        },
        {
         "hovertemplate": "iso_639_3=lin<br>ppl_mean=%{x}<br>correct_language=%{y}<extra></extra>",
         "legendgroup": "lin",
         "marker": {
          "color": "#FECB52",
          "symbol": "circle"
         },
         "mode": "markers",
         "name": "lin",
         "orientation": "v",
         "showlegend": true,
         "type": "scatter",
         "x": [
          1450.963724708557
         ],
         "xaxis": "x",
         "y": [
          0.665
         ],
         "yaxis": "y"
        },
        {
         "hovertemplate": "iso_639_3=lit<br>ppl_mean=%{x}<br>correct_language=%{y}<extra></extra>",
         "legendgroup": "lit",
         "marker": {
          "color": "#636efa",
          "symbol": "circle"
         },
         "mode": "markers",
         "name": "lit",
         "orientation": "v",
         "showlegend": true,
         "type": "scatter",
         "x": [
          2148.092778635025
         ],
         "xaxis": "x",
         "y": [
          0.785
         ],
         "yaxis": "y"
        },
        {
         "hovertemplate": "iso_639_3=ltz<br>ppl_mean=%{x}<br>correct_language=%{y}<extra></extra>",
         "legendgroup": "ltz",
         "marker": {
          "color": "#EF553B",
          "symbol": "circle"
         },
         "mode": "markers",
         "name": "ltz",
         "orientation": "v",
         "showlegend": true,
         "type": "scatter",
         "x": [
          9820.123722801209
         ],
         "xaxis": "x",
         "y": [
          0.16
         ],
         "yaxis": "y"
        },
        {
         "hovertemplate": "iso_639_3=lug<br>ppl_mean=%{x}<br>correct_language=%{y}<extra></extra>",
         "legendgroup": "lug",
         "marker": {
          "color": "#00cc96",
          "symbol": "circle"
         },
         "mode": "markers",
         "name": "lug",
         "orientation": "v",
         "showlegend": true,
         "type": "scatter",
         "x": [
          1802.3002321243287
         ],
         "xaxis": "x",
         "y": [
          0.745
         ],
         "yaxis": "y"
        },
        {
         "hovertemplate": "iso_639_3=lus<br>ppl_mean=%{x}<br>correct_language=%{y}<extra></extra>",
         "legendgroup": "lus",
         "marker": {
          "color": "#ab63fa",
          "symbol": "circle"
         },
         "mode": "markers",
         "name": "lus",
         "orientation": "v",
         "showlegend": true,
         "type": "scatter",
         "x": [
          2411.768627471924
         ],
         "xaxis": "x",
         "y": [
          0.315
         ],
         "yaxis": "y"
        },
        {
         "hovertemplate": "iso_639_3=mai<br>ppl_mean=%{x}<br>correct_language=%{y}<extra></extra>",
         "legendgroup": "mai",
         "marker": {
          "color": "#FFA15A",
          "symbol": "circle"
         },
         "mode": "markers",
         "name": "mai",
         "orientation": "v",
         "showlegend": true,
         "type": "scatter",
         "x": [
          34.76386467695236
         ],
         "xaxis": "x",
         "y": [
          0.33
         ],
         "yaxis": "y"
        },
        {
         "hovertemplate": "iso_639_3=mal<br>ppl_mean=%{x}<br>correct_language=%{y}<extra></extra>",
         "legendgroup": "mal",
         "marker": {
          "color": "#19d3f3",
          "symbol": "circle"
         },
         "mode": "markers",
         "name": "mal",
         "orientation": "v",
         "showlegend": true,
         "type": "scatter",
         "x": [
          5.299562165737152
         ],
         "xaxis": "x",
         "y": [
          1
         ],
         "yaxis": "y"
        },
        {
         "hovertemplate": "iso_639_3=mar<br>ppl_mean=%{x}<br>correct_language=%{y}<extra></extra>",
         "legendgroup": "mar",
         "marker": {
          "color": "#FF6692",
          "symbol": "circle"
         },
         "mode": "markers",
         "name": "mar",
         "orientation": "v",
         "showlegend": true,
         "type": "scatter",
         "x": [
          27.03562554836273
         ],
         "xaxis": "x",
         "y": [
          0.745
         ],
         "yaxis": "y"
        },
        {
         "hovertemplate": "iso_639_3=mkd<br>ppl_mean=%{x}<br>correct_language=%{y}<extra></extra>",
         "legendgroup": "mkd",
         "marker": {
          "color": "#B6E880",
          "symbol": "circle"
         },
         "mode": "markers",
         "name": "mkd",
         "orientation": "v",
         "showlegend": true,
         "type": "scatter",
         "x": [
          1262.9121194076538
         ],
         "xaxis": "x",
         "y": [
          0.235
         ],
         "yaxis": "y"
        },
        {
         "hovertemplate": "iso_639_3=mlt<br>ppl_mean=%{x}<br>correct_language=%{y}<extra></extra>",
         "legendgroup": "mlt",
         "marker": {
          "color": "#FF97FF",
          "symbol": "circle"
         },
         "mode": "markers",
         "name": "mlt",
         "orientation": "v",
         "showlegend": true,
         "type": "scatter",
         "x": [
          1379.6658771896361
         ],
         "xaxis": "x",
         "y": [
          0.655
         ],
         "yaxis": "y"
        },
        {
         "hovertemplate": "iso_639_3=mni<br>ppl_mean=%{x}<br>correct_language=%{y}<extra></extra>",
         "legendgroup": "mni",
         "marker": {
          "color": "#FECB52",
          "symbol": "circle"
         },
         "mode": "markers",
         "name": "mni",
         "orientation": "v",
         "showlegend": true,
         "type": "scatter",
         "x": [
          6.726092242002487
         ],
         "xaxis": "x",
         "y": [
          0
         ],
         "yaxis": "y"
        },
        {
         "hovertemplate": "iso_639_3=mon<br>ppl_mean=%{x}<br>correct_language=%{y}<extra></extra>",
         "legendgroup": "mon",
         "marker": {
          "color": "#636efa",
          "symbol": "circle"
         },
         "mode": "markers",
         "name": "mon",
         "orientation": "v",
         "showlegend": true,
         "type": "scatter",
         "x": [
          1824.2463407230377
         ],
         "xaxis": "x",
         "y": [
          0.695
         ],
         "yaxis": "y"
        },
        {
         "hovertemplate": "iso_639_3=mri<br>ppl_mean=%{x}<br>correct_language=%{y}<extra></extra>",
         "legendgroup": "mri",
         "marker": {
          "color": "#EF553B",
          "symbol": "circle"
         },
         "mode": "markers",
         "name": "mri",
         "orientation": "v",
         "showlegend": true,
         "type": "scatter",
         "x": [
          312.34262331962583
         ],
         "xaxis": "x",
         "y": [
          0.65
         ],
         "yaxis": "y"
        },
        {
         "hovertemplate": "iso_639_3=mww<br>ppl_mean=%{x}<br>correct_language=%{y}<extra></extra>",
         "legendgroup": "mww",
         "marker": {
          "color": "#00cc96",
          "symbol": "circle"
         },
         "mode": "markers",
         "name": "mww",
         "orientation": "v",
         "showlegend": true,
         "type": "scatter",
         "x": [
          1633.5822677612305
         ],
         "xaxis": "x",
         "y": [
          0.465
         ],
         "yaxis": "y"
        },
        {
         "hovertemplate": "iso_639_3=mya<br>ppl_mean=%{x}<br>correct_language=%{y}<extra></extra>",
         "legendgroup": "mya",
         "marker": {
          "color": "#ab63fa",
          "symbol": "circle"
         },
         "mode": "markers",
         "name": "mya",
         "orientation": "v",
         "showlegend": true,
         "type": "scatter",
         "x": [
          25.324043464660644
         ],
         "xaxis": "x",
         "y": [
          0.04
         ],
         "yaxis": "y"
        },
        {
         "hovertemplate": "iso_639_3=nld<br>ppl_mean=%{x}<br>correct_language=%{y}<extra></extra>",
         "legendgroup": "nld",
         "marker": {
          "color": "#FFA15A",
          "symbol": "circle"
         },
         "mode": "markers",
         "name": "nld",
         "orientation": "v",
         "showlegend": true,
         "type": "scatter",
         "x": [
          306.0013713169098
         ],
         "xaxis": "x",
         "y": [
          0.94
         ],
         "yaxis": "y"
        },
        {
         "hovertemplate": "iso_639_3=nor<br>ppl_mean=%{x}<br>correct_language=%{y}<extra></extra>",
         "legendgroup": "nor",
         "marker": {
          "color": "#19d3f3",
          "symbol": "circle"
         },
         "mode": "markers",
         "name": "nor",
         "orientation": "v",
         "showlegend": true,
         "type": "scatter",
         "x": [
          528.9392101049423
         ],
         "xaxis": "x",
         "y": [
          0.43
         ],
         "yaxis": "y"
        },
        {
         "hovertemplate": "iso_639_3=npi<br>ppl_mean=%{x}<br>correct_language=%{y}<extra></extra>",
         "legendgroup": "npi",
         "marker": {
          "color": "#FF6692",
          "symbol": "circle"
         },
         "mode": "markers",
         "name": "npi",
         "orientation": "v",
         "showlegend": true,
         "type": "scatter",
         "x": [
          27.099199600219727
         ],
         "xaxis": "x",
         "y": [
          0.395
         ],
         "yaxis": "y"
        },
        {
         "hovertemplate": "iso_639_3=nso<br>ppl_mean=%{x}<br>correct_language=%{y}<extra></extra>",
         "legendgroup": "nso",
         "marker": {
          "color": "#B6E880",
          "symbol": "circle"
         },
         "mode": "markers",
         "name": "nso",
         "orientation": "v",
         "showlegend": true,
         "type": "scatter",
         "x": [
          4428.194246826172
         ],
         "xaxis": "x",
         "y": [
          0.71
         ],
         "yaxis": "y"
        },
        {
         "hovertemplate": "iso_639_3=nya<br>ppl_mean=%{x}<br>correct_language=%{y}<extra></extra>",
         "legendgroup": "nya",
         "marker": {
          "color": "#FF97FF",
          "symbol": "circle"
         },
         "mode": "markers",
         "name": "nya",
         "orientation": "v",
         "showlegend": true,
         "type": "scatter",
         "x": [
          1530.3912042999268
         ],
         "xaxis": "x",
         "y": [
          0.855
         ],
         "yaxis": "y"
        },
        {
         "hovertemplate": "iso_639_3=ory<br>ppl_mean=%{x}<br>correct_language=%{y}<extra></extra>",
         "legendgroup": "ory",
         "marker": {
          "color": "#FECB52",
          "symbol": "circle"
         },
         "mode": "markers",
         "name": "ory",
         "orientation": "v",
         "showlegend": true,
         "type": "scatter",
         "x": [
          11.642615805864335
         ],
         "xaxis": "x",
         "y": [
          0.225
         ],
         "yaxis": "y"
        },
        {
         "hovertemplate": "iso_639_3=pan<br>ppl_mean=%{x}<br>correct_language=%{y}<extra></extra>",
         "legendgroup": "pan",
         "marker": {
          "color": "#636efa",
          "symbol": "circle"
         },
         "mode": "markers",
         "name": "pan",
         "orientation": "v",
         "showlegend": true,
         "type": "scatter",
         "x": [
          5.454465863704681
         ],
         "xaxis": "x",
         "y": [
          0.955
         ],
         "yaxis": "y"
        },
        {
         "hovertemplate": "iso_639_3=pes<br>ppl_mean=%{x}<br>correct_language=%{y}<extra></extra>",
         "legendgroup": "pes",
         "marker": {
          "color": "#EF553B",
          "symbol": "circle"
         },
         "mode": "markers",
         "name": "pes",
         "orientation": "v",
         "showlegend": true,
         "type": "scatter",
         "x": [
          152.59472704410553
         ],
         "xaxis": "x",
         "y": [
          0.555
         ],
         "yaxis": "y"
        },
        {
         "hovertemplate": "iso_639_3=plt<br>ppl_mean=%{x}<br>correct_language=%{y}<extra></extra>",
         "legendgroup": "plt",
         "marker": {
          "color": "#00cc96",
          "symbol": "circle"
         },
         "mode": "markers",
         "name": "plt",
         "orientation": "v",
         "showlegend": true,
         "type": "scatter",
         "x": [
          2974.179316482544
         ],
         "xaxis": "x",
         "y": [
          0.54
         ],
         "yaxis": "y"
        },
        {
         "hovertemplate": "iso_639_3=pol<br>ppl_mean=%{x}<br>correct_language=%{y}<extra></extra>",
         "legendgroup": "pol",
         "marker": {
          "color": "#ab63fa",
          "symbol": "circle"
         },
         "mode": "markers",
         "name": "pol",
         "orientation": "v",
         "showlegend": true,
         "type": "scatter",
         "x": [
          279.60537029266357
         ],
         "xaxis": "x",
         "y": [
          0.79
         ],
         "yaxis": "y"
        },
        {
         "hovertemplate": "iso_639_3=por<br>ppl_mean=%{x}<br>correct_language=%{y}<extra></extra>",
         "legendgroup": "por",
         "marker": {
          "color": "#FFA15A",
          "symbol": "circle"
         },
         "mode": "markers",
         "name": "por",
         "orientation": "v",
         "showlegend": true,
         "type": "scatter",
         "x": [
          194.66478923797607
         ],
         "xaxis": "x",
         "y": [
          0.95
         ],
         "yaxis": "y"
        },
        {
         "hovertemplate": "iso_639_3=pst<br>ppl_mean=%{x}<br>correct_language=%{y}<extra></extra>",
         "legendgroup": "pst",
         "marker": {
          "color": "#19d3f3",
          "symbol": "circle"
         },
         "mode": "markers",
         "name": "pst",
         "orientation": "v",
         "showlegend": true,
         "type": "scatter",
         "x": [
          123.6727949666977
         ],
         "xaxis": "x",
         "y": [
          0.53
         ],
         "yaxis": "y"
        },
        {
         "hovertemplate": "iso_639_3=quh<br>ppl_mean=%{x}<br>correct_language=%{y}<extra></extra>",
         "legendgroup": "quh",
         "marker": {
          "color": "#FF6692",
          "symbol": "circle"
         },
         "mode": "markers",
         "name": "quh",
         "orientation": "v",
         "showlegend": true,
         "type": "scatter",
         "x": [
          2201.1394681167603
         ],
         "xaxis": "x",
         "y": [
          0.59
         ],
         "yaxis": "y"
        },
        {
         "hovertemplate": "iso_639_3=ron<br>ppl_mean=%{x}<br>correct_language=%{y}<extra></extra>",
         "legendgroup": "ron",
         "marker": {
          "color": "#B6E880",
          "symbol": "circle"
         },
         "mode": "markers",
         "name": "ron",
         "orientation": "v",
         "showlegend": true,
         "type": "scatter",
         "x": [
          1080.069910926819
         ],
         "xaxis": "x",
         "y": [
          0.88
         ],
         "yaxis": "y"
        },
        {
         "hovertemplate": "iso_639_3=rus<br>ppl_mean=%{x}<br>correct_language=%{y}<extra></extra>",
         "legendgroup": "rus",
         "marker": {
          "color": "#FF97FF",
          "symbol": "circle"
         },
         "mode": "markers",
         "name": "rus",
         "orientation": "v",
         "showlegend": true,
         "type": "scatter",
         "x": [
          170.19838073253632
         ],
         "xaxis": "x",
         "y": [
          0.88
         ],
         "yaxis": "y"
        },
        {
         "hovertemplate": "iso_639_3=san<br>ppl_mean=%{x}<br>correct_language=%{y}<extra></extra>",
         "legendgroup": "san",
         "marker": {
          "color": "#FECB52",
          "symbol": "circle"
         },
         "mode": "markers",
         "name": "san",
         "orientation": "v",
         "showlegend": true,
         "type": "scatter",
         "x": [
          19.087808356285095
         ],
         "xaxis": "x",
         "y": [
          0.42
         ],
         "yaxis": "y"
        },
        {
         "hovertemplate": "iso_639_3=sin<br>ppl_mean=%{x}<br>correct_language=%{y}<extra></extra>",
         "legendgroup": "sin",
         "marker": {
          "color": "#636efa",
          "symbol": "circle"
         },
         "mode": "markers",
         "name": "sin",
         "orientation": "v",
         "showlegend": true,
         "type": "scatter",
         "x": [
          12.731917297840118
         ],
         "xaxis": "x",
         "y": [
          0.99
         ],
         "yaxis": "y"
        },
        {
         "hovertemplate": "iso_639_3=slk<br>ppl_mean=%{x}<br>correct_language=%{y}<extra></extra>",
         "legendgroup": "slk",
         "marker": {
          "color": "#EF553B",
          "symbol": "circle"
         },
         "mode": "markers",
         "name": "slk",
         "orientation": "v",
         "showlegend": true,
         "type": "scatter",
         "x": [
          1015.3758867931366
         ],
         "xaxis": "x",
         "y": [
          0.425
         ],
         "yaxis": "y"
        },
        {
         "hovertemplate": "iso_639_3=slv<br>ppl_mean=%{x}<br>correct_language=%{y}<extra></extra>",
         "legendgroup": "slv",
         "marker": {
          "color": "#00cc96",
          "symbol": "circle"
         },
         "mode": "markers",
         "name": "slv",
         "orientation": "v",
         "showlegend": true,
         "type": "scatter",
         "x": [
          773.1289355230332
         ],
         "xaxis": "x",
         "y": [
          0.815
         ],
         "yaxis": "y"
        },
        {
         "hovertemplate": "iso_639_3=smo<br>ppl_mean=%{x}<br>correct_language=%{y}<extra></extra>",
         "legendgroup": "smo",
         "marker": {
          "color": "#ab63fa",
          "symbol": "circle"
         },
         "mode": "markers",
         "name": "smo",
         "orientation": "v",
         "showlegend": true,
         "type": "scatter",
         "x": [
          1055.2340663146972
         ],
         "xaxis": "x",
         "y": [
          0.71
         ],
         "yaxis": "y"
        },
        {
         "hovertemplate": "iso_639_3=sna<br>ppl_mean=%{x}<br>correct_language=%{y}<extra></extra>",
         "legendgroup": "sna",
         "marker": {
          "color": "#FFA15A",
          "symbol": "circle"
         },
         "mode": "markers",
         "name": "sna",
         "orientation": "v",
         "showlegend": true,
         "type": "scatter",
         "x": [
          1512.5023441314697
         ],
         "xaxis": "x",
         "y": [
          0.65
         ],
         "yaxis": "y"
        },
        {
         "hovertemplate": "iso_639_3=snd<br>ppl_mean=%{x}<br>correct_language=%{y}<extra></extra>",
         "legendgroup": "snd",
         "marker": {
          "color": "#19d3f3",
          "symbol": "circle"
         },
         "mode": "markers",
         "name": "snd",
         "orientation": "v",
         "showlegend": true,
         "type": "scatter",
         "x": [
          211.8526560974121
         ],
         "xaxis": "x",
         "y": [
          0.24
         ],
         "yaxis": "y"
        },
        {
         "hovertemplate": "iso_639_3=som<br>ppl_mean=%{x}<br>correct_language=%{y}<extra></extra>",
         "legendgroup": "som",
         "marker": {
          "color": "#FF6692",
          "symbol": "circle"
         },
         "mode": "markers",
         "name": "som",
         "orientation": "v",
         "showlegend": true,
         "type": "scatter",
         "x": [
          1707.461116104126
         ],
         "xaxis": "x",
         "y": [
          0.695
         ],
         "yaxis": "y"
        },
        {
         "hovertemplate": "iso_639_3=sot<br>ppl_mean=%{x}<br>correct_language=%{y}<extra></extra>",
         "legendgroup": "sot",
         "marker": {
          "color": "#B6E880",
          "symbol": "circle"
         },
         "mode": "markers",
         "name": "sot",
         "orientation": "v",
         "showlegend": true,
         "type": "scatter",
         "x": [
          3926.159341697693
         ],
         "xaxis": "x",
         "y": [
          0.71
         ],
         "yaxis": "y"
        },
        {
         "hovertemplate": "iso_639_3=spa<br>ppl_mean=%{x}<br>correct_language=%{y}<extra></extra>",
         "legendgroup": "spa",
         "marker": {
          "color": "#FF97FF",
          "symbol": "circle"
         },
         "mode": "markers",
         "name": "spa",
         "orientation": "v",
         "showlegend": true,
         "type": "scatter",
         "x": [
          83.76707849979401
         ],
         "xaxis": "x",
         "y": [
          0.94
         ],
         "yaxis": "y"
        },
        {
         "hovertemplate": "iso_639_3=sqi<br>ppl_mean=%{x}<br>correct_language=%{y}<extra></extra>",
         "legendgroup": "sqi",
         "marker": {
          "color": "#FECB52",
          "symbol": "circle"
         },
         "mode": "markers",
         "name": "sqi",
         "orientation": "v",
         "showlegend": true,
         "type": "scatter",
         "x": [
          550.406777086258
         ],
         "xaxis": "x",
         "y": [
          0.86
         ],
         "yaxis": "y"
        },
        {
         "hovertemplate": "iso_639_3=sun<br>ppl_mean=%{x}<br>correct_language=%{y}<extra></extra>",
         "legendgroup": "sun",
         "marker": {
          "color": "#636efa",
          "symbol": "circle"
         },
         "mode": "markers",
         "name": "sun",
         "orientation": "v",
         "showlegend": true,
         "type": "scatter",
         "x": [
          3531.1638277435304
         ],
         "xaxis": "x",
         "y": [
          0.425
         ],
         "yaxis": "y"
        },
        {
         "hovertemplate": "iso_639_3=swe<br>ppl_mean=%{x}<br>correct_language=%{y}<extra></extra>",
         "legendgroup": "swe",
         "marker": {
          "color": "#EF553B",
          "symbol": "circle"
         },
         "mode": "markers",
         "name": "swe",
         "orientation": "v",
         "showlegend": true,
         "type": "scatter",
         "x": [
          625.2322789955139
         ],
         "xaxis": "x",
         "y": [
          0.91
         ],
         "yaxis": "y"
        },
        {
         "hovertemplate": "iso_639_3=swh<br>ppl_mean=%{x}<br>correct_language=%{y}<extra></extra>",
         "legendgroup": "swh",
         "marker": {
          "color": "#00cc96",
          "symbol": "circle"
         },
         "mode": "markers",
         "name": "swh",
         "orientation": "v",
         "showlegend": true,
         "type": "scatter",
         "x": [
          907.6203826904297
         ],
         "xaxis": "x",
         "y": [
          0.69
         ],
         "yaxis": "y"
        },
        {
         "hovertemplate": "iso_639_3=tam<br>ppl_mean=%{x}<br>correct_language=%{y}<extra></extra>",
         "legendgroup": "tam",
         "marker": {
          "color": "#ab63fa",
          "symbol": "circle"
         },
         "mode": "markers",
         "name": "tam",
         "orientation": "v",
         "showlegend": true,
         "type": "scatter",
         "x": [
          13.202213382720947
         ],
         "xaxis": "x",
         "y": [
          1
         ],
         "yaxis": "y"
        },
        {
         "hovertemplate": "iso_639_3=tat<br>ppl_mean=%{x}<br>correct_language=%{y}<extra></extra>",
         "legendgroup": "tat",
         "marker": {
          "color": "#FFA15A",
          "symbol": "circle"
         },
         "mode": "markers",
         "name": "tat",
         "orientation": "v",
         "showlegend": true,
         "type": "scatter",
         "x": [
          1593.4037222099305
         ],
         "xaxis": "x",
         "y": [
          0.555
         ],
         "yaxis": "y"
        },
        {
         "hovertemplate": "iso_639_3=tel<br>ppl_mean=%{x}<br>correct_language=%{y}<extra></extra>",
         "legendgroup": "tel",
         "marker": {
          "color": "#19d3f3",
          "symbol": "circle"
         },
         "mode": "markers",
         "name": "tel",
         "orientation": "v",
         "showlegend": true,
         "type": "scatter",
         "x": [
          10.058476896286011
         ],
         "xaxis": "x",
         "y": [
          0.955
         ],
         "yaxis": "y"
        },
        {
         "hovertemplate": "iso_639_3=tgk<br>ppl_mean=%{x}<br>correct_language=%{y}<extra></extra>",
         "legendgroup": "tgk",
         "marker": {
          "color": "#FF6692",
          "symbol": "circle"
         },
         "mode": "markers",
         "name": "tgk",
         "orientation": "v",
         "showlegend": true,
         "type": "scatter",
         "x": [
          6962.670080337524
         ],
         "xaxis": "x",
         "y": [
          0.525
         ],
         "yaxis": "y"
        },
        {
         "hovertemplate": "iso_639_3=tgl<br>ppl_mean=%{x}<br>correct_language=%{y}<extra></extra>",
         "legendgroup": "tgl",
         "marker": {
          "color": "#B6E880",
          "symbol": "circle"
         },
         "mode": "markers",
         "name": "tgl",
         "orientation": "v",
         "showlegend": true,
         "type": "scatter",
         "x": [
          505.6835535526276
         ],
         "xaxis": "x",
         "y": [
          0.7925
         ],
         "yaxis": "y"
        },
        {
         "hovertemplate": "iso_639_3=tha<br>ppl_mean=%{x}<br>correct_language=%{y}<extra></extra>",
         "legendgroup": "tha",
         "marker": {
          "color": "#FF97FF",
          "symbol": "circle"
         },
         "mode": "markers",
         "name": "tha",
         "orientation": "v",
         "showlegend": true,
         "type": "scatter",
         "x": [
          32.132497961521146
         ],
         "xaxis": "x",
         "y": [
          0.95
         ],
         "yaxis": "y"
        },
        {
         "hovertemplate": "iso_639_3=tir<br>ppl_mean=%{x}<br>correct_language=%{y}<extra></extra>",
         "legendgroup": "tir",
         "marker": {
          "color": "#FECB52",
          "symbol": "circle"
         },
         "mode": "markers",
         "name": "tir",
         "orientation": "v",
         "showlegend": true,
         "type": "scatter",
         "x": [
          44.61833653450012
         ],
         "xaxis": "x",
         "y": [
          0.14
         ],
         "yaxis": "y"
        },
        {
         "hovertemplate": "iso_639_3=tso<br>ppl_mean=%{x}<br>correct_language=%{y}<extra></extra>",
         "legendgroup": "tso",
         "marker": {
          "color": "#636efa",
          "symbol": "circle"
         },
         "mode": "markers",
         "name": "tso",
         "orientation": "v",
         "showlegend": true,
         "type": "scatter",
         "x": [
          1256.880534553528
         ],
         "xaxis": "x",
         "y": [
          0.425
         ],
         "yaxis": "y"
        },
        {
         "hovertemplate": "iso_639_3=tuk<br>ppl_mean=%{x}<br>correct_language=%{y}<extra></extra>",
         "legendgroup": "tuk",
         "marker": {
          "color": "#EF553B",
          "symbol": "circle"
         },
         "mode": "markers",
         "name": "tuk",
         "orientation": "v",
         "showlegend": true,
         "type": "scatter",
         "x": [
          4797.094414520264
         ],
         "xaxis": "x",
         "y": [
          0.52
         ],
         "yaxis": "y"
        },
        {
         "hovertemplate": "iso_639_3=tur<br>ppl_mean=%{x}<br>correct_language=%{y}<extra></extra>",
         "legendgroup": "tur",
         "marker": {
          "color": "#00cc96",
          "symbol": "circle"
         },
         "mode": "markers",
         "name": "tur",
         "orientation": "v",
         "showlegend": true,
         "type": "scatter",
         "x": [
          370.40024844646456
         ],
         "xaxis": "x",
         "y": [
          0.91
         ],
         "yaxis": "y"
        },
        {
         "hovertemplate": "iso_639_3=uig<br>ppl_mean=%{x}<br>correct_language=%{y}<extra></extra>",
         "legendgroup": "uig",
         "marker": {
          "color": "#ab63fa",
          "symbol": "circle"
         },
         "mode": "markers",
         "name": "uig",
         "orientation": "v",
         "showlegend": true,
         "type": "scatter",
         "x": [
          70.70910373210907
         ],
         "xaxis": "x",
         "y": [
          0.815
         ],
         "yaxis": "y"
        },
        {
         "hovertemplate": "iso_639_3=ukr<br>ppl_mean=%{x}<br>correct_language=%{y}<extra></extra>",
         "legendgroup": "ukr",
         "marker": {
          "color": "#FFA15A",
          "symbol": "circle"
         },
         "mode": "markers",
         "name": "ukr",
         "orientation": "v",
         "showlegend": true,
         "type": "scatter",
         "x": [
          236.46258821487427
         ],
         "xaxis": "x",
         "y": [
          0.87
         ],
         "yaxis": "y"
        },
        {
         "hovertemplate": "iso_639_3=urd<br>ppl_mean=%{x}<br>correct_language=%{y}<extra></extra>",
         "legendgroup": "urd",
         "marker": {
          "color": "#19d3f3",
          "symbol": "circle"
         },
         "mode": "markers",
         "name": "urd",
         "orientation": "v",
         "showlegend": true,
         "type": "scatter",
         "x": [
          57.35524769306183
         ],
         "xaxis": "x",
         "y": [
          0.81
         ],
         "yaxis": "y"
        },
        {
         "hovertemplate": "iso_639_3=uzn<br>ppl_mean=%{x}<br>correct_language=%{y}<extra></extra>",
         "legendgroup": "uzn",
         "marker": {
          "color": "#FF6692",
          "symbol": "circle"
         },
         "mode": "markers",
         "name": "uzn",
         "orientation": "v",
         "showlegend": true,
         "type": "scatter",
         "x": [
          2935.4753043937685
         ],
         "xaxis": "x",
         "y": [
          0.665
         ],
         "yaxis": "y"
        },
        {
         "hovertemplate": "iso_639_3=vie<br>ppl_mean=%{x}<br>correct_language=%{y}<extra></extra>",
         "legendgroup": "vie",
         "marker": {
          "color": "#B6E880",
          "symbol": "circle"
         },
         "mode": "markers",
         "name": "vie",
         "orientation": "v",
         "showlegend": true,
         "type": "scatter",
         "x": [
          82.86111369848251
         ],
         "xaxis": "x",
         "y": [
          0.95
         ],
         "yaxis": "y"
        },
        {
         "hovertemplate": "iso_639_3=xho<br>ppl_mean=%{x}<br>correct_language=%{y}<extra></extra>",
         "legendgroup": "xho",
         "marker": {
          "color": "#FF97FF",
          "symbol": "circle"
         },
         "mode": "markers",
         "name": "xho",
         "orientation": "v",
         "showlegend": true,
         "type": "scatter",
         "x": [
          1479.558409461975
         ],
         "xaxis": "x",
         "y": [
          0.695
         ],
         "yaxis": "y"
        },
        {
         "hovertemplate": "iso_639_3=ydd<br>ppl_mean=%{x}<br>correct_language=%{y}<extra></extra>",
         "legendgroup": "ydd",
         "marker": {
          "color": "#FECB52",
          "symbol": "circle"
         },
         "mode": "markers",
         "name": "ydd",
         "orientation": "v",
         "showlegend": true,
         "type": "scatter",
         "x": [
          32.54139017105103
         ],
         "xaxis": "x",
         "y": [
          0.45
         ],
         "yaxis": "y"
        },
        {
         "hovertemplate": "iso_639_3=yor<br>ppl_mean=%{x}<br>correct_language=%{y}<extra></extra>",
         "legendgroup": "yor",
         "marker": {
          "color": "#636efa",
          "symbol": "circle"
         },
         "mode": "markers",
         "name": "yor",
         "orientation": "v",
         "showlegend": true,
         "type": "scatter",
         "x": [
          1950.7317607879638
         ],
         "xaxis": "x",
         "y": [
          0.565
         ],
         "yaxis": "y"
        },
        {
         "hovertemplate": "iso_639_3=zho<br>ppl_mean=%{x}<br>correct_language=%{y}<extra></extra>",
         "legendgroup": "zho",
         "marker": {
          "color": "#EF553B",
          "symbol": "circle"
         },
         "mode": "markers",
         "name": "zho",
         "orientation": "v",
         "showlegend": true,
         "type": "scatter",
         "x": [
          72.79566484928131
         ],
         "xaxis": "x",
         "y": [
          0.9583333333333334
         ],
         "yaxis": "y"
        },
        {
         "hovertemplate": "iso_639_3=zsm<br>ppl_mean=%{x}<br>correct_language=%{y}<extra></extra>",
         "legendgroup": "zsm",
         "marker": {
          "color": "#00cc96",
          "symbol": "circle"
         },
         "mode": "markers",
         "name": "zsm",
         "orientation": "v",
         "showlegend": true,
         "type": "scatter",
         "x": [
          216.31187661647797
         ],
         "xaxis": "x",
         "y": [
          0.41
         ],
         "yaxis": "y"
        },
        {
         "hovertemplate": "iso_639_3=zul<br>ppl_mean=%{x}<br>correct_language=%{y}<extra></extra>",
         "legendgroup": "zul",
         "marker": {
          "color": "#ab63fa",
          "symbol": "circle"
         },
         "mode": "markers",
         "name": "zul",
         "orientation": "v",
         "showlegend": true,
         "type": "scatter",
         "x": [
          1478.9636644363404
         ],
         "xaxis": "x",
         "y": [
          0.645
         ],
         "yaxis": "y"
        }
       ],
       "layout": {
        "font": {
         "family": "Times New Roman"
        },
        "height": 500,
        "legend": {
         "title": {
          "text": "iso_639_3"
         },
         "tracegroupgap": 0
        },
        "margin": {
         "t": 60
        },
        "showlegend": false,
        "template": {
         "data": {
          "bar": [
           {
            "error_x": {
             "color": "#2a3f5f"
            },
            "error_y": {
             "color": "#2a3f5f"
            },
            "marker": {
             "line": {
              "color": "#E5ECF6",
              "width": 0.5
             },
             "pattern": {
              "fillmode": "overlay",
              "size": 10,
              "solidity": 0.2
             }
            },
            "type": "bar"
           }
          ],
          "barpolar": [
           {
            "marker": {
             "line": {
              "color": "#E5ECF6",
              "width": 0.5
             },
             "pattern": {
              "fillmode": "overlay",
              "size": 10,
              "solidity": 0.2
             }
            },
            "type": "barpolar"
           }
          ],
          "carpet": [
           {
            "aaxis": {
             "endlinecolor": "#2a3f5f",
             "gridcolor": "white",
             "linecolor": "white",
             "minorgridcolor": "white",
             "startlinecolor": "#2a3f5f"
            },
            "baxis": {
             "endlinecolor": "#2a3f5f",
             "gridcolor": "white",
             "linecolor": "white",
             "minorgridcolor": "white",
             "startlinecolor": "#2a3f5f"
            },
            "type": "carpet"
           }
          ],
          "choropleth": [
           {
            "colorbar": {
             "outlinewidth": 0,
             "ticks": ""
            },
            "type": "choropleth"
           }
          ],
          "contour": [
           {
            "colorbar": {
             "outlinewidth": 0,
             "ticks": ""
            },
            "colorscale": [
             [
              0,
              "#0d0887"
             ],
             [
              0.1111111111111111,
              "#46039f"
             ],
             [
              0.2222222222222222,
              "#7201a8"
             ],
             [
              0.3333333333333333,
              "#9c179e"
             ],
             [
              0.4444444444444444,
              "#bd3786"
             ],
             [
              0.5555555555555556,
              "#d8576b"
             ],
             [
              0.6666666666666666,
              "#ed7953"
             ],
             [
              0.7777777777777778,
              "#fb9f3a"
             ],
             [
              0.8888888888888888,
              "#fdca26"
             ],
             [
              1,
              "#f0f921"
             ]
            ],
            "type": "contour"
           }
          ],
          "contourcarpet": [
           {
            "colorbar": {
             "outlinewidth": 0,
             "ticks": ""
            },
            "type": "contourcarpet"
           }
          ],
          "heatmap": [
           {
            "colorbar": {
             "outlinewidth": 0,
             "ticks": ""
            },
            "colorscale": [
             [
              0,
              "#0d0887"
             ],
             [
              0.1111111111111111,
              "#46039f"
             ],
             [
              0.2222222222222222,
              "#7201a8"
             ],
             [
              0.3333333333333333,
              "#9c179e"
             ],
             [
              0.4444444444444444,
              "#bd3786"
             ],
             [
              0.5555555555555556,
              "#d8576b"
             ],
             [
              0.6666666666666666,
              "#ed7953"
             ],
             [
              0.7777777777777778,
              "#fb9f3a"
             ],
             [
              0.8888888888888888,
              "#fdca26"
             ],
             [
              1,
              "#f0f921"
             ]
            ],
            "type": "heatmap"
           }
          ],
          "heatmapgl": [
           {
            "colorbar": {
             "outlinewidth": 0,
             "ticks": ""
            },
            "colorscale": [
             [
              0,
              "#0d0887"
             ],
             [
              0.1111111111111111,
              "#46039f"
             ],
             [
              0.2222222222222222,
              "#7201a8"
             ],
             [
              0.3333333333333333,
              "#9c179e"
             ],
             [
              0.4444444444444444,
              "#bd3786"
             ],
             [
              0.5555555555555556,
              "#d8576b"
             ],
             [
              0.6666666666666666,
              "#ed7953"
             ],
             [
              0.7777777777777778,
              "#fb9f3a"
             ],
             [
              0.8888888888888888,
              "#fdca26"
             ],
             [
              1,
              "#f0f921"
             ]
            ],
            "type": "heatmapgl"
           }
          ],
          "histogram": [
           {
            "marker": {
             "pattern": {
              "fillmode": "overlay",
              "size": 10,
              "solidity": 0.2
             }
            },
            "type": "histogram"
           }
          ],
          "histogram2d": [
           {
            "colorbar": {
             "outlinewidth": 0,
             "ticks": ""
            },
            "colorscale": [
             [
              0,
              "#0d0887"
             ],
             [
              0.1111111111111111,
              "#46039f"
             ],
             [
              0.2222222222222222,
              "#7201a8"
             ],
             [
              0.3333333333333333,
              "#9c179e"
             ],
             [
              0.4444444444444444,
              "#bd3786"
             ],
             [
              0.5555555555555556,
              "#d8576b"
             ],
             [
              0.6666666666666666,
              "#ed7953"
             ],
             [
              0.7777777777777778,
              "#fb9f3a"
             ],
             [
              0.8888888888888888,
              "#fdca26"
             ],
             [
              1,
              "#f0f921"
             ]
            ],
            "type": "histogram2d"
           }
          ],
          "histogram2dcontour": [
           {
            "colorbar": {
             "outlinewidth": 0,
             "ticks": ""
            },
            "colorscale": [
             [
              0,
              "#0d0887"
             ],
             [
              0.1111111111111111,
              "#46039f"
             ],
             [
              0.2222222222222222,
              "#7201a8"
             ],
             [
              0.3333333333333333,
              "#9c179e"
             ],
             [
              0.4444444444444444,
              "#bd3786"
             ],
             [
              0.5555555555555556,
              "#d8576b"
             ],
             [
              0.6666666666666666,
              "#ed7953"
             ],
             [
              0.7777777777777778,
              "#fb9f3a"
             ],
             [
              0.8888888888888888,
              "#fdca26"
             ],
             [
              1,
              "#f0f921"
             ]
            ],
            "type": "histogram2dcontour"
           }
          ],
          "mesh3d": [
           {
            "colorbar": {
             "outlinewidth": 0,
             "ticks": ""
            },
            "type": "mesh3d"
           }
          ],
          "parcoords": [
           {
            "line": {
             "colorbar": {
              "outlinewidth": 0,
              "ticks": ""
             }
            },
            "type": "parcoords"
           }
          ],
          "pie": [
           {
            "automargin": true,
            "type": "pie"
           }
          ],
          "scatter": [
           {
            "fillpattern": {
             "fillmode": "overlay",
             "size": 10,
             "solidity": 0.2
            },
            "type": "scatter"
           }
          ],
          "scatter3d": [
           {
            "line": {
             "colorbar": {
              "outlinewidth": 0,
              "ticks": ""
             }
            },
            "marker": {
             "colorbar": {
              "outlinewidth": 0,
              "ticks": ""
             }
            },
            "type": "scatter3d"
           }
          ],
          "scattercarpet": [
           {
            "marker": {
             "colorbar": {
              "outlinewidth": 0,
              "ticks": ""
             }
            },
            "type": "scattercarpet"
           }
          ],
          "scattergeo": [
           {
            "marker": {
             "colorbar": {
              "outlinewidth": 0,
              "ticks": ""
             }
            },
            "type": "scattergeo"
           }
          ],
          "scattergl": [
           {
            "marker": {
             "colorbar": {
              "outlinewidth": 0,
              "ticks": ""
             }
            },
            "type": "scattergl"
           }
          ],
          "scattermapbox": [
           {
            "marker": {
             "colorbar": {
              "outlinewidth": 0,
              "ticks": ""
             }
            },
            "type": "scattermapbox"
           }
          ],
          "scatterpolar": [
           {
            "marker": {
             "colorbar": {
              "outlinewidth": 0,
              "ticks": ""
             }
            },
            "type": "scatterpolar"
           }
          ],
          "scatterpolargl": [
           {
            "marker": {
             "colorbar": {
              "outlinewidth": 0,
              "ticks": ""
             }
            },
            "type": "scatterpolargl"
           }
          ],
          "scatterternary": [
           {
            "marker": {
             "colorbar": {
              "outlinewidth": 0,
              "ticks": ""
             }
            },
            "type": "scatterternary"
           }
          ],
          "surface": [
           {
            "colorbar": {
             "outlinewidth": 0,
             "ticks": ""
            },
            "colorscale": [
             [
              0,
              "#0d0887"
             ],
             [
              0.1111111111111111,
              "#46039f"
             ],
             [
              0.2222222222222222,
              "#7201a8"
             ],
             [
              0.3333333333333333,
              "#9c179e"
             ],
             [
              0.4444444444444444,
              "#bd3786"
             ],
             [
              0.5555555555555556,
              "#d8576b"
             ],
             [
              0.6666666666666666,
              "#ed7953"
             ],
             [
              0.7777777777777778,
              "#fb9f3a"
             ],
             [
              0.8888888888888888,
              "#fdca26"
             ],
             [
              1,
              "#f0f921"
             ]
            ],
            "type": "surface"
           }
          ],
          "table": [
           {
            "cells": {
             "fill": {
              "color": "#EBF0F8"
             },
             "line": {
              "color": "white"
             }
            },
            "header": {
             "fill": {
              "color": "#C8D4E3"
             },
             "line": {
              "color": "white"
             }
            },
            "type": "table"
           }
          ]
         },
         "layout": {
          "title": {
           "font": {
            "family": "Times New Roman"
           }
          }
         }
        },
        "title": {
         "text": "Mistral-7B-Instruct-v0.1"
        },
        "width": 500,
        "xaxis": {
         "anchor": "y",
         "domain": [
          0,
          1
         ],
         "title": {
          "text": "Mean Perplexity"
         }
        },
        "yaxis": {
         "anchor": "x",
         "domain": [
          0,
          1
         ],
         "title": {
          "text": "Accuracy in % of correctly answered prompts"
         }
        }
       }
      }
     },
     "metadata": {},
     "output_type": "display_data"
    },
    {
     "name": "stdout",
     "output_type": "stream",
     "text": [
      "Qwen1.5-7B-Chat\n"
     ]
    },
    {
     "data": {
      "application/vnd.plotly.v1+json": {
       "config": {
        "plotlyServerURL": "https://plot.ly"
       },
       "data": [
        {
         "hovertemplate": "iso_639_3=afr<br>ppl_mean=%{x}<br>correct_language=%{y}<extra></extra>",
         "legendgroup": "afr",
         "marker": {
          "color": "#FFA15A",
          "symbol": "circle"
         },
         "mode": "markers",
         "name": "afr",
         "orientation": "v",
         "showlegend": true,
         "type": "scatter",
         "x": [
          1291.1226039505004
         ],
         "xaxis": "x",
         "y": [
          0.285
         ],
         "yaxis": "y"
        },
        {
         "hovertemplate": "iso_639_3=aka<br>ppl_mean=%{x}<br>correct_language=%{y}<extra></extra>",
         "legendgroup": "aka",
         "marker": {
          "color": "#19d3f3",
          "symbol": "circle"
         },
         "mode": "markers",
         "name": "aka",
         "orientation": "v",
         "showlegend": true,
         "type": "scatter",
         "x": [
          2717.4710961723326
         ],
         "xaxis": "x",
         "y": [
          0.35
         ],
         "yaxis": "y"
        },
        {
         "hovertemplate": "iso_639_3=amh<br>ppl_mean=%{x}<br>correct_language=%{y}<extra></extra>",
         "legendgroup": "amh",
         "marker": {
          "color": "#FF6692",
          "symbol": "circle"
         },
         "mode": "markers",
         "name": "amh",
         "orientation": "v",
         "showlegend": true,
         "type": "scatter",
         "x": [
          34.27358817577362
         ],
         "xaxis": "x",
         "y": [
          0.74
         ],
         "yaxis": "y"
        },
        {
         "hovertemplate": "iso_639_3=arb<br>ppl_mean=%{x}<br>correct_language=%{y}<extra></extra>",
         "legendgroup": "arb",
         "marker": {
          "color": "#B6E880",
          "symbol": "circle"
         },
         "mode": "markers",
         "name": "arb",
         "orientation": "v",
         "showlegend": true,
         "type": "scatter",
         "x": [
          222.3132144331932
         ],
         "xaxis": "x",
         "y": [
          0.92
         ],
         "yaxis": "y"
        },
        {
         "hovertemplate": "iso_639_3=asm<br>ppl_mean=%{x}<br>correct_language=%{y}<extra></extra>",
         "legendgroup": "asm",
         "marker": {
          "color": "#FF97FF",
          "symbol": "circle"
         },
         "mode": "markers",
         "name": "asm",
         "orientation": "v",
         "showlegend": true,
         "type": "scatter",
         "x": [
          28.57108794927597
         ],
         "xaxis": "x",
         "y": [
          0.005
         ],
         "yaxis": "y"
        },
        {
         "hovertemplate": "iso_639_3=ayr<br>ppl_mean=%{x}<br>correct_language=%{y}<extra></extra>",
         "legendgroup": "ayr",
         "marker": {
          "color": "#FECB52",
          "symbol": "circle"
         },
         "mode": "markers",
         "name": "ayr",
         "orientation": "v",
         "showlegend": true,
         "type": "scatter",
         "x": [
          7442.449532623291
         ],
         "xaxis": "x",
         "y": [
          0.01
         ],
         "yaxis": "y"
        },
        {
         "hovertemplate": "iso_639_3=azb<br>ppl_mean=%{x}<br>correct_language=%{y}<extra></extra>",
         "legendgroup": "azb",
         "marker": {
          "color": "#636efa",
          "symbol": "circle"
         },
         "mode": "markers",
         "name": "azb",
         "orientation": "v",
         "showlegend": true,
         "type": "scatter",
         "x": [
          374.543873257637
         ],
         "xaxis": "x",
         "y": [
          0.195
         ],
         "yaxis": "y"
        },
        {
         "hovertemplate": "iso_639_3=bam<br>ppl_mean=%{x}<br>correct_language=%{y}<extra></extra>",
         "legendgroup": "bam",
         "marker": {
          "color": "#EF553B",
          "symbol": "circle"
         },
         "mode": "markers",
         "name": "bam",
         "orientation": "v",
         "showlegend": true,
         "type": "scatter",
         "x": [
          4685.028480834961
         ],
         "xaxis": "x",
         "y": [
          0.045
         ],
         "yaxis": "y"
        },
        {
         "hovertemplate": "iso_639_3=bel<br>ppl_mean=%{x}<br>correct_language=%{y}<extra></extra>",
         "legendgroup": "bel",
         "marker": {
          "color": "#00cc96",
          "symbol": "circle"
         },
         "mode": "markers",
         "name": "bel",
         "orientation": "v",
         "showlegend": true,
         "type": "scatter",
         "x": [
          407.00606588840486
         ],
         "xaxis": "x",
         "y": [
          0.125
         ],
         "yaxis": "y"
        },
        {
         "hovertemplate": "iso_639_3=ben<br>ppl_mean=%{x}<br>correct_language=%{y}<extra></extra>",
         "legendgroup": "ben",
         "marker": {
          "color": "#ab63fa",
          "symbol": "circle"
         },
         "mode": "markers",
         "name": "ben",
         "orientation": "v",
         "showlegend": true,
         "type": "scatter",
         "x": [
          16.059185137748717
         ],
         "xaxis": "x",
         "y": [
          0.83
         ],
         "yaxis": "y"
        },
        {
         "hovertemplate": "iso_639_3=bho<br>ppl_mean=%{x}<br>correct_language=%{y}<extra></extra>",
         "legendgroup": "bho",
         "marker": {
          "color": "#FFA15A",
          "symbol": "circle"
         },
         "mode": "markers",
         "name": "bho",
         "orientation": "v",
         "showlegend": true,
         "type": "scatter",
         "x": [
          26.96489379644394
         ],
         "xaxis": "x",
         "y": [
          0.01
         ],
         "yaxis": "y"
        },
        {
         "hovertemplate": "iso_639_3=bos<br>ppl_mean=%{x}<br>correct_language=%{y}<extra></extra>",
         "legendgroup": "bos",
         "marker": {
          "color": "#19d3f3",
          "symbol": "circle"
         },
         "mode": "markers",
         "name": "bos",
         "orientation": "v",
         "showlegend": true,
         "type": "scatter",
         "x": [
          161.21896000146864
         ],
         "xaxis": "x",
         "y": [
          0.91
         ],
         "yaxis": "y"
        },
        {
         "hovertemplate": "iso_639_3=bul<br>ppl_mean=%{x}<br>correct_language=%{y}<extra></extra>",
         "legendgroup": "bul",
         "marker": {
          "color": "#FF6692",
          "symbol": "circle"
         },
         "mode": "markers",
         "name": "bul",
         "orientation": "v",
         "showlegend": true,
         "type": "scatter",
         "x": [
          3295.9033210349085
         ],
         "xaxis": "x",
         "y": [
          0.9
         ],
         "yaxis": "y"
        },
        {
         "hovertemplate": "iso_639_3=cat<br>ppl_mean=%{x}<br>correct_language=%{y}<extra></extra>",
         "legendgroup": "cat",
         "marker": {
          "color": "#B6E880",
          "symbol": "circle"
         },
         "mode": "markers",
         "name": "cat",
         "orientation": "v",
         "showlegend": true,
         "type": "scatter",
         "x": [
          76.56095808982849
         ],
         "xaxis": "x",
         "y": [
          0.93
         ],
         "yaxis": "y"
        },
        {
         "hovertemplate": "iso_639_3=ceb<br>ppl_mean=%{x}<br>correct_language=%{y}<extra></extra>",
         "legendgroup": "ceb",
         "marker": {
          "color": "#FF97FF",
          "symbol": "circle"
         },
         "mode": "markers",
         "name": "ceb",
         "orientation": "v",
         "showlegend": true,
         "type": "scatter",
         "x": [
          1153.358828983307
         ],
         "xaxis": "x",
         "y": [
          0.01
         ],
         "yaxis": "y"
        },
        {
         "hovertemplate": "iso_639_3=ces<br>ppl_mean=%{x}<br>correct_language=%{y}<extra></extra>",
         "legendgroup": "ces",
         "marker": {
          "color": "#FECB52",
          "symbol": "circle"
         },
         "mode": "markers",
         "name": "ces",
         "orientation": "v",
         "showlegend": true,
         "type": "scatter",
         "x": [
          156.93948656201363
         ],
         "xaxis": "x",
         "y": [
          0.95
         ],
         "yaxis": "y"
        },
        {
         "hovertemplate": "iso_639_3=ckb<br>ppl_mean=%{x}<br>correct_language=%{y}<extra></extra>",
         "legendgroup": "ckb",
         "marker": {
          "color": "#636efa",
          "symbol": "circle"
         },
         "mode": "markers",
         "name": "ckb",
         "orientation": "v",
         "showlegend": true,
         "type": "scatter",
         "x": [
          3359.7478539633753
         ],
         "xaxis": "x",
         "y": [
          0.0275
         ],
         "yaxis": "y"
        },
        {
         "hovertemplate": "iso_639_3=cos<br>ppl_mean=%{x}<br>correct_language=%{y}<extra></extra>",
         "legendgroup": "cos",
         "marker": {
          "color": "#EF553B",
          "symbol": "circle"
         },
         "mode": "markers",
         "name": "cos",
         "orientation": "v",
         "showlegend": true,
         "type": "scatter",
         "x": [
          2684.877691116333
         ],
         "xaxis": "x",
         "y": [
          0
         ],
         "yaxis": "y"
        },
        {
         "hovertemplate": "iso_639_3=cym<br>ppl_mean=%{x}<br>correct_language=%{y}<extra></extra>",
         "legendgroup": "cym",
         "marker": {
          "color": "#00cc96",
          "symbol": "circle"
         },
         "mode": "markers",
         "name": "cym",
         "orientation": "v",
         "showlegend": true,
         "type": "scatter",
         "x": [
          3324.1379833221436
         ],
         "xaxis": "x",
         "y": [
          0.91
         ],
         "yaxis": "y"
        },
        {
         "hovertemplate": "iso_639_3=dan<br>ppl_mean=%{x}<br>correct_language=%{y}<extra></extra>",
         "legendgroup": "dan",
         "marker": {
          "color": "#ab63fa",
          "symbol": "circle"
         },
         "mode": "markers",
         "name": "dan",
         "orientation": "v",
         "showlegend": true,
         "type": "scatter",
         "x": [
          199.9716445374489
         ],
         "xaxis": "x",
         "y": [
          0.855
         ],
         "yaxis": "y"
        },
        {
         "hovertemplate": "iso_639_3=deu<br>ppl_mean=%{x}<br>correct_language=%{y}<extra></extra>",
         "legendgroup": "deu",
         "marker": {
          "color": "#FFA15A",
          "symbol": "circle"
         },
         "mode": "markers",
         "name": "deu",
         "orientation": "v",
         "showlegend": true,
         "type": "scatter",
         "x": [
          52.63841629743576
         ],
         "xaxis": "x",
         "y": [
          0.95
         ],
         "yaxis": "y"
        },
        {
         "hovertemplate": "iso_639_3=dgo<br>ppl_mean=%{x}<br>correct_language=%{y}<extra></extra>",
         "legendgroup": "dgo",
         "marker": {
          "color": "#19d3f3",
          "symbol": "circle"
         },
         "mode": "markers",
         "name": "dgo",
         "orientation": "v",
         "showlegend": true,
         "type": "scatter",
         "x": [
          41.25107007741928
         ],
         "xaxis": "x",
         "y": [
          0
         ],
         "yaxis": "y"
        },
        {
         "hovertemplate": "iso_639_3=div<br>ppl_mean=%{x}<br>correct_language=%{y}<extra></extra>",
         "legendgroup": "div",
         "marker": {
          "color": "#FF6692",
          "symbol": "circle"
         },
         "mode": "markers",
         "name": "div",
         "orientation": "v",
         "showlegend": true,
         "type": "scatter",
         "x": [
          7.705448613166809
         ],
         "xaxis": "x",
         "y": [
          0.59
         ],
         "yaxis": "y"
        },
        {
         "hovertemplate": "iso_639_3=ekk<br>ppl_mean=%{x}<br>correct_language=%{y}<extra></extra>",
         "legendgroup": "ekk",
         "marker": {
          "color": "#B6E880",
          "symbol": "circle"
         },
         "mode": "markers",
         "name": "ekk",
         "orientation": "v",
         "showlegend": true,
         "type": "scatter",
         "x": [
          1094.694616804123
         ],
         "xaxis": "x",
         "y": [
          0.95
         ],
         "yaxis": "y"
        },
        {
         "hovertemplate": "iso_639_3=ell<br>ppl_mean=%{x}<br>correct_language=%{y}<extra></extra>",
         "legendgroup": "ell",
         "marker": {
          "color": "#FF97FF",
          "symbol": "circle"
         },
         "mode": "markers",
         "name": "ell",
         "orientation": "v",
         "showlegend": true,
         "type": "scatter",
         "x": [
          6.226055753231049
         ],
         "xaxis": "x",
         "y": [
          0.865
         ],
         "yaxis": "y"
        },
        {
         "hovertemplate": "iso_639_3=eng<br>ppl_mean=%{x}<br>correct_language=%{y}<extra></extra>",
         "legendgroup": "eng",
         "marker": {
          "color": "#FECB52",
          "symbol": "circle"
         },
         "mode": "markers",
         "name": "eng",
         "orientation": "v",
         "showlegend": true,
         "type": "scatter",
         "x": [
          34.79564996361732
         ],
         "xaxis": "x",
         "y": [
          0.97
         ],
         "yaxis": "y"
        },
        {
         "hovertemplate": "iso_639_3=epo<br>ppl_mean=%{x}<br>correct_language=%{y}<extra></extra>",
         "legendgroup": "epo",
         "marker": {
          "color": "#636efa",
          "symbol": "circle"
         },
         "mode": "markers",
         "name": "epo",
         "orientation": "v",
         "showlegend": true,
         "type": "scatter",
         "x": [
          596.8308835959434
         ],
         "xaxis": "x",
         "y": [
          0.81
         ],
         "yaxis": "y"
        },
        {
         "hovertemplate": "iso_639_3=eus<br>ppl_mean=%{x}<br>correct_language=%{y}<extra></extra>",
         "legendgroup": "eus",
         "marker": {
          "color": "#EF553B",
          "symbol": "circle"
         },
         "mode": "markers",
         "name": "eus",
         "orientation": "v",
         "showlegend": true,
         "type": "scatter",
         "x": [
          2684.0462596702578
         ],
         "xaxis": "x",
         "y": [
          0.665
         ],
         "yaxis": "y"
        },
        {
         "hovertemplate": "iso_639_3=ewe<br>ppl_mean=%{x}<br>correct_language=%{y}<extra></extra>",
         "legendgroup": "ewe",
         "marker": {
          "color": "#00cc96",
          "symbol": "circle"
         },
         "mode": "markers",
         "name": "ewe",
         "orientation": "v",
         "showlegend": true,
         "type": "scatter",
         "x": [
          4937.521244812012
         ],
         "xaxis": "x",
         "y": [
          0.14
         ],
         "yaxis": "y"
        },
        {
         "hovertemplate": "iso_639_3=fin<br>ppl_mean=%{x}<br>correct_language=%{y}<extra></extra>",
         "legendgroup": "fin",
         "marker": {
          "color": "#ab63fa",
          "symbol": "circle"
         },
         "mode": "markers",
         "name": "fin",
         "orientation": "v",
         "showlegend": true,
         "type": "scatter",
         "x": [
          66.0992331123352
         ],
         "xaxis": "x",
         "y": [
          0.94
         ],
         "yaxis": "y"
        },
        {
         "hovertemplate": "iso_639_3=fra<br>ppl_mean=%{x}<br>correct_language=%{y}<extra></extra>",
         "legendgroup": "fra",
         "marker": {
          "color": "#FFA15A",
          "symbol": "circle"
         },
         "mode": "markers",
         "name": "fra",
         "orientation": "v",
         "showlegend": true,
         "type": "scatter",
         "x": [
          35.69219918131828
         ],
         "xaxis": "x",
         "y": [
          0.985
         ],
         "yaxis": "y"
        },
        {
         "hovertemplate": "iso_639_3=fry<br>ppl_mean=%{x}<br>correct_language=%{y}<extra></extra>",
         "legendgroup": "fry",
         "marker": {
          "color": "#19d3f3",
          "symbol": "circle"
         },
         "mode": "markers",
         "name": "fry",
         "orientation": "v",
         "showlegend": true,
         "type": "scatter",
         "x": [
          4513.816884002686
         ],
         "xaxis": "x",
         "y": [
          0
         ],
         "yaxis": "y"
        },
        {
         "hovertemplate": "iso_639_3=gaz<br>ppl_mean=%{x}<br>correct_language=%{y}<extra></extra>",
         "legendgroup": "gaz",
         "marker": {
          "color": "#FF6692",
          "symbol": "circle"
         },
         "mode": "markers",
         "name": "gaz",
         "orientation": "v",
         "showlegend": true,
         "type": "scatter",
         "x": [
          3876.442705001831
         ],
         "xaxis": "x",
         "y": [
          0.03
         ],
         "yaxis": "y"
        },
        {
         "hovertemplate": "iso_639_3=gla<br>ppl_mean=%{x}<br>correct_language=%{y}<extra></extra>",
         "legendgroup": "gla",
         "marker": {
          "color": "#B6E880",
          "symbol": "circle"
         },
         "mode": "markers",
         "name": "gla",
         "orientation": "v",
         "showlegend": true,
         "type": "scatter",
         "x": [
          682.8843032550811
         ],
         "xaxis": "x",
         "y": [
          0.465
         ],
         "yaxis": "y"
        },
        {
         "hovertemplate": "iso_639_3=gle<br>ppl_mean=%{x}<br>correct_language=%{y}<extra></extra>",
         "legendgroup": "gle",
         "marker": {
          "color": "#FF97FF",
          "symbol": "circle"
         },
         "mode": "markers",
         "name": "gle",
         "orientation": "v",
         "showlegend": true,
         "type": "scatter",
         "x": [
          4696.666762104034
         ],
         "xaxis": "x",
         "y": [
          0.615
         ],
         "yaxis": "y"
        },
        {
         "hovertemplate": "iso_639_3=glg<br>ppl_mean=%{x}<br>correct_language=%{y}<extra></extra>",
         "legendgroup": "glg",
         "marker": {
          "color": "#FECB52",
          "symbol": "circle"
         },
         "mode": "markers",
         "name": "glg",
         "orientation": "v",
         "showlegend": true,
         "type": "scatter",
         "x": [
          547.5077282571792
         ],
         "xaxis": "x",
         "y": [
          0.04
         ],
         "yaxis": "y"
        },
        {
         "hovertemplate": "iso_639_3=gug<br>ppl_mean=%{x}<br>correct_language=%{y}<extra></extra>",
         "legendgroup": "gug",
         "marker": {
          "color": "#636efa",
          "symbol": "circle"
         },
         "mode": "markers",
         "name": "gug",
         "orientation": "v",
         "showlegend": true,
         "type": "scatter",
         "x": [
          8846.72780883789
         ],
         "xaxis": "x",
         "y": [
          0.01
         ],
         "yaxis": "y"
        },
        {
         "hovertemplate": "iso_639_3=guj<br>ppl_mean=%{x}<br>correct_language=%{y}<extra></extra>",
         "legendgroup": "guj",
         "marker": {
          "color": "#EF553B",
          "symbol": "circle"
         },
         "mode": "markers",
         "name": "guj",
         "orientation": "v",
         "showlegend": true,
         "type": "scatter",
         "x": [
          4.790893971920013
         ],
         "xaxis": "x",
         "y": [
          0.76
         ],
         "yaxis": "y"
        },
        {
         "hovertemplate": "iso_639_3=hat<br>ppl_mean=%{x}<br>correct_language=%{y}<extra></extra>",
         "legendgroup": "hat",
         "marker": {
          "color": "#00cc96",
          "symbol": "circle"
         },
         "mode": "markers",
         "name": "hat",
         "orientation": "v",
         "showlegend": true,
         "type": "scatter",
         "x": [
          4611.103368730545
         ],
         "xaxis": "x",
         "y": [
          0.22
         ],
         "yaxis": "y"
        },
        {
         "hovertemplate": "iso_639_3=hau<br>ppl_mean=%{x}<br>correct_language=%{y}<extra></extra>",
         "legendgroup": "hau",
         "marker": {
          "color": "#ab63fa",
          "symbol": "circle"
         },
         "mode": "markers",
         "name": "hau",
         "orientation": "v",
         "showlegend": true,
         "type": "scatter",
         "x": [
          14717.13681842804
         ],
         "xaxis": "x",
         "y": [
          0.035
         ],
         "yaxis": "y"
        },
        {
         "hovertemplate": "iso_639_3=haw<br>ppl_mean=%{x}<br>correct_language=%{y}<extra></extra>",
         "legendgroup": "haw",
         "marker": {
          "color": "#FFA15A",
          "symbol": "circle"
         },
         "mode": "markers",
         "name": "haw",
         "orientation": "v",
         "showlegend": true,
         "type": "scatter",
         "x": [
          989.0419434452057
         ],
         "xaxis": "x",
         "y": [
          0.235
         ],
         "yaxis": "y"
        },
        {
         "hovertemplate": "iso_639_3=hbs<br>ppl_mean=%{x}<br>correct_language=%{y}<extra></extra>",
         "legendgroup": "hbs",
         "marker": {
          "color": "#19d3f3",
          "symbol": "circle"
         },
         "mode": "markers",
         "name": "hbs",
         "orientation": "v",
         "showlegend": true,
         "type": "scatter",
         "x": [
          124.8942848277092
         ],
         "xaxis": "x",
         "y": [
          0.81
         ],
         "yaxis": "y"
        },
        {
         "hovertemplate": "iso_639_3=heb<br>ppl_mean=%{x}<br>correct_language=%{y}<extra></extra>",
         "legendgroup": "heb",
         "marker": {
          "color": "#FF6692",
          "symbol": "circle"
         },
         "mode": "markers",
         "name": "heb",
         "orientation": "v",
         "showlegend": true,
         "type": "scatter",
         "x": [
          525.7892060351372
         ],
         "xaxis": "x",
         "y": [
          0.805
         ],
         "yaxis": "y"
        },
        {
         "hovertemplate": "iso_639_3=hin<br>ppl_mean=%{x}<br>correct_language=%{y}<extra></extra>",
         "legendgroup": "hin",
         "marker": {
          "color": "#B6E880",
          "symbol": "circle"
         },
         "mode": "markers",
         "name": "hin",
         "orientation": "v",
         "showlegend": true,
         "type": "scatter",
         "x": [
          5.871813921928406
         ],
         "xaxis": "x",
         "y": [
          0.87
         ],
         "yaxis": "y"
        },
        {
         "hovertemplate": "iso_639_3=hun<br>ppl_mean=%{x}<br>correct_language=%{y}<extra></extra>",
         "legendgroup": "hun",
         "marker": {
          "color": "#FF97FF",
          "symbol": "circle"
         },
         "mode": "markers",
         "name": "hun",
         "orientation": "v",
         "showlegend": true,
         "type": "scatter",
         "x": [
          396.9104685628414
         ],
         "xaxis": "x",
         "y": [
          0.95
         ],
         "yaxis": "y"
        },
        {
         "hovertemplate": "iso_639_3=hye<br>ppl_mean=%{x}<br>correct_language=%{y}<extra></extra>",
         "legendgroup": "hye",
         "marker": {
          "color": "#FECB52",
          "symbol": "circle"
         },
         "mode": "markers",
         "name": "hye",
         "orientation": "v",
         "showlegend": true,
         "type": "scatter",
         "x": [
          30.651848390102387
         ],
         "xaxis": "x",
         "y": [
          0.835
         ],
         "yaxis": "y"
        },
        {
         "hovertemplate": "iso_639_3=ibo<br>ppl_mean=%{x}<br>correct_language=%{y}<extra></extra>",
         "legendgroup": "ibo",
         "marker": {
          "color": "#636efa",
          "symbol": "circle"
         },
         "mode": "markers",
         "name": "ibo",
         "orientation": "v",
         "showlegend": true,
         "type": "scatter",
         "x": [
          10966.604084739685
         ],
         "xaxis": "x",
         "y": [
          0.68
         ],
         "yaxis": "y"
        },
        {
         "hovertemplate": "iso_639_3=ilo<br>ppl_mean=%{x}<br>correct_language=%{y}<extra></extra>",
         "legendgroup": "ilo",
         "marker": {
          "color": "#EF553B",
          "symbol": "circle"
         },
         "mode": "markers",
         "name": "ilo",
         "orientation": "v",
         "showlegend": true,
         "type": "scatter",
         "x": [
          25151.560678100584
         ],
         "xaxis": "x",
         "y": [
          0
         ],
         "yaxis": "y"
        },
        {
         "hovertemplate": "iso_639_3=ind<br>ppl_mean=%{x}<br>correct_language=%{y}<extra></extra>",
         "legendgroup": "ind",
         "marker": {
          "color": "#00cc96",
          "symbol": "circle"
         },
         "mode": "markers",
         "name": "ind",
         "orientation": "v",
         "showlegend": true,
         "type": "scatter",
         "x": [
          87.88553010940552
         ],
         "xaxis": "x",
         "y": [
          0.97
         ],
         "yaxis": "y"
        },
        {
         "hovertemplate": "iso_639_3=isl<br>ppl_mean=%{x}<br>correct_language=%{y}<extra></extra>",
         "legendgroup": "isl",
         "marker": {
          "color": "#ab63fa",
          "symbol": "circle"
         },
         "mode": "markers",
         "name": "isl",
         "orientation": "v",
         "showlegend": true,
         "type": "scatter",
         "x": [
          753.448324728012
         ],
         "xaxis": "x",
         "y": [
          0.665
         ],
         "yaxis": "y"
        },
        {
         "hovertemplate": "iso_639_3=ita<br>ppl_mean=%{x}<br>correct_language=%{y}<extra></extra>",
         "legendgroup": "ita",
         "marker": {
          "color": "#FFA15A",
          "symbol": "circle"
         },
         "mode": "markers",
         "name": "ita",
         "orientation": "v",
         "showlegend": true,
         "type": "scatter",
         "x": [
          68.57946191310883
         ],
         "xaxis": "x",
         "y": [
          0.92
         ],
         "yaxis": "y"
        },
        {
         "hovertemplate": "iso_639_3=jav<br>ppl_mean=%{x}<br>correct_language=%{y}<extra></extra>",
         "legendgroup": "jav",
         "marker": {
          "color": "#19d3f3",
          "symbol": "circle"
         },
         "mode": "markers",
         "name": "jav",
         "orientation": "v",
         "showlegend": true,
         "type": "scatter",
         "x": [
          3143.7793151283263
         ],
         "xaxis": "x",
         "y": [
          0.0025
         ],
         "yaxis": "y"
        },
        {
         "hovertemplate": "iso_639_3=jpn<br>ppl_mean=%{x}<br>correct_language=%{y}<extra></extra>",
         "legendgroup": "jpn",
         "marker": {
          "color": "#FF6692",
          "symbol": "circle"
         },
         "mode": "markers",
         "name": "jpn",
         "orientation": "v",
         "showlegend": true,
         "type": "scatter",
         "x": [
          259.8339623093605
         ],
         "xaxis": "x",
         "y": [
          0.905
         ],
         "yaxis": "y"
        },
        {
         "hovertemplate": "iso_639_3=kan<br>ppl_mean=%{x}<br>correct_language=%{y}<extra></extra>",
         "legendgroup": "kan",
         "marker": {
          "color": "#B6E880",
          "symbol": "circle"
         },
         "mode": "markers",
         "name": "kan",
         "orientation": "v",
         "showlegend": true,
         "type": "scatter",
         "x": [
          8.515970588922501
         ],
         "xaxis": "x",
         "y": [
          0.75
         ],
         "yaxis": "y"
        },
        {
         "hovertemplate": "iso_639_3=kat<br>ppl_mean=%{x}<br>correct_language=%{y}<extra></extra>",
         "legendgroup": "kat",
         "marker": {
          "color": "#FF97FF",
          "symbol": "circle"
         },
         "mode": "markers",
         "name": "kat",
         "orientation": "v",
         "showlegend": true,
         "type": "scatter",
         "x": [
          6.885931085944176
         ],
         "xaxis": "x",
         "y": [
          0.935
         ],
         "yaxis": "y"
        },
        {
         "hovertemplate": "iso_639_3=kaz<br>ppl_mean=%{x}<br>correct_language=%{y}<extra></extra>",
         "legendgroup": "kaz",
         "marker": {
          "color": "#FECB52",
          "symbol": "circle"
         },
         "mode": "markers",
         "name": "kaz",
         "orientation": "v",
         "showlegend": true,
         "type": "scatter",
         "x": [
          129.80019644260406
         ],
         "xaxis": "x",
         "y": [
          0.805
         ],
         "yaxis": "y"
        },
        {
         "hovertemplate": "iso_639_3=khm<br>ppl_mean=%{x}<br>correct_language=%{y}<extra></extra>",
         "legendgroup": "khm",
         "marker": {
          "color": "#636efa",
          "symbol": "circle"
         },
         "mode": "markers",
         "name": "khm",
         "orientation": "v",
         "showlegend": true,
         "type": "scatter",
         "x": [
          8.962529563903809
         ],
         "xaxis": "x",
         "y": [
          0.93
         ],
         "yaxis": "y"
        },
        {
         "hovertemplate": "iso_639_3=kin<br>ppl_mean=%{x}<br>correct_language=%{y}<extra></extra>",
         "legendgroup": "kin",
         "marker": {
          "color": "#EF553B",
          "symbol": "circle"
         },
         "mode": "markers",
         "name": "kin",
         "orientation": "v",
         "showlegend": true,
         "type": "scatter",
         "x": [
          2968.098098888397
         ],
         "xaxis": "x",
         "y": [
          0.015
         ],
         "yaxis": "y"
        },
        {
         "hovertemplate": "iso_639_3=kir<br>ppl_mean=%{x}<br>correct_language=%{y}<extra></extra>",
         "legendgroup": "kir",
         "marker": {
          "color": "#00cc96",
          "symbol": "circle"
         },
         "mode": "markers",
         "name": "kir",
         "orientation": "v",
         "showlegend": true,
         "type": "scatter",
         "x": [
          399.34935317993165
         ],
         "xaxis": "x",
         "y": [
          0.005
         ],
         "yaxis": "y"
        },
        {
         "hovertemplate": "iso_639_3=knn<br>ppl_mean=%{x}<br>correct_language=%{y}<extra></extra>",
         "legendgroup": "knn",
         "marker": {
          "color": "#ab63fa",
          "symbol": "circle"
         },
         "mode": "markers",
         "name": "knn",
         "orientation": "v",
         "showlegend": true,
         "type": "scatter",
         "x": [
          37.04573972702026
         ],
         "xaxis": "x",
         "y": [
          0
         ],
         "yaxis": "y"
        },
        {
         "hovertemplate": "iso_639_3=kor<br>ppl_mean=%{x}<br>correct_language=%{y}<extra></extra>",
         "legendgroup": "kor",
         "marker": {
          "color": "#FFA15A",
          "symbol": "circle"
         },
         "mode": "markers",
         "name": "kor",
         "orientation": "v",
         "showlegend": true,
         "type": "scatter",
         "x": [
          34.876086196899415
         ],
         "xaxis": "x",
         "y": [
          0.885
         ],
         "yaxis": "y"
        },
        {
         "hovertemplate": "iso_639_3=kri<br>ppl_mean=%{x}<br>correct_language=%{y}<extra></extra>",
         "legendgroup": "kri",
         "marker": {
          "color": "#19d3f3",
          "symbol": "circle"
         },
         "mode": "markers",
         "name": "kri",
         "orientation": "v",
         "showlegend": true,
         "type": "scatter",
         "x": [
          3657.3457136535644
         ],
         "xaxis": "x",
         "y": [
          0.015
         ],
         "yaxis": "y"
        },
        {
         "hovertemplate": "iso_639_3=lao<br>ppl_mean=%{x}<br>correct_language=%{y}<extra></extra>",
         "legendgroup": "lao",
         "marker": {
          "color": "#FF6692",
          "symbol": "circle"
         },
         "mode": "markers",
         "name": "lao",
         "orientation": "v",
         "showlegend": true,
         "type": "scatter",
         "x": [
          27.14523737192154
         ],
         "xaxis": "x",
         "y": [
          0.655
         ],
         "yaxis": "y"
        },
        {
         "hovertemplate": "iso_639_3=lat<br>ppl_mean=%{x}<br>correct_language=%{y}<extra></extra>",
         "legendgroup": "lat",
         "marker": {
          "color": "#B6E880",
          "symbol": "circle"
         },
         "mode": "markers",
         "name": "lat",
         "orientation": "v",
         "showlegend": true,
         "type": "scatter",
         "x": [
          1801.323974852562
         ],
         "xaxis": "x",
         "y": [
          0.06
         ],
         "yaxis": "y"
        },
        {
         "hovertemplate": "iso_639_3=lav<br>ppl_mean=%{x}<br>correct_language=%{y}<extra></extra>",
         "legendgroup": "lav",
         "marker": {
          "color": "#FF97FF",
          "symbol": "circle"
         },
         "mode": "markers",
         "name": "lav",
         "orientation": "v",
         "showlegend": true,
         "type": "scatter",
         "x": [
          178.3662709891796
         ],
         "xaxis": "x",
         "y": [
          0.955
         ],
         "yaxis": "y"
        },
        {
         "hovertemplate": "iso_639_3=lin<br>ppl_mean=%{x}<br>correct_language=%{y}<extra></extra>",
         "legendgroup": "lin",
         "marker": {
          "color": "#FECB52",
          "symbol": "circle"
         },
         "mode": "markers",
         "name": "lin",
         "orientation": "v",
         "showlegend": true,
         "type": "scatter",
         "x": [
          2722.586186695099
         ],
         "xaxis": "x",
         "y": [
          0.015
         ],
         "yaxis": "y"
        },
        {
         "hovertemplate": "iso_639_3=lit<br>ppl_mean=%{x}<br>correct_language=%{y}<extra></extra>",
         "legendgroup": "lit",
         "marker": {
          "color": "#636efa",
          "symbol": "circle"
         },
         "mode": "markers",
         "name": "lit",
         "orientation": "v",
         "showlegend": true,
         "type": "scatter",
         "x": [
          134.28237008333207
         ],
         "xaxis": "x",
         "y": [
          0.96
         ],
         "yaxis": "y"
        },
        {
         "hovertemplate": "iso_639_3=ltz<br>ppl_mean=%{x}<br>correct_language=%{y}<extra></extra>",
         "legendgroup": "ltz",
         "marker": {
          "color": "#EF553B",
          "symbol": "circle"
         },
         "mode": "markers",
         "name": "ltz",
         "orientation": "v",
         "showlegend": true,
         "type": "scatter",
         "x": [
          3342.063699836731
         ],
         "xaxis": "x",
         "y": [
          0
         ],
         "yaxis": "y"
        },
        {
         "hovertemplate": "iso_639_3=lug<br>ppl_mean=%{x}<br>correct_language=%{y}<extra></extra>",
         "legendgroup": "lug",
         "marker": {
          "color": "#00cc96",
          "symbol": "circle"
         },
         "mode": "markers",
         "name": "lug",
         "orientation": "v",
         "showlegend": true,
         "type": "scatter",
         "x": [
          5043.96213142395
         ],
         "xaxis": "x",
         "y": [
          0.005
         ],
         "yaxis": "y"
        },
        {
         "hovertemplate": "iso_639_3=lus<br>ppl_mean=%{x}<br>correct_language=%{y}<extra></extra>",
         "legendgroup": "lus",
         "marker": {
          "color": "#ab63fa",
          "symbol": "circle"
         },
         "mode": "markers",
         "name": "lus",
         "orientation": "v",
         "showlegend": true,
         "type": "scatter",
         "x": [
          5422.0375860595705
         ],
         "xaxis": "x",
         "y": [
          0.005
         ],
         "yaxis": "y"
        },
        {
         "hovertemplate": "iso_639_3=mai<br>ppl_mean=%{x}<br>correct_language=%{y}<extra></extra>",
         "legendgroup": "mai",
         "marker": {
          "color": "#FFA15A",
          "symbol": "circle"
         },
         "mode": "markers",
         "name": "mai",
         "orientation": "v",
         "showlegend": true,
         "type": "scatter",
         "x": [
          42.95593636751175
         ],
         "xaxis": "x",
         "y": [
          0.005
         ],
         "yaxis": "y"
        },
        {
         "hovertemplate": "iso_639_3=mal<br>ppl_mean=%{x}<br>correct_language=%{y}<extra></extra>",
         "legendgroup": "mal",
         "marker": {
          "color": "#19d3f3",
          "symbol": "circle"
         },
         "mode": "markers",
         "name": "mal",
         "orientation": "v",
         "showlegend": true,
         "type": "scatter",
         "x": [
          5.395639977455139
         ],
         "xaxis": "x",
         "y": [
          0.755
         ],
         "yaxis": "y"
        },
        {
         "hovertemplate": "iso_639_3=mar<br>ppl_mean=%{x}<br>correct_language=%{y}<extra></extra>",
         "legendgroup": "mar",
         "marker": {
          "color": "#FF6692",
          "symbol": "circle"
         },
         "mode": "markers",
         "name": "mar",
         "orientation": "v",
         "showlegend": true,
         "type": "scatter",
         "x": [
          9.071337202787399
         ],
         "xaxis": "x",
         "y": [
          0.835
         ],
         "yaxis": "y"
        },
        {
         "hovertemplate": "iso_639_3=mkd<br>ppl_mean=%{x}<br>correct_language=%{y}<extra></extra>",
         "legendgroup": "mkd",
         "marker": {
          "color": "#B6E880",
          "symbol": "circle"
         },
         "mode": "markers",
         "name": "mkd",
         "orientation": "v",
         "showlegend": true,
         "type": "scatter",
         "x": [
          47.36212317466736
         ],
         "xaxis": "x",
         "y": [
          0.34
         ],
         "yaxis": "y"
        },
        {
         "hovertemplate": "iso_639_3=mlt<br>ppl_mean=%{x}<br>correct_language=%{y}<extra></extra>",
         "legendgroup": "mlt",
         "marker": {
          "color": "#FF97FF",
          "symbol": "circle"
         },
         "mode": "markers",
         "name": "mlt",
         "orientation": "v",
         "showlegend": true,
         "type": "scatter",
         "x": [
          19133.634784202575
         ],
         "xaxis": "x",
         "y": [
          0.47
         ],
         "yaxis": "y"
        },
        {
         "hovertemplate": "iso_639_3=mni<br>ppl_mean=%{x}<br>correct_language=%{y}<extra></extra>",
         "legendgroup": "mni",
         "marker": {
          "color": "#FECB52",
          "symbol": "circle"
         },
         "mode": "markers",
         "name": "mni",
         "orientation": "v",
         "showlegend": true,
         "type": "scatter",
         "x": [
          12.010756435394287
         ],
         "xaxis": "x",
         "y": [
          0
         ],
         "yaxis": "y"
        },
        {
         "hovertemplate": "iso_639_3=mon<br>ppl_mean=%{x}<br>correct_language=%{y}<extra></extra>",
         "legendgroup": "mon",
         "marker": {
          "color": "#636efa",
          "symbol": "circle"
         },
         "mode": "markers",
         "name": "mon",
         "orientation": "v",
         "showlegend": true,
         "type": "scatter",
         "x": [
          41.49054953336716
         ],
         "xaxis": "x",
         "y": [
          0.875
         ],
         "yaxis": "y"
        },
        {
         "hovertemplate": "iso_639_3=mri<br>ppl_mean=%{x}<br>correct_language=%{y}<extra></extra>",
         "legendgroup": "mri",
         "marker": {
          "color": "#EF553B",
          "symbol": "circle"
         },
         "mode": "markers",
         "name": "mri",
         "orientation": "v",
         "showlegend": true,
         "type": "scatter",
         "x": [
          681.4489409446717
         ],
         "xaxis": "x",
         "y": [
          0.56
         ],
         "yaxis": "y"
        },
        {
         "hovertemplate": "iso_639_3=mww<br>ppl_mean=%{x}<br>correct_language=%{y}<extra></extra>",
         "legendgroup": "mww",
         "marker": {
          "color": "#00cc96",
          "symbol": "circle"
         },
         "mode": "markers",
         "name": "mww",
         "orientation": "v",
         "showlegend": true,
         "type": "scatter",
         "x": [
          6389.493000760079
         ],
         "xaxis": "x",
         "y": [
          0.125
         ],
         "yaxis": "y"
        },
        {
         "hovertemplate": "iso_639_3=mya<br>ppl_mean=%{x}<br>correct_language=%{y}<extra></extra>",
         "legendgroup": "mya",
         "marker": {
          "color": "#ab63fa",
          "symbol": "circle"
         },
         "mode": "markers",
         "name": "mya",
         "orientation": "v",
         "showlegend": true,
         "type": "scatter",
         "x": [
          4.173143508434296
         ],
         "xaxis": "x",
         "y": [
          0.905
         ],
         "yaxis": "y"
        },
        {
         "hovertemplate": "iso_639_3=nld<br>ppl_mean=%{x}<br>correct_language=%{y}<extra></extra>",
         "legendgroup": "nld",
         "marker": {
          "color": "#FFA15A",
          "symbol": "circle"
         },
         "mode": "markers",
         "name": "nld",
         "orientation": "v",
         "showlegend": true,
         "type": "scatter",
         "x": [
          80.94312129735947
         ],
         "xaxis": "x",
         "y": [
          0.89
         ],
         "yaxis": "y"
        },
        {
         "hovertemplate": "iso_639_3=nor<br>ppl_mean=%{x}<br>correct_language=%{y}<extra></extra>",
         "legendgroup": "nor",
         "marker": {
          "color": "#19d3f3",
          "symbol": "circle"
         },
         "mode": "markers",
         "name": "nor",
         "orientation": "v",
         "showlegend": true,
         "type": "scatter",
         "x": [
          467.9219446206093
         ],
         "xaxis": "x",
         "y": [
          0.73
         ],
         "yaxis": "y"
        },
        {
         "hovertemplate": "iso_639_3=npi<br>ppl_mean=%{x}<br>correct_language=%{y}<extra></extra>",
         "legendgroup": "npi",
         "marker": {
          "color": "#FF6692",
          "symbol": "circle"
         },
         "mode": "markers",
         "name": "npi",
         "orientation": "v",
         "showlegend": true,
         "type": "scatter",
         "x": [
          38.425584440231326
         ],
         "xaxis": "x",
         "y": [
          0.005
         ],
         "yaxis": "y"
        },
        {
         "hovertemplate": "iso_639_3=nso<br>ppl_mean=%{x}<br>correct_language=%{y}<extra></extra>",
         "legendgroup": "nso",
         "marker": {
          "color": "#B6E880",
          "symbol": "circle"
         },
         "mode": "markers",
         "name": "nso",
         "orientation": "v",
         "showlegend": true,
         "type": "scatter",
         "x": [
          6446.880423812866
         ],
         "xaxis": "x",
         "y": [
          0.085
         ],
         "yaxis": "y"
        },
        {
         "hovertemplate": "iso_639_3=nya<br>ppl_mean=%{x}<br>correct_language=%{y}<extra></extra>",
         "legendgroup": "nya",
         "marker": {
          "color": "#FF97FF",
          "symbol": "circle"
         },
         "mode": "markers",
         "name": "nya",
         "orientation": "v",
         "showlegend": true,
         "type": "scatter",
         "x": [
          2597.1610812950134
         ],
         "xaxis": "x",
         "y": [
          0
         ],
         "yaxis": "y"
        },
        {
         "hovertemplate": "iso_639_3=ory<br>ppl_mean=%{x}<br>correct_language=%{y}<extra></extra>",
         "legendgroup": "ory",
         "marker": {
          "color": "#FECB52",
          "symbol": "circle"
         },
         "mode": "markers",
         "name": "ory",
         "orientation": "v",
         "showlegend": true,
         "type": "scatter",
         "x": [
          12.275813654661178
         ],
         "xaxis": "x",
         "y": [
          0.295
         ],
         "yaxis": "y"
        },
        {
         "hovertemplate": "iso_639_3=pan<br>ppl_mean=%{x}<br>correct_language=%{y}<extra></extra>",
         "legendgroup": "pan",
         "marker": {
          "color": "#636efa",
          "symbol": "circle"
         },
         "mode": "markers",
         "name": "pan",
         "orientation": "v",
         "showlegend": true,
         "type": "scatter",
         "x": [
          6.563413237333298
         ],
         "xaxis": "x",
         "y": [
          0.85
         ],
         "yaxis": "y"
        },
        {
         "hovertemplate": "iso_639_3=pes<br>ppl_mean=%{x}<br>correct_language=%{y}<extra></extra>",
         "legendgroup": "pes",
         "marker": {
          "color": "#EF553B",
          "symbol": "circle"
         },
         "mode": "markers",
         "name": "pes",
         "orientation": "v",
         "showlegend": true,
         "type": "scatter",
         "x": [
          84.78765050888062
         ],
         "xaxis": "x",
         "y": [
          0.815
         ],
         "yaxis": "y"
        },
        {
         "hovertemplate": "iso_639_3=plt<br>ppl_mean=%{x}<br>correct_language=%{y}<extra></extra>",
         "legendgroup": "plt",
         "marker": {
          "color": "#00cc96",
          "symbol": "circle"
         },
         "mode": "markers",
         "name": "plt",
         "orientation": "v",
         "showlegend": true,
         "type": "scatter",
         "x": [
          4684.2554161453245
         ],
         "xaxis": "x",
         "y": [
          0.595
         ],
         "yaxis": "y"
        },
        {
         "hovertemplate": "iso_639_3=pol<br>ppl_mean=%{x}<br>correct_language=%{y}<extra></extra>",
         "legendgroup": "pol",
         "marker": {
          "color": "#ab63fa",
          "symbol": "circle"
         },
         "mode": "markers",
         "name": "pol",
         "orientation": "v",
         "showlegend": true,
         "type": "scatter",
         "x": [
          119.74298723340034
         ],
         "xaxis": "x",
         "y": [
          0.935
         ],
         "yaxis": "y"
        },
        {
         "hovertemplate": "iso_639_3=por<br>ppl_mean=%{x}<br>correct_language=%{y}<extra></extra>",
         "legendgroup": "por",
         "marker": {
          "color": "#FFA15A",
          "symbol": "circle"
         },
         "mode": "markers",
         "name": "por",
         "orientation": "v",
         "showlegend": true,
         "type": "scatter",
         "x": [
          55.26367314577103
         ],
         "xaxis": "x",
         "y": [
          0.945
         ],
         "yaxis": "y"
        },
        {
         "hovertemplate": "iso_639_3=pst<br>ppl_mean=%{x}<br>correct_language=%{y}<extra></extra>",
         "legendgroup": "pst",
         "marker": {
          "color": "#19d3f3",
          "symbol": "circle"
         },
         "mode": "markers",
         "name": "pst",
         "orientation": "v",
         "showlegend": true,
         "type": "scatter",
         "x": [
          75.35991434574127
         ],
         "xaxis": "x",
         "y": [
          0.12
         ],
         "yaxis": "y"
        },
        {
         "hovertemplate": "iso_639_3=quh<br>ppl_mean=%{x}<br>correct_language=%{y}<extra></extra>",
         "legendgroup": "quh",
         "marker": {
          "color": "#FF6692",
          "symbol": "circle"
         },
         "mode": "markers",
         "name": "quh",
         "orientation": "v",
         "showlegend": true,
         "type": "scatter",
         "x": [
          4362.195382194519
         ],
         "xaxis": "x",
         "y": [
          0.005
         ],
         "yaxis": "y"
        },
        {
         "hovertemplate": "iso_639_3=ron<br>ppl_mean=%{x}<br>correct_language=%{y}<extra></extra>",
         "legendgroup": "ron",
         "marker": {
          "color": "#B6E880",
          "symbol": "circle"
         },
         "mode": "markers",
         "name": "ron",
         "orientation": "v",
         "showlegend": true,
         "type": "scatter",
         "x": [
          132.49420513391496
         ],
         "xaxis": "x",
         "y": [
          0.955
         ],
         "yaxis": "y"
        },
        {
         "hovertemplate": "iso_639_3=rus<br>ppl_mean=%{x}<br>correct_language=%{y}<extra></extra>",
         "legendgroup": "rus",
         "marker": {
          "color": "#FF97FF",
          "symbol": "circle"
         },
         "mode": "markers",
         "name": "rus",
         "orientation": "v",
         "showlegend": true,
         "type": "scatter",
         "x": [
          35.13141978263855
         ],
         "xaxis": "x",
         "y": [
          0.945
         ],
         "yaxis": "y"
        },
        {
         "hovertemplate": "iso_639_3=san<br>ppl_mean=%{x}<br>correct_language=%{y}<extra></extra>",
         "legendgroup": "san",
         "marker": {
          "color": "#FECB52",
          "symbol": "circle"
         },
         "mode": "markers",
         "name": "san",
         "orientation": "v",
         "showlegend": true,
         "type": "scatter",
         "x": [
          36.06355045318603
         ],
         "xaxis": "x",
         "y": [
          0.015
         ],
         "yaxis": "y"
        },
        {
         "hovertemplate": "iso_639_3=sin<br>ppl_mean=%{x}<br>correct_language=%{y}<extra></extra>",
         "legendgroup": "sin",
         "marker": {
          "color": "#636efa",
          "symbol": "circle"
         },
         "mode": "markers",
         "name": "sin",
         "orientation": "v",
         "showlegend": true,
         "type": "scatter",
         "x": [
          12.838794605731964
         ],
         "xaxis": "x",
         "y": [
          0.825
         ],
         "yaxis": "y"
        },
        {
         "hovertemplate": "iso_639_3=slk<br>ppl_mean=%{x}<br>correct_language=%{y}<extra></extra>",
         "legendgroup": "slk",
         "marker": {
          "color": "#EF553B",
          "symbol": "circle"
         },
         "mode": "markers",
         "name": "slk",
         "orientation": "v",
         "showlegend": true,
         "type": "scatter",
         "x": [
          162.73321110010147
         ],
         "xaxis": "x",
         "y": [
          0.6
         ],
         "yaxis": "y"
        },
        {
         "hovertemplate": "iso_639_3=slv<br>ppl_mean=%{x}<br>correct_language=%{y}<extra></extra>",
         "legendgroup": "slv",
         "marker": {
          "color": "#00cc96",
          "symbol": "circle"
         },
         "mode": "markers",
         "name": "slv",
         "orientation": "v",
         "showlegend": true,
         "type": "scatter",
         "x": [
          209.46229546427728
         ],
         "xaxis": "x",
         "y": [
          0.77
         ],
         "yaxis": "y"
        },
        {
         "hovertemplate": "iso_639_3=smo<br>ppl_mean=%{x}<br>correct_language=%{y}<extra></extra>",
         "legendgroup": "smo",
         "marker": {
          "color": "#ab63fa",
          "symbol": "circle"
         },
         "mode": "markers",
         "name": "smo",
         "orientation": "v",
         "showlegend": true,
         "type": "scatter",
         "x": [
          1479.063733778
         ],
         "xaxis": "x",
         "y": [
          0.115
         ],
         "yaxis": "y"
        },
        {
         "hovertemplate": "iso_639_3=sna<br>ppl_mean=%{x}<br>correct_language=%{y}<extra></extra>",
         "legendgroup": "sna",
         "marker": {
          "color": "#FFA15A",
          "symbol": "circle"
         },
         "mode": "markers",
         "name": "sna",
         "orientation": "v",
         "showlegend": true,
         "type": "scatter",
         "x": [
          6637.331834526062
         ],
         "xaxis": "x",
         "y": [
          0.025
         ],
         "yaxis": "y"
        },
        {
         "hovertemplate": "iso_639_3=snd<br>ppl_mean=%{x}<br>correct_language=%{y}<extra></extra>",
         "legendgroup": "snd",
         "marker": {
          "color": "#19d3f3",
          "symbol": "circle"
         },
         "mode": "markers",
         "name": "snd",
         "orientation": "v",
         "showlegend": true,
         "type": "scatter",
         "x": [
          450.9269169616699
         ],
         "xaxis": "x",
         "y": [
          0.01
         ],
         "yaxis": "y"
        },
        {
         "hovertemplate": "iso_639_3=som<br>ppl_mean=%{x}<br>correct_language=%{y}<extra></extra>",
         "legendgroup": "som",
         "marker": {
          "color": "#FF6692",
          "symbol": "circle"
         },
         "mode": "markers",
         "name": "som",
         "orientation": "v",
         "showlegend": true,
         "type": "scatter",
         "x": [
          3758.828008117676
         ],
         "xaxis": "x",
         "y": [
          0.46
         ],
         "yaxis": "y"
        },
        {
         "hovertemplate": "iso_639_3=sot<br>ppl_mean=%{x}<br>correct_language=%{y}<extra></extra>",
         "legendgroup": "sot",
         "marker": {
          "color": "#B6E880",
          "symbol": "circle"
         },
         "mode": "markers",
         "name": "sot",
         "orientation": "v",
         "showlegend": true,
         "type": "scatter",
         "x": [
          6340.010468101502
         ],
         "xaxis": "x",
         "y": [
          0.105
         ],
         "yaxis": "y"
        },
        {
         "hovertemplate": "iso_639_3=spa<br>ppl_mean=%{x}<br>correct_language=%{y}<extra></extra>",
         "legendgroup": "spa",
         "marker": {
          "color": "#FF97FF",
          "symbol": "circle"
         },
         "mode": "markers",
         "name": "spa",
         "orientation": "v",
         "showlegend": true,
         "type": "scatter",
         "x": [
          20.957473236322404
         ],
         "xaxis": "x",
         "y": [
          0.965
         ],
         "yaxis": "y"
        },
        {
         "hovertemplate": "iso_639_3=sqi<br>ppl_mean=%{x}<br>correct_language=%{y}<extra></extra>",
         "legendgroup": "sqi",
         "marker": {
          "color": "#FECB52",
          "symbol": "circle"
         },
         "mode": "markers",
         "name": "sqi",
         "orientation": "v",
         "showlegend": true,
         "type": "scatter",
         "x": [
          595.3558496308327
         ],
         "xaxis": "x",
         "y": [
          0.915
         ],
         "yaxis": "y"
        },
        {
         "hovertemplate": "iso_639_3=sun<br>ppl_mean=%{x}<br>correct_language=%{y}<extra></extra>",
         "legendgroup": "sun",
         "marker": {
          "color": "#636efa",
          "symbol": "circle"
         },
         "mode": "markers",
         "name": "sun",
         "orientation": "v",
         "showlegend": true,
         "type": "scatter",
         "x": [
          3578.4652205467223
         ],
         "xaxis": "x",
         "y": [
          0.01
         ],
         "yaxis": "y"
        },
        {
         "hovertemplate": "iso_639_3=swe<br>ppl_mean=%{x}<br>correct_language=%{y}<extra></extra>",
         "legendgroup": "swe",
         "marker": {
          "color": "#EF553B",
          "symbol": "circle"
         },
         "mode": "markers",
         "name": "swe",
         "orientation": "v",
         "showlegend": true,
         "type": "scatter",
         "x": [
          121.6410912847519
         ],
         "xaxis": "x",
         "y": [
          0.935
         ],
         "yaxis": "y"
        },
        {
         "hovertemplate": "iso_639_3=swh<br>ppl_mean=%{x}<br>correct_language=%{y}<extra></extra>",
         "legendgroup": "swh",
         "marker": {
          "color": "#00cc96",
          "symbol": "circle"
         },
         "mode": "markers",
         "name": "swh",
         "orientation": "v",
         "showlegend": true,
         "type": "scatter",
         "x": [
          511.4314705324173
         ],
         "xaxis": "x",
         "y": [
          0.91
         ],
         "yaxis": "y"
        },
        {
         "hovertemplate": "iso_639_3=tam<br>ppl_mean=%{x}<br>correct_language=%{y}<extra></extra>",
         "legendgroup": "tam",
         "marker": {
          "color": "#ab63fa",
          "symbol": "circle"
         },
         "mode": "markers",
         "name": "tam",
         "orientation": "v",
         "showlegend": true,
         "type": "scatter",
         "x": [
          8.276629030704498
         ],
         "xaxis": "x",
         "y": [
          0.705
         ],
         "yaxis": "y"
        },
        {
         "hovertemplate": "iso_639_3=tat<br>ppl_mean=%{x}<br>correct_language=%{y}<extra></extra>",
         "legendgroup": "tat",
         "marker": {
          "color": "#FFA15A",
          "symbol": "circle"
         },
         "mode": "markers",
         "name": "tat",
         "orientation": "v",
         "showlegend": true,
         "type": "scatter",
         "x": [
          1072.37238489151
         ],
         "xaxis": "x",
         "y": [
          0
         ],
         "yaxis": "y"
        },
        {
         "hovertemplate": "iso_639_3=tel<br>ppl_mean=%{x}<br>correct_language=%{y}<extra></extra>",
         "legendgroup": "tel",
         "marker": {
          "color": "#19d3f3",
          "symbol": "circle"
         },
         "mode": "markers",
         "name": "tel",
         "orientation": "v",
         "showlegend": true,
         "type": "scatter",
         "x": [
          5.14886701643467
         ],
         "xaxis": "x",
         "y": [
          0.92
         ],
         "yaxis": "y"
        },
        {
         "hovertemplate": "iso_639_3=tgk<br>ppl_mean=%{x}<br>correct_language=%{y}<extra></extra>",
         "legendgroup": "tgk",
         "marker": {
          "color": "#FF6692",
          "symbol": "circle"
         },
         "mode": "markers",
         "name": "tgk",
         "orientation": "v",
         "showlegend": true,
         "type": "scatter",
         "x": [
          2467.729304924011
         ],
         "xaxis": "x",
         "y": [
          0.01
         ],
         "yaxis": "y"
        },
        {
         "hovertemplate": "iso_639_3=tgl<br>ppl_mean=%{x}<br>correct_language=%{y}<extra></extra>",
         "legendgroup": "tgl",
         "marker": {
          "color": "#B6E880",
          "symbol": "circle"
         },
         "mode": "markers",
         "name": "tgl",
         "orientation": "v",
         "showlegend": true,
         "type": "scatter",
         "x": [
          189.43283920288087
         ],
         "xaxis": "x",
         "y": [
          0.9625
         ],
         "yaxis": "y"
        },
        {
         "hovertemplate": "iso_639_3=tha<br>ppl_mean=%{x}<br>correct_language=%{y}<extra></extra>",
         "legendgroup": "tha",
         "marker": {
          "color": "#FF97FF",
          "symbol": "circle"
         },
         "mode": "markers",
         "name": "tha",
         "orientation": "v",
         "showlegend": true,
         "type": "scatter",
         "x": [
          158.44391154050828
         ],
         "xaxis": "x",
         "y": [
          0.77
         ],
         "yaxis": "y"
        },
        {
         "hovertemplate": "iso_639_3=tir<br>ppl_mean=%{x}<br>correct_language=%{y}<extra></extra>",
         "legendgroup": "tir",
         "marker": {
          "color": "#FECB52",
          "symbol": "circle"
         },
         "mode": "markers",
         "name": "tir",
         "orientation": "v",
         "showlegend": true,
         "type": "scatter",
         "x": [
          181.7161422729492
         ],
         "xaxis": "x",
         "y": [
          0.075
         ],
         "yaxis": "y"
        },
        {
         "hovertemplate": "iso_639_3=tso<br>ppl_mean=%{x}<br>correct_language=%{y}<extra></extra>",
         "legendgroup": "tso",
         "marker": {
          "color": "#636efa",
          "symbol": "circle"
         },
         "mode": "markers",
         "name": "tso",
         "orientation": "v",
         "showlegend": true,
         "type": "scatter",
         "x": [
          3372.365906639099
         ],
         "xaxis": "x",
         "y": [
          0.04
         ],
         "yaxis": "y"
        },
        {
         "hovertemplate": "iso_639_3=tuk<br>ppl_mean=%{x}<br>correct_language=%{y}<extra></extra>",
         "legendgroup": "tuk",
         "marker": {
          "color": "#EF553B",
          "symbol": "circle"
         },
         "mode": "markers",
         "name": "tuk",
         "orientation": "v",
         "showlegend": true,
         "type": "scatter",
         "x": [
          14163.842596206665
         ],
         "xaxis": "x",
         "y": [
          0.02
         ],
         "yaxis": "y"
        },
        {
         "hovertemplate": "iso_639_3=tur<br>ppl_mean=%{x}<br>correct_language=%{y}<extra></extra>",
         "legendgroup": "tur",
         "marker": {
          "color": "#00cc96",
          "symbol": "circle"
         },
         "mode": "markers",
         "name": "tur",
         "orientation": "v",
         "showlegend": true,
         "type": "scatter",
         "x": [
          566.0269904899598
         ],
         "xaxis": "x",
         "y": [
          0.92
         ],
         "yaxis": "y"
        },
        {
         "hovertemplate": "iso_639_3=uig<br>ppl_mean=%{x}<br>correct_language=%{y}<extra></extra>",
         "legendgroup": "uig",
         "marker": {
          "color": "#ab63fa",
          "symbol": "circle"
         },
         "mode": "markers",
         "name": "uig",
         "orientation": "v",
         "showlegend": true,
         "type": "scatter",
         "x": [
          305.27119124412536
         ],
         "xaxis": "x",
         "y": [
          0.43
         ],
         "yaxis": "y"
        },
        {
         "hovertemplate": "iso_639_3=ukr<br>ppl_mean=%{x}<br>correct_language=%{y}<extra></extra>",
         "legendgroup": "ukr",
         "marker": {
          "color": "#FFA15A",
          "symbol": "circle"
         },
         "mode": "markers",
         "name": "ukr",
         "orientation": "v",
         "showlegend": true,
         "type": "scatter",
         "x": [
          23.44703069090843
         ],
         "xaxis": "x",
         "y": [
          0.955
         ],
         "yaxis": "y"
        },
        {
         "hovertemplate": "iso_639_3=urd<br>ppl_mean=%{x}<br>correct_language=%{y}<extra></extra>",
         "legendgroup": "urd",
         "marker": {
          "color": "#19d3f3",
          "symbol": "circle"
         },
         "mode": "markers",
         "name": "urd",
         "orientation": "v",
         "showlegend": true,
         "type": "scatter",
         "x": [
          41.93253437280655
         ],
         "xaxis": "x",
         "y": [
          0.875
         ],
         "yaxis": "y"
        },
        {
         "hovertemplate": "iso_639_3=uzn<br>ppl_mean=%{x}<br>correct_language=%{y}<extra></extra>",
         "legendgroup": "uzn",
         "marker": {
          "color": "#FF6692",
          "symbol": "circle"
         },
         "mode": "markers",
         "name": "uzn",
         "orientation": "v",
         "showlegend": true,
         "type": "scatter",
         "x": [
          6026.869791669846
         ],
         "xaxis": "x",
         "y": [
          0.41
         ],
         "yaxis": "y"
        },
        {
         "hovertemplate": "iso_639_3=vie<br>ppl_mean=%{x}<br>correct_language=%{y}<extra></extra>",
         "legendgroup": "vie",
         "marker": {
          "color": "#B6E880",
          "symbol": "circle"
         },
         "mode": "markers",
         "name": "vie",
         "orientation": "v",
         "showlegend": true,
         "type": "scatter",
         "x": [
          313.39021679162977
         ],
         "xaxis": "x",
         "y": [
          0.88
         ],
         "yaxis": "y"
        },
        {
         "hovertemplate": "iso_639_3=xho<br>ppl_mean=%{x}<br>correct_language=%{y}<extra></extra>",
         "legendgroup": "xho",
         "marker": {
          "color": "#FF97FF",
          "symbol": "circle"
         },
         "mode": "markers",
         "name": "xho",
         "orientation": "v",
         "showlegend": true,
         "type": "scatter",
         "x": [
          1235.1456949996948
         ],
         "xaxis": "x",
         "y": [
          0.575
         ],
         "yaxis": "y"
        },
        {
         "hovertemplate": "iso_639_3=ydd<br>ppl_mean=%{x}<br>correct_language=%{y}<extra></extra>",
         "legendgroup": "ydd",
         "marker": {
          "color": "#FECB52",
          "symbol": "circle"
         },
         "mode": "markers",
         "name": "ydd",
         "orientation": "v",
         "showlegend": true,
         "type": "scatter",
         "x": [
          349.2183370304108
         ],
         "xaxis": "x",
         "y": [
          0.005
         ],
         "yaxis": "y"
        },
        {
         "hovertemplate": "iso_639_3=yor<br>ppl_mean=%{x}<br>correct_language=%{y}<extra></extra>",
         "legendgroup": "yor",
         "marker": {
          "color": "#636efa",
          "symbol": "circle"
         },
         "mode": "markers",
         "name": "yor",
         "orientation": "v",
         "showlegend": true,
         "type": "scatter",
         "x": [
          7414.375142803192
         ],
         "xaxis": "x",
         "y": [
          0.43
         ],
         "yaxis": "y"
        },
        {
         "hovertemplate": "iso_639_3=zho<br>ppl_mean=%{x}<br>correct_language=%{y}<extra></extra>",
         "legendgroup": "zho",
         "marker": {
          "color": "#EF553B",
          "symbol": "circle"
         },
         "mode": "markers",
         "name": "zho",
         "orientation": "v",
         "showlegend": true,
         "type": "scatter",
         "x": [
          191.32841553449632
         ],
         "xaxis": "x",
         "y": [
          0.97
         ],
         "yaxis": "y"
        },
        {
         "hovertemplate": "iso_639_3=zsm<br>ppl_mean=%{x}<br>correct_language=%{y}<extra></extra>",
         "legendgroup": "zsm",
         "marker": {
          "color": "#00cc96",
          "symbol": "circle"
         },
         "mode": "markers",
         "name": "zsm",
         "orientation": "v",
         "showlegend": true,
         "type": "scatter",
         "x": [
          692.9234305286408
         ],
         "xaxis": "x",
         "y": [
          0.05
         ],
         "yaxis": "y"
        },
        {
         "hovertemplate": "iso_639_3=zul<br>ppl_mean=%{x}<br>correct_language=%{y}<extra></extra>",
         "legendgroup": "zul",
         "marker": {
          "color": "#ab63fa",
          "symbol": "circle"
         },
         "mode": "markers",
         "name": "zul",
         "orientation": "v",
         "showlegend": true,
         "type": "scatter",
         "x": [
          1290.3210541152955
         ],
         "xaxis": "x",
         "y": [
          0.14
         ],
         "yaxis": "y"
        }
       ],
       "layout": {
        "font": {
         "family": "Times New Roman"
        },
        "height": 500,
        "legend": {
         "title": {
          "text": "iso_639_3"
         },
         "tracegroupgap": 0
        },
        "margin": {
         "t": 60
        },
        "showlegend": false,
        "template": {
         "data": {
          "bar": [
           {
            "error_x": {
             "color": "#2a3f5f"
            },
            "error_y": {
             "color": "#2a3f5f"
            },
            "marker": {
             "line": {
              "color": "#E5ECF6",
              "width": 0.5
             },
             "pattern": {
              "fillmode": "overlay",
              "size": 10,
              "solidity": 0.2
             }
            },
            "type": "bar"
           }
          ],
          "barpolar": [
           {
            "marker": {
             "line": {
              "color": "#E5ECF6",
              "width": 0.5
             },
             "pattern": {
              "fillmode": "overlay",
              "size": 10,
              "solidity": 0.2
             }
            },
            "type": "barpolar"
           }
          ],
          "carpet": [
           {
            "aaxis": {
             "endlinecolor": "#2a3f5f",
             "gridcolor": "white",
             "linecolor": "white",
             "minorgridcolor": "white",
             "startlinecolor": "#2a3f5f"
            },
            "baxis": {
             "endlinecolor": "#2a3f5f",
             "gridcolor": "white",
             "linecolor": "white",
             "minorgridcolor": "white",
             "startlinecolor": "#2a3f5f"
            },
            "type": "carpet"
           }
          ],
          "choropleth": [
           {
            "colorbar": {
             "outlinewidth": 0,
             "ticks": ""
            },
            "type": "choropleth"
           }
          ],
          "contour": [
           {
            "colorbar": {
             "outlinewidth": 0,
             "ticks": ""
            },
            "colorscale": [
             [
              0,
              "#0d0887"
             ],
             [
              0.1111111111111111,
              "#46039f"
             ],
             [
              0.2222222222222222,
              "#7201a8"
             ],
             [
              0.3333333333333333,
              "#9c179e"
             ],
             [
              0.4444444444444444,
              "#bd3786"
             ],
             [
              0.5555555555555556,
              "#d8576b"
             ],
             [
              0.6666666666666666,
              "#ed7953"
             ],
             [
              0.7777777777777778,
              "#fb9f3a"
             ],
             [
              0.8888888888888888,
              "#fdca26"
             ],
             [
              1,
              "#f0f921"
             ]
            ],
            "type": "contour"
           }
          ],
          "contourcarpet": [
           {
            "colorbar": {
             "outlinewidth": 0,
             "ticks": ""
            },
            "type": "contourcarpet"
           }
          ],
          "heatmap": [
           {
            "colorbar": {
             "outlinewidth": 0,
             "ticks": ""
            },
            "colorscale": [
             [
              0,
              "#0d0887"
             ],
             [
              0.1111111111111111,
              "#46039f"
             ],
             [
              0.2222222222222222,
              "#7201a8"
             ],
             [
              0.3333333333333333,
              "#9c179e"
             ],
             [
              0.4444444444444444,
              "#bd3786"
             ],
             [
              0.5555555555555556,
              "#d8576b"
             ],
             [
              0.6666666666666666,
              "#ed7953"
             ],
             [
              0.7777777777777778,
              "#fb9f3a"
             ],
             [
              0.8888888888888888,
              "#fdca26"
             ],
             [
              1,
              "#f0f921"
             ]
            ],
            "type": "heatmap"
           }
          ],
          "heatmapgl": [
           {
            "colorbar": {
             "outlinewidth": 0,
             "ticks": ""
            },
            "colorscale": [
             [
              0,
              "#0d0887"
             ],
             [
              0.1111111111111111,
              "#46039f"
             ],
             [
              0.2222222222222222,
              "#7201a8"
             ],
             [
              0.3333333333333333,
              "#9c179e"
             ],
             [
              0.4444444444444444,
              "#bd3786"
             ],
             [
              0.5555555555555556,
              "#d8576b"
             ],
             [
              0.6666666666666666,
              "#ed7953"
             ],
             [
              0.7777777777777778,
              "#fb9f3a"
             ],
             [
              0.8888888888888888,
              "#fdca26"
             ],
             [
              1,
              "#f0f921"
             ]
            ],
            "type": "heatmapgl"
           }
          ],
          "histogram": [
           {
            "marker": {
             "pattern": {
              "fillmode": "overlay",
              "size": 10,
              "solidity": 0.2
             }
            },
            "type": "histogram"
           }
          ],
          "histogram2d": [
           {
            "colorbar": {
             "outlinewidth": 0,
             "ticks": ""
            },
            "colorscale": [
             [
              0,
              "#0d0887"
             ],
             [
              0.1111111111111111,
              "#46039f"
             ],
             [
              0.2222222222222222,
              "#7201a8"
             ],
             [
              0.3333333333333333,
              "#9c179e"
             ],
             [
              0.4444444444444444,
              "#bd3786"
             ],
             [
              0.5555555555555556,
              "#d8576b"
             ],
             [
              0.6666666666666666,
              "#ed7953"
             ],
             [
              0.7777777777777778,
              "#fb9f3a"
             ],
             [
              0.8888888888888888,
              "#fdca26"
             ],
             [
              1,
              "#f0f921"
             ]
            ],
            "type": "histogram2d"
           }
          ],
          "histogram2dcontour": [
           {
            "colorbar": {
             "outlinewidth": 0,
             "ticks": ""
            },
            "colorscale": [
             [
              0,
              "#0d0887"
             ],
             [
              0.1111111111111111,
              "#46039f"
             ],
             [
              0.2222222222222222,
              "#7201a8"
             ],
             [
              0.3333333333333333,
              "#9c179e"
             ],
             [
              0.4444444444444444,
              "#bd3786"
             ],
             [
              0.5555555555555556,
              "#d8576b"
             ],
             [
              0.6666666666666666,
              "#ed7953"
             ],
             [
              0.7777777777777778,
              "#fb9f3a"
             ],
             [
              0.8888888888888888,
              "#fdca26"
             ],
             [
              1,
              "#f0f921"
             ]
            ],
            "type": "histogram2dcontour"
           }
          ],
          "mesh3d": [
           {
            "colorbar": {
             "outlinewidth": 0,
             "ticks": ""
            },
            "type": "mesh3d"
           }
          ],
          "parcoords": [
           {
            "line": {
             "colorbar": {
              "outlinewidth": 0,
              "ticks": ""
             }
            },
            "type": "parcoords"
           }
          ],
          "pie": [
           {
            "automargin": true,
            "type": "pie"
           }
          ],
          "scatter": [
           {
            "fillpattern": {
             "fillmode": "overlay",
             "size": 10,
             "solidity": 0.2
            },
            "type": "scatter"
           }
          ],
          "scatter3d": [
           {
            "line": {
             "colorbar": {
              "outlinewidth": 0,
              "ticks": ""
             }
            },
            "marker": {
             "colorbar": {
              "outlinewidth": 0,
              "ticks": ""
             }
            },
            "type": "scatter3d"
           }
          ],
          "scattercarpet": [
           {
            "marker": {
             "colorbar": {
              "outlinewidth": 0,
              "ticks": ""
             }
            },
            "type": "scattercarpet"
           }
          ],
          "scattergeo": [
           {
            "marker": {
             "colorbar": {
              "outlinewidth": 0,
              "ticks": ""
             }
            },
            "type": "scattergeo"
           }
          ],
          "scattergl": [
           {
            "marker": {
             "colorbar": {
              "outlinewidth": 0,
              "ticks": ""
             }
            },
            "type": "scattergl"
           }
          ],
          "scattermapbox": [
           {
            "marker": {
             "colorbar": {
              "outlinewidth": 0,
              "ticks": ""
             }
            },
            "type": "scattermapbox"
           }
          ],
          "scatterpolar": [
           {
            "marker": {
             "colorbar": {
              "outlinewidth": 0,
              "ticks": ""
             }
            },
            "type": "scatterpolar"
           }
          ],
          "scatterpolargl": [
           {
            "marker": {
             "colorbar": {
              "outlinewidth": 0,
              "ticks": ""
             }
            },
            "type": "scatterpolargl"
           }
          ],
          "scatterternary": [
           {
            "marker": {
             "colorbar": {
              "outlinewidth": 0,
              "ticks": ""
             }
            },
            "type": "scatterternary"
           }
          ],
          "surface": [
           {
            "colorbar": {
             "outlinewidth": 0,
             "ticks": ""
            },
            "colorscale": [
             [
              0,
              "#0d0887"
             ],
             [
              0.1111111111111111,
              "#46039f"
             ],
             [
              0.2222222222222222,
              "#7201a8"
             ],
             [
              0.3333333333333333,
              "#9c179e"
             ],
             [
              0.4444444444444444,
              "#bd3786"
             ],
             [
              0.5555555555555556,
              "#d8576b"
             ],
             [
              0.6666666666666666,
              "#ed7953"
             ],
             [
              0.7777777777777778,
              "#fb9f3a"
             ],
             [
              0.8888888888888888,
              "#fdca26"
             ],
             [
              1,
              "#f0f921"
             ]
            ],
            "type": "surface"
           }
          ],
          "table": [
           {
            "cells": {
             "fill": {
              "color": "#EBF0F8"
             },
             "line": {
              "color": "white"
             }
            },
            "header": {
             "fill": {
              "color": "#C8D4E3"
             },
             "line": {
              "color": "white"
             }
            },
            "type": "table"
           }
          ]
         },
         "layout": {
          "title": {
           "font": {
            "family": "Times New Roman"
           }
          }
         }
        },
        "title": {
         "text": "Qwen1.5-7B-Chat"
        },
        "width": 500,
        "xaxis": {
         "anchor": "y",
         "domain": [
          0,
          1
         ],
         "title": {
          "text": "Mean Perplexity"
         }
        },
        "yaxis": {
         "anchor": "x",
         "domain": [
          0,
          1
         ],
         "title": {
          "text": "Accuracy in % of correctly answered prompts"
         }
        }
       }
      }
     },
     "metadata": {},
     "output_type": "display_data"
    },
    {
     "name": "stdout",
     "output_type": "stream",
     "text": [
      "Llama-2-13b-chat-hf\n"
     ]
    },
    {
     "data": {
      "application/vnd.plotly.v1+json": {
       "config": {
        "plotlyServerURL": "https://plot.ly"
       },
       "data": [
        {
         "hovertemplate": "iso_639_3=afr<br>ppl_mean=%{x}<br>correct_language=%{y}<extra></extra>",
         "legendgroup": "afr",
         "marker": {
          "color": "#FFA15A",
          "symbol": "circle"
         },
         "mode": "markers",
         "name": "afr",
         "orientation": "v",
         "showlegend": true,
         "type": "scatter",
         "x": [
          227.26289514064788
         ],
         "xaxis": "x",
         "y": [
          0.115
         ],
         "yaxis": "y"
        },
        {
         "hovertemplate": "iso_639_3=aka<br>ppl_mean=%{x}<br>correct_language=%{y}<extra></extra>",
         "legendgroup": "aka",
         "marker": {
          "color": "#19d3f3",
          "symbol": "circle"
         },
         "mode": "markers",
         "name": "aka",
         "orientation": "v",
         "showlegend": true,
         "type": "scatter",
         "x": [
          646.2881545257568
         ],
         "xaxis": "x",
         "y": [
          0.005
         ],
         "yaxis": "y"
        },
        {
         "hovertemplate": "iso_639_3=amh<br>ppl_mean=%{x}<br>correct_language=%{y}<extra></extra>",
         "legendgroup": "amh",
         "marker": {
          "color": "#FF6692",
          "symbol": "circle"
         },
         "mode": "markers",
         "name": "amh",
         "orientation": "v",
         "showlegend": true,
         "type": "scatter",
         "x": [
          4.114401576519012
         ],
         "xaxis": "x",
         "y": [
          0
         ],
         "yaxis": "y"
        },
        {
         "hovertemplate": "iso_639_3=arb<br>ppl_mean=%{x}<br>correct_language=%{y}<extra></extra>",
         "legendgroup": "arb",
         "marker": {
          "color": "#B6E880",
          "symbol": "circle"
         },
         "mode": "markers",
         "name": "arb",
         "orientation": "v",
         "showlegend": true,
         "type": "scatter",
         "x": [
          11.421256803274154
         ],
         "xaxis": "x",
         "y": [
          0.01
         ],
         "yaxis": "y"
        },
        {
         "hovertemplate": "iso_639_3=asm<br>ppl_mean=%{x}<br>correct_language=%{y}<extra></extra>",
         "legendgroup": "asm",
         "marker": {
          "color": "#FF97FF",
          "symbol": "circle"
         },
         "mode": "markers",
         "name": "asm",
         "orientation": "v",
         "showlegend": true,
         "type": "scatter",
         "x": [
          14.324290130138397
         ],
         "xaxis": "x",
         "y": [
          0.01
         ],
         "yaxis": "y"
        },
        {
         "hovertemplate": "iso_639_3=ayr<br>ppl_mean=%{x}<br>correct_language=%{y}<extra></extra>",
         "legendgroup": "ayr",
         "marker": {
          "color": "#FECB52",
          "symbol": "circle"
         },
         "mode": "markers",
         "name": "ayr",
         "orientation": "v",
         "showlegend": true,
         "type": "scatter",
         "x": [
          1999.2906161880494
         ],
         "xaxis": "x",
         "y": [
          0.005
         ],
         "yaxis": "y"
        },
        {
         "hovertemplate": "iso_639_3=azb<br>ppl_mean=%{x}<br>correct_language=%{y}<extra></extra>",
         "legendgroup": "azb",
         "marker": {
          "color": "#636efa",
          "symbol": "circle"
         },
         "mode": "markers",
         "name": "azb",
         "orientation": "v",
         "showlegend": true,
         "type": "scatter",
         "x": [
          250.95837436676027
         ],
         "xaxis": "x",
         "y": [
          0.06
         ],
         "yaxis": "y"
        },
        {
         "hovertemplate": "iso_639_3=bam<br>ppl_mean=%{x}<br>correct_language=%{y}<extra></extra>",
         "legendgroup": "bam",
         "marker": {
          "color": "#EF553B",
          "symbol": "circle"
         },
         "mode": "markers",
         "name": "bam",
         "orientation": "v",
         "showlegend": true,
         "type": "scatter",
         "x": [
          871.5941867256165
         ],
         "xaxis": "x",
         "y": [
          0.005
         ],
         "yaxis": "y"
        },
        {
         "hovertemplate": "iso_639_3=bel<br>ppl_mean=%{x}<br>correct_language=%{y}<extra></extra>",
         "legendgroup": "bel",
         "marker": {
          "color": "#00cc96",
          "symbol": "circle"
         },
         "mode": "markers",
         "name": "bel",
         "orientation": "v",
         "showlegend": true,
         "type": "scatter",
         "x": [
          741.1841798114776
         ],
         "xaxis": "x",
         "y": [
          0.015
         ],
         "yaxis": "y"
        },
        {
         "hovertemplate": "iso_639_3=ben<br>ppl_mean=%{x}<br>correct_language=%{y}<extra></extra>",
         "legendgroup": "ben",
         "marker": {
          "color": "#ab63fa",
          "symbol": "circle"
         },
         "mode": "markers",
         "name": "ben",
         "orientation": "v",
         "showlegend": true,
         "type": "scatter",
         "x": [
          12.833324682712554
         ],
         "xaxis": "x",
         "y": [
          0
         ],
         "yaxis": "y"
        },
        {
         "hovertemplate": "iso_639_3=bho<br>ppl_mean=%{x}<br>correct_language=%{y}<extra></extra>",
         "legendgroup": "bho",
         "marker": {
          "color": "#FFA15A",
          "symbol": "circle"
         },
         "mode": "markers",
         "name": "bho",
         "orientation": "v",
         "showlegend": true,
         "type": "scatter",
         "x": [
          15.603801782131194
         ],
         "xaxis": "x",
         "y": [
          0.025
         ],
         "yaxis": "y"
        },
        {
         "hovertemplate": "iso_639_3=bos<br>ppl_mean=%{x}<br>correct_language=%{y}<extra></extra>",
         "legendgroup": "bos",
         "marker": {
          "color": "#19d3f3",
          "symbol": "circle"
         },
         "mode": "markers",
         "name": "bos",
         "orientation": "v",
         "showlegend": true,
         "type": "scatter",
         "x": [
          162.93409740686417
         ],
         "xaxis": "x",
         "y": [
          0.645
         ],
         "yaxis": "y"
        },
        {
         "hovertemplate": "iso_639_3=bul<br>ppl_mean=%{x}<br>correct_language=%{y}<extra></extra>",
         "legendgroup": "bul",
         "marker": {
          "color": "#FF6692",
          "symbol": "circle"
         },
         "mode": "markers",
         "name": "bul",
         "orientation": "v",
         "showlegend": true,
         "type": "scatter",
         "x": [
          71.52898312926293
         ],
         "xaxis": "x",
         "y": [
          0.79
         ],
         "yaxis": "y"
        },
        {
         "hovertemplate": "iso_639_3=cat<br>ppl_mean=%{x}<br>correct_language=%{y}<extra></extra>",
         "legendgroup": "cat",
         "marker": {
          "color": "#B6E880",
          "symbol": "circle"
         },
         "mode": "markers",
         "name": "cat",
         "orientation": "v",
         "showlegend": true,
         "type": "scatter",
         "x": [
          116.49037890911103
         ],
         "xaxis": "x",
         "y": [
          0.975
         ],
         "yaxis": "y"
        },
        {
         "hovertemplate": "iso_639_3=ceb<br>ppl_mean=%{x}<br>correct_language=%{y}<extra></extra>",
         "legendgroup": "ceb",
         "marker": {
          "color": "#FF97FF",
          "symbol": "circle"
         },
         "mode": "markers",
         "name": "ceb",
         "orientation": "v",
         "showlegend": true,
         "type": "scatter",
         "x": [
          421.37016951560975
         ],
         "xaxis": "x",
         "y": [
          0.04
         ],
         "yaxis": "y"
        },
        {
         "hovertemplate": "iso_639_3=ces<br>ppl_mean=%{x}<br>correct_language=%{y}<extra></extra>",
         "legendgroup": "ces",
         "marker": {
          "color": "#FECB52",
          "symbol": "circle"
         },
         "mode": "markers",
         "name": "ces",
         "orientation": "v",
         "showlegend": true,
         "type": "scatter",
         "x": [
          109.83522322535515
         ],
         "xaxis": "x",
         "y": [
          0.76
         ],
         "yaxis": "y"
        },
        {
         "hovertemplate": "iso_639_3=ckb<br>ppl_mean=%{x}<br>correct_language=%{y}<extra></extra>",
         "legendgroup": "ckb",
         "marker": {
          "color": "#636efa",
          "symbol": "circle"
         },
         "mode": "markers",
         "name": "ckb",
         "orientation": "v",
         "showlegend": true,
         "type": "scatter",
         "x": [
          458.9540865623951
         ],
         "xaxis": "x",
         "y": [
          0.0025
         ],
         "yaxis": "y"
        },
        {
         "hovertemplate": "iso_639_3=cos<br>ppl_mean=%{x}<br>correct_language=%{y}<extra></extra>",
         "legendgroup": "cos",
         "marker": {
          "color": "#EF553B",
          "symbol": "circle"
         },
         "mode": "markers",
         "name": "cos",
         "orientation": "v",
         "showlegend": true,
         "type": "scatter",
         "x": [
          713.2346804237366
         ],
         "xaxis": "x",
         "y": [
          0.01
         ],
         "yaxis": "y"
        },
        {
         "hovertemplate": "iso_639_3=cym<br>ppl_mean=%{x}<br>correct_language=%{y}<extra></extra>",
         "legendgroup": "cym",
         "marker": {
          "color": "#00cc96",
          "symbol": "circle"
         },
         "mode": "markers",
         "name": "cym",
         "orientation": "v",
         "showlegend": true,
         "type": "scatter",
         "x": [
          380.5495686244965
         ],
         "xaxis": "x",
         "y": [
          0.095
         ],
         "yaxis": "y"
        },
        {
         "hovertemplate": "iso_639_3=dan<br>ppl_mean=%{x}<br>correct_language=%{y}<extra></extra>",
         "legendgroup": "dan",
         "marker": {
          "color": "#ab63fa",
          "symbol": "circle"
         },
         "mode": "markers",
         "name": "dan",
         "orientation": "v",
         "showlegend": true,
         "type": "scatter",
         "x": [
          85.53761950731277
         ],
         "xaxis": "x",
         "y": [
          0.6
         ],
         "yaxis": "y"
        },
        {
         "hovertemplate": "iso_639_3=deu<br>ppl_mean=%{x}<br>correct_language=%{y}<extra></extra>",
         "legendgroup": "deu",
         "marker": {
          "color": "#FFA15A",
          "symbol": "circle"
         },
         "mode": "markers",
         "name": "deu",
         "orientation": "v",
         "showlegend": true,
         "type": "scatter",
         "x": [
          51.425178916454314
         ],
         "xaxis": "x",
         "y": [
          0.845
         ],
         "yaxis": "y"
        },
        {
         "hovertemplate": "iso_639_3=dgo<br>ppl_mean=%{x}<br>correct_language=%{y}<extra></extra>",
         "legendgroup": "dgo",
         "marker": {
          "color": "#19d3f3",
          "symbol": "circle"
         },
         "mode": "markers",
         "name": "dgo",
         "orientation": "v",
         "showlegend": true,
         "type": "scatter",
         "x": [
          22.880965745449068
         ],
         "xaxis": "x",
         "y": [
          0
         ],
         "yaxis": "y"
        },
        {
         "hovertemplate": "iso_639_3=div<br>ppl_mean=%{x}<br>correct_language=%{y}<extra></extra>",
         "legendgroup": "div",
         "marker": {
          "color": "#FF6692",
          "symbol": "circle"
         },
         "mode": "markers",
         "name": "div",
         "orientation": "v",
         "showlegend": true,
         "type": "scatter",
         "x": [
          5.285620648860931
         ],
         "xaxis": "x",
         "y": [
          0
         ],
         "yaxis": "y"
        },
        {
         "hovertemplate": "iso_639_3=ekk<br>ppl_mean=%{x}<br>correct_language=%{y}<extra></extra>",
         "legendgroup": "ekk",
         "marker": {
          "color": "#B6E880",
          "symbol": "circle"
         },
         "mode": "markers",
         "name": "ekk",
         "orientation": "v",
         "showlegend": true,
         "type": "scatter",
         "x": [
          1005.5364865112305
         ],
         "xaxis": "x",
         "y": [
          0.125
         ],
         "yaxis": "y"
        },
        {
         "hovertemplate": "iso_639_3=ell<br>ppl_mean=%{x}<br>correct_language=%{y}<extra></extra>",
         "legendgroup": "ell",
         "marker": {
          "color": "#FF97FF",
          "symbol": "circle"
         },
         "mode": "markers",
         "name": "ell",
         "orientation": "v",
         "showlegend": true,
         "type": "scatter",
         "x": [
          5.889897736310959
         ],
         "xaxis": "x",
         "y": [
          0.01
         ],
         "yaxis": "y"
        },
        {
         "hovertemplate": "iso_639_3=eng<br>ppl_mean=%{x}<br>correct_language=%{y}<extra></extra>",
         "legendgroup": "eng",
         "marker": {
          "color": "#FECB52",
          "symbol": "circle"
         },
         "mode": "markers",
         "name": "eng",
         "orientation": "v",
         "showlegend": true,
         "type": "scatter",
         "x": [
          26.405682541131974
         ],
         "xaxis": "x",
         "y": [
          0.965
         ],
         "yaxis": "y"
        },
        {
         "hovertemplate": "iso_639_3=epo<br>ppl_mean=%{x}<br>correct_language=%{y}<extra></extra>",
         "legendgroup": "epo",
         "marker": {
          "color": "#636efa",
          "symbol": "circle"
         },
         "mode": "markers",
         "name": "epo",
         "orientation": "v",
         "showlegend": true,
         "type": "scatter",
         "x": [
          679.0827135372161
         ],
         "xaxis": "x",
         "y": [
          0.1
         ],
         "yaxis": "y"
        },
        {
         "hovertemplate": "iso_639_3=eus<br>ppl_mean=%{x}<br>correct_language=%{y}<extra></extra>",
         "legendgroup": "eus",
         "marker": {
          "color": "#EF553B",
          "symbol": "circle"
         },
         "mode": "markers",
         "name": "eus",
         "orientation": "v",
         "showlegend": true,
         "type": "scatter",
         "x": [
          1302.6416424942017
         ],
         "xaxis": "x",
         "y": [
          0.005
         ],
         "yaxis": "y"
        },
        {
         "hovertemplate": "iso_639_3=ewe<br>ppl_mean=%{x}<br>correct_language=%{y}<extra></extra>",
         "legendgroup": "ewe",
         "marker": {
          "color": "#00cc96",
          "symbol": "circle"
         },
         "mode": "markers",
         "name": "ewe",
         "orientation": "v",
         "showlegend": true,
         "type": "scatter",
         "x": [
          1221.3575240516664
         ],
         "xaxis": "x",
         "y": [
          0.01
         ],
         "yaxis": "y"
        },
        {
         "hovertemplate": "iso_639_3=fin<br>ppl_mean=%{x}<br>correct_language=%{y}<extra></extra>",
         "legendgroup": "fin",
         "marker": {
          "color": "#ab63fa",
          "symbol": "circle"
         },
         "mode": "markers",
         "name": "fin",
         "orientation": "v",
         "showlegend": true,
         "type": "scatter",
         "x": [
          37.876311124563216
         ],
         "xaxis": "x",
         "y": [
          0.815
         ],
         "yaxis": "y"
        },
        {
         "hovertemplate": "iso_639_3=fra<br>ppl_mean=%{x}<br>correct_language=%{y}<extra></extra>",
         "legendgroup": "fra",
         "marker": {
          "color": "#FFA15A",
          "symbol": "circle"
         },
         "mode": "markers",
         "name": "fra",
         "orientation": "v",
         "showlegend": true,
         "type": "scatter",
         "x": [
          35.13452158808708
         ],
         "xaxis": "x",
         "y": [
          0.94
         ],
         "yaxis": "y"
        },
        {
         "hovertemplate": "iso_639_3=fry<br>ppl_mean=%{x}<br>correct_language=%{y}<extra></extra>",
         "legendgroup": "fry",
         "marker": {
          "color": "#19d3f3",
          "symbol": "circle"
         },
         "mode": "markers",
         "name": "fry",
         "orientation": "v",
         "showlegend": true,
         "type": "scatter",
         "x": [
          1002.6423836946487
         ],
         "xaxis": "x",
         "y": [
          0.01
         ],
         "yaxis": "y"
        },
        {
         "hovertemplate": "iso_639_3=gaz<br>ppl_mean=%{x}<br>correct_language=%{y}<extra></extra>",
         "legendgroup": "gaz",
         "marker": {
          "color": "#FF6692",
          "symbol": "circle"
         },
         "mode": "markers",
         "name": "gaz",
         "orientation": "v",
         "showlegend": true,
         "type": "scatter",
         "x": [
          608.3578286552429
         ],
         "xaxis": "x",
         "y": [
          0.025
         ],
         "yaxis": "y"
        },
        {
         "hovertemplate": "iso_639_3=gla<br>ppl_mean=%{x}<br>correct_language=%{y}<extra></extra>",
         "legendgroup": "gla",
         "marker": {
          "color": "#B6E880",
          "symbol": "circle"
         },
         "mode": "markers",
         "name": "gla",
         "orientation": "v",
         "showlegend": true,
         "type": "scatter",
         "x": [
          175.49547295570375
         ],
         "xaxis": "x",
         "y": [
          0.175
         ],
         "yaxis": "y"
        },
        {
         "hovertemplate": "iso_639_3=gle<br>ppl_mean=%{x}<br>correct_language=%{y}<extra></extra>",
         "legendgroup": "gle",
         "marker": {
          "color": "#FF97FF",
          "symbol": "circle"
         },
         "mode": "markers",
         "name": "gle",
         "orientation": "v",
         "showlegend": true,
         "type": "scatter",
         "x": [
          911.6915022945404
         ],
         "xaxis": "x",
         "y": [
          0.13
         ],
         "yaxis": "y"
        },
        {
         "hovertemplate": "iso_639_3=glg<br>ppl_mean=%{x}<br>correct_language=%{y}<extra></extra>",
         "legendgroup": "glg",
         "marker": {
          "color": "#FECB52",
          "symbol": "circle"
         },
         "mode": "markers",
         "name": "glg",
         "orientation": "v",
         "showlegend": true,
         "type": "scatter",
         "x": [
          432.28484040260315
         ],
         "xaxis": "x",
         "y": [
          0.025
         ],
         "yaxis": "y"
        },
        {
         "hovertemplate": "iso_639_3=gug<br>ppl_mean=%{x}<br>correct_language=%{y}<extra></extra>",
         "legendgroup": "gug",
         "marker": {
          "color": "#636efa",
          "symbol": "circle"
         },
         "mode": "markers",
         "name": "gug",
         "orientation": "v",
         "showlegend": true,
         "type": "scatter",
         "x": [
          1952.1516692352295
         ],
         "xaxis": "x",
         "y": [
          0.01
         ],
         "yaxis": "y"
        },
        {
         "hovertemplate": "iso_639_3=guj<br>ppl_mean=%{x}<br>correct_language=%{y}<extra></extra>",
         "legendgroup": "guj",
         "marker": {
          "color": "#EF553B",
          "symbol": "circle"
         },
         "mode": "markers",
         "name": "guj",
         "orientation": "v",
         "showlegend": true,
         "type": "scatter",
         "x": [
          3.0949623918533327
         ],
         "xaxis": "x",
         "y": [
          0
         ],
         "yaxis": "y"
        },
        {
         "hovertemplate": "iso_639_3=hat<br>ppl_mean=%{x}<br>correct_language=%{y}<extra></extra>",
         "legendgroup": "hat",
         "marker": {
          "color": "#00cc96",
          "symbol": "circle"
         },
         "mode": "markers",
         "name": "hat",
         "orientation": "v",
         "showlegend": true,
         "type": "scatter",
         "x": [
          1279.2583605957032
         ],
         "xaxis": "x",
         "y": [
          0.025
         ],
         "yaxis": "y"
        },
        {
         "hovertemplate": "iso_639_3=hau<br>ppl_mean=%{x}<br>correct_language=%{y}<extra></extra>",
         "legendgroup": "hau",
         "marker": {
          "color": "#ab63fa",
          "symbol": "circle"
         },
         "mode": "markers",
         "name": "hau",
         "orientation": "v",
         "showlegend": true,
         "type": "scatter",
         "x": [
          1153.4369309806823
         ],
         "xaxis": "x",
         "y": [
          0.005
         ],
         "yaxis": "y"
        },
        {
         "hovertemplate": "iso_639_3=haw<br>ppl_mean=%{x}<br>correct_language=%{y}<extra></extra>",
         "legendgroup": "haw",
         "marker": {
          "color": "#FFA15A",
          "symbol": "circle"
         },
         "mode": "markers",
         "name": "haw",
         "orientation": "v",
         "showlegend": true,
         "type": "scatter",
         "x": [
          226.1357765197754
         ],
         "xaxis": "x",
         "y": [
          0.07
         ],
         "yaxis": "y"
        },
        {
         "hovertemplate": "iso_639_3=hbs<br>ppl_mean=%{x}<br>correct_language=%{y}<extra></extra>",
         "legendgroup": "hbs",
         "marker": {
          "color": "#19d3f3",
          "symbol": "circle"
         },
         "mode": "markers",
         "name": "hbs",
         "orientation": "v",
         "showlegend": true,
         "type": "scatter",
         "x": [
          135.39156342744826
         ],
         "xaxis": "x",
         "y": [
          0.775
         ],
         "yaxis": "y"
        },
        {
         "hovertemplate": "iso_639_3=heb<br>ppl_mean=%{x}<br>correct_language=%{y}<extra></extra>",
         "legendgroup": "heb",
         "marker": {
          "color": "#FF6692",
          "symbol": "circle"
         },
         "mode": "markers",
         "name": "heb",
         "orientation": "v",
         "showlegend": true,
         "type": "scatter",
         "x": [
          14.204270597696304
         ],
         "xaxis": "x",
         "y": [
          0
         ],
         "yaxis": "y"
        },
        {
         "hovertemplate": "iso_639_3=hin<br>ppl_mean=%{x}<br>correct_language=%{y}<extra></extra>",
         "legendgroup": "hin",
         "marker": {
          "color": "#B6E880",
          "symbol": "circle"
         },
         "mode": "markers",
         "name": "hin",
         "orientation": "v",
         "showlegend": true,
         "type": "scatter",
         "x": [
          5.551534261703491
         ],
         "xaxis": "x",
         "y": [
          0.01
         ],
         "yaxis": "y"
        },
        {
         "hovertemplate": "iso_639_3=hun<br>ppl_mean=%{x}<br>correct_language=%{y}<extra></extra>",
         "legendgroup": "hun",
         "marker": {
          "color": "#FF97FF",
          "symbol": "circle"
         },
         "mode": "markers",
         "name": "hun",
         "orientation": "v",
         "showlegend": true,
         "type": "scatter",
         "x": [
          87.63576113820076
         ],
         "xaxis": "x",
         "y": [
          0.82
         ],
         "yaxis": "y"
        },
        {
         "hovertemplate": "iso_639_3=hye<br>ppl_mean=%{x}<br>correct_language=%{y}<extra></extra>",
         "legendgroup": "hye",
         "marker": {
          "color": "#FECB52",
          "symbol": "circle"
         },
         "mode": "markers",
         "name": "hye",
         "orientation": "v",
         "showlegend": true,
         "type": "scatter",
         "x": [
          10.505088776350021
         ],
         "xaxis": "x",
         "y": [
          0.005
         ],
         "yaxis": "y"
        },
        {
         "hovertemplate": "iso_639_3=ibo<br>ppl_mean=%{x}<br>correct_language=%{y}<extra></extra>",
         "legendgroup": "ibo",
         "marker": {
          "color": "#636efa",
          "symbol": "circle"
         },
         "mode": "markers",
         "name": "ibo",
         "orientation": "v",
         "showlegend": true,
         "type": "scatter",
         "x": [
          505.30219938278196
         ],
         "xaxis": "x",
         "y": [
          0.045
         ],
         "yaxis": "y"
        },
        {
         "hovertemplate": "iso_639_3=ilo<br>ppl_mean=%{x}<br>correct_language=%{y}<extra></extra>",
         "legendgroup": "ilo",
         "marker": {
          "color": "#EF553B",
          "symbol": "circle"
         },
         "mode": "markers",
         "name": "ilo",
         "orientation": "v",
         "showlegend": true,
         "type": "scatter",
         "x": [
          1125.9408091545106
         ],
         "xaxis": "x",
         "y": [
          0.01
         ],
         "yaxis": "y"
        },
        {
         "hovertemplate": "iso_639_3=ind<br>ppl_mean=%{x}<br>correct_language=%{y}<extra></extra>",
         "legendgroup": "ind",
         "marker": {
          "color": "#00cc96",
          "symbol": "circle"
         },
         "mode": "markers",
         "name": "ind",
         "orientation": "v",
         "showlegend": true,
         "type": "scatter",
         "x": [
          83.43028494596481
         ],
         "xaxis": "x",
         "y": [
          0.715
         ],
         "yaxis": "y"
        },
        {
         "hovertemplate": "iso_639_3=isl<br>ppl_mean=%{x}<br>correct_language=%{y}<extra></extra>",
         "legendgroup": "isl",
         "marker": {
          "color": "#ab63fa",
          "symbol": "circle"
         },
         "mode": "markers",
         "name": "isl",
         "orientation": "v",
         "showlegend": true,
         "type": "scatter",
         "x": [
          131.82455630302428
         ],
         "xaxis": "x",
         "y": [
          0.09
         ],
         "yaxis": "y"
        },
        {
         "hovertemplate": "iso_639_3=ita<br>ppl_mean=%{x}<br>correct_language=%{y}<extra></extra>",
         "legendgroup": "ita",
         "marker": {
          "color": "#FFA15A",
          "symbol": "circle"
         },
         "mode": "markers",
         "name": "ita",
         "orientation": "v",
         "showlegend": true,
         "type": "scatter",
         "x": [
          66.61669809818268
         ],
         "xaxis": "x",
         "y": [
          0.915
         ],
         "yaxis": "y"
        },
        {
         "hovertemplate": "iso_639_3=jav<br>ppl_mean=%{x}<br>correct_language=%{y}<extra></extra>",
         "legendgroup": "jav",
         "marker": {
          "color": "#19d3f3",
          "symbol": "circle"
         },
         "mode": "markers",
         "name": "jav",
         "orientation": "v",
         "showlegend": true,
         "type": "scatter",
         "x": [
          995.4615400314331
         ],
         "xaxis": "x",
         "y": [
          0.0175
         ],
         "yaxis": "y"
        },
        {
         "hovertemplate": "iso_639_3=jpn<br>ppl_mean=%{x}<br>correct_language=%{y}<extra></extra>",
         "legendgroup": "jpn",
         "marker": {
          "color": "#FF6692",
          "symbol": "circle"
         },
         "mode": "markers",
         "name": "jpn",
         "orientation": "v",
         "showlegend": true,
         "type": "scatter",
         "x": [
          22.13402976989746
         ],
         "xaxis": "x",
         "y": [
          0.06
         ],
         "yaxis": "y"
        },
        {
         "hovertemplate": "iso_639_3=kan<br>ppl_mean=%{x}<br>correct_language=%{y}<extra></extra>",
         "legendgroup": "kan",
         "marker": {
          "color": "#B6E880",
          "symbol": "circle"
         },
         "mode": "markers",
         "name": "kan",
         "orientation": "v",
         "showlegend": true,
         "type": "scatter",
         "x": [
          3.1517431169748304
         ],
         "xaxis": "x",
         "y": [
          0.015
         ],
         "yaxis": "y"
        },
        {
         "hovertemplate": "iso_639_3=kat<br>ppl_mean=%{x}<br>correct_language=%{y}<extra></extra>",
         "legendgroup": "kat",
         "marker": {
          "color": "#FF97FF",
          "symbol": "circle"
         },
         "mode": "markers",
         "name": "kat",
         "orientation": "v",
         "showlegend": true,
         "type": "scatter",
         "x": [
          10.87001810669899
         ],
         "xaxis": "x",
         "y": [
          0.025
         ],
         "yaxis": "y"
        },
        {
         "hovertemplate": "iso_639_3=kaz<br>ppl_mean=%{x}<br>correct_language=%{y}<extra></extra>",
         "legendgroup": "kaz",
         "marker": {
          "color": "#FECB52",
          "symbol": "circle"
         },
         "mode": "markers",
         "name": "kaz",
         "orientation": "v",
         "showlegend": true,
         "type": "scatter",
         "x": [
          486.02022285461425
         ],
         "xaxis": "x",
         "y": [
          0.005
         ],
         "yaxis": "y"
        },
        {
         "hovertemplate": "iso_639_3=khm<br>ppl_mean=%{x}<br>correct_language=%{y}<extra></extra>",
         "legendgroup": "khm",
         "marker": {
          "color": "#636efa",
          "symbol": "circle"
         },
         "mode": "markers",
         "name": "khm",
         "orientation": "v",
         "showlegend": true,
         "type": "scatter",
         "x": [
          4.356016741991043
         ],
         "xaxis": "x",
         "y": [
          0.005
         ],
         "yaxis": "y"
        },
        {
         "hovertemplate": "iso_639_3=kin<br>ppl_mean=%{x}<br>correct_language=%{y}<extra></extra>",
         "legendgroup": "kin",
         "marker": {
          "color": "#EF553B",
          "symbol": "circle"
         },
         "mode": "markers",
         "name": "kin",
         "orientation": "v",
         "showlegend": true,
         "type": "scatter",
         "x": [
          854.1772888374329
         ],
         "xaxis": "x",
         "y": [
          0.01
         ],
         "yaxis": "y"
        },
        {
         "hovertemplate": "iso_639_3=kir<br>ppl_mean=%{x}<br>correct_language=%{y}<extra></extra>",
         "legendgroup": "kir",
         "marker": {
          "color": "#00cc96",
          "symbol": "circle"
         },
         "mode": "markers",
         "name": "kir",
         "orientation": "v",
         "showlegend": true,
         "type": "scatter",
         "x": [
          506.478229598999
         ],
         "xaxis": "x",
         "y": [
          0.01
         ],
         "yaxis": "y"
        },
        {
         "hovertemplate": "iso_639_3=knn<br>ppl_mean=%{x}<br>correct_language=%{y}<extra></extra>",
         "legendgroup": "knn",
         "marker": {
          "color": "#ab63fa",
          "symbol": "circle"
         },
         "mode": "markers",
         "name": "knn",
         "orientation": "v",
         "showlegend": true,
         "type": "scatter",
         "x": [
          25.420572881698607
         ],
         "xaxis": "x",
         "y": [
          0
         ],
         "yaxis": "y"
        },
        {
         "hovertemplate": "iso_639_3=kor<br>ppl_mean=%{x}<br>correct_language=%{y}<extra></extra>",
         "legendgroup": "kor",
         "marker": {
          "color": "#FFA15A",
          "symbol": "circle"
         },
         "mode": "markers",
         "name": "kor",
         "orientation": "v",
         "showlegend": true,
         "type": "scatter",
         "x": [
          7.800798389911652
         ],
         "xaxis": "x",
         "y": [
          0.03
         ],
         "yaxis": "y"
        },
        {
         "hovertemplate": "iso_639_3=kri<br>ppl_mean=%{x}<br>correct_language=%{y}<extra></extra>",
         "legendgroup": "kri",
         "marker": {
          "color": "#19d3f3",
          "symbol": "circle"
         },
         "mode": "markers",
         "name": "kri",
         "orientation": "v",
         "showlegend": true,
         "type": "scatter",
         "x": [
          724.3194964790345
         ],
         "xaxis": "x",
         "y": [
          0
         ],
         "yaxis": "y"
        },
        {
         "hovertemplate": "iso_639_3=lao<br>ppl_mean=%{x}<br>correct_language=%{y}<extra></extra>",
         "legendgroup": "lao",
         "marker": {
          "color": "#FF6692",
          "symbol": "circle"
         },
         "mode": "markers",
         "name": "lao",
         "orientation": "v",
         "showlegend": true,
         "type": "scatter",
         "x": [
          4.055532405376434
         ],
         "xaxis": "x",
         "y": [
          0
         ],
         "yaxis": "y"
        },
        {
         "hovertemplate": "iso_639_3=lat<br>ppl_mean=%{x}<br>correct_language=%{y}<extra></extra>",
         "legendgroup": "lat",
         "marker": {
          "color": "#B6E880",
          "symbol": "circle"
         },
         "mode": "markers",
         "name": "lat",
         "orientation": "v",
         "showlegend": true,
         "type": "scatter",
         "x": [
          322.8153893470764
         ],
         "xaxis": "x",
         "y": [
          0.05
         ],
         "yaxis": "y"
        },
        {
         "hovertemplate": "iso_639_3=lav<br>ppl_mean=%{x}<br>correct_language=%{y}<extra></extra>",
         "legendgroup": "lav",
         "marker": {
          "color": "#FF97FF",
          "symbol": "circle"
         },
         "mode": "markers",
         "name": "lav",
         "orientation": "v",
         "showlegend": true,
         "type": "scatter",
         "x": [
          501.67488943576814
         ],
         "xaxis": "x",
         "y": [
          0.14
         ],
         "yaxis": "y"
        },
        {
         "hovertemplate": "iso_639_3=lin<br>ppl_mean=%{x}<br>correct_language=%{y}<extra></extra>",
         "legendgroup": "lin",
         "marker": {
          "color": "#FECB52",
          "symbol": "circle"
         },
         "mode": "markers",
         "name": "lin",
         "orientation": "v",
         "showlegend": true,
         "type": "scatter",
         "x": [
          1330.5042337799073
         ],
         "xaxis": "x",
         "y": [
          0.005
         ],
         "yaxis": "y"
        },
        {
         "hovertemplate": "iso_639_3=lit<br>ppl_mean=%{x}<br>correct_language=%{y}<extra></extra>",
         "legendgroup": "lit",
         "marker": {
          "color": "#636efa",
          "symbol": "circle"
         },
         "mode": "markers",
         "name": "lit",
         "orientation": "v",
         "showlegend": true,
         "type": "scatter",
         "x": [
          217.05468152046203
         ],
         "xaxis": "x",
         "y": [
          0.33
         ],
         "yaxis": "y"
        },
        {
         "hovertemplate": "iso_639_3=ltz<br>ppl_mean=%{x}<br>correct_language=%{y}<extra></extra>",
         "legendgroup": "ltz",
         "marker": {
          "color": "#EF553B",
          "symbol": "circle"
         },
         "mode": "markers",
         "name": "ltz",
         "orientation": "v",
         "showlegend": true,
         "type": "scatter",
         "x": [
          1579.100448246002
         ],
         "xaxis": "x",
         "y": [
          0.005
         ],
         "yaxis": "y"
        },
        {
         "hovertemplate": "iso_639_3=lug<br>ppl_mean=%{x}<br>correct_language=%{y}<extra></extra>",
         "legendgroup": "lug",
         "marker": {
          "color": "#00cc96",
          "symbol": "circle"
         },
         "mode": "markers",
         "name": "lug",
         "orientation": "v",
         "showlegend": true,
         "type": "scatter",
         "x": [
          1070.2743577575684
         ],
         "xaxis": "x",
         "y": [
          0.01
         ],
         "yaxis": "y"
        },
        {
         "hovertemplate": "iso_639_3=lus<br>ppl_mean=%{x}<br>correct_language=%{y}<extra></extra>",
         "legendgroup": "lus",
         "marker": {
          "color": "#ab63fa",
          "symbol": "circle"
         },
         "mode": "markers",
         "name": "lus",
         "orientation": "v",
         "showlegend": true,
         "type": "scatter",
         "x": [
          1361.9082891464234
         ],
         "xaxis": "x",
         "y": [
          0
         ],
         "yaxis": "y"
        },
        {
         "hovertemplate": "iso_639_3=mai<br>ppl_mean=%{x}<br>correct_language=%{y}<extra></extra>",
         "legendgroup": "mai",
         "marker": {
          "color": "#FFA15A",
          "symbol": "circle"
         },
         "mode": "markers",
         "name": "mai",
         "orientation": "v",
         "showlegend": true,
         "type": "scatter",
         "x": [
          17.527642358541488
         ],
         "xaxis": "x",
         "y": [
          0
         ],
         "yaxis": "y"
        },
        {
         "hovertemplate": "iso_639_3=mal<br>ppl_mean=%{x}<br>correct_language=%{y}<extra></extra>",
         "legendgroup": "mal",
         "marker": {
          "color": "#19d3f3",
          "symbol": "circle"
         },
         "mode": "markers",
         "name": "mal",
         "orientation": "v",
         "showlegend": true,
         "type": "scatter",
         "x": [
          8.264147670269013
         ],
         "xaxis": "x",
         "y": [
          0.005
         ],
         "yaxis": "y"
        },
        {
         "hovertemplate": "iso_639_3=mar<br>ppl_mean=%{x}<br>correct_language=%{y}<extra></extra>",
         "legendgroup": "mar",
         "marker": {
          "color": "#FF6692",
          "symbol": "circle"
         },
         "mode": "markers",
         "name": "mar",
         "orientation": "v",
         "showlegend": true,
         "type": "scatter",
         "x": [
          10.64962666630745
         ],
         "xaxis": "x",
         "y": [
          0
         ],
         "yaxis": "y"
        },
        {
         "hovertemplate": "iso_639_3=mkd<br>ppl_mean=%{x}<br>correct_language=%{y}<extra></extra>",
         "legendgroup": "mkd",
         "marker": {
          "color": "#B6E880",
          "symbol": "circle"
         },
         "mode": "markers",
         "name": "mkd",
         "orientation": "v",
         "showlegend": true,
         "type": "scatter",
         "x": [
          252.23941699028015
         ],
         "xaxis": "x",
         "y": [
          0.05
         ],
         "yaxis": "y"
        },
        {
         "hovertemplate": "iso_639_3=mlt<br>ppl_mean=%{x}<br>correct_language=%{y}<extra></extra>",
         "legendgroup": "mlt",
         "marker": {
          "color": "#FF97FF",
          "symbol": "circle"
         },
         "mode": "markers",
         "name": "mlt",
         "orientation": "v",
         "showlegend": true,
         "type": "scatter",
         "x": [
          393.1141187858582
         ],
         "xaxis": "x",
         "y": [
          0.095
         ],
         "yaxis": "y"
        },
        {
         "hovertemplate": "iso_639_3=mni<br>ppl_mean=%{x}<br>correct_language=%{y}<extra></extra>",
         "legendgroup": "mni",
         "marker": {
          "color": "#FECB52",
          "symbol": "circle"
         },
         "mode": "markers",
         "name": "mni",
         "orientation": "v",
         "showlegend": true,
         "type": "scatter",
         "x": [
          7.372600014209747
         ],
         "xaxis": "x",
         "y": [
          0
         ],
         "yaxis": "y"
        },
        {
         "hovertemplate": "iso_639_3=mon<br>ppl_mean=%{x}<br>correct_language=%{y}<extra></extra>",
         "legendgroup": "mon",
         "marker": {
          "color": "#636efa",
          "symbol": "circle"
         },
         "mode": "markers",
         "name": "mon",
         "orientation": "v",
         "showlegend": true,
         "type": "scatter",
         "x": [
          144.36959407806395
         ],
         "xaxis": "x",
         "y": [
          0.005
         ],
         "yaxis": "y"
        },
        {
         "hovertemplate": "iso_639_3=mri<br>ppl_mean=%{x}<br>correct_language=%{y}<extra></extra>",
         "legendgroup": "mri",
         "marker": {
          "color": "#EF553B",
          "symbol": "circle"
         },
         "mode": "markers",
         "name": "mri",
         "orientation": "v",
         "showlegend": true,
         "type": "scatter",
         "x": [
          116.14823321819306
         ],
         "xaxis": "x",
         "y": [
          0.145
         ],
         "yaxis": "y"
        },
        {
         "hovertemplate": "iso_639_3=mww<br>ppl_mean=%{x}<br>correct_language=%{y}<extra></extra>",
         "legendgroup": "mww",
         "marker": {
          "color": "#00cc96",
          "symbol": "circle"
         },
         "mode": "markers",
         "name": "mww",
         "orientation": "v",
         "showlegend": true,
         "type": "scatter",
         "x": [
          581.0612589073181
         ],
         "xaxis": "x",
         "y": [
          0
         ],
         "yaxis": "y"
        },
        {
         "hovertemplate": "iso_639_3=mya<br>ppl_mean=%{x}<br>correct_language=%{y}<extra></extra>",
         "legendgroup": "mya",
         "marker": {
          "color": "#ab63fa",
          "symbol": "circle"
         },
         "mode": "markers",
         "name": "mya",
         "orientation": "v",
         "showlegend": true,
         "type": "scatter",
         "x": [
          5.765886981487274
         ],
         "xaxis": "x",
         "y": [
          0.015
         ],
         "yaxis": "y"
        },
        {
         "hovertemplate": "iso_639_3=nld<br>ppl_mean=%{x}<br>correct_language=%{y}<extra></extra>",
         "legendgroup": "nld",
         "marker": {
          "color": "#FFA15A",
          "symbol": "circle"
         },
         "mode": "markers",
         "name": "nld",
         "orientation": "v",
         "showlegend": true,
         "type": "scatter",
         "x": [
          56.93228619337082
         ],
         "xaxis": "x",
         "y": [
          0.895
         ],
         "yaxis": "y"
        },
        {
         "hovertemplate": "iso_639_3=nor<br>ppl_mean=%{x}<br>correct_language=%{y}<extra></extra>",
         "legendgroup": "nor",
         "marker": {
          "color": "#19d3f3",
          "symbol": "circle"
         },
         "mode": "markers",
         "name": "nor",
         "orientation": "v",
         "showlegend": true,
         "type": "scatter",
         "x": [
          120.61472854614257
         ],
         "xaxis": "x",
         "y": [
          0.47
         ],
         "yaxis": "y"
        },
        {
         "hovertemplate": "iso_639_3=npi<br>ppl_mean=%{x}<br>correct_language=%{y}<extra></extra>",
         "legendgroup": "npi",
         "marker": {
          "color": "#FF6692",
          "symbol": "circle"
         },
         "mode": "markers",
         "name": "npi",
         "orientation": "v",
         "showlegend": true,
         "type": "scatter",
         "x": [
          11.166576192378997
         ],
         "xaxis": "x",
         "y": [
          0.005
         ],
         "yaxis": "y"
        },
        {
         "hovertemplate": "iso_639_3=nso<br>ppl_mean=%{x}<br>correct_language=%{y}<extra></extra>",
         "legendgroup": "nso",
         "marker": {
          "color": "#B6E880",
          "symbol": "circle"
         },
         "mode": "markers",
         "name": "nso",
         "orientation": "v",
         "showlegend": true,
         "type": "scatter",
         "x": [
          1756.8794184112548
         ],
         "xaxis": "x",
         "y": [
          0.005
         ],
         "yaxis": "y"
        },
        {
         "hovertemplate": "iso_639_3=nya<br>ppl_mean=%{x}<br>correct_language=%{y}<extra></extra>",
         "legendgroup": "nya",
         "marker": {
          "color": "#FF97FF",
          "symbol": "circle"
         },
         "mode": "markers",
         "name": "nya",
         "orientation": "v",
         "showlegend": true,
         "type": "scatter",
         "x": [
          456.0009963607788
         ],
         "xaxis": "x",
         "y": [
          0.18
         ],
         "yaxis": "y"
        },
        {
         "hovertemplate": "iso_639_3=ory<br>ppl_mean=%{x}<br>correct_language=%{y}<extra></extra>",
         "legendgroup": "ory",
         "marker": {
          "color": "#FECB52",
          "symbol": "circle"
         },
         "mode": "markers",
         "name": "ory",
         "orientation": "v",
         "showlegend": true,
         "type": "scatter",
         "x": [
          5.6702114260196685
         ],
         "xaxis": "x",
         "y": [
          0.01
         ],
         "yaxis": "y"
        },
        {
         "hovertemplate": "iso_639_3=pan<br>ppl_mean=%{x}<br>correct_language=%{y}<extra></extra>",
         "legendgroup": "pan",
         "marker": {
          "color": "#636efa",
          "symbol": "circle"
         },
         "mode": "markers",
         "name": "pan",
         "orientation": "v",
         "showlegend": true,
         "type": "scatter",
         "x": [
          3.871647800207138
         ],
         "xaxis": "x",
         "y": [
          0.005
         ],
         "yaxis": "y"
        },
        {
         "hovertemplate": "iso_639_3=pes<br>ppl_mean=%{x}<br>correct_language=%{y}<extra></extra>",
         "legendgroup": "pes",
         "marker": {
          "color": "#EF553B",
          "symbol": "circle"
         },
         "mode": "markers",
         "name": "pes",
         "orientation": "v",
         "showlegend": true,
         "type": "scatter",
         "x": [
          11.05608152270317
         ],
         "xaxis": "x",
         "y": [
          0
         ],
         "yaxis": "y"
        },
        {
         "hovertemplate": "iso_639_3=plt<br>ppl_mean=%{x}<br>correct_language=%{y}<extra></extra>",
         "legendgroup": "plt",
         "marker": {
          "color": "#00cc96",
          "symbol": "circle"
         },
         "mode": "markers",
         "name": "plt",
         "orientation": "v",
         "showlegend": true,
         "type": "scatter",
         "x": [
          1056.4469432640076
         ],
         "xaxis": "x",
         "y": [
          0.025
         ],
         "yaxis": "y"
        },
        {
         "hovertemplate": "iso_639_3=pol<br>ppl_mean=%{x}<br>correct_language=%{y}<extra></extra>",
         "legendgroup": "pol",
         "marker": {
          "color": "#ab63fa",
          "symbol": "circle"
         },
         "mode": "markers",
         "name": "pol",
         "orientation": "v",
         "showlegend": true,
         "type": "scatter",
         "x": [
          120.0837257862091
         ],
         "xaxis": "x",
         "y": [
          0.82
         ],
         "yaxis": "y"
        },
        {
         "hovertemplate": "iso_639_3=por<br>ppl_mean=%{x}<br>correct_language=%{y}<extra></extra>",
         "legendgroup": "por",
         "marker": {
          "color": "#FFA15A",
          "symbol": "circle"
         },
         "mode": "markers",
         "name": "por",
         "orientation": "v",
         "showlegend": true,
         "type": "scatter",
         "x": [
          47.14802951097489
         ],
         "xaxis": "x",
         "y": [
          0.96
         ],
         "yaxis": "y"
        },
        {
         "hovertemplate": "iso_639_3=pst<br>ppl_mean=%{x}<br>correct_language=%{y}<extra></extra>",
         "legendgroup": "pst",
         "marker": {
          "color": "#19d3f3",
          "symbol": "circle"
         },
         "mode": "markers",
         "name": "pst",
         "orientation": "v",
         "showlegend": true,
         "type": "scatter",
         "x": [
          25.142334723472594
         ],
         "xaxis": "x",
         "y": [
          0.005
         ],
         "yaxis": "y"
        },
        {
         "hovertemplate": "iso_639_3=quh<br>ppl_mean=%{x}<br>correct_language=%{y}<extra></extra>",
         "legendgroup": "quh",
         "marker": {
          "color": "#FF6692",
          "symbol": "circle"
         },
         "mode": "markers",
         "name": "quh",
         "orientation": "v",
         "showlegend": true,
         "type": "scatter",
         "x": [
          763.8736692428589
         ],
         "xaxis": "x",
         "y": [
          0
         ],
         "yaxis": "y"
        },
        {
         "hovertemplate": "iso_639_3=ron<br>ppl_mean=%{x}<br>correct_language=%{y}<extra></extra>",
         "legendgroup": "ron",
         "marker": {
          "color": "#B6E880",
          "symbol": "circle"
         },
         "mode": "markers",
         "name": "ron",
         "orientation": "v",
         "showlegend": true,
         "type": "scatter",
         "x": [
          148.0975695323944
         ],
         "xaxis": "x",
         "y": [
          0.75
         ],
         "yaxis": "y"
        },
        {
         "hovertemplate": "iso_639_3=rus<br>ppl_mean=%{x}<br>correct_language=%{y}<extra></extra>",
         "legendgroup": "rus",
         "marker": {
          "color": "#FF97FF",
          "symbol": "circle"
         },
         "mode": "markers",
         "name": "rus",
         "orientation": "v",
         "showlegend": true,
         "type": "scatter",
         "x": [
          34.228040376901625
         ],
         "xaxis": "x",
         "y": [
          0.875
         ],
         "yaxis": "y"
        },
        {
         "hovertemplate": "iso_639_3=san<br>ppl_mean=%{x}<br>correct_language=%{y}<extra></extra>",
         "legendgroup": "san",
         "marker": {
          "color": "#FECB52",
          "symbol": "circle"
         },
         "mode": "markers",
         "name": "san",
         "orientation": "v",
         "showlegend": true,
         "type": "scatter",
         "x": [
          13.97128404378891
         ],
         "xaxis": "x",
         "y": [
          0.005
         ],
         "yaxis": "y"
        },
        {
         "hovertemplate": "iso_639_3=sin<br>ppl_mean=%{x}<br>correct_language=%{y}<extra></extra>",
         "legendgroup": "sin",
         "marker": {
          "color": "#636efa",
          "symbol": "circle"
         },
         "mode": "markers",
         "name": "sin",
         "orientation": "v",
         "showlegend": true,
         "type": "scatter",
         "x": [
          4.548897844552994
         ],
         "xaxis": "x",
         "y": [
          0.01
         ],
         "yaxis": "y"
        },
        {
         "hovertemplate": "iso_639_3=slk<br>ppl_mean=%{x}<br>correct_language=%{y}<extra></extra>",
         "legendgroup": "slk",
         "marker": {
          "color": "#EF553B",
          "symbol": "circle"
         },
         "mode": "markers",
         "name": "slk",
         "orientation": "v",
         "showlegend": true,
         "type": "scatter",
         "x": [
          137.82939891815187
         ],
         "xaxis": "x",
         "y": [
          0.205
         ],
         "yaxis": "y"
        },
        {
         "hovertemplate": "iso_639_3=slv<br>ppl_mean=%{x}<br>correct_language=%{y}<extra></extra>",
         "legendgroup": "slv",
         "marker": {
          "color": "#00cc96",
          "symbol": "circle"
         },
         "mode": "markers",
         "name": "slv",
         "orientation": "v",
         "showlegend": true,
         "type": "scatter",
         "x": [
          169.77467192173003
         ],
         "xaxis": "x",
         "y": [
          0.57
         ],
         "yaxis": "y"
        },
        {
         "hovertemplate": "iso_639_3=smo<br>ppl_mean=%{x}<br>correct_language=%{y}<extra></extra>",
         "legendgroup": "smo",
         "marker": {
          "color": "#ab63fa",
          "symbol": "circle"
         },
         "mode": "markers",
         "name": "smo",
         "orientation": "v",
         "showlegend": true,
         "type": "scatter",
         "x": [
          349.32122107505796
         ],
         "xaxis": "x",
         "y": [
          0.01
         ],
         "yaxis": "y"
        },
        {
         "hovertemplate": "iso_639_3=sna<br>ppl_mean=%{x}<br>correct_language=%{y}<extra></extra>",
         "legendgroup": "sna",
         "marker": {
          "color": "#FFA15A",
          "symbol": "circle"
         },
         "mode": "markers",
         "name": "sna",
         "orientation": "v",
         "showlegend": true,
         "type": "scatter",
         "x": [
          822.2361698532104
         ],
         "xaxis": "x",
         "y": [
          0.015
         ],
         "yaxis": "y"
        },
        {
         "hovertemplate": "iso_639_3=snd<br>ppl_mean=%{x}<br>correct_language=%{y}<extra></extra>",
         "legendgroup": "snd",
         "marker": {
          "color": "#19d3f3",
          "symbol": "circle"
         },
         "mode": "markers",
         "name": "snd",
         "orientation": "v",
         "showlegend": true,
         "type": "scatter",
         "x": [
          32.48230726718903
         ],
         "xaxis": "x",
         "y": [
          0
         ],
         "yaxis": "y"
        },
        {
         "hovertemplate": "iso_639_3=som<br>ppl_mean=%{x}<br>correct_language=%{y}<extra></extra>",
         "legendgroup": "som",
         "marker": {
          "color": "#FF6692",
          "symbol": "circle"
         },
         "mode": "markers",
         "name": "som",
         "orientation": "v",
         "showlegend": true,
         "type": "scatter",
         "x": [
          663.0509454727173
         ],
         "xaxis": "x",
         "y": [
          0.025
         ],
         "yaxis": "y"
        },
        {
         "hovertemplate": "iso_639_3=sot<br>ppl_mean=%{x}<br>correct_language=%{y}<extra></extra>",
         "legendgroup": "sot",
         "marker": {
          "color": "#B6E880",
          "symbol": "circle"
         },
         "mode": "markers",
         "name": "sot",
         "orientation": "v",
         "showlegend": true,
         "type": "scatter",
         "x": [
          1367.4802212905884
         ],
         "xaxis": "x",
         "y": [
          0.01
         ],
         "yaxis": "y"
        },
        {
         "hovertemplate": "iso_639_3=spa<br>ppl_mean=%{x}<br>correct_language=%{y}<extra></extra>",
         "legendgroup": "spa",
         "marker": {
          "color": "#FF97FF",
          "symbol": "circle"
         },
         "mode": "markers",
         "name": "spa",
         "orientation": "v",
         "showlegend": true,
         "type": "scatter",
         "x": [
          23.969628477096556
         ],
         "xaxis": "x",
         "y": [
          0.965
         ],
         "yaxis": "y"
        },
        {
         "hovertemplate": "iso_639_3=sqi<br>ppl_mean=%{x}<br>correct_language=%{y}<extra></extra>",
         "legendgroup": "sqi",
         "marker": {
          "color": "#FECB52",
          "symbol": "circle"
         },
         "mode": "markers",
         "name": "sqi",
         "orientation": "v",
         "showlegend": true,
         "type": "scatter",
         "x": [
          155.56577686309814
         ],
         "xaxis": "x",
         "y": [
          0.065
         ],
         "yaxis": "y"
        },
        {
         "hovertemplate": "iso_639_3=sun<br>ppl_mean=%{x}<br>correct_language=%{y}<extra></extra>",
         "legendgroup": "sun",
         "marker": {
          "color": "#636efa",
          "symbol": "circle"
         },
         "mode": "markers",
         "name": "sun",
         "orientation": "v",
         "showlegend": true,
         "type": "scatter",
         "x": [
          915.7982478332519
         ],
         "xaxis": "x",
         "y": [
          0.025
         ],
         "yaxis": "y"
        },
        {
         "hovertemplate": "iso_639_3=swe<br>ppl_mean=%{x}<br>correct_language=%{y}<extra></extra>",
         "legendgroup": "swe",
         "marker": {
          "color": "#EF553B",
          "symbol": "circle"
         },
         "mode": "markers",
         "name": "swe",
         "orientation": "v",
         "showlegend": true,
         "type": "scatter",
         "x": [
          91.42094387054443
         ],
         "xaxis": "x",
         "y": [
          0.825
         ],
         "yaxis": "y"
        },
        {
         "hovertemplate": "iso_639_3=swh<br>ppl_mean=%{x}<br>correct_language=%{y}<extra></extra>",
         "legendgroup": "swh",
         "marker": {
          "color": "#00cc96",
          "symbol": "circle"
         },
         "mode": "markers",
         "name": "swh",
         "orientation": "v",
         "showlegend": true,
         "type": "scatter",
         "x": [
          345.8406853199005
         ],
         "xaxis": "x",
         "y": [
          0.195
         ],
         "yaxis": "y"
        },
        {
         "hovertemplate": "iso_639_3=tam<br>ppl_mean=%{x}<br>correct_language=%{y}<extra></extra>",
         "legendgroup": "tam",
         "marker": {
          "color": "#ab63fa",
          "symbol": "circle"
         },
         "mode": "markers",
         "name": "tam",
         "orientation": "v",
         "showlegend": true,
         "type": "scatter",
         "x": [
          5.801806169748306
         ],
         "xaxis": "x",
         "y": [
          0.015
         ],
         "yaxis": "y"
        },
        {
         "hovertemplate": "iso_639_3=tat<br>ppl_mean=%{x}<br>correct_language=%{y}<extra></extra>",
         "legendgroup": "tat",
         "marker": {
          "color": "#FFA15A",
          "symbol": "circle"
         },
         "mode": "markers",
         "name": "tat",
         "orientation": "v",
         "showlegend": true,
         "type": "scatter",
         "x": [
          347.9647226333618
         ],
         "xaxis": "x",
         "y": [
          0.01
         ],
         "yaxis": "y"
        },
        {
         "hovertemplate": "iso_639_3=tel<br>ppl_mean=%{x}<br>correct_language=%{y}<extra></extra>",
         "legendgroup": "tel",
         "marker": {
          "color": "#19d3f3",
          "symbol": "circle"
         },
         "mode": "markers",
         "name": "tel",
         "orientation": "v",
         "showlegend": true,
         "type": "scatter",
         "x": [
          2.8519229567050934
         ],
         "xaxis": "x",
         "y": [
          0.005
         ],
         "yaxis": "y"
        },
        {
         "hovertemplate": "iso_639_3=tgk<br>ppl_mean=%{x}<br>correct_language=%{y}<extra></extra>",
         "legendgroup": "tgk",
         "marker": {
          "color": "#FF6692",
          "symbol": "circle"
         },
         "mode": "markers",
         "name": "tgk",
         "orientation": "v",
         "showlegend": true,
         "type": "scatter",
         "x": [
          958.7143260765075
         ],
         "xaxis": "x",
         "y": [
          0.015
         ],
         "yaxis": "y"
        },
        {
         "hovertemplate": "iso_639_3=tgl<br>ppl_mean=%{x}<br>correct_language=%{y}<extra></extra>",
         "legendgroup": "tgl",
         "marker": {
          "color": "#B6E880",
          "symbol": "circle"
         },
         "mode": "markers",
         "name": "tgl",
         "orientation": "v",
         "showlegend": true,
         "type": "scatter",
         "x": [
          83.0206708920002
         ],
         "xaxis": "x",
         "y": [
          0.1375
         ],
         "yaxis": "y"
        },
        {
         "hovertemplate": "iso_639_3=tha<br>ppl_mean=%{x}<br>correct_language=%{y}<extra></extra>",
         "legendgroup": "tha",
         "marker": {
          "color": "#FF97FF",
          "symbol": "circle"
         },
         "mode": "markers",
         "name": "tha",
         "orientation": "v",
         "showlegend": true,
         "type": "scatter",
         "x": [
          12.427043393850326
         ],
         "xaxis": "x",
         "y": [
          0
         ],
         "yaxis": "y"
        },
        {
         "hovertemplate": "iso_639_3=tir<br>ppl_mean=%{x}<br>correct_language=%{y}<extra></extra>",
         "legendgroup": "tir",
         "marker": {
          "color": "#FECB52",
          "symbol": "circle"
         },
         "mode": "markers",
         "name": "tir",
         "orientation": "v",
         "showlegend": true,
         "type": "scatter",
         "x": [
          4.6921492457389835
         ],
         "xaxis": "x",
         "y": [
          0
         ],
         "yaxis": "y"
        },
        {
         "hovertemplate": "iso_639_3=tso<br>ppl_mean=%{x}<br>correct_language=%{y}<extra></extra>",
         "legendgroup": "tso",
         "marker": {
          "color": "#636efa",
          "symbol": "circle"
         },
         "mode": "markers",
         "name": "tso",
         "orientation": "v",
         "showlegend": true,
         "type": "scatter",
         "x": [
          958.9322987747192
         ],
         "xaxis": "x",
         "y": [
          0.025
         ],
         "yaxis": "y"
        },
        {
         "hovertemplate": "iso_639_3=tuk<br>ppl_mean=%{x}<br>correct_language=%{y}<extra></extra>",
         "legendgroup": "tuk",
         "marker": {
          "color": "#EF553B",
          "symbol": "circle"
         },
         "mode": "markers",
         "name": "tuk",
         "orientation": "v",
         "showlegend": true,
         "type": "scatter",
         "x": [
          2463.7108438110354
         ],
         "xaxis": "x",
         "y": [
          0
         ],
         "yaxis": "y"
        },
        {
         "hovertemplate": "iso_639_3=tur<br>ppl_mean=%{x}<br>correct_language=%{y}<extra></extra>",
         "legendgroup": "tur",
         "marker": {
          "color": "#00cc96",
          "symbol": "circle"
         },
         "mode": "markers",
         "name": "tur",
         "orientation": "v",
         "showlegend": true,
         "type": "scatter",
         "x": [
          185.97609929561614
         ],
         "xaxis": "x",
         "y": [
          0.135
         ],
         "yaxis": "y"
        },
        {
         "hovertemplate": "iso_639_3=uig<br>ppl_mean=%{x}<br>correct_language=%{y}<extra></extra>",
         "legendgroup": "uig",
         "marker": {
          "color": "#ab63fa",
          "symbol": "circle"
         },
         "mode": "markers",
         "name": "uig",
         "orientation": "v",
         "showlegend": true,
         "type": "scatter",
         "x": [
          31.092560052871704
         ],
         "xaxis": "x",
         "y": [
          0
         ],
         "yaxis": "y"
        },
        {
         "hovertemplate": "iso_639_3=ukr<br>ppl_mean=%{x}<br>correct_language=%{y}<extra></extra>",
         "legendgroup": "ukr",
         "marker": {
          "color": "#FFA15A",
          "symbol": "circle"
         },
         "mode": "markers",
         "name": "ukr",
         "orientation": "v",
         "showlegend": true,
         "type": "scatter",
         "x": [
          35.42909503698349
         ],
         "xaxis": "x",
         "y": [
          0.81
         ],
         "yaxis": "y"
        },
        {
         "hovertemplate": "iso_639_3=urd<br>ppl_mean=%{x}<br>correct_language=%{y}<extra></extra>",
         "legendgroup": "urd",
         "marker": {
          "color": "#19d3f3",
          "symbol": "circle"
         },
         "mode": "markers",
         "name": "urd",
         "orientation": "v",
         "showlegend": true,
         "type": "scatter",
         "x": [
          9.981402204036712
         ],
         "xaxis": "x",
         "y": [
          0
         ],
         "yaxis": "y"
        },
        {
         "hovertemplate": "iso_639_3=uzn<br>ppl_mean=%{x}<br>correct_language=%{y}<extra></extra>",
         "legendgroup": "uzn",
         "marker": {
          "color": "#FF6692",
          "symbol": "circle"
         },
         "mode": "markers",
         "name": "uzn",
         "orientation": "v",
         "showlegend": true,
         "type": "scatter",
         "x": [
          1459.7594221305847
         ],
         "xaxis": "x",
         "y": [
          0.005
         ],
         "yaxis": "y"
        },
        {
         "hovertemplate": "iso_639_3=vie<br>ppl_mean=%{x}<br>correct_language=%{y}<extra></extra>",
         "legendgroup": "vie",
         "marker": {
          "color": "#B6E880",
          "symbol": "circle"
         },
         "mode": "markers",
         "name": "vie",
         "orientation": "v",
         "showlegend": true,
         "type": "scatter",
         "x": [
          14.412298749685288
         ],
         "xaxis": "x",
         "y": [
          0.335
         ],
         "yaxis": "y"
        },
        {
         "hovertemplate": "iso_639_3=xho<br>ppl_mean=%{x}<br>correct_language=%{y}<extra></extra>",
         "legendgroup": "xho",
         "marker": {
          "color": "#FF97FF",
          "symbol": "circle"
         },
         "mode": "markers",
         "name": "xho",
         "orientation": "v",
         "showlegend": true,
         "type": "scatter",
         "x": [
          522.5172079277039
         ],
         "xaxis": "x",
         "y": [
          0.02
         ],
         "yaxis": "y"
        },
        {
         "hovertemplate": "iso_639_3=ydd<br>ppl_mean=%{x}<br>correct_language=%{y}<extra></extra>",
         "legendgroup": "ydd",
         "marker": {
          "color": "#FECB52",
          "symbol": "circle"
         },
         "mode": "markers",
         "name": "ydd",
         "orientation": "v",
         "showlegend": true,
         "type": "scatter",
         "x": [
          12.911196603775025
         ],
         "xaxis": "x",
         "y": [
          0
         ],
         "yaxis": "y"
        },
        {
         "hovertemplate": "iso_639_3=yor<br>ppl_mean=%{x}<br>correct_language=%{y}<extra></extra>",
         "legendgroup": "yor",
         "marker": {
          "color": "#636efa",
          "symbol": "circle"
         },
         "mode": "markers",
         "name": "yor",
         "orientation": "v",
         "showlegend": true,
         "type": "scatter",
         "x": [
          707.0089676380157
         ],
         "xaxis": "x",
         "y": [
          0.04
         ],
         "yaxis": "y"
        },
        {
         "hovertemplate": "iso_639_3=zho<br>ppl_mean=%{x}<br>correct_language=%{y}<extra></extra>",
         "legendgroup": "zho",
         "marker": {
          "color": "#EF553B",
          "symbol": "circle"
         },
         "mode": "markers",
         "name": "zho",
         "orientation": "v",
         "showlegend": true,
         "type": "scatter",
         "x": [
          20.796596761544546
         ],
         "xaxis": "x",
         "y": [
          0.03
         ],
         "yaxis": "y"
        },
        {
         "hovertemplate": "iso_639_3=zsm<br>ppl_mean=%{x}<br>correct_language=%{y}<extra></extra>",
         "legendgroup": "zsm",
         "marker": {
          "color": "#00cc96",
          "symbol": "circle"
         },
         "mode": "markers",
         "name": "zsm",
         "orientation": "v",
         "showlegend": true,
         "type": "scatter",
         "x": [
          49.24538613796234
         ],
         "xaxis": "x",
         "y": [
          0.095
         ],
         "yaxis": "y"
        },
        {
         "hovertemplate": "iso_639_3=zul<br>ppl_mean=%{x}<br>correct_language=%{y}<extra></extra>",
         "legendgroup": "zul",
         "marker": {
          "color": "#ab63fa",
          "symbol": "circle"
         },
         "mode": "markers",
         "name": "zul",
         "orientation": "v",
         "showlegend": true,
         "type": "scatter",
         "x": [
          613.0726188850402
         ],
         "xaxis": "x",
         "y": [
          0.02
         ],
         "yaxis": "y"
        }
       ],
       "layout": {
        "font": {
         "family": "Times New Roman"
        },
        "height": 500,
        "legend": {
         "title": {
          "text": "iso_639_3"
         },
         "tracegroupgap": 0
        },
        "margin": {
         "t": 60
        },
        "showlegend": false,
        "template": {
         "data": {
          "bar": [
           {
            "error_x": {
             "color": "#2a3f5f"
            },
            "error_y": {
             "color": "#2a3f5f"
            },
            "marker": {
             "line": {
              "color": "#E5ECF6",
              "width": 0.5
             },
             "pattern": {
              "fillmode": "overlay",
              "size": 10,
              "solidity": 0.2
             }
            },
            "type": "bar"
           }
          ],
          "barpolar": [
           {
            "marker": {
             "line": {
              "color": "#E5ECF6",
              "width": 0.5
             },
             "pattern": {
              "fillmode": "overlay",
              "size": 10,
              "solidity": 0.2
             }
            },
            "type": "barpolar"
           }
          ],
          "carpet": [
           {
            "aaxis": {
             "endlinecolor": "#2a3f5f",
             "gridcolor": "white",
             "linecolor": "white",
             "minorgridcolor": "white",
             "startlinecolor": "#2a3f5f"
            },
            "baxis": {
             "endlinecolor": "#2a3f5f",
             "gridcolor": "white",
             "linecolor": "white",
             "minorgridcolor": "white",
             "startlinecolor": "#2a3f5f"
            },
            "type": "carpet"
           }
          ],
          "choropleth": [
           {
            "colorbar": {
             "outlinewidth": 0,
             "ticks": ""
            },
            "type": "choropleth"
           }
          ],
          "contour": [
           {
            "colorbar": {
             "outlinewidth": 0,
             "ticks": ""
            },
            "colorscale": [
             [
              0,
              "#0d0887"
             ],
             [
              0.1111111111111111,
              "#46039f"
             ],
             [
              0.2222222222222222,
              "#7201a8"
             ],
             [
              0.3333333333333333,
              "#9c179e"
             ],
             [
              0.4444444444444444,
              "#bd3786"
             ],
             [
              0.5555555555555556,
              "#d8576b"
             ],
             [
              0.6666666666666666,
              "#ed7953"
             ],
             [
              0.7777777777777778,
              "#fb9f3a"
             ],
             [
              0.8888888888888888,
              "#fdca26"
             ],
             [
              1,
              "#f0f921"
             ]
            ],
            "type": "contour"
           }
          ],
          "contourcarpet": [
           {
            "colorbar": {
             "outlinewidth": 0,
             "ticks": ""
            },
            "type": "contourcarpet"
           }
          ],
          "heatmap": [
           {
            "colorbar": {
             "outlinewidth": 0,
             "ticks": ""
            },
            "colorscale": [
             [
              0,
              "#0d0887"
             ],
             [
              0.1111111111111111,
              "#46039f"
             ],
             [
              0.2222222222222222,
              "#7201a8"
             ],
             [
              0.3333333333333333,
              "#9c179e"
             ],
             [
              0.4444444444444444,
              "#bd3786"
             ],
             [
              0.5555555555555556,
              "#d8576b"
             ],
             [
              0.6666666666666666,
              "#ed7953"
             ],
             [
              0.7777777777777778,
              "#fb9f3a"
             ],
             [
              0.8888888888888888,
              "#fdca26"
             ],
             [
              1,
              "#f0f921"
             ]
            ],
            "type": "heatmap"
           }
          ],
          "heatmapgl": [
           {
            "colorbar": {
             "outlinewidth": 0,
             "ticks": ""
            },
            "colorscale": [
             [
              0,
              "#0d0887"
             ],
             [
              0.1111111111111111,
              "#46039f"
             ],
             [
              0.2222222222222222,
              "#7201a8"
             ],
             [
              0.3333333333333333,
              "#9c179e"
             ],
             [
              0.4444444444444444,
              "#bd3786"
             ],
             [
              0.5555555555555556,
              "#d8576b"
             ],
             [
              0.6666666666666666,
              "#ed7953"
             ],
             [
              0.7777777777777778,
              "#fb9f3a"
             ],
             [
              0.8888888888888888,
              "#fdca26"
             ],
             [
              1,
              "#f0f921"
             ]
            ],
            "type": "heatmapgl"
           }
          ],
          "histogram": [
           {
            "marker": {
             "pattern": {
              "fillmode": "overlay",
              "size": 10,
              "solidity": 0.2
             }
            },
            "type": "histogram"
           }
          ],
          "histogram2d": [
           {
            "colorbar": {
             "outlinewidth": 0,
             "ticks": ""
            },
            "colorscale": [
             [
              0,
              "#0d0887"
             ],
             [
              0.1111111111111111,
              "#46039f"
             ],
             [
              0.2222222222222222,
              "#7201a8"
             ],
             [
              0.3333333333333333,
              "#9c179e"
             ],
             [
              0.4444444444444444,
              "#bd3786"
             ],
             [
              0.5555555555555556,
              "#d8576b"
             ],
             [
              0.6666666666666666,
              "#ed7953"
             ],
             [
              0.7777777777777778,
              "#fb9f3a"
             ],
             [
              0.8888888888888888,
              "#fdca26"
             ],
             [
              1,
              "#f0f921"
             ]
            ],
            "type": "histogram2d"
           }
          ],
          "histogram2dcontour": [
           {
            "colorbar": {
             "outlinewidth": 0,
             "ticks": ""
            },
            "colorscale": [
             [
              0,
              "#0d0887"
             ],
             [
              0.1111111111111111,
              "#46039f"
             ],
             [
              0.2222222222222222,
              "#7201a8"
             ],
             [
              0.3333333333333333,
              "#9c179e"
             ],
             [
              0.4444444444444444,
              "#bd3786"
             ],
             [
              0.5555555555555556,
              "#d8576b"
             ],
             [
              0.6666666666666666,
              "#ed7953"
             ],
             [
              0.7777777777777778,
              "#fb9f3a"
             ],
             [
              0.8888888888888888,
              "#fdca26"
             ],
             [
              1,
              "#f0f921"
             ]
            ],
            "type": "histogram2dcontour"
           }
          ],
          "mesh3d": [
           {
            "colorbar": {
             "outlinewidth": 0,
             "ticks": ""
            },
            "type": "mesh3d"
           }
          ],
          "parcoords": [
           {
            "line": {
             "colorbar": {
              "outlinewidth": 0,
              "ticks": ""
             }
            },
            "type": "parcoords"
           }
          ],
          "pie": [
           {
            "automargin": true,
            "type": "pie"
           }
          ],
          "scatter": [
           {
            "fillpattern": {
             "fillmode": "overlay",
             "size": 10,
             "solidity": 0.2
            },
            "type": "scatter"
           }
          ],
          "scatter3d": [
           {
            "line": {
             "colorbar": {
              "outlinewidth": 0,
              "ticks": ""
             }
            },
            "marker": {
             "colorbar": {
              "outlinewidth": 0,
              "ticks": ""
             }
            },
            "type": "scatter3d"
           }
          ],
          "scattercarpet": [
           {
            "marker": {
             "colorbar": {
              "outlinewidth": 0,
              "ticks": ""
             }
            },
            "type": "scattercarpet"
           }
          ],
          "scattergeo": [
           {
            "marker": {
             "colorbar": {
              "outlinewidth": 0,
              "ticks": ""
             }
            },
            "type": "scattergeo"
           }
          ],
          "scattergl": [
           {
            "marker": {
             "colorbar": {
              "outlinewidth": 0,
              "ticks": ""
             }
            },
            "type": "scattergl"
           }
          ],
          "scattermapbox": [
           {
            "marker": {
             "colorbar": {
              "outlinewidth": 0,
              "ticks": ""
             }
            },
            "type": "scattermapbox"
           }
          ],
          "scatterpolar": [
           {
            "marker": {
             "colorbar": {
              "outlinewidth": 0,
              "ticks": ""
             }
            },
            "type": "scatterpolar"
           }
          ],
          "scatterpolargl": [
           {
            "marker": {
             "colorbar": {
              "outlinewidth": 0,
              "ticks": ""
             }
            },
            "type": "scatterpolargl"
           }
          ],
          "scatterternary": [
           {
            "marker": {
             "colorbar": {
              "outlinewidth": 0,
              "ticks": ""
             }
            },
            "type": "scatterternary"
           }
          ],
          "surface": [
           {
            "colorbar": {
             "outlinewidth": 0,
             "ticks": ""
            },
            "colorscale": [
             [
              0,
              "#0d0887"
             ],
             [
              0.1111111111111111,
              "#46039f"
             ],
             [
              0.2222222222222222,
              "#7201a8"
             ],
             [
              0.3333333333333333,
              "#9c179e"
             ],
             [
              0.4444444444444444,
              "#bd3786"
             ],
             [
              0.5555555555555556,
              "#d8576b"
             ],
             [
              0.6666666666666666,
              "#ed7953"
             ],
             [
              0.7777777777777778,
              "#fb9f3a"
             ],
             [
              0.8888888888888888,
              "#fdca26"
             ],
             [
              1,
              "#f0f921"
             ]
            ],
            "type": "surface"
           }
          ],
          "table": [
           {
            "cells": {
             "fill": {
              "color": "#EBF0F8"
             },
             "line": {
              "color": "white"
             }
            },
            "header": {
             "fill": {
              "color": "#C8D4E3"
             },
             "line": {
              "color": "white"
             }
            },
            "type": "table"
           }
          ]
         },
         "layout": {
          "title": {
           "font": {
            "family": "Times New Roman"
           }
          }
         }
        },
        "title": {
         "text": "Llama-2-13b-chat-hf"
        },
        "width": 500,
        "xaxis": {
         "anchor": "y",
         "domain": [
          0,
          1
         ],
         "title": {
          "text": "Mean Perplexity"
         }
        },
        "yaxis": {
         "anchor": "x",
         "domain": [
          0,
          1
         ],
         "title": {
          "text": "Accuracy in % of correctly answered prompts"
         }
        }
       }
      }
     },
     "metadata": {},
     "output_type": "display_data"
    },
    {
     "name": "stdout",
     "output_type": "stream",
     "text": [
      "Llama-2-7b-chat-hf\n"
     ]
    },
    {
     "data": {
      "application/vnd.plotly.v1+json": {
       "config": {
        "plotlyServerURL": "https://plot.ly"
       },
       "data": [
        {
         "hovertemplate": "iso_639_3=afr<br>ppl_mean=%{x}<br>correct_language=%{y}<extra></extra>",
         "legendgroup": "afr",
         "marker": {
          "color": "#FFA15A",
          "symbol": "circle"
         },
         "mode": "markers",
         "name": "afr",
         "orientation": "v",
         "showlegend": true,
         "type": "scatter",
         "x": [
          362.7580894136429
         ],
         "xaxis": "x",
         "y": [
          0.025
         ],
         "yaxis": "y"
        },
        {
         "hovertemplate": "iso_639_3=aka<br>ppl_mean=%{x}<br>correct_language=%{y}<extra></extra>",
         "legendgroup": "aka",
         "marker": {
          "color": "#19d3f3",
          "symbol": "circle"
         },
         "mode": "markers",
         "name": "aka",
         "orientation": "v",
         "showlegend": true,
         "type": "scatter",
         "x": [
          1034.9254365348816
         ],
         "xaxis": "x",
         "y": [
          0.01
         ],
         "yaxis": "y"
        },
        {
         "hovertemplate": "iso_639_3=amh<br>ppl_mean=%{x}<br>correct_language=%{y}<extra></extra>",
         "legendgroup": "amh",
         "marker": {
          "color": "#FF6692",
          "symbol": "circle"
         },
         "mode": "markers",
         "name": "amh",
         "orientation": "v",
         "showlegend": true,
         "type": "scatter",
         "x": [
          4.591866813898086
         ],
         "xaxis": "x",
         "y": [
          0
         ],
         "yaxis": "y"
        },
        {
         "hovertemplate": "iso_639_3=arb<br>ppl_mean=%{x}<br>correct_language=%{y}<extra></extra>",
         "legendgroup": "arb",
         "marker": {
          "color": "#B6E880",
          "symbol": "circle"
         },
         "mode": "markers",
         "name": "arb",
         "orientation": "v",
         "showlegend": true,
         "type": "scatter",
         "x": [
          12.08160227060318
         ],
         "xaxis": "x",
         "y": [
          0
         ],
         "yaxis": "y"
        },
        {
         "hovertemplate": "iso_639_3=asm<br>ppl_mean=%{x}<br>correct_language=%{y}<extra></extra>",
         "legendgroup": "asm",
         "marker": {
          "color": "#FF97FF",
          "symbol": "circle"
         },
         "mode": "markers",
         "name": "asm",
         "orientation": "v",
         "showlegend": true,
         "type": "scatter",
         "x": [
          13.50364787697792
         ],
         "xaxis": "x",
         "y": [
          0
         ],
         "yaxis": "y"
        },
        {
         "hovertemplate": "iso_639_3=ayr<br>ppl_mean=%{x}<br>correct_language=%{y}<extra></extra>",
         "legendgroup": "ayr",
         "marker": {
          "color": "#FECB52",
          "symbol": "circle"
         },
         "mode": "markers",
         "name": "ayr",
         "orientation": "v",
         "showlegend": true,
         "type": "scatter",
         "x": [
          1766.7012489318847
         ],
         "xaxis": "x",
         "y": [
          0.005
         ],
         "yaxis": "y"
        },
        {
         "hovertemplate": "iso_639_3=azb<br>ppl_mean=%{x}<br>correct_language=%{y}<extra></extra>",
         "legendgroup": "azb",
         "marker": {
          "color": "#636efa",
          "symbol": "circle"
         },
         "mode": "markers",
         "name": "azb",
         "orientation": "v",
         "showlegend": true,
         "type": "scatter",
         "x": [
          374.8482411766052
         ],
         "xaxis": "x",
         "y": [
          0.01
         ],
         "yaxis": "y"
        },
        {
         "hovertemplate": "iso_639_3=bam<br>ppl_mean=%{x}<br>correct_language=%{y}<extra></extra>",
         "legendgroup": "bam",
         "marker": {
          "color": "#EF553B",
          "symbol": "circle"
         },
         "mode": "markers",
         "name": "bam",
         "orientation": "v",
         "showlegend": true,
         "type": "scatter",
         "x": [
          1119.3107730102538
         ],
         "xaxis": "x",
         "y": [
          0
         ],
         "yaxis": "y"
        },
        {
         "hovertemplate": "iso_639_3=bel<br>ppl_mean=%{x}<br>correct_language=%{y}<extra></extra>",
         "legendgroup": "bel",
         "marker": {
          "color": "#00cc96",
          "symbol": "circle"
         },
         "mode": "markers",
         "name": "bel",
         "orientation": "v",
         "showlegend": true,
         "type": "scatter",
         "x": [
          614.7631419181823
         ],
         "xaxis": "x",
         "y": [
          0.005
         ],
         "yaxis": "y"
        },
        {
         "hovertemplate": "iso_639_3=ben<br>ppl_mean=%{x}<br>correct_language=%{y}<extra></extra>",
         "legendgroup": "ben",
         "marker": {
          "color": "#ab63fa",
          "symbol": "circle"
         },
         "mode": "markers",
         "name": "ben",
         "orientation": "v",
         "showlegend": true,
         "type": "scatter",
         "x": [
          14.181106663942337
         ],
         "xaxis": "x",
         "y": [
          0
         ],
         "yaxis": "y"
        },
        {
         "hovertemplate": "iso_639_3=bho<br>ppl_mean=%{x}<br>correct_language=%{y}<extra></extra>",
         "legendgroup": "bho",
         "marker": {
          "color": "#FFA15A",
          "symbol": "circle"
         },
         "mode": "markers",
         "name": "bho",
         "orientation": "v",
         "showlegend": true,
         "type": "scatter",
         "x": [
          17.48805142879486
         ],
         "xaxis": "x",
         "y": [
          0
         ],
         "yaxis": "y"
        },
        {
         "hovertemplate": "iso_639_3=bos<br>ppl_mean=%{x}<br>correct_language=%{y}<extra></extra>",
         "legendgroup": "bos",
         "marker": {
          "color": "#19d3f3",
          "symbol": "circle"
         },
         "mode": "markers",
         "name": "bos",
         "orientation": "v",
         "showlegend": true,
         "type": "scatter",
         "x": [
          169.1265939950943
         ],
         "xaxis": "x",
         "y": [
          0.445
         ],
         "yaxis": "y"
        },
        {
         "hovertemplate": "iso_639_3=bul<br>ppl_mean=%{x}<br>correct_language=%{y}<extra></extra>",
         "legendgroup": "bul",
         "marker": {
          "color": "#FF6692",
          "symbol": "circle"
         },
         "mode": "markers",
         "name": "bul",
         "orientation": "v",
         "showlegend": true,
         "type": "scatter",
         "x": [
          65.28989111661912
         ],
         "xaxis": "x",
         "y": [
          0.4
         ],
         "yaxis": "y"
        },
        {
         "hovertemplate": "iso_639_3=cat<br>ppl_mean=%{x}<br>correct_language=%{y}<extra></extra>",
         "legendgroup": "cat",
         "marker": {
          "color": "#B6E880",
          "symbol": "circle"
         },
         "mode": "markers",
         "name": "cat",
         "orientation": "v",
         "showlegend": true,
         "type": "scatter",
         "x": [
          183.1062677693367
         ],
         "xaxis": "x",
         "y": [
          0.88
         ],
         "yaxis": "y"
        },
        {
         "hovertemplate": "iso_639_3=ceb<br>ppl_mean=%{x}<br>correct_language=%{y}<extra></extra>",
         "legendgroup": "ceb",
         "marker": {
          "color": "#FF97FF",
          "symbol": "circle"
         },
         "mode": "markers",
         "name": "ceb",
         "orientation": "v",
         "showlegend": true,
         "type": "scatter",
         "x": [
          630.7119648456573
         ],
         "xaxis": "x",
         "y": [
          0
         ],
         "yaxis": "y"
        },
        {
         "hovertemplate": "iso_639_3=ces<br>ppl_mean=%{x}<br>correct_language=%{y}<extra></extra>",
         "legendgroup": "ces",
         "marker": {
          "color": "#FECB52",
          "symbol": "circle"
         },
         "mode": "markers",
         "name": "ces",
         "orientation": "v",
         "showlegend": true,
         "type": "scatter",
         "x": [
          128.854725420475
         ],
         "xaxis": "x",
         "y": [
          0.575
         ],
         "yaxis": "y"
        },
        {
         "hovertemplate": "iso_639_3=ckb<br>ppl_mean=%{x}<br>correct_language=%{y}<extra></extra>",
         "legendgroup": "ckb",
         "marker": {
          "color": "#636efa",
          "symbol": "circle"
         },
         "mode": "markers",
         "name": "ckb",
         "orientation": "v",
         "showlegend": true,
         "type": "scatter",
         "x": [
          599.1511645483971
         ],
         "xaxis": "x",
         "y": [
          0
         ],
         "yaxis": "y"
        },
        {
         "hovertemplate": "iso_639_3=cos<br>ppl_mean=%{x}<br>correct_language=%{y}<extra></extra>",
         "legendgroup": "cos",
         "marker": {
          "color": "#EF553B",
          "symbol": "circle"
         },
         "mode": "markers",
         "name": "cos",
         "orientation": "v",
         "showlegend": true,
         "type": "scatter",
         "x": [
          937.3857241630554
         ],
         "xaxis": "x",
         "y": [
          0
         ],
         "yaxis": "y"
        },
        {
         "hovertemplate": "iso_639_3=cym<br>ppl_mean=%{x}<br>correct_language=%{y}<extra></extra>",
         "legendgroup": "cym",
         "marker": {
          "color": "#00cc96",
          "symbol": "circle"
         },
         "mode": "markers",
         "name": "cym",
         "orientation": "v",
         "showlegend": true,
         "type": "scatter",
         "x": [
          508.41396247386933
         ],
         "xaxis": "x",
         "y": [
          0.01
         ],
         "yaxis": "y"
        },
        {
         "hovertemplate": "iso_639_3=dan<br>ppl_mean=%{x}<br>correct_language=%{y}<extra></extra>",
         "legendgroup": "dan",
         "marker": {
          "color": "#ab63fa",
          "symbol": "circle"
         },
         "mode": "markers",
         "name": "dan",
         "orientation": "v",
         "showlegend": true,
         "type": "scatter",
         "x": [
          194.86548845052718
         ],
         "xaxis": "x",
         "y": [
          0.27
         ],
         "yaxis": "y"
        },
        {
         "hovertemplate": "iso_639_3=deu<br>ppl_mean=%{x}<br>correct_language=%{y}<extra></extra>",
         "legendgroup": "deu",
         "marker": {
          "color": "#FFA15A",
          "symbol": "circle"
         },
         "mode": "markers",
         "name": "deu",
         "orientation": "v",
         "showlegend": true,
         "type": "scatter",
         "x": [
          119.44160196781158
         ],
         "xaxis": "x",
         "y": [
          0.665
         ],
         "yaxis": "y"
        },
        {
         "hovertemplate": "iso_639_3=dgo<br>ppl_mean=%{x}<br>correct_language=%{y}<extra></extra>",
         "legendgroup": "dgo",
         "marker": {
          "color": "#19d3f3",
          "symbol": "circle"
         },
         "mode": "markers",
         "name": "dgo",
         "orientation": "v",
         "showlegend": true,
         "type": "scatter",
         "x": [
          23.51248189687729
         ],
         "xaxis": "x",
         "y": [
          0
         ],
         "yaxis": "y"
        },
        {
         "hovertemplate": "iso_639_3=div<br>ppl_mean=%{x}<br>correct_language=%{y}<extra></extra>",
         "legendgroup": "div",
         "marker": {
          "color": "#FF6692",
          "symbol": "circle"
         },
         "mode": "markers",
         "name": "div",
         "orientation": "v",
         "showlegend": true,
         "type": "scatter",
         "x": [
          5.621825939416885
         ],
         "xaxis": "x",
         "y": [
          0.005
         ],
         "yaxis": "y"
        },
        {
         "hovertemplate": "iso_639_3=ekk<br>ppl_mean=%{x}<br>correct_language=%{y}<extra></extra>",
         "legendgroup": "ekk",
         "marker": {
          "color": "#B6E880",
          "symbol": "circle"
         },
         "mode": "markers",
         "name": "ekk",
         "orientation": "v",
         "showlegend": true,
         "type": "scatter",
         "x": [
          1445.2560655879975
         ],
         "xaxis": "x",
         "y": [
          0.04
         ],
         "yaxis": "y"
        },
        {
         "hovertemplate": "iso_639_3=ell<br>ppl_mean=%{x}<br>correct_language=%{y}<extra></extra>",
         "legendgroup": "ell",
         "marker": {
          "color": "#FF97FF",
          "symbol": "circle"
         },
         "mode": "markers",
         "name": "ell",
         "orientation": "v",
         "showlegend": true,
         "type": "scatter",
         "x": [
          6.6998597013950345
         ],
         "xaxis": "x",
         "y": [
          0
         ],
         "yaxis": "y"
        },
        {
         "hovertemplate": "iso_639_3=eng<br>ppl_mean=%{x}<br>correct_language=%{y}<extra></extra>",
         "legendgroup": "eng",
         "marker": {
          "color": "#FECB52",
          "symbol": "circle"
         },
         "mode": "markers",
         "name": "eng",
         "orientation": "v",
         "showlegend": true,
         "type": "scatter",
         "x": [
          34.119917569160464
         ],
         "xaxis": "x",
         "y": [
          0.975
         ],
         "yaxis": "y"
        },
        {
         "hovertemplate": "iso_639_3=epo<br>ppl_mean=%{x}<br>correct_language=%{y}<extra></extra>",
         "legendgroup": "epo",
         "marker": {
          "color": "#636efa",
          "symbol": "circle"
         },
         "mode": "markers",
         "name": "epo",
         "orientation": "v",
         "showlegend": true,
         "type": "scatter",
         "x": [
          1135.9912842369079
         ],
         "xaxis": "x",
         "y": [
          0.005
         ],
         "yaxis": "y"
        },
        {
         "hovertemplate": "iso_639_3=eus<br>ppl_mean=%{x}<br>correct_language=%{y}<extra></extra>",
         "legendgroup": "eus",
         "marker": {
          "color": "#EF553B",
          "symbol": "circle"
         },
         "mode": "markers",
         "name": "eus",
         "orientation": "v",
         "showlegend": true,
         "type": "scatter",
         "x": [
          2171.5176792526245
         ],
         "xaxis": "x",
         "y": [
          0
         ],
         "yaxis": "y"
        },
        {
         "hovertemplate": "iso_639_3=ewe<br>ppl_mean=%{x}<br>correct_language=%{y}<extra></extra>",
         "legendgroup": "ewe",
         "marker": {
          "color": "#00cc96",
          "symbol": "circle"
         },
         "mode": "markers",
         "name": "ewe",
         "orientation": "v",
         "showlegend": true,
         "type": "scatter",
         "x": [
          1976.2437001419066
         ],
         "xaxis": "x",
         "y": [
          0.005
         ],
         "yaxis": "y"
        },
        {
         "hovertemplate": "iso_639_3=fin<br>ppl_mean=%{x}<br>correct_language=%{y}<extra></extra>",
         "legendgroup": "fin",
         "marker": {
          "color": "#ab63fa",
          "symbol": "circle"
         },
         "mode": "markers",
         "name": "fin",
         "orientation": "v",
         "showlegend": true,
         "type": "scatter",
         "x": [
          45.38652975559235
         ],
         "xaxis": "x",
         "y": [
          0.335
         ],
         "yaxis": "y"
        },
        {
         "hovertemplate": "iso_639_3=fra<br>ppl_mean=%{x}<br>correct_language=%{y}<extra></extra>",
         "legendgroup": "fra",
         "marker": {
          "color": "#FFA15A",
          "symbol": "circle"
         },
         "mode": "markers",
         "name": "fra",
         "orientation": "v",
         "showlegend": true,
         "type": "scatter",
         "x": [
          37.577387115955354
         ],
         "xaxis": "x",
         "y": [
          0.785
         ],
         "yaxis": "y"
        },
        {
         "hovertemplate": "iso_639_3=fry<br>ppl_mean=%{x}<br>correct_language=%{y}<extra></extra>",
         "legendgroup": "fry",
         "marker": {
          "color": "#19d3f3",
          "symbol": "circle"
         },
         "mode": "markers",
         "name": "fry",
         "orientation": "v",
         "showlegend": true,
         "type": "scatter",
         "x": [
          1520.6957180213928
         ],
         "xaxis": "x",
         "y": [
          0
         ],
         "yaxis": "y"
        },
        {
         "hovertemplate": "iso_639_3=gaz<br>ppl_mean=%{x}<br>correct_language=%{y}<extra></extra>",
         "legendgroup": "gaz",
         "marker": {
          "color": "#FF6692",
          "symbol": "circle"
         },
         "mode": "markers",
         "name": "gaz",
         "orientation": "v",
         "showlegend": true,
         "type": "scatter",
         "x": [
          1014.0901567459107
         ],
         "xaxis": "x",
         "y": [
          0
         ],
         "yaxis": "y"
        },
        {
         "hovertemplate": "iso_639_3=gla<br>ppl_mean=%{x}<br>correct_language=%{y}<extra></extra>",
         "legendgroup": "gla",
         "marker": {
          "color": "#B6E880",
          "symbol": "circle"
         },
         "mode": "markers",
         "name": "gla",
         "orientation": "v",
         "showlegend": true,
         "type": "scatter",
         "x": [
          277.4225293064117
         ],
         "xaxis": "x",
         "y": [
          0.05
         ],
         "yaxis": "y"
        },
        {
         "hovertemplate": "iso_639_3=gle<br>ppl_mean=%{x}<br>correct_language=%{y}<extra></extra>",
         "legendgroup": "gle",
         "marker": {
          "color": "#FF97FF",
          "symbol": "circle"
         },
         "mode": "markers",
         "name": "gle",
         "orientation": "v",
         "showlegend": true,
         "type": "scatter",
         "x": [
          916.7267555093765
         ],
         "xaxis": "x",
         "y": [
          0.035
         ],
         "yaxis": "y"
        },
        {
         "hovertemplate": "iso_639_3=glg<br>ppl_mean=%{x}<br>correct_language=%{y}<extra></extra>",
         "legendgroup": "glg",
         "marker": {
          "color": "#FECB52",
          "symbol": "circle"
         },
         "mode": "markers",
         "name": "glg",
         "orientation": "v",
         "showlegend": true,
         "type": "scatter",
         "x": [
          602.1570688724518
         ],
         "xaxis": "x",
         "y": [
          0.005
         ],
         "yaxis": "y"
        },
        {
         "hovertemplate": "iso_639_3=gug<br>ppl_mean=%{x}<br>correct_language=%{y}<extra></extra>",
         "legendgroup": "gug",
         "marker": {
          "color": "#636efa",
          "symbol": "circle"
         },
         "mode": "markers",
         "name": "gug",
         "orientation": "v",
         "showlegend": true,
         "type": "scatter",
         "x": [
          2496.6513537597657
         ],
         "xaxis": "x",
         "y": [
          0.01
         ],
         "yaxis": "y"
        },
        {
         "hovertemplate": "iso_639_3=guj<br>ppl_mean=%{x}<br>correct_language=%{y}<extra></extra>",
         "legendgroup": "guj",
         "marker": {
          "color": "#EF553B",
          "symbol": "circle"
         },
         "mode": "markers",
         "name": "guj",
         "orientation": "v",
         "showlegend": true,
         "type": "scatter",
         "x": [
          3.424436813592911
         ],
         "xaxis": "x",
         "y": [
          0.005
         ],
         "yaxis": "y"
        },
        {
         "hovertemplate": "iso_639_3=hat<br>ppl_mean=%{x}<br>correct_language=%{y}<extra></extra>",
         "legendgroup": "hat",
         "marker": {
          "color": "#00cc96",
          "symbol": "circle"
         },
         "mode": "markers",
         "name": "hat",
         "orientation": "v",
         "showlegend": true,
         "type": "scatter",
         "x": [
          1496.9652338981628
         ],
         "xaxis": "x",
         "y": [
          0.005
         ],
         "yaxis": "y"
        },
        {
         "hovertemplate": "iso_639_3=hau<br>ppl_mean=%{x}<br>correct_language=%{y}<extra></extra>",
         "legendgroup": "hau",
         "marker": {
          "color": "#ab63fa",
          "symbol": "circle"
         },
         "mode": "markers",
         "name": "hau",
         "orientation": "v",
         "showlegend": true,
         "type": "scatter",
         "x": [
          1669.6590915870665
         ],
         "xaxis": "x",
         "y": [
          0
         ],
         "yaxis": "y"
        },
        {
         "hovertemplate": "iso_639_3=haw<br>ppl_mean=%{x}<br>correct_language=%{y}<extra></extra>",
         "legendgroup": "haw",
         "marker": {
          "color": "#FFA15A",
          "symbol": "circle"
         },
         "mode": "markers",
         "name": "haw",
         "orientation": "v",
         "showlegend": true,
         "type": "scatter",
         "x": [
          415.106140127182
         ],
         "xaxis": "x",
         "y": [
          0.015
         ],
         "yaxis": "y"
        },
        {
         "hovertemplate": "iso_639_3=hbs<br>ppl_mean=%{x}<br>correct_language=%{y}<extra></extra>",
         "legendgroup": "hbs",
         "marker": {
          "color": "#19d3f3",
          "symbol": "circle"
         },
         "mode": "markers",
         "name": "hbs",
         "orientation": "v",
         "showlegend": true,
         "type": "scatter",
         "x": [
          119.65879935622215
         ],
         "xaxis": "x",
         "y": [
          0.5375
         ],
         "yaxis": "y"
        },
        {
         "hovertemplate": "iso_639_3=heb<br>ppl_mean=%{x}<br>correct_language=%{y}<extra></extra>",
         "legendgroup": "heb",
         "marker": {
          "color": "#FF6692",
          "symbol": "circle"
         },
         "mode": "markers",
         "name": "heb",
         "orientation": "v",
         "showlegend": true,
         "type": "scatter",
         "x": [
          15.00516337633133
         ],
         "xaxis": "x",
         "y": [
          0
         ],
         "yaxis": "y"
        },
        {
         "hovertemplate": "iso_639_3=hin<br>ppl_mean=%{x}<br>correct_language=%{y}<extra></extra>",
         "legendgroup": "hin",
         "marker": {
          "color": "#B6E880",
          "symbol": "circle"
         },
         "mode": "markers",
         "name": "hin",
         "orientation": "v",
         "showlegend": true,
         "type": "scatter",
         "x": [
          5.769091030359268
         ],
         "xaxis": "x",
         "y": [
          0
         ],
         "yaxis": "y"
        },
        {
         "hovertemplate": "iso_639_3=hun<br>ppl_mean=%{x}<br>correct_language=%{y}<extra></extra>",
         "legendgroup": "hun",
         "marker": {
          "color": "#FF97FF",
          "symbol": "circle"
         },
         "mode": "markers",
         "name": "hun",
         "orientation": "v",
         "showlegend": true,
         "type": "scatter",
         "x": [
          135.9678437423706
         ],
         "xaxis": "x",
         "y": [
          0.65
         ],
         "yaxis": "y"
        },
        {
         "hovertemplate": "iso_639_3=hye<br>ppl_mean=%{x}<br>correct_language=%{y}<extra></extra>",
         "legendgroup": "hye",
         "marker": {
          "color": "#FECB52",
          "symbol": "circle"
         },
         "mode": "markers",
         "name": "hye",
         "orientation": "v",
         "showlegend": true,
         "type": "scatter",
         "x": [
          13.079583741426468
         ],
         "xaxis": "x",
         "y": [
          0
         ],
         "yaxis": "y"
        },
        {
         "hovertemplate": "iso_639_3=ibo<br>ppl_mean=%{x}<br>correct_language=%{y}<extra></extra>",
         "legendgroup": "ibo",
         "marker": {
          "color": "#636efa",
          "symbol": "circle"
         },
         "mode": "markers",
         "name": "ibo",
         "orientation": "v",
         "showlegend": true,
         "type": "scatter",
         "x": [
          512.7913941001892
         ],
         "xaxis": "x",
         "y": [
          0.02
         ],
         "yaxis": "y"
        },
        {
         "hovertemplate": "iso_639_3=ilo<br>ppl_mean=%{x}<br>correct_language=%{y}<extra></extra>",
         "legendgroup": "ilo",
         "marker": {
          "color": "#EF553B",
          "symbol": "circle"
         },
         "mode": "markers",
         "name": "ilo",
         "orientation": "v",
         "showlegend": true,
         "type": "scatter",
         "x": [
          1925.064798927307
         ],
         "xaxis": "x",
         "y": [
          0.005
         ],
         "yaxis": "y"
        },
        {
         "hovertemplate": "iso_639_3=ind<br>ppl_mean=%{x}<br>correct_language=%{y}<extra></extra>",
         "legendgroup": "ind",
         "marker": {
          "color": "#00cc96",
          "symbol": "circle"
         },
         "mode": "markers",
         "name": "ind",
         "orientation": "v",
         "showlegend": true,
         "type": "scatter",
         "x": [
          88.00300267219544
         ],
         "xaxis": "x",
         "y": [
          0.245
         ],
         "yaxis": "y"
        },
        {
         "hovertemplate": "iso_639_3=isl<br>ppl_mean=%{x}<br>correct_language=%{y}<extra></extra>",
         "legendgroup": "isl",
         "marker": {
          "color": "#ab63fa",
          "symbol": "circle"
         },
         "mode": "markers",
         "name": "isl",
         "orientation": "v",
         "showlegend": true,
         "type": "scatter",
         "x": [
          250.07903770446777
         ],
         "xaxis": "x",
         "y": [
          0.015
         ],
         "yaxis": "y"
        },
        {
         "hovertemplate": "iso_639_3=ita<br>ppl_mean=%{x}<br>correct_language=%{y}<extra></extra>",
         "legendgroup": "ita",
         "marker": {
          "color": "#FFA15A",
          "symbol": "circle"
         },
         "mode": "markers",
         "name": "ita",
         "orientation": "v",
         "showlegend": true,
         "type": "scatter",
         "x": [
          106.55740559101105
         ],
         "xaxis": "x",
         "y": [
          0.765
         ],
         "yaxis": "y"
        },
        {
         "hovertemplate": "iso_639_3=jav<br>ppl_mean=%{x}<br>correct_language=%{y}<extra></extra>",
         "legendgroup": "jav",
         "marker": {
          "color": "#19d3f3",
          "symbol": "circle"
         },
         "mode": "markers",
         "name": "jav",
         "orientation": "v",
         "showlegend": true,
         "type": "scatter",
         "x": [
          1455.711644859314
         ],
         "xaxis": "x",
         "y": [
          0.005
         ],
         "yaxis": "y"
        },
        {
         "hovertemplate": "iso_639_3=jpn<br>ppl_mean=%{x}<br>correct_language=%{y}<extra></extra>",
         "legendgroup": "jpn",
         "marker": {
          "color": "#FF6692",
          "symbol": "circle"
         },
         "mode": "markers",
         "name": "jpn",
         "orientation": "v",
         "showlegend": true,
         "type": "scatter",
         "x": [
          24.545276091098785
         ],
         "xaxis": "x",
         "y": [
          0.015
         ],
         "yaxis": "y"
        },
        {
         "hovertemplate": "iso_639_3=kan<br>ppl_mean=%{x}<br>correct_language=%{y}<extra></extra>",
         "legendgroup": "kan",
         "marker": {
          "color": "#B6E880",
          "symbol": "circle"
         },
         "mode": "markers",
         "name": "kan",
         "orientation": "v",
         "showlegend": true,
         "type": "scatter",
         "x": [
          3.4853186690807343
         ],
         "xaxis": "x",
         "y": [
          0
         ],
         "yaxis": "y"
        },
        {
         "hovertemplate": "iso_639_3=kat<br>ppl_mean=%{x}<br>correct_language=%{y}<extra></extra>",
         "legendgroup": "kat",
         "marker": {
          "color": "#FF97FF",
          "symbol": "circle"
         },
         "mode": "markers",
         "name": "kat",
         "orientation": "v",
         "showlegend": true,
         "type": "scatter",
         "x": [
          11.105363510847091
         ],
         "xaxis": "x",
         "y": [
          0.005
         ],
         "yaxis": "y"
        },
        {
         "hovertemplate": "iso_639_3=kaz<br>ppl_mean=%{x}<br>correct_language=%{y}<extra></extra>",
         "legendgroup": "kaz",
         "marker": {
          "color": "#FECB52",
          "symbol": "circle"
         },
         "mode": "markers",
         "name": "kaz",
         "orientation": "v",
         "showlegend": true,
         "type": "scatter",
         "x": [
          756.4475105667115
         ],
         "xaxis": "x",
         "y": [
          0.005
         ],
         "yaxis": "y"
        },
        {
         "hovertemplate": "iso_639_3=khm<br>ppl_mean=%{x}<br>correct_language=%{y}<extra></extra>",
         "legendgroup": "khm",
         "marker": {
          "color": "#636efa",
          "symbol": "circle"
         },
         "mode": "markers",
         "name": "khm",
         "orientation": "v",
         "showlegend": true,
         "type": "scatter",
         "x": [
          5.111896975040436
         ],
         "xaxis": "x",
         "y": [
          0.005
         ],
         "yaxis": "y"
        },
        {
         "hovertemplate": "iso_639_3=kin<br>ppl_mean=%{x}<br>correct_language=%{y}<extra></extra>",
         "legendgroup": "kin",
         "marker": {
          "color": "#EF553B",
          "symbol": "circle"
         },
         "mode": "markers",
         "name": "kin",
         "orientation": "v",
         "showlegend": true,
         "type": "scatter",
         "x": [
          1189.09234167099
         ],
         "xaxis": "x",
         "y": [
          0
         ],
         "yaxis": "y"
        },
        {
         "hovertemplate": "iso_639_3=kir<br>ppl_mean=%{x}<br>correct_language=%{y}<extra></extra>",
         "legendgroup": "kir",
         "marker": {
          "color": "#00cc96",
          "symbol": "circle"
         },
         "mode": "markers",
         "name": "kir",
         "orientation": "v",
         "showlegend": true,
         "type": "scatter",
         "x": [
          803.8477539634705
         ],
         "xaxis": "x",
         "y": [
          0
         ],
         "yaxis": "y"
        },
        {
         "hovertemplate": "iso_639_3=knn<br>ppl_mean=%{x}<br>correct_language=%{y}<extra></extra>",
         "legendgroup": "knn",
         "marker": {
          "color": "#ab63fa",
          "symbol": "circle"
         },
         "mode": "markers",
         "name": "knn",
         "orientation": "v",
         "showlegend": true,
         "type": "scatter",
         "x": [
          23.72209668636322
         ],
         "xaxis": "x",
         "y": [
          0
         ],
         "yaxis": "y"
        },
        {
         "hovertemplate": "iso_639_3=kor<br>ppl_mean=%{x}<br>correct_language=%{y}<extra></extra>",
         "legendgroup": "kor",
         "marker": {
          "color": "#FFA15A",
          "symbol": "circle"
         },
         "mode": "markers",
         "name": "kor",
         "orientation": "v",
         "showlegend": true,
         "type": "scatter",
         "x": [
          10.348056626319885
         ],
         "xaxis": "x",
         "y": [
          0
         ],
         "yaxis": "y"
        },
        {
         "hovertemplate": "iso_639_3=kri<br>ppl_mean=%{x}<br>correct_language=%{y}<extra></extra>",
         "legendgroup": "kri",
         "marker": {
          "color": "#19d3f3",
          "symbol": "circle"
         },
         "mode": "markers",
         "name": "kri",
         "orientation": "v",
         "showlegend": true,
         "type": "scatter",
         "x": [
          1003.8553714942932
         ],
         "xaxis": "x",
         "y": [
          0
         ],
         "yaxis": "y"
        },
        {
         "hovertemplate": "iso_639_3=lao<br>ppl_mean=%{x}<br>correct_language=%{y}<extra></extra>",
         "legendgroup": "lao",
         "marker": {
          "color": "#FF6692",
          "symbol": "circle"
         },
         "mode": "markers",
         "name": "lao",
         "orientation": "v",
         "showlegend": true,
         "type": "scatter",
         "x": [
          4.242210203409195
         ],
         "xaxis": "x",
         "y": [
          0.01
         ],
         "yaxis": "y"
        },
        {
         "hovertemplate": "iso_639_3=lat<br>ppl_mean=%{x}<br>correct_language=%{y}<extra></extra>",
         "legendgroup": "lat",
         "marker": {
          "color": "#B6E880",
          "symbol": "circle"
         },
         "mode": "markers",
         "name": "lat",
         "orientation": "v",
         "showlegend": true,
         "type": "scatter",
         "x": [
          527.3590002250671
         ],
         "xaxis": "x",
         "y": [
          0.005
         ],
         "yaxis": "y"
        },
        {
         "hovertemplate": "iso_639_3=lav<br>ppl_mean=%{x}<br>correct_language=%{y}<extra></extra>",
         "legendgroup": "lav",
         "marker": {
          "color": "#FF97FF",
          "symbol": "circle"
         },
         "mode": "markers",
         "name": "lav",
         "orientation": "v",
         "showlegend": true,
         "type": "scatter",
         "x": [
          705.9961970615387
         ],
         "xaxis": "x",
         "y": [
          0.065
         ],
         "yaxis": "y"
        },
        {
         "hovertemplate": "iso_639_3=lin<br>ppl_mean=%{x}<br>correct_language=%{y}<extra></extra>",
         "legendgroup": "lin",
         "marker": {
          "color": "#FECB52",
          "symbol": "circle"
         },
         "mode": "markers",
         "name": "lin",
         "orientation": "v",
         "showlegend": true,
         "type": "scatter",
         "x": [
          1711.696183128357
         ],
         "xaxis": "x",
         "y": [
          0.005
         ],
         "yaxis": "y"
        },
        {
         "hovertemplate": "iso_639_3=lit<br>ppl_mean=%{x}<br>correct_language=%{y}<extra></extra>",
         "legendgroup": "lit",
         "marker": {
          "color": "#636efa",
          "symbol": "circle"
         },
         "mode": "markers",
         "name": "lit",
         "orientation": "v",
         "showlegend": true,
         "type": "scatter",
         "x": [
          485.3601522731781
         ],
         "xaxis": "x",
         "y": [
          0.035
         ],
         "yaxis": "y"
        },
        {
         "hovertemplate": "iso_639_3=ltz<br>ppl_mean=%{x}<br>correct_language=%{y}<extra></extra>",
         "legendgroup": "ltz",
         "marker": {
          "color": "#EF553B",
          "symbol": "circle"
         },
         "mode": "markers",
         "name": "ltz",
         "orientation": "v",
         "showlegend": true,
         "type": "scatter",
         "x": [
          2331.4490369415284
         ],
         "xaxis": "x",
         "y": [
          0
         ],
         "yaxis": "y"
        },
        {
         "hovertemplate": "iso_639_3=lug<br>ppl_mean=%{x}<br>correct_language=%{y}<extra></extra>",
         "legendgroup": "lug",
         "marker": {
          "color": "#00cc96",
          "symbol": "circle"
         },
         "mode": "markers",
         "name": "lug",
         "orientation": "v",
         "showlegend": true,
         "type": "scatter",
         "x": [
          1285.7220568084717
         ],
         "xaxis": "x",
         "y": [
          0.01
         ],
         "yaxis": "y"
        },
        {
         "hovertemplate": "iso_639_3=lus<br>ppl_mean=%{x}<br>correct_language=%{y}<extra></extra>",
         "legendgroup": "lus",
         "marker": {
          "color": "#ab63fa",
          "symbol": "circle"
         },
         "mode": "markers",
         "name": "lus",
         "orientation": "v",
         "showlegend": true,
         "type": "scatter",
         "x": [
          1723.1873011016846
         ],
         "xaxis": "x",
         "y": [
          0.005
         ],
         "yaxis": "y"
        },
        {
         "hovertemplate": "iso_639_3=mai<br>ppl_mean=%{x}<br>correct_language=%{y}<extra></extra>",
         "legendgroup": "mai",
         "marker": {
          "color": "#FFA15A",
          "symbol": "circle"
         },
         "mode": "markers",
         "name": "mai",
         "orientation": "v",
         "showlegend": true,
         "type": "scatter",
         "x": [
          21.42252473115921
         ],
         "xaxis": "x",
         "y": [
          0.005
         ],
         "yaxis": "y"
        },
        {
         "hovertemplate": "iso_639_3=mal<br>ppl_mean=%{x}<br>correct_language=%{y}<extra></extra>",
         "legendgroup": "mal",
         "marker": {
          "color": "#19d3f3",
          "symbol": "circle"
         },
         "mode": "markers",
         "name": "mal",
         "orientation": "v",
         "showlegend": true,
         "type": "scatter",
         "x": [
          9.22713178396225
         ],
         "xaxis": "x",
         "y": [
          0.01
         ],
         "yaxis": "y"
        },
        {
         "hovertemplate": "iso_639_3=mar<br>ppl_mean=%{x}<br>correct_language=%{y}<extra></extra>",
         "legendgroup": "mar",
         "marker": {
          "color": "#FF6692",
          "symbol": "circle"
         },
         "mode": "markers",
         "name": "mar",
         "orientation": "v",
         "showlegend": true,
         "type": "scatter",
         "x": [
          10.85627722620964
         ],
         "xaxis": "x",
         "y": [
          0
         ],
         "yaxis": "y"
        },
        {
         "hovertemplate": "iso_639_3=mkd<br>ppl_mean=%{x}<br>correct_language=%{y}<extra></extra>",
         "legendgroup": "mkd",
         "marker": {
          "color": "#B6E880",
          "symbol": "circle"
         },
         "mode": "markers",
         "name": "mkd",
         "orientation": "v",
         "showlegend": true,
         "type": "scatter",
         "x": [
          274.05843138694763
         ],
         "xaxis": "x",
         "y": [
          0.005
         ],
         "yaxis": "y"
        },
        {
         "hovertemplate": "iso_639_3=mlt<br>ppl_mean=%{x}<br>correct_language=%{y}<extra></extra>",
         "legendgroup": "mlt",
         "marker": {
          "color": "#FF97FF",
          "symbol": "circle"
         },
         "mode": "markers",
         "name": "mlt",
         "orientation": "v",
         "showlegend": true,
         "type": "scatter",
         "x": [
          852.327243232727
         ],
         "xaxis": "x",
         "y": [
          0.005
         ],
         "yaxis": "y"
        },
        {
         "hovertemplate": "iso_639_3=mni<br>ppl_mean=%{x}<br>correct_language=%{y}<extra></extra>",
         "legendgroup": "mni",
         "marker": {
          "color": "#FECB52",
          "symbol": "circle"
         },
         "mode": "markers",
         "name": "mni",
         "orientation": "v",
         "showlegend": true,
         "type": "scatter",
         "x": [
          6.6468892931938175
         ],
         "xaxis": "x",
         "y": [
          0
         ],
         "yaxis": "y"
        },
        {
         "hovertemplate": "iso_639_3=mon<br>ppl_mean=%{x}<br>correct_language=%{y}<extra></extra>",
         "legendgroup": "mon",
         "marker": {
          "color": "#636efa",
          "symbol": "circle"
         },
         "mode": "markers",
         "name": "mon",
         "orientation": "v",
         "showlegend": true,
         "type": "scatter",
         "x": [
          250.37372483253478
         ],
         "xaxis": "x",
         "y": [
          0
         ],
         "yaxis": "y"
        },
        {
         "hovertemplate": "iso_639_3=mri<br>ppl_mean=%{x}<br>correct_language=%{y}<extra></extra>",
         "legendgroup": "mri",
         "marker": {
          "color": "#EF553B",
          "symbol": "circle"
         },
         "mode": "markers",
         "name": "mri",
         "orientation": "v",
         "showlegend": true,
         "type": "scatter",
         "x": [
          160.19481485366822
         ],
         "xaxis": "x",
         "y": [
          0.035
         ],
         "yaxis": "y"
        },
        {
         "hovertemplate": "iso_639_3=mww<br>ppl_mean=%{x}<br>correct_language=%{y}<extra></extra>",
         "legendgroup": "mww",
         "marker": {
          "color": "#00cc96",
          "symbol": "circle"
         },
         "mode": "markers",
         "name": "mww",
         "orientation": "v",
         "showlegend": true,
         "type": "scatter",
         "x": [
          835.0767914390564
         ],
         "xaxis": "x",
         "y": [
          0
         ],
         "yaxis": "y"
        },
        {
         "hovertemplate": "iso_639_3=mya<br>ppl_mean=%{x}<br>correct_language=%{y}<extra></extra>",
         "legendgroup": "mya",
         "marker": {
          "color": "#ab63fa",
          "symbol": "circle"
         },
         "mode": "markers",
         "name": "mya",
         "orientation": "v",
         "showlegend": true,
         "type": "scatter",
         "x": [
          6.990038195848465
         ],
         "xaxis": "x",
         "y": [
          0.045
         ],
         "yaxis": "y"
        },
        {
         "hovertemplate": "iso_639_3=nld<br>ppl_mean=%{x}<br>correct_language=%{y}<extra></extra>",
         "legendgroup": "nld",
         "marker": {
          "color": "#FFA15A",
          "symbol": "circle"
         },
         "mode": "markers",
         "name": "nld",
         "orientation": "v",
         "showlegend": true,
         "type": "scatter",
         "x": [
          180.78672939777374
         ],
         "xaxis": "x",
         "y": [
          0.59
         ],
         "yaxis": "y"
        },
        {
         "hovertemplate": "iso_639_3=nor<br>ppl_mean=%{x}<br>correct_language=%{y}<extra></extra>",
         "legendgroup": "nor",
         "marker": {
          "color": "#19d3f3",
          "symbol": "circle"
         },
         "mode": "markers",
         "name": "nor",
         "orientation": "v",
         "showlegend": true,
         "type": "scatter",
         "x": [
          239.77652062892915
         ],
         "xaxis": "x",
         "y": [
          0.275
         ],
         "yaxis": "y"
        },
        {
         "hovertemplate": "iso_639_3=npi<br>ppl_mean=%{x}<br>correct_language=%{y}<extra></extra>",
         "legendgroup": "npi",
         "marker": {
          "color": "#FF6692",
          "symbol": "circle"
         },
         "mode": "markers",
         "name": "npi",
         "orientation": "v",
         "showlegend": true,
         "type": "scatter",
         "x": [
          13.12718460559845
         ],
         "xaxis": "x",
         "y": [
          0.005
         ],
         "yaxis": "y"
        },
        {
         "hovertemplate": "iso_639_3=nso<br>ppl_mean=%{x}<br>correct_language=%{y}<extra></extra>",
         "legendgroup": "nso",
         "marker": {
          "color": "#B6E880",
          "symbol": "circle"
         },
         "mode": "markers",
         "name": "nso",
         "orientation": "v",
         "showlegend": true,
         "type": "scatter",
         "x": [
          1896.566506500244
         ],
         "xaxis": "x",
         "y": [
          0
         ],
         "yaxis": "y"
        },
        {
         "hovertemplate": "iso_639_3=nya<br>ppl_mean=%{x}<br>correct_language=%{y}<extra></extra>",
         "legendgroup": "nya",
         "marker": {
          "color": "#FF97FF",
          "symbol": "circle"
         },
         "mode": "markers",
         "name": "nya",
         "orientation": "v",
         "showlegend": true,
         "type": "scatter",
         "x": [
          515.6847468948364
         ],
         "xaxis": "x",
         "y": [
          0.12
         ],
         "yaxis": "y"
        },
        {
         "hovertemplate": "iso_639_3=ory<br>ppl_mean=%{x}<br>correct_language=%{y}<extra></extra>",
         "legendgroup": "ory",
         "marker": {
          "color": "#FECB52",
          "symbol": "circle"
         },
         "mode": "markers",
         "name": "ory",
         "orientation": "v",
         "showlegend": true,
         "type": "scatter",
         "x": [
          7.197731413841248
         ],
         "xaxis": "x",
         "y": [
          0
         ],
         "yaxis": "y"
        },
        {
         "hovertemplate": "iso_639_3=pan<br>ppl_mean=%{x}<br>correct_language=%{y}<extra></extra>",
         "legendgroup": "pan",
         "marker": {
          "color": "#636efa",
          "symbol": "circle"
         },
         "mode": "markers",
         "name": "pan",
         "orientation": "v",
         "showlegend": true,
         "type": "scatter",
         "x": [
          4.055160223245621
         ],
         "xaxis": "x",
         "y": [
          0
         ],
         "yaxis": "y"
        },
        {
         "hovertemplate": "iso_639_3=pes<br>ppl_mean=%{x}<br>correct_language=%{y}<extra></extra>",
         "legendgroup": "pes",
         "marker": {
          "color": "#EF553B",
          "symbol": "circle"
         },
         "mode": "markers",
         "name": "pes",
         "orientation": "v",
         "showlegend": true,
         "type": "scatter",
         "x": [
          11.986943558454513
         ],
         "xaxis": "x",
         "y": [
          0
         ],
         "yaxis": "y"
        },
        {
         "hovertemplate": "iso_639_3=plt<br>ppl_mean=%{x}<br>correct_language=%{y}<extra></extra>",
         "legendgroup": "plt",
         "marker": {
          "color": "#00cc96",
          "symbol": "circle"
         },
         "mode": "markers",
         "name": "plt",
         "orientation": "v",
         "showlegend": true,
         "type": "scatter",
         "x": [
          1544.4799760055541
         ],
         "xaxis": "x",
         "y": [
          0.005
         ],
         "yaxis": "y"
        },
        {
         "hovertemplate": "iso_639_3=pol<br>ppl_mean=%{x}<br>correct_language=%{y}<extra></extra>",
         "legendgroup": "pol",
         "marker": {
          "color": "#ab63fa",
          "symbol": "circle"
         },
         "mode": "markers",
         "name": "pol",
         "orientation": "v",
         "showlegend": true,
         "type": "scatter",
         "x": [
          397.18781058073046
         ],
         "xaxis": "x",
         "y": [
          0.615
         ],
         "yaxis": "y"
        },
        {
         "hovertemplate": "iso_639_3=por<br>ppl_mean=%{x}<br>correct_language=%{y}<extra></extra>",
         "legendgroup": "por",
         "marker": {
          "color": "#FFA15A",
          "symbol": "circle"
         },
         "mode": "markers",
         "name": "por",
         "orientation": "v",
         "showlegend": true,
         "type": "scatter",
         "x": [
          57.021575796604154
         ],
         "xaxis": "x",
         "y": [
          0.84
         ],
         "yaxis": "y"
        },
        {
         "hovertemplate": "iso_639_3=pst<br>ppl_mean=%{x}<br>correct_language=%{y}<extra></extra>",
         "legendgroup": "pst",
         "marker": {
          "color": "#19d3f3",
          "symbol": "circle"
         },
         "mode": "markers",
         "name": "pst",
         "orientation": "v",
         "showlegend": true,
         "type": "scatter",
         "x": [
          30.74204954624176
         ],
         "xaxis": "x",
         "y": [
          0
         ],
         "yaxis": "y"
        },
        {
         "hovertemplate": "iso_639_3=quh<br>ppl_mean=%{x}<br>correct_language=%{y}<extra></extra>",
         "legendgroup": "quh",
         "marker": {
          "color": "#FF6692",
          "symbol": "circle"
         },
         "mode": "markers",
         "name": "quh",
         "orientation": "v",
         "showlegend": true,
         "type": "scatter",
         "x": [
          1042.6382734107972
         ],
         "xaxis": "x",
         "y": [
          0
         ],
         "yaxis": "y"
        },
        {
         "hovertemplate": "iso_639_3=ron<br>ppl_mean=%{x}<br>correct_language=%{y}<extra></extra>",
         "legendgroup": "ron",
         "marker": {
          "color": "#B6E880",
          "symbol": "circle"
         },
         "mode": "markers",
         "name": "ron",
         "orientation": "v",
         "showlegend": true,
         "type": "scatter",
         "x": [
          195.0975546503067
         ],
         "xaxis": "x",
         "y": [
          0.535
         ],
         "yaxis": "y"
        },
        {
         "hovertemplate": "iso_639_3=rus<br>ppl_mean=%{x}<br>correct_language=%{y}<extra></extra>",
         "legendgroup": "rus",
         "marker": {
          "color": "#FF97FF",
          "symbol": "circle"
         },
         "mode": "markers",
         "name": "rus",
         "orientation": "v",
         "showlegend": true,
         "type": "scatter",
         "x": [
          48.67135065674782
         ],
         "xaxis": "x",
         "y": [
          0.71
         ],
         "yaxis": "y"
        },
        {
         "hovertemplate": "iso_639_3=san<br>ppl_mean=%{x}<br>correct_language=%{y}<extra></extra>",
         "legendgroup": "san",
         "marker": {
          "color": "#FECB52",
          "symbol": "circle"
         },
         "mode": "markers",
         "name": "san",
         "orientation": "v",
         "showlegend": true,
         "type": "scatter",
         "x": [
          15.717419965267181
         ],
         "xaxis": "x",
         "y": [
          0.005
         ],
         "yaxis": "y"
        },
        {
         "hovertemplate": "iso_639_3=sin<br>ppl_mean=%{x}<br>correct_language=%{y}<extra></extra>",
         "legendgroup": "sin",
         "marker": {
          "color": "#636efa",
          "symbol": "circle"
         },
         "mode": "markers",
         "name": "sin",
         "orientation": "v",
         "showlegend": true,
         "type": "scatter",
         "x": [
          4.803945162296295
         ],
         "xaxis": "x",
         "y": [
          0.005
         ],
         "yaxis": "y"
        },
        {
         "hovertemplate": "iso_639_3=slk<br>ppl_mean=%{x}<br>correct_language=%{y}<extra></extra>",
         "legendgroup": "slk",
         "marker": {
          "color": "#EF553B",
          "symbol": "circle"
         },
         "mode": "markers",
         "name": "slk",
         "orientation": "v",
         "showlegend": true,
         "type": "scatter",
         "x": [
          209.58984071731567
         ],
         "xaxis": "x",
         "y": [
          0.06
         ],
         "yaxis": "y"
        },
        {
         "hovertemplate": "iso_639_3=slv<br>ppl_mean=%{x}<br>correct_language=%{y}<extra></extra>",
         "legendgroup": "slv",
         "marker": {
          "color": "#00cc96",
          "symbol": "circle"
         },
         "mode": "markers",
         "name": "slv",
         "orientation": "v",
         "showlegend": true,
         "type": "scatter",
         "x": [
          212.12267283201217
         ],
         "xaxis": "x",
         "y": [
          0.37
         ],
         "yaxis": "y"
        },
        {
         "hovertemplate": "iso_639_3=smo<br>ppl_mean=%{x}<br>correct_language=%{y}<extra></extra>",
         "legendgroup": "smo",
         "marker": {
          "color": "#ab63fa",
          "symbol": "circle"
         },
         "mode": "markers",
         "name": "smo",
         "orientation": "v",
         "showlegend": true,
         "type": "scatter",
         "x": [
          510.8498818588257
         ],
         "xaxis": "x",
         "y": [
          0.04
         ],
         "yaxis": "y"
        },
        {
         "hovertemplate": "iso_639_3=sna<br>ppl_mean=%{x}<br>correct_language=%{y}<extra></extra>",
         "legendgroup": "sna",
         "marker": {
          "color": "#FFA15A",
          "symbol": "circle"
         },
         "mode": "markers",
         "name": "sna",
         "orientation": "v",
         "showlegend": true,
         "type": "scatter",
         "x": [
          903.7992587280273
         ],
         "xaxis": "x",
         "y": [
          0.03
         ],
         "yaxis": "y"
        },
        {
         "hovertemplate": "iso_639_3=snd<br>ppl_mean=%{x}<br>correct_language=%{y}<extra></extra>",
         "legendgroup": "snd",
         "marker": {
          "color": "#19d3f3",
          "symbol": "circle"
         },
         "mode": "markers",
         "name": "snd",
         "orientation": "v",
         "showlegend": true,
         "type": "scatter",
         "x": [
          51.53195233345032
         ],
         "xaxis": "x",
         "y": [
          0
         ],
         "yaxis": "y"
        },
        {
         "hovertemplate": "iso_639_3=som<br>ppl_mean=%{x}<br>correct_language=%{y}<extra></extra>",
         "legendgroup": "som",
         "marker": {
          "color": "#FF6692",
          "symbol": "circle"
         },
         "mode": "markers",
         "name": "som",
         "orientation": "v",
         "showlegend": true,
         "type": "scatter",
         "x": [
          1719.8974601173402
         ],
         "xaxis": "x",
         "y": [
          0.005
         ],
         "yaxis": "y"
        },
        {
         "hovertemplate": "iso_639_3=sot<br>ppl_mean=%{x}<br>correct_language=%{y}<extra></extra>",
         "legendgroup": "sot",
         "marker": {
          "color": "#B6E880",
          "symbol": "circle"
         },
         "mode": "markers",
         "name": "sot",
         "orientation": "v",
         "showlegend": true,
         "type": "scatter",
         "x": [
          1528.665263595581
         ],
         "xaxis": "x",
         "y": [
          0
         ],
         "yaxis": "y"
        },
        {
         "hovertemplate": "iso_639_3=spa<br>ppl_mean=%{x}<br>correct_language=%{y}<extra></extra>",
         "legendgroup": "spa",
         "marker": {
          "color": "#FF97FF",
          "symbol": "circle"
         },
         "mode": "markers",
         "name": "spa",
         "orientation": "v",
         "showlegend": true,
         "type": "scatter",
         "x": [
          23.432204184532164
         ],
         "xaxis": "x",
         "y": [
          0.93
         ],
         "yaxis": "y"
        },
        {
         "hovertemplate": "iso_639_3=sqi<br>ppl_mean=%{x}<br>correct_language=%{y}<extra></extra>",
         "legendgroup": "sqi",
         "marker": {
          "color": "#FECB52",
          "symbol": "circle"
         },
         "mode": "markers",
         "name": "sqi",
         "orientation": "v",
         "showlegend": true,
         "type": "scatter",
         "x": [
          205.04187107086182
         ],
         "xaxis": "x",
         "y": [
          0.005
         ],
         "yaxis": "y"
        },
        {
         "hovertemplate": "iso_639_3=sun<br>ppl_mean=%{x}<br>correct_language=%{y}<extra></extra>",
         "legendgroup": "sun",
         "marker": {
          "color": "#636efa",
          "symbol": "circle"
         },
         "mode": "markers",
         "name": "sun",
         "orientation": "v",
         "showlegend": true,
         "type": "scatter",
         "x": [
          1840.3750573348998
         ],
         "xaxis": "x",
         "y": [
          0.015
         ],
         "yaxis": "y"
        },
        {
         "hovertemplate": "iso_639_3=swe<br>ppl_mean=%{x}<br>correct_language=%{y}<extra></extra>",
         "legendgroup": "swe",
         "marker": {
          "color": "#EF553B",
          "symbol": "circle"
         },
         "mode": "markers",
         "name": "swe",
         "orientation": "v",
         "showlegend": true,
         "type": "scatter",
         "x": [
          251.95527058124543
         ],
         "xaxis": "x",
         "y": [
          0.45
         ],
         "yaxis": "y"
        },
        {
         "hovertemplate": "iso_639_3=swh<br>ppl_mean=%{x}<br>correct_language=%{y}<extra></extra>",
         "legendgroup": "swh",
         "marker": {
          "color": "#00cc96",
          "symbol": "circle"
         },
         "mode": "markers",
         "name": "swh",
         "orientation": "v",
         "showlegend": true,
         "type": "scatter",
         "x": [
          380.9382972240448
         ],
         "xaxis": "x",
         "y": [
          0.05
         ],
         "yaxis": "y"
        },
        {
         "hovertemplate": "iso_639_3=tam<br>ppl_mean=%{x}<br>correct_language=%{y}<extra></extra>",
         "legendgroup": "tam",
         "marker": {
          "color": "#ab63fa",
          "symbol": "circle"
         },
         "mode": "markers",
         "name": "tam",
         "orientation": "v",
         "showlegend": true,
         "type": "scatter",
         "x": [
          5.524150210618973
         ],
         "xaxis": "x",
         "y": [
          0.01
         ],
         "yaxis": "y"
        },
        {
         "hovertemplate": "iso_639_3=tat<br>ppl_mean=%{x}<br>correct_language=%{y}<extra></extra>",
         "legendgroup": "tat",
         "marker": {
          "color": "#FFA15A",
          "symbol": "circle"
         },
         "mode": "markers",
         "name": "tat",
         "orientation": "v",
         "showlegend": true,
         "type": "scatter",
         "x": [
          534.4820444297791
         ],
         "xaxis": "x",
         "y": [
          0
         ],
         "yaxis": "y"
        },
        {
         "hovertemplate": "iso_639_3=tel<br>ppl_mean=%{x}<br>correct_language=%{y}<extra></extra>",
         "legendgroup": "tel",
         "marker": {
          "color": "#19d3f3",
          "symbol": "circle"
         },
         "mode": "markers",
         "name": "tel",
         "orientation": "v",
         "showlegend": true,
         "type": "scatter",
         "x": [
          3.1401567375659942
         ],
         "xaxis": "x",
         "y": [
          0
         ],
         "yaxis": "y"
        },
        {
         "hovertemplate": "iso_639_3=tgk<br>ppl_mean=%{x}<br>correct_language=%{y}<extra></extra>",
         "legendgroup": "tgk",
         "marker": {
          "color": "#FF6692",
          "symbol": "circle"
         },
         "mode": "markers",
         "name": "tgk",
         "orientation": "v",
         "showlegend": true,
         "type": "scatter",
         "x": [
          1207.3385385131835
         ],
         "xaxis": "x",
         "y": [
          0
         ],
         "yaxis": "y"
        },
        {
         "hovertemplate": "iso_639_3=tgl<br>ppl_mean=%{x}<br>correct_language=%{y}<extra></extra>",
         "legendgroup": "tgl",
         "marker": {
          "color": "#B6E880",
          "symbol": "circle"
         },
         "mode": "markers",
         "name": "tgl",
         "orientation": "v",
         "showlegend": true,
         "type": "scatter",
         "x": [
          112.02256670713425
         ],
         "xaxis": "x",
         "y": [
          0.015
         ],
         "yaxis": "y"
        },
        {
         "hovertemplate": "iso_639_3=tha<br>ppl_mean=%{x}<br>correct_language=%{y}<extra></extra>",
         "legendgroup": "tha",
         "marker": {
          "color": "#FF97FF",
          "symbol": "circle"
         },
         "mode": "markers",
         "name": "tha",
         "orientation": "v",
         "showlegend": true,
         "type": "scatter",
         "x": [
          15.319099917411805
         ],
         "xaxis": "x",
         "y": [
          0
         ],
         "yaxis": "y"
        },
        {
         "hovertemplate": "iso_639_3=tir<br>ppl_mean=%{x}<br>correct_language=%{y}<extra></extra>",
         "legendgroup": "tir",
         "marker": {
          "color": "#FECB52",
          "symbol": "circle"
         },
         "mode": "markers",
         "name": "tir",
         "orientation": "v",
         "showlegend": true,
         "type": "scatter",
         "x": [
          5.4642112910747525
         ],
         "xaxis": "x",
         "y": [
          0
         ],
         "yaxis": "y"
        },
        {
         "hovertemplate": "iso_639_3=tso<br>ppl_mean=%{x}<br>correct_language=%{y}<extra></extra>",
         "legendgroup": "tso",
         "marker": {
          "color": "#636efa",
          "symbol": "circle"
         },
         "mode": "markers",
         "name": "tso",
         "orientation": "v",
         "showlegend": true,
         "type": "scatter",
         "x": [
          1378.4137932205201
         ],
         "xaxis": "x",
         "y": [
          0
         ],
         "yaxis": "y"
        },
        {
         "hovertemplate": "iso_639_3=tuk<br>ppl_mean=%{x}<br>correct_language=%{y}<extra></extra>",
         "legendgroup": "tuk",
         "marker": {
          "color": "#EF553B",
          "symbol": "circle"
         },
         "mode": "markers",
         "name": "tuk",
         "orientation": "v",
         "showlegend": true,
         "type": "scatter",
         "x": [
          4358.673205566406
         ],
         "xaxis": "x",
         "y": [
          0
         ],
         "yaxis": "y"
        },
        {
         "hovertemplate": "iso_639_3=tur<br>ppl_mean=%{x}<br>correct_language=%{y}<extra></extra>",
         "legendgroup": "tur",
         "marker": {
          "color": "#00cc96",
          "symbol": "circle"
         },
         "mode": "markers",
         "name": "tur",
         "orientation": "v",
         "showlegend": true,
         "type": "scatter",
         "x": [
          221.2716696667671
         ],
         "xaxis": "x",
         "y": [
          0.04
         ],
         "yaxis": "y"
        },
        {
         "hovertemplate": "iso_639_3=uig<br>ppl_mean=%{x}<br>correct_language=%{y}<extra></extra>",
         "legendgroup": "uig",
         "marker": {
          "color": "#ab63fa",
          "symbol": "circle"
         },
         "mode": "markers",
         "name": "uig",
         "orientation": "v",
         "showlegend": true,
         "type": "scatter",
         "x": [
          46.750130290985105
         ],
         "xaxis": "x",
         "y": [
          0
         ],
         "yaxis": "y"
        },
        {
         "hovertemplate": "iso_639_3=ukr<br>ppl_mean=%{x}<br>correct_language=%{y}<extra></extra>",
         "legendgroup": "ukr",
         "marker": {
          "color": "#FFA15A",
          "symbol": "circle"
         },
         "mode": "markers",
         "name": "ukr",
         "orientation": "v",
         "showlegend": true,
         "type": "scatter",
         "x": [
          46.52274213075638
         ],
         "xaxis": "x",
         "y": [
          0.595
         ],
         "yaxis": "y"
        },
        {
         "hovertemplate": "iso_639_3=urd<br>ppl_mean=%{x}<br>correct_language=%{y}<extra></extra>",
         "legendgroup": "urd",
         "marker": {
          "color": "#19d3f3",
          "symbol": "circle"
         },
         "mode": "markers",
         "name": "urd",
         "orientation": "v",
         "showlegend": true,
         "type": "scatter",
         "x": [
          11.244088127613068
         ],
         "xaxis": "x",
         "y": [
          0
         ],
         "yaxis": "y"
        },
        {
         "hovertemplate": "iso_639_3=uzn<br>ppl_mean=%{x}<br>correct_language=%{y}<extra></extra>",
         "legendgroup": "uzn",
         "marker": {
          "color": "#FF6692",
          "symbol": "circle"
         },
         "mode": "markers",
         "name": "uzn",
         "orientation": "v",
         "showlegend": true,
         "type": "scatter",
         "x": [
          1922.9598867416382
         ],
         "xaxis": "x",
         "y": [
          0
         ],
         "yaxis": "y"
        },
        {
         "hovertemplate": "iso_639_3=vie<br>ppl_mean=%{x}<br>correct_language=%{y}<extra></extra>",
         "legendgroup": "vie",
         "marker": {
          "color": "#B6E880",
          "symbol": "circle"
         },
         "mode": "markers",
         "name": "vie",
         "orientation": "v",
         "showlegend": true,
         "type": "scatter",
         "x": [
          18.4361773788929
         ],
         "xaxis": "x",
         "y": [
          0.065
         ],
         "yaxis": "y"
        },
        {
         "hovertemplate": "iso_639_3=xho<br>ppl_mean=%{x}<br>correct_language=%{y}<extra></extra>",
         "legendgroup": "xho",
         "marker": {
          "color": "#FF97FF",
          "symbol": "circle"
         },
         "mode": "markers",
         "name": "xho",
         "orientation": "v",
         "showlegend": true,
         "type": "scatter",
         "x": [
          853.8424174690247
         ],
         "xaxis": "x",
         "y": [
          0.015
         ],
         "yaxis": "y"
        },
        {
         "hovertemplate": "iso_639_3=ydd<br>ppl_mean=%{x}<br>correct_language=%{y}<extra></extra>",
         "legendgroup": "ydd",
         "marker": {
          "color": "#FECB52",
          "symbol": "circle"
         },
         "mode": "markers",
         "name": "ydd",
         "orientation": "v",
         "showlegend": true,
         "type": "scatter",
         "x": [
          14.597283210754394
         ],
         "xaxis": "x",
         "y": [
          0.005
         ],
         "yaxis": "y"
        },
        {
         "hovertemplate": "iso_639_3=yor<br>ppl_mean=%{x}<br>correct_language=%{y}<extra></extra>",
         "legendgroup": "yor",
         "marker": {
          "color": "#636efa",
          "symbol": "circle"
         },
         "mode": "markers",
         "name": "yor",
         "orientation": "v",
         "showlegend": true,
         "type": "scatter",
         "x": [
          832.01589427948
         ],
         "xaxis": "x",
         "y": [
          0.005
         ],
         "yaxis": "y"
        },
        {
         "hovertemplate": "iso_639_3=zho<br>ppl_mean=%{x}<br>correct_language=%{y}<extra></extra>",
         "legendgroup": "zho",
         "marker": {
          "color": "#EF553B",
          "symbol": "circle"
         },
         "mode": "markers",
         "name": "zho",
         "orientation": "v",
         "showlegend": true,
         "type": "scatter",
         "x": [
          23.374694447517395
         ],
         "xaxis": "x",
         "y": [
          0.0016666666666666668
         ],
         "yaxis": "y"
        },
        {
         "hovertemplate": "iso_639_3=zsm<br>ppl_mean=%{x}<br>correct_language=%{y}<extra></extra>",
         "legendgroup": "zsm",
         "marker": {
          "color": "#00cc96",
          "symbol": "circle"
         },
         "mode": "markers",
         "name": "zsm",
         "orientation": "v",
         "showlegend": true,
         "type": "scatter",
         "x": [
          96.81643967151642
         ],
         "xaxis": "x",
         "y": [
          0.03
         ],
         "yaxis": "y"
        },
        {
         "hovertemplate": "iso_639_3=zul<br>ppl_mean=%{x}<br>correct_language=%{y}<extra></extra>",
         "legendgroup": "zul",
         "marker": {
          "color": "#ab63fa",
          "symbol": "circle"
         },
         "mode": "markers",
         "name": "zul",
         "orientation": "v",
         "showlegend": true,
         "type": "scatter",
         "x": [
          829.6098641395569
         ],
         "xaxis": "x",
         "y": [
          0.02
         ],
         "yaxis": "y"
        }
       ],
       "layout": {
        "font": {
         "family": "Times New Roman"
        },
        "height": 500,
        "legend": {
         "title": {
          "text": "iso_639_3"
         },
         "tracegroupgap": 0
        },
        "margin": {
         "t": 60
        },
        "showlegend": false,
        "template": {
         "data": {
          "bar": [
           {
            "error_x": {
             "color": "#2a3f5f"
            },
            "error_y": {
             "color": "#2a3f5f"
            },
            "marker": {
             "line": {
              "color": "#E5ECF6",
              "width": 0.5
             },
             "pattern": {
              "fillmode": "overlay",
              "size": 10,
              "solidity": 0.2
             }
            },
            "type": "bar"
           }
          ],
          "barpolar": [
           {
            "marker": {
             "line": {
              "color": "#E5ECF6",
              "width": 0.5
             },
             "pattern": {
              "fillmode": "overlay",
              "size": 10,
              "solidity": 0.2
             }
            },
            "type": "barpolar"
           }
          ],
          "carpet": [
           {
            "aaxis": {
             "endlinecolor": "#2a3f5f",
             "gridcolor": "white",
             "linecolor": "white",
             "minorgridcolor": "white",
             "startlinecolor": "#2a3f5f"
            },
            "baxis": {
             "endlinecolor": "#2a3f5f",
             "gridcolor": "white",
             "linecolor": "white",
             "minorgridcolor": "white",
             "startlinecolor": "#2a3f5f"
            },
            "type": "carpet"
           }
          ],
          "choropleth": [
           {
            "colorbar": {
             "outlinewidth": 0,
             "ticks": ""
            },
            "type": "choropleth"
           }
          ],
          "contour": [
           {
            "colorbar": {
             "outlinewidth": 0,
             "ticks": ""
            },
            "colorscale": [
             [
              0,
              "#0d0887"
             ],
             [
              0.1111111111111111,
              "#46039f"
             ],
             [
              0.2222222222222222,
              "#7201a8"
             ],
             [
              0.3333333333333333,
              "#9c179e"
             ],
             [
              0.4444444444444444,
              "#bd3786"
             ],
             [
              0.5555555555555556,
              "#d8576b"
             ],
             [
              0.6666666666666666,
              "#ed7953"
             ],
             [
              0.7777777777777778,
              "#fb9f3a"
             ],
             [
              0.8888888888888888,
              "#fdca26"
             ],
             [
              1,
              "#f0f921"
             ]
            ],
            "type": "contour"
           }
          ],
          "contourcarpet": [
           {
            "colorbar": {
             "outlinewidth": 0,
             "ticks": ""
            },
            "type": "contourcarpet"
           }
          ],
          "heatmap": [
           {
            "colorbar": {
             "outlinewidth": 0,
             "ticks": ""
            },
            "colorscale": [
             [
              0,
              "#0d0887"
             ],
             [
              0.1111111111111111,
              "#46039f"
             ],
             [
              0.2222222222222222,
              "#7201a8"
             ],
             [
              0.3333333333333333,
              "#9c179e"
             ],
             [
              0.4444444444444444,
              "#bd3786"
             ],
             [
              0.5555555555555556,
              "#d8576b"
             ],
             [
              0.6666666666666666,
              "#ed7953"
             ],
             [
              0.7777777777777778,
              "#fb9f3a"
             ],
             [
              0.8888888888888888,
              "#fdca26"
             ],
             [
              1,
              "#f0f921"
             ]
            ],
            "type": "heatmap"
           }
          ],
          "heatmapgl": [
           {
            "colorbar": {
             "outlinewidth": 0,
             "ticks": ""
            },
            "colorscale": [
             [
              0,
              "#0d0887"
             ],
             [
              0.1111111111111111,
              "#46039f"
             ],
             [
              0.2222222222222222,
              "#7201a8"
             ],
             [
              0.3333333333333333,
              "#9c179e"
             ],
             [
              0.4444444444444444,
              "#bd3786"
             ],
             [
              0.5555555555555556,
              "#d8576b"
             ],
             [
              0.6666666666666666,
              "#ed7953"
             ],
             [
              0.7777777777777778,
              "#fb9f3a"
             ],
             [
              0.8888888888888888,
              "#fdca26"
             ],
             [
              1,
              "#f0f921"
             ]
            ],
            "type": "heatmapgl"
           }
          ],
          "histogram": [
           {
            "marker": {
             "pattern": {
              "fillmode": "overlay",
              "size": 10,
              "solidity": 0.2
             }
            },
            "type": "histogram"
           }
          ],
          "histogram2d": [
           {
            "colorbar": {
             "outlinewidth": 0,
             "ticks": ""
            },
            "colorscale": [
             [
              0,
              "#0d0887"
             ],
             [
              0.1111111111111111,
              "#46039f"
             ],
             [
              0.2222222222222222,
              "#7201a8"
             ],
             [
              0.3333333333333333,
              "#9c179e"
             ],
             [
              0.4444444444444444,
              "#bd3786"
             ],
             [
              0.5555555555555556,
              "#d8576b"
             ],
             [
              0.6666666666666666,
              "#ed7953"
             ],
             [
              0.7777777777777778,
              "#fb9f3a"
             ],
             [
              0.8888888888888888,
              "#fdca26"
             ],
             [
              1,
              "#f0f921"
             ]
            ],
            "type": "histogram2d"
           }
          ],
          "histogram2dcontour": [
           {
            "colorbar": {
             "outlinewidth": 0,
             "ticks": ""
            },
            "colorscale": [
             [
              0,
              "#0d0887"
             ],
             [
              0.1111111111111111,
              "#46039f"
             ],
             [
              0.2222222222222222,
              "#7201a8"
             ],
             [
              0.3333333333333333,
              "#9c179e"
             ],
             [
              0.4444444444444444,
              "#bd3786"
             ],
             [
              0.5555555555555556,
              "#d8576b"
             ],
             [
              0.6666666666666666,
              "#ed7953"
             ],
             [
              0.7777777777777778,
              "#fb9f3a"
             ],
             [
              0.8888888888888888,
              "#fdca26"
             ],
             [
              1,
              "#f0f921"
             ]
            ],
            "type": "histogram2dcontour"
           }
          ],
          "mesh3d": [
           {
            "colorbar": {
             "outlinewidth": 0,
             "ticks": ""
            },
            "type": "mesh3d"
           }
          ],
          "parcoords": [
           {
            "line": {
             "colorbar": {
              "outlinewidth": 0,
              "ticks": ""
             }
            },
            "type": "parcoords"
           }
          ],
          "pie": [
           {
            "automargin": true,
            "type": "pie"
           }
          ],
          "scatter": [
           {
            "fillpattern": {
             "fillmode": "overlay",
             "size": 10,
             "solidity": 0.2
            },
            "type": "scatter"
           }
          ],
          "scatter3d": [
           {
            "line": {
             "colorbar": {
              "outlinewidth": 0,
              "ticks": ""
             }
            },
            "marker": {
             "colorbar": {
              "outlinewidth": 0,
              "ticks": ""
             }
            },
            "type": "scatter3d"
           }
          ],
          "scattercarpet": [
           {
            "marker": {
             "colorbar": {
              "outlinewidth": 0,
              "ticks": ""
             }
            },
            "type": "scattercarpet"
           }
          ],
          "scattergeo": [
           {
            "marker": {
             "colorbar": {
              "outlinewidth": 0,
              "ticks": ""
             }
            },
            "type": "scattergeo"
           }
          ],
          "scattergl": [
           {
            "marker": {
             "colorbar": {
              "outlinewidth": 0,
              "ticks": ""
             }
            },
            "type": "scattergl"
           }
          ],
          "scattermapbox": [
           {
            "marker": {
             "colorbar": {
              "outlinewidth": 0,
              "ticks": ""
             }
            },
            "type": "scattermapbox"
           }
          ],
          "scatterpolar": [
           {
            "marker": {
             "colorbar": {
              "outlinewidth": 0,
              "ticks": ""
             }
            },
            "type": "scatterpolar"
           }
          ],
          "scatterpolargl": [
           {
            "marker": {
             "colorbar": {
              "outlinewidth": 0,
              "ticks": ""
             }
            },
            "type": "scatterpolargl"
           }
          ],
          "scatterternary": [
           {
            "marker": {
             "colorbar": {
              "outlinewidth": 0,
              "ticks": ""
             }
            },
            "type": "scatterternary"
           }
          ],
          "surface": [
           {
            "colorbar": {
             "outlinewidth": 0,
             "ticks": ""
            },
            "colorscale": [
             [
              0,
              "#0d0887"
             ],
             [
              0.1111111111111111,
              "#46039f"
             ],
             [
              0.2222222222222222,
              "#7201a8"
             ],
             [
              0.3333333333333333,
              "#9c179e"
             ],
             [
              0.4444444444444444,
              "#bd3786"
             ],
             [
              0.5555555555555556,
              "#d8576b"
             ],
             [
              0.6666666666666666,
              "#ed7953"
             ],
             [
              0.7777777777777778,
              "#fb9f3a"
             ],
             [
              0.8888888888888888,
              "#fdca26"
             ],
             [
              1,
              "#f0f921"
             ]
            ],
            "type": "surface"
           }
          ],
          "table": [
           {
            "cells": {
             "fill": {
              "color": "#EBF0F8"
             },
             "line": {
              "color": "white"
             }
            },
            "header": {
             "fill": {
              "color": "#C8D4E3"
             },
             "line": {
              "color": "white"
             }
            },
            "type": "table"
           }
          ]
         },
         "layout": {
          "title": {
           "font": {
            "family": "Times New Roman"
           }
          }
         }
        },
        "title": {
         "text": "Llama-2-7b-chat-hf"
        },
        "width": 500,
        "xaxis": {
         "anchor": "y",
         "domain": [
          0,
          1
         ],
         "title": {
          "text": "Mean Perplexity"
         }
        },
        "yaxis": {
         "anchor": "x",
         "domain": [
          0,
          1
         ],
         "title": {
          "text": "Accuracy in % of correctly answered prompts"
         }
        }
       }
      }
     },
     "metadata": {},
     "output_type": "display_data"
    }
   ],
   "source": [
    "for model in ['Mistral-7B-Instruct-v0.1', 'Qwen1.5-7B-Chat', 'Llama-2-13b-chat-hf', 'Llama-2-7b-chat-hf']:\n",
    "    print(model)\n",
    "    mean_acc = df_dict[model].groupby('iso_639_3').agg({'ppl_mean': np.mean,'correct_language': np.mean}).reset_index()\n",
    "\n",
    "    fig = px.scatter(mean_acc, \n",
    "                 x='ppl_mean', \n",
    "                 y='correct_language',\n",
    "                 color='iso_639_3',\n",
    "                 color_discrete_map=color_map)\n",
    "\n",
    "    fig.update_layout(\n",
    "        yaxis_title=\"Accuracy in % of correctly answered prompts\",\n",
    "        xaxis_title=\"Mean Perplexity\",\n",
    "        font_family=\"Times New Roman\",\n",
    "        width=500,\n",
    "        showlegend=False,\n",
    "        height=500,\n",
    "        template=custom_template,\n",
    "        title=model)\n",
    "\n",
    "    fig.show()"
   ]
  },
  {
   "cell_type": "markdown",
   "metadata": {},
   "source": [
    "## Is perplexity of prompts answered in another language significantly larger than those answered in same language?"
   ]
  },
  {
   "cell_type": "code",
   "execution_count": 20,
   "metadata": {},
   "outputs": [
    {
     "name": "stdout",
     "output_type": "stream",
     "text": [
      "Mistral-7B-Instruct-v0.1\n",
      "Model has less than 10% correctly answered prompts: False\n",
      "Perplexity difference between correct and incorrect answers is significant: True\n",
      "----------\n",
      "\n",
      "Qwen1.5-7B-Chat\n",
      "Model has less than 10% correctly answered prompts: False\n",
      "Perplexity difference between correct and incorrect answers is significant: True\n",
      "----------\n",
      "\n",
      "Llama-2-13b-chat-hf\n",
      "Model has less than 10% correctly answered prompts: False\n",
      "Perplexity difference between correct and incorrect answers is significant: True\n",
      "----------\n",
      "\n",
      "Llama-2-7b-chat-hf\n",
      "Model has less than 10% correctly answered prompts: False\n",
      "Perplexity difference between correct and incorrect answers is significant: True\n",
      "----------\n",
      "\n"
     ]
    }
   ],
   "source": [
    "plot = False\n",
    "\n",
    "def mean_confidence_interval(data, confidence=0.95):\n",
    "    a = 1.0 * np.array(data)\n",
    "    n = len(a)\n",
    "    m, se = np.mean(a), scipy.stats.sem(a)\n",
    "    h = se * scipy.stats.t.ppf((1 + confidence) / 2., n-1)\n",
    "    return m, h\n",
    "\n",
    "for model in ['Mistral-7B-Instruct-v0.1', 'Qwen1.5-7B-Chat', 'Llama-2-13b-chat-hf', 'Llama-2-7b-chat-hf']:\n",
    "\n",
    "    counter_less_than_10 = 0\n",
    "    answers = ['Correct', 'Incorrect']\n",
    "    list_mean_true = []\n",
    "    list_mean_false = []\n",
    "    list_error_true = []\n",
    "    list_error_false = []\n",
    "    sample_true = df_dict[model][(df_dict[model]['correct_language'] == True)]['ppl_mean']\n",
    "    sample_false = df_dict[model][(df_dict[model]['correct_language'] == False)]['ppl_mean']\n",
    "    if ((len(sample_true) / len(sample_false)) < 0.1) or ((len(sample_false) / len(sample_true)) < 0.1):\n",
    "        counter_less_than_10 +=1\n",
    "    else:\n",
    "        if len(sample_true) < len(sample_false):\n",
    "            bootstrapped_true = np.random.choice(sample_true, len(sample_false))\n",
    "            mean_true, sd_true = mean_confidence_interval(bootstrapped_true)\n",
    "            mean_false, sd_false = mean_confidence_interval(sample_false)\n",
    "        elif len(sample_true) > len(sample_false):\n",
    "            bootstrapped_false = np.random.choice(sample_false, len(sample_true))\n",
    "            mean_true, sd_true = mean_confidence_interval(sample_true)\n",
    "            mean_false, sd_false = mean_confidence_interval(bootstrapped_false)\n",
    "        else:\n",
    "            mean_true, sd_true = mean_confidence_interval(sample_true)\n",
    "            mean_false, sd_false = mean_confidence_interval(sample_false)\n",
    "        list_mean_true.append(mean_true)\n",
    "        list_mean_false.append(mean_false)\n",
    "        list_error_true.append(sd_true)\n",
    "        list_error_false.append(sd_false)\n",
    "\n",
    "    if plot: \n",
    "        fig = go.Figure()\n",
    "        fig.add_trace(go.Bar(\n",
    "            name='True',\n",
    "            x=answers, y=list_mean_true,\n",
    "            error_y=dict(type='data', array=list_error_true)\n",
    "        ))\n",
    "        fig.add_trace(go.Bar(\n",
    "            name='False',\n",
    "            x=answers, y=list_mean_false,\n",
    "            error_y=dict(type='data', array=list_error_false)\n",
    "        ))\n",
    "        fig.update_layout(title = model, \n",
    "                        barmode='group',\n",
    "                        template=custom_template,\n",
    "                        legend=dict(\n",
    "                        yanchor=\"top\",\n",
    "                        y=0.99,\n",
    "                        xanchor=\"left\",\n",
    "                        x=0.01,\n",
    "                        title='Answered in correct language?'\n",
    "                    ))\n",
    "        fig.show()\n",
    "    else:\n",
    "        ci_df = pd.DataFrame(\n",
    "            {'mean_true': list_mean_true,\n",
    "            'error_true': list_error_true,\n",
    "            'mean_false': list_mean_false,\n",
    "            'error_false': list_error_false\n",
    "            })\n",
    "        print(model)\n",
    "        print(\"Model has less than 10% correctly answered prompts: \" + str(bool(counter_less_than_10 == 1)))\n",
    "        ci_df['significant difference'] = (ci_df['mean_true'] + ci_df['error_true']) < (ci_df['mean_false'] - ci_df['error_false'])\n",
    "        print(\"Perplexity difference between correct and incorrect answers is significant: \" + str(bool(len(ci_df[ci_df['significant difference']]) > 0)))\n",
    "        print('----------\\n')"
   ]
  },
  {
   "cell_type": "markdown",
   "metadata": {},
   "source": [
    "## Analyze most used tokens per language"
   ]
  },
  {
   "cell_type": "code",
   "execution_count": 115,
   "metadata": {},
   "outputs": [
    {
     "name": "stdout",
     "output_type": "stream",
     "text": [
      "Unique number of tokens Mistral-7B-Instruct-v0.1\n",
      "9933\n",
      "Unique number of tokens Qwen1.5-7B-Chat\n",
      "17493\n",
      "Unique number of tokens Mixtral-8x7B-Instruct-v0.1\n",
      "9933\n",
      "Unique number of tokens Llama-2-7b-chat-hf\n",
      "10676\n"
     ]
    }
   ],
   "source": [
    "# Number of unique tokens used for MuliQ\n",
    "for model in ['Mistral-7B-Instruct-v0.1', 'Qwen1.5-7B-Chat', 'Mixtral-8x7B-Instruct-v0.1', 'Llama-2-7b-chat-hf']:\n",
    "    print(\"Unique number of tokens \" + str(model))\n",
    "    print(len(df_dict[model].token_ids.explode().unique()))"
   ]
  },
  {
   "cell_type": "code",
   "execution_count": 25,
   "metadata": {},
   "outputs": [
    {
     "data": {
      "application/vnd.plotly.v1+json": {
       "config": {
        "plotlyServerURL": "https://plot.ly"
       },
       "data": [
        {
         "alignmentgroup": "True",
         "hovertemplate": "index=%{x}<br>tokens_decoded=%{y}<extra></extra>",
         "legendgroup": "",
         "marker": {
          "color": "#636efa",
          "pattern": {
           "shape": ""
          }
         },
         "name": "",
         "offsetgroup": "",
         "orientation": "v",
         "showlegend": false,
         "textposition": "auto",
         "type": "bar",
         "x": [
          "<0xE0>",
          "<0xB0>",
          "▁",
          "<0xB1>",
          "<0xBF>",
          "్",
          "<0x81>",
          "<0x82>",
          "<0xA8>",
          "<0xBE>",
          "<0xB2>",
          "<0xAE>",
          "<0x95>",
          "<0xA6>",
          "<0xAA>",
          "<0xA4>",
          "<0x9F>",
          "?",
          "<s>",
          "<0xB8>"
         ],
         "xaxis": "x",
         "y": [
          0.2965113556544135,
          0.26588620931866075,
          0.05581830952938422,
          0.048232264106766565,
          0.03287286349800984,
          0.026129712011238586,
          0.02196206977288691,
          0.019995317255911964,
          0.015546710372278155,
          0.014376024350269257,
          0.013111683446499649,
          0.012081479747131819,
          0.011472723015687194,
          0.010957621166003278,
          0.01081713884336221,
          0.010676656520721143,
          0.01048934675719972,
          0.009365488176071178,
          0.009365488176071178,
          0.008054319831421212
         ],
         "yaxis": "y"
        }
       ],
       "layout": {
        "barmode": "relative",
        "font": {
         "family": "Times New Roman"
        },
        "height": 300,
        "legend": {
         "tracegroupgap": 0
        },
        "margin": {
         "t": 60
        },
        "showlegend": false,
        "template": {
         "data": {
          "bar": [
           {
            "error_x": {
             "color": "#2a3f5f"
            },
            "error_y": {
             "color": "#2a3f5f"
            },
            "marker": {
             "line": {
              "color": "#E5ECF6",
              "width": 0.5
             },
             "pattern": {
              "fillmode": "overlay",
              "size": 10,
              "solidity": 0.2
             }
            },
            "type": "bar"
           }
          ],
          "barpolar": [
           {
            "marker": {
             "line": {
              "color": "#E5ECF6",
              "width": 0.5
             },
             "pattern": {
              "fillmode": "overlay",
              "size": 10,
              "solidity": 0.2
             }
            },
            "type": "barpolar"
           }
          ],
          "carpet": [
           {
            "aaxis": {
             "endlinecolor": "#2a3f5f",
             "gridcolor": "white",
             "linecolor": "white",
             "minorgridcolor": "white",
             "startlinecolor": "#2a3f5f"
            },
            "baxis": {
             "endlinecolor": "#2a3f5f",
             "gridcolor": "white",
             "linecolor": "white",
             "minorgridcolor": "white",
             "startlinecolor": "#2a3f5f"
            },
            "type": "carpet"
           }
          ],
          "choropleth": [
           {
            "colorbar": {
             "outlinewidth": 0,
             "ticks": ""
            },
            "type": "choropleth"
           }
          ],
          "contour": [
           {
            "colorbar": {
             "outlinewidth": 0,
             "ticks": ""
            },
            "colorscale": [
             [
              0,
              "#0d0887"
             ],
             [
              0.1111111111111111,
              "#46039f"
             ],
             [
              0.2222222222222222,
              "#7201a8"
             ],
             [
              0.3333333333333333,
              "#9c179e"
             ],
             [
              0.4444444444444444,
              "#bd3786"
             ],
             [
              0.5555555555555556,
              "#d8576b"
             ],
             [
              0.6666666666666666,
              "#ed7953"
             ],
             [
              0.7777777777777778,
              "#fb9f3a"
             ],
             [
              0.8888888888888888,
              "#fdca26"
             ],
             [
              1,
              "#f0f921"
             ]
            ],
            "type": "contour"
           }
          ],
          "contourcarpet": [
           {
            "colorbar": {
             "outlinewidth": 0,
             "ticks": ""
            },
            "type": "contourcarpet"
           }
          ],
          "heatmap": [
           {
            "colorbar": {
             "outlinewidth": 0,
             "ticks": ""
            },
            "colorscale": [
             [
              0,
              "#0d0887"
             ],
             [
              0.1111111111111111,
              "#46039f"
             ],
             [
              0.2222222222222222,
              "#7201a8"
             ],
             [
              0.3333333333333333,
              "#9c179e"
             ],
             [
              0.4444444444444444,
              "#bd3786"
             ],
             [
              0.5555555555555556,
              "#d8576b"
             ],
             [
              0.6666666666666666,
              "#ed7953"
             ],
             [
              0.7777777777777778,
              "#fb9f3a"
             ],
             [
              0.8888888888888888,
              "#fdca26"
             ],
             [
              1,
              "#f0f921"
             ]
            ],
            "type": "heatmap"
           }
          ],
          "heatmapgl": [
           {
            "colorbar": {
             "outlinewidth": 0,
             "ticks": ""
            },
            "colorscale": [
             [
              0,
              "#0d0887"
             ],
             [
              0.1111111111111111,
              "#46039f"
             ],
             [
              0.2222222222222222,
              "#7201a8"
             ],
             [
              0.3333333333333333,
              "#9c179e"
             ],
             [
              0.4444444444444444,
              "#bd3786"
             ],
             [
              0.5555555555555556,
              "#d8576b"
             ],
             [
              0.6666666666666666,
              "#ed7953"
             ],
             [
              0.7777777777777778,
              "#fb9f3a"
             ],
             [
              0.8888888888888888,
              "#fdca26"
             ],
             [
              1,
              "#f0f921"
             ]
            ],
            "type": "heatmapgl"
           }
          ],
          "histogram": [
           {
            "marker": {
             "pattern": {
              "fillmode": "overlay",
              "size": 10,
              "solidity": 0.2
             }
            },
            "type": "histogram"
           }
          ],
          "histogram2d": [
           {
            "colorbar": {
             "outlinewidth": 0,
             "ticks": ""
            },
            "colorscale": [
             [
              0,
              "#0d0887"
             ],
             [
              0.1111111111111111,
              "#46039f"
             ],
             [
              0.2222222222222222,
              "#7201a8"
             ],
             [
              0.3333333333333333,
              "#9c179e"
             ],
             [
              0.4444444444444444,
              "#bd3786"
             ],
             [
              0.5555555555555556,
              "#d8576b"
             ],
             [
              0.6666666666666666,
              "#ed7953"
             ],
             [
              0.7777777777777778,
              "#fb9f3a"
             ],
             [
              0.8888888888888888,
              "#fdca26"
             ],
             [
              1,
              "#f0f921"
             ]
            ],
            "type": "histogram2d"
           }
          ],
          "histogram2dcontour": [
           {
            "colorbar": {
             "outlinewidth": 0,
             "ticks": ""
            },
            "colorscale": [
             [
              0,
              "#0d0887"
             ],
             [
              0.1111111111111111,
              "#46039f"
             ],
             [
              0.2222222222222222,
              "#7201a8"
             ],
             [
              0.3333333333333333,
              "#9c179e"
             ],
             [
              0.4444444444444444,
              "#bd3786"
             ],
             [
              0.5555555555555556,
              "#d8576b"
             ],
             [
              0.6666666666666666,
              "#ed7953"
             ],
             [
              0.7777777777777778,
              "#fb9f3a"
             ],
             [
              0.8888888888888888,
              "#fdca26"
             ],
             [
              1,
              "#f0f921"
             ]
            ],
            "type": "histogram2dcontour"
           }
          ],
          "mesh3d": [
           {
            "colorbar": {
             "outlinewidth": 0,
             "ticks": ""
            },
            "type": "mesh3d"
           }
          ],
          "parcoords": [
           {
            "line": {
             "colorbar": {
              "outlinewidth": 0,
              "ticks": ""
             }
            },
            "type": "parcoords"
           }
          ],
          "pie": [
           {
            "automargin": true,
            "type": "pie"
           }
          ],
          "scatter": [
           {
            "fillpattern": {
             "fillmode": "overlay",
             "size": 10,
             "solidity": 0.2
            },
            "type": "scatter"
           }
          ],
          "scatter3d": [
           {
            "line": {
             "colorbar": {
              "outlinewidth": 0,
              "ticks": ""
             }
            },
            "marker": {
             "colorbar": {
              "outlinewidth": 0,
              "ticks": ""
             }
            },
            "type": "scatter3d"
           }
          ],
          "scattercarpet": [
           {
            "marker": {
             "colorbar": {
              "outlinewidth": 0,
              "ticks": ""
             }
            },
            "type": "scattercarpet"
           }
          ],
          "scattergeo": [
           {
            "marker": {
             "colorbar": {
              "outlinewidth": 0,
              "ticks": ""
             }
            },
            "type": "scattergeo"
           }
          ],
          "scattergl": [
           {
            "marker": {
             "colorbar": {
              "outlinewidth": 0,
              "ticks": ""
             }
            },
            "type": "scattergl"
           }
          ],
          "scattermapbox": [
           {
            "marker": {
             "colorbar": {
              "outlinewidth": 0,
              "ticks": ""
             }
            },
            "type": "scattermapbox"
           }
          ],
          "scatterpolar": [
           {
            "marker": {
             "colorbar": {
              "outlinewidth": 0,
              "ticks": ""
             }
            },
            "type": "scatterpolar"
           }
          ],
          "scatterpolargl": [
           {
            "marker": {
             "colorbar": {
              "outlinewidth": 0,
              "ticks": ""
             }
            },
            "type": "scatterpolargl"
           }
          ],
          "scatterternary": [
           {
            "marker": {
             "colorbar": {
              "outlinewidth": 0,
              "ticks": ""
             }
            },
            "type": "scatterternary"
           }
          ],
          "surface": [
           {
            "colorbar": {
             "outlinewidth": 0,
             "ticks": ""
            },
            "colorscale": [
             [
              0,
              "#0d0887"
             ],
             [
              0.1111111111111111,
              "#46039f"
             ],
             [
              0.2222222222222222,
              "#7201a8"
             ],
             [
              0.3333333333333333,
              "#9c179e"
             ],
             [
              0.4444444444444444,
              "#bd3786"
             ],
             [
              0.5555555555555556,
              "#d8576b"
             ],
             [
              0.6666666666666666,
              "#ed7953"
             ],
             [
              0.7777777777777778,
              "#fb9f3a"
             ],
             [
              0.8888888888888888,
              "#fdca26"
             ],
             [
              1,
              "#f0f921"
             ]
            ],
            "type": "surface"
           }
          ],
          "table": [
           {
            "cells": {
             "fill": {
              "color": "#EBF0F8"
             },
             "line": {
              "color": "white"
             }
            },
            "header": {
             "fill": {
              "color": "#C8D4E3"
             },
             "line": {
              "color": "white"
             }
            },
            "type": "table"
           }
          ]
         },
         "layout": {
          "title": {
           "font": {
            "family": "Times New Roman"
           }
          }
         }
        },
        "title": {
         "text": "Llama-2-7b-chat-hf"
        },
        "width": 1000,
        "xaxis": {
         "anchor": "y",
         "domain": [
          0,
          1
         ],
         "title": {
          "text": "Token"
         }
        },
        "yaxis": {
         "anchor": "x",
         "domain": [
          0,
          1
         ],
         "title": {
          "text": "% Token used for dataset"
         }
        }
       }
      }
     },
     "metadata": {},
     "output_type": "display_data"
    }
   ],
   "source": [
    "for model in ['Llama-2-7b-chat-hf']: # Llama-2-7b-chat-hf Qwen1.5-7B-Chat 'Mistral-7B-Instruct-v0.1' 'Mixtral-8x7B-Instruct-v0.1'\n",
    "    subset = df_dict[model][df_dict[model]['language'] == 'te']\n",
    "    unique_dec_tokens = subset['tokens_decoded'].explode().value_counts(normalize=True).nlargest(20).reset_index()\n",
    "\n",
    "    fig = px.bar(unique_dec_tokens, \n",
    "                x='index', \n",
    "                y='tokens_decoded')\n",
    "\n",
    "    fig.update_layout(\n",
    "        yaxis_title=\"% Token used for dataset\",\n",
    "        xaxis_title=\"Token\",\n",
    "        font_family=\"Times New Roman\",\n",
    "        width=1000,\n",
    "        showlegend=False,\n",
    "        height=300,\n",
    "        template=custom_template,\n",
    "        title=model)\n",
    "\n",
    "    fig.show()"
   ]
  },
  {
   "cell_type": "code",
   "execution_count": 84,
   "metadata": {},
   "outputs": [
    {
     "data": {
      "application/vnd.plotly.v1+json": {
       "config": {
        "plotlyServerURL": "https://plot.ly"
       },
       "data": [
        {
         "marker": {
          "color": "#bfa0ee"
         },
         "name": "Mistral-7B-v0.1",
         "type": "bar",
         "x": [
          "▁",
          "<s>",
          "？",
          "是",
          "的",
          "么",
          "什",
          "多",
          "少",
          "<0xE6>",
          "哪",
          "<0xE8>",
          "一",
          "<0xE7>",
          "，",
          "最",
          "色",
          "<0xE5>",
          "2",
          "球"
         ],
         "xaxis": "x",
         "y": [
          0.06914285714285714,
          0.05714285714285714,
          0.056857142857142856,
          0.03685714285714286,
          0.031142857142857142,
          0.026,
          0.025142857142857144,
          0.013714285714285714,
          0.013428571428571429,
          0.011428571428571429,
          0.011142857142857144,
          0.010571428571428572,
          0.009714285714285713,
          0.008571428571428572,
          0.008285714285714285,
          0.0074285714285714285,
          0.0074285714285714285,
          0.007142857142857143,
          0.006571428571428572,
          0.006571428571428572
         ],
         "yaxis": "y"
        },
        {
         "marker": {
          "color": "#005397"
         },
         "name": "Llama-2-7B",
         "type": "bar",
         "x": [
          "▁",
          "<s>",
          "？",
          "<0xE5>",
          "是",
          "<0xBB>",
          "的",
          "<0xE4>",
          "<0xE6>",
          "<0x80>",
          "么",
          "<0xE9>",
          "<0xE8>",
          "<0xE7>",
          "<0x93>",
          "多",
          "少",
          "<0xAA>",
          "一",
          "<0xB0>"
         ],
         "xaxis": "x2",
         "y": [
          0.0562921609676669,
          0.04652244708071645,
          0.04628983484531286,
          0.033263549662712256,
          0.030006978367062107,
          0.029076529425447778,
          0.025354733658990464,
          0.025354733658990464,
          0.02512212142358688,
          0.024191672481972553,
          0.02116771342172598,
          0.016282856478250757,
          0.015352407536636426,
          0.01349150965340777,
          0.011165387299371946,
          0.011165387299371946,
          0.010932775063968364,
          0.010234938357757618,
          0.009071877180739707,
          0.007908816003721796
         ],
         "yaxis": "y2"
        }
       ],
       "layout": {
        "font": {
         "family": "Times New Roman",
         "size": 18
        },
        "height": 350,
        "legend": {
         "font": {
          "size": 20
         },
         "x": 1,
         "xanchor": "right",
         "y": 1,
         "yanchor": "top"
        },
        "margin": {
         "b": 70,
         "l": 50,
         "r": 20,
         "t": 5
        },
        "template": {
         "data": {
          "bar": [
           {
            "error_x": {
             "color": "#2a3f5f"
            },
            "error_y": {
             "color": "#2a3f5f"
            },
            "marker": {
             "line": {
              "color": "#E5ECF6",
              "width": 0.5
             },
             "pattern": {
              "fillmode": "overlay",
              "size": 10,
              "solidity": 0.2
             }
            },
            "type": "bar"
           }
          ],
          "barpolar": [
           {
            "marker": {
             "line": {
              "color": "#E5ECF6",
              "width": 0.5
             },
             "pattern": {
              "fillmode": "overlay",
              "size": 10,
              "solidity": 0.2
             }
            },
            "type": "barpolar"
           }
          ],
          "carpet": [
           {
            "aaxis": {
             "endlinecolor": "#2a3f5f",
             "gridcolor": "white",
             "linecolor": "white",
             "minorgridcolor": "white",
             "startlinecolor": "#2a3f5f"
            },
            "baxis": {
             "endlinecolor": "#2a3f5f",
             "gridcolor": "white",
             "linecolor": "white",
             "minorgridcolor": "white",
             "startlinecolor": "#2a3f5f"
            },
            "type": "carpet"
           }
          ],
          "choropleth": [
           {
            "colorbar": {
             "outlinewidth": 0,
             "ticks": ""
            },
            "type": "choropleth"
           }
          ],
          "contour": [
           {
            "colorbar": {
             "outlinewidth": 0,
             "ticks": ""
            },
            "colorscale": [
             [
              0,
              "#0d0887"
             ],
             [
              0.1111111111111111,
              "#46039f"
             ],
             [
              0.2222222222222222,
              "#7201a8"
             ],
             [
              0.3333333333333333,
              "#9c179e"
             ],
             [
              0.4444444444444444,
              "#bd3786"
             ],
             [
              0.5555555555555556,
              "#d8576b"
             ],
             [
              0.6666666666666666,
              "#ed7953"
             ],
             [
              0.7777777777777778,
              "#fb9f3a"
             ],
             [
              0.8888888888888888,
              "#fdca26"
             ],
             [
              1,
              "#f0f921"
             ]
            ],
            "type": "contour"
           }
          ],
          "contourcarpet": [
           {
            "colorbar": {
             "outlinewidth": 0,
             "ticks": ""
            },
            "type": "contourcarpet"
           }
          ],
          "heatmap": [
           {
            "colorbar": {
             "outlinewidth": 0,
             "ticks": ""
            },
            "colorscale": [
             [
              0,
              "#0d0887"
             ],
             [
              0.1111111111111111,
              "#46039f"
             ],
             [
              0.2222222222222222,
              "#7201a8"
             ],
             [
              0.3333333333333333,
              "#9c179e"
             ],
             [
              0.4444444444444444,
              "#bd3786"
             ],
             [
              0.5555555555555556,
              "#d8576b"
             ],
             [
              0.6666666666666666,
              "#ed7953"
             ],
             [
              0.7777777777777778,
              "#fb9f3a"
             ],
             [
              0.8888888888888888,
              "#fdca26"
             ],
             [
              1,
              "#f0f921"
             ]
            ],
            "type": "heatmap"
           }
          ],
          "heatmapgl": [
           {
            "colorbar": {
             "outlinewidth": 0,
             "ticks": ""
            },
            "colorscale": [
             [
              0,
              "#0d0887"
             ],
             [
              0.1111111111111111,
              "#46039f"
             ],
             [
              0.2222222222222222,
              "#7201a8"
             ],
             [
              0.3333333333333333,
              "#9c179e"
             ],
             [
              0.4444444444444444,
              "#bd3786"
             ],
             [
              0.5555555555555556,
              "#d8576b"
             ],
             [
              0.6666666666666666,
              "#ed7953"
             ],
             [
              0.7777777777777778,
              "#fb9f3a"
             ],
             [
              0.8888888888888888,
              "#fdca26"
             ],
             [
              1,
              "#f0f921"
             ]
            ],
            "type": "heatmapgl"
           }
          ],
          "histogram": [
           {
            "marker": {
             "pattern": {
              "fillmode": "overlay",
              "size": 10,
              "solidity": 0.2
             }
            },
            "type": "histogram"
           }
          ],
          "histogram2d": [
           {
            "colorbar": {
             "outlinewidth": 0,
             "ticks": ""
            },
            "colorscale": [
             [
              0,
              "#0d0887"
             ],
             [
              0.1111111111111111,
              "#46039f"
             ],
             [
              0.2222222222222222,
              "#7201a8"
             ],
             [
              0.3333333333333333,
              "#9c179e"
             ],
             [
              0.4444444444444444,
              "#bd3786"
             ],
             [
              0.5555555555555556,
              "#d8576b"
             ],
             [
              0.6666666666666666,
              "#ed7953"
             ],
             [
              0.7777777777777778,
              "#fb9f3a"
             ],
             [
              0.8888888888888888,
              "#fdca26"
             ],
             [
              1,
              "#f0f921"
             ]
            ],
            "type": "histogram2d"
           }
          ],
          "histogram2dcontour": [
           {
            "colorbar": {
             "outlinewidth": 0,
             "ticks": ""
            },
            "colorscale": [
             [
              0,
              "#0d0887"
             ],
             [
              0.1111111111111111,
              "#46039f"
             ],
             [
              0.2222222222222222,
              "#7201a8"
             ],
             [
              0.3333333333333333,
              "#9c179e"
             ],
             [
              0.4444444444444444,
              "#bd3786"
             ],
             [
              0.5555555555555556,
              "#d8576b"
             ],
             [
              0.6666666666666666,
              "#ed7953"
             ],
             [
              0.7777777777777778,
              "#fb9f3a"
             ],
             [
              0.8888888888888888,
              "#fdca26"
             ],
             [
              1,
              "#f0f921"
             ]
            ],
            "type": "histogram2dcontour"
           }
          ],
          "mesh3d": [
           {
            "colorbar": {
             "outlinewidth": 0,
             "ticks": ""
            },
            "type": "mesh3d"
           }
          ],
          "parcoords": [
           {
            "line": {
             "colorbar": {
              "outlinewidth": 0,
              "ticks": ""
             }
            },
            "type": "parcoords"
           }
          ],
          "pie": [
           {
            "automargin": true,
            "type": "pie"
           }
          ],
          "scatter": [
           {
            "fillpattern": {
             "fillmode": "overlay",
             "size": 10,
             "solidity": 0.2
            },
            "type": "scatter"
           }
          ],
          "scatter3d": [
           {
            "line": {
             "colorbar": {
              "outlinewidth": 0,
              "ticks": ""
             }
            },
            "marker": {
             "colorbar": {
              "outlinewidth": 0,
              "ticks": ""
             }
            },
            "type": "scatter3d"
           }
          ],
          "scattercarpet": [
           {
            "marker": {
             "colorbar": {
              "outlinewidth": 0,
              "ticks": ""
             }
            },
            "type": "scattercarpet"
           }
          ],
          "scattergeo": [
           {
            "marker": {
             "colorbar": {
              "outlinewidth": 0,
              "ticks": ""
             }
            },
            "type": "scattergeo"
           }
          ],
          "scattergl": [
           {
            "marker": {
             "colorbar": {
              "outlinewidth": 0,
              "ticks": ""
             }
            },
            "type": "scattergl"
           }
          ],
          "scattermapbox": [
           {
            "marker": {
             "colorbar": {
              "outlinewidth": 0,
              "ticks": ""
             }
            },
            "type": "scattermapbox"
           }
          ],
          "scatterpolar": [
           {
            "marker": {
             "colorbar": {
              "outlinewidth": 0,
              "ticks": ""
             }
            },
            "type": "scatterpolar"
           }
          ],
          "scatterpolargl": [
           {
            "marker": {
             "colorbar": {
              "outlinewidth": 0,
              "ticks": ""
             }
            },
            "type": "scatterpolargl"
           }
          ],
          "scatterternary": [
           {
            "marker": {
             "colorbar": {
              "outlinewidth": 0,
              "ticks": ""
             }
            },
            "type": "scatterternary"
           }
          ],
          "surface": [
           {
            "colorbar": {
             "outlinewidth": 0,
             "ticks": ""
            },
            "colorscale": [
             [
              0,
              "#0d0887"
             ],
             [
              0.1111111111111111,
              "#46039f"
             ],
             [
              0.2222222222222222,
              "#7201a8"
             ],
             [
              0.3333333333333333,
              "#9c179e"
             ],
             [
              0.4444444444444444,
              "#bd3786"
             ],
             [
              0.5555555555555556,
              "#d8576b"
             ],
             [
              0.6666666666666666,
              "#ed7953"
             ],
             [
              0.7777777777777778,
              "#fb9f3a"
             ],
             [
              0.8888888888888888,
              "#fdca26"
             ],
             [
              1,
              "#f0f921"
             ]
            ],
            "type": "surface"
           }
          ],
          "table": [
           {
            "cells": {
             "fill": {
              "color": "#EBF0F8"
             },
             "line": {
              "color": "white"
             }
            },
            "header": {
             "fill": {
              "color": "#C8D4E3"
             },
             "line": {
              "color": "white"
             }
            },
            "type": "table"
           }
          ]
         },
         "layout": {
          "title": {
           "font": {
            "family": "Times New Roman"
           }
          }
         }
        },
        "width": 600,
        "xaxis": {
         "anchor": "y",
         "domain": [
          0,
          1
         ],
         "tickfont": {
          "size": 16
         },
         "title": {
          "text": ""
         }
        },
        "xaxis2": {
         "anchor": "y2",
         "domain": [
          0,
          1
         ],
         "tickfont": {
          "size": 16
         }
        },
        "yaxis": {
         "anchor": "x",
         "domain": [
          0.575,
          1
         ],
         "tickfont": {
          "size": 20
         },
         "title": {
          "text": ""
         }
        },
        "yaxis2": {
         "anchor": "x2",
         "domain": [
          0,
          0.425
         ]
        }
       }
      }
     },
     "metadata": {},
     "output_type": "display_data"
    }
   ],
   "source": [
    "from plotly.subplots import make_subplots\n",
    "import plotly.graph_objects as go\n",
    "\n",
    "fig = make_subplots(rows=2, cols=1)\n",
    "colors = ['#8ed1c4', '#bfa0ee', '#005397']\n",
    "i=1\n",
    "for model in ['Mistral-7B-Instruct-v0.1', 'Llama-2-7b-chat-hf']:\n",
    "    for lang in ['zh']:\n",
    "\n",
    "        if 'Llama' in model:\n",
    "            model_name = model.replace('-chat-hf', '')\n",
    "        elif 'Mistral' in model:\n",
    "            model_name = model.replace('-Instruct', '')\n",
    "        else:\n",
    "            model_name = model.replace('-beta', '')\n",
    "            model_name = model_name.replace('z', 'Z')\n",
    "        model_name = model_name.replace('b', 'B')\n",
    "        subset = df_dict[model][df_dict[model]['language'] == lang]\n",
    "        \n",
    "        unique_dec_tokens = subset['tokens_decoded'].explode().value_counts(normalize=True).nlargest(20).reset_index()\n",
    "\n",
    "        fig.append_trace(go.Bar(\n",
    "            x=unique_dec_tokens['index'],\n",
    "            y=unique_dec_tokens['tokens_decoded'],\n",
    "            name=model_name,\n",
    "             marker_color=colors[i]\n",
    "        ), row=i, col=1)\n",
    "\n",
    "        i+=1\n",
    "\n",
    "fig.update_xaxes(tickfont = dict(size=16))\n",
    "fig.update_layout(\n",
    "    yaxis_title=\"\",\n",
    "    xaxis_title=\"\",\n",
    "    font_family=\"Times New Roman\",\n",
    "    width=600,\n",
    "    font=dict(size=18),\n",
    "    height=350,\n",
    "    template=custom_template,\n",
    "    yaxis = dict(tickfont = dict(size=20)),\n",
    "    #xaxis = dict(tickfont = dict(size=14)),\n",
    "    legend = dict(font = dict(size = 20),\n",
    "    yanchor=\"top\",\n",
    "    y=1,\n",
    "    xanchor=\"right\",\n",
    "    x=1),\n",
    "    margin=dict(l=50, r=20, t=5, b=70),\n",
    "    #annotations=annotations,\n",
    "    )\n",
    "\n",
    "fig.show()\n",
    "\n",
    "fig.write_image(\"../../img/tokenizer_diff.pdf\", format=\"pdf\")"
   ]
  },
  {
   "cell_type": "markdown",
   "metadata": {},
   "source": [
    "## Analyze Tokenization Strategies and Model Performance"
   ]
  },
  {
   "cell_type": "code",
   "execution_count": 134,
   "metadata": {},
   "outputs": [
    {
     "name": "stdout",
     "output_type": "stream",
     "text": [
      "Mixtral-8x7B-Instruct-v0.1\n",
      "Number of ascii languages\n",
      "9\n",
      "Number of char languages\n",
      "38\n",
      "Number of subword languages\n",
      "90\n",
      "Answer Accuracy\n"
     ]
    },
    {
     "data": {
      "application/vnd.plotly.v1+json": {
       "config": {
        "plotlyServerURL": "https://plot.ly"
       },
       "data": [
        {
         "hovertemplate": "tokenizing_strategy=subword<br>language=%{x}<br>acc=%{y}<extra></extra>",
         "legendgroup": "subword",
         "marker": {
          "color": "#00cc96",
          "symbol": "circle"
         },
         "mode": "markers",
         "name": "subword",
         "orientation": "v",
         "showlegend": true,
         "type": "scatter",
         "x": [
          "en",
          "es",
          "fr",
          "nl",
          "pt",
          "bg",
          "it",
          "de",
          "da",
          "ru",
          "sv",
          "pl",
          "sr",
          "uk",
          "ca",
          "cs",
          "hr",
          "no",
          "ro",
          "bs",
          "sl",
          "gl",
          "hu",
          "mk",
          "co",
          "id",
          "af",
          "sk",
          "ms",
          "vi",
          "fi",
          "fil",
          "lb",
          "tl",
          "tr",
          "eo",
          "be",
          "la",
          "fy",
          "is",
          "ceb",
          "jv",
          "jw",
          "kri",
          "lt",
          "su",
          "et",
          "sq",
          "lus",
          "ht",
          "ilo",
          "kk",
          "sw",
          "ga",
          "tk",
          "uz",
          "haw",
          "eu",
          "gn",
          "mi",
          "ln",
          "mt",
          "te",
          "cy",
          "gd",
          "qu",
          "sn",
          "st",
          "tg",
          "ay",
          "ak",
          "nso",
          "so",
          "ha",
          "lg",
          "yo",
          "bm",
          "ig",
          "ts",
          "zu",
          "ee",
          "rw",
          "ny",
          "sm",
          "xh",
          "ku",
          "hmn",
          "om",
          "mg",
          "si"
         ],
         "xaxis": "x",
         "y": [
          90.5,
          89.5,
          89,
          88.5,
          87.5,
          87,
          87,
          86.5,
          85.5,
          85.5,
          85.5,
          85,
          84.5,
          83,
          82.5,
          81.5,
          80.5,
          80,
          79,
          77.5,
          77,
          73.5,
          71.5,
          68.5,
          68,
          68,
          67,
          66.5,
          58.5,
          53,
          50.5,
          50,
          50,
          47.5,
          44.5,
          44,
          43.5,
          43.5,
          35.5,
          32.5,
          31,
          31,
          31,
          29.5,
          28.000000000000004,
          27,
          24,
          20,
          18.5,
          17.5,
          17.5,
          16,
          15,
          14.499999999999998,
          14.499999999999998,
          14.499999999999998,
          13.5,
          13,
          13,
          13,
          12.5,
          12,
          12,
          10.5,
          10.5,
          10.5,
          10.5,
          10.5,
          9.5,
          9,
          8.5,
          8.5,
          8.5,
          8,
          7.5,
          7.5,
          7.000000000000001,
          7.000000000000001,
          7.000000000000001,
          7.000000000000001,
          6.5,
          6.5,
          6,
          6,
          6,
          5.5,
          5,
          4.5,
          4,
          3.5000000000000004
         ],
         "yaxis": "y"
        },
        {
         "hovertemplate": "tokenizing_strategy=chars<br>language=%{x}<br>acc=%{y}<extra></extra>",
         "legendgroup": "chars",
         "marker": {
          "color": "#ab63fa",
          "symbol": "circle"
         },
         "mode": "markers",
         "name": "chars",
         "orientation": "v",
         "showlegend": true,
         "type": "scatter",
         "x": [
          "zh-TW",
          "zh-CN",
          "zh",
          "ko",
          "ja",
          "el",
          "fa",
          "ar",
          "hi",
          "th",
          "he",
          "iw",
          "bn",
          "ne",
          "az",
          "ur",
          "mai",
          "sa",
          "doi",
          "bho",
          "yi",
          "lv",
          "mr",
          "ka",
          "hy",
          "ta",
          "as",
          "ky",
          "tt",
          "kn",
          "gom",
          "ug",
          "ckb",
          "sd",
          "mn",
          "ps",
          "km",
          "my"
         ],
         "xaxis": "x",
         "y": [
          72,
          71,
          69,
          68.5,
          67.5,
          48.5,
          48.5,
          46.5,
          38,
          33,
          32.5,
          32,
          31.5,
          31.5,
          28.999999999999996,
          27.500000000000004,
          26,
          26,
          25.5,
          25,
          23,
          21.5,
          21.5,
          19.5,
          18,
          17,
          14.499999999999998,
          14.499999999999998,
          14.499999999999998,
          13.5,
          13,
          12.5,
          11.5,
          11,
          8,
          7.5,
          6,
          5
         ],
         "yaxis": "y"
        },
        {
         "hovertemplate": "tokenizing_strategy=ascii<br>language=%{x}<br>acc=%{y}<extra></extra>",
         "legendgroup": "ascii",
         "marker": {
          "color": "#FFA15A",
          "symbol": "circle"
         },
         "mode": "markers",
         "name": "ascii",
         "orientation": "v",
         "showlegend": true,
         "type": "scatter",
         "x": [
          "pa",
          "gu",
          "ml",
          "or",
          "lo",
          "dv",
          "ti",
          "am",
          "mni-Mtei"
         ],
         "xaxis": "x",
         "y": [
          16,
          15,
          10.5,
          9.5,
          7.5,
          6.5,
          6.5,
          4.5,
          1
         ],
         "yaxis": "y"
        }
       ],
       "layout": {
        "font": {
         "family": "Times New Roman"
        },
        "height": 400,
        "legend": {
         "font": {
          "size": 20
         },
         "title": {
          "text": "Tokenization Strategy"
         },
         "tracegroupgap": 0,
         "x": 1,
         "xanchor": "right",
         "y": 1,
         "yanchor": "top"
        },
        "margin": {
         "b": 70,
         "l": 30,
         "r": 0,
         "t": 20
        },
        "template": {
         "data": {
          "bar": [
           {
            "error_x": {
             "color": "#2a3f5f"
            },
            "error_y": {
             "color": "#2a3f5f"
            },
            "marker": {
             "line": {
              "color": "#E5ECF6",
              "width": 0.5
             },
             "pattern": {
              "fillmode": "overlay",
              "size": 10,
              "solidity": 0.2
             }
            },
            "type": "bar"
           }
          ],
          "barpolar": [
           {
            "marker": {
             "line": {
              "color": "#E5ECF6",
              "width": 0.5
             },
             "pattern": {
              "fillmode": "overlay",
              "size": 10,
              "solidity": 0.2
             }
            },
            "type": "barpolar"
           }
          ],
          "carpet": [
           {
            "aaxis": {
             "endlinecolor": "#2a3f5f",
             "gridcolor": "white",
             "linecolor": "white",
             "minorgridcolor": "white",
             "startlinecolor": "#2a3f5f"
            },
            "baxis": {
             "endlinecolor": "#2a3f5f",
             "gridcolor": "white",
             "linecolor": "white",
             "minorgridcolor": "white",
             "startlinecolor": "#2a3f5f"
            },
            "type": "carpet"
           }
          ],
          "choropleth": [
           {
            "colorbar": {
             "outlinewidth": 0,
             "ticks": ""
            },
            "type": "choropleth"
           }
          ],
          "contour": [
           {
            "colorbar": {
             "outlinewidth": 0,
             "ticks": ""
            },
            "colorscale": [
             [
              0,
              "#0d0887"
             ],
             [
              0.1111111111111111,
              "#46039f"
             ],
             [
              0.2222222222222222,
              "#7201a8"
             ],
             [
              0.3333333333333333,
              "#9c179e"
             ],
             [
              0.4444444444444444,
              "#bd3786"
             ],
             [
              0.5555555555555556,
              "#d8576b"
             ],
             [
              0.6666666666666666,
              "#ed7953"
             ],
             [
              0.7777777777777778,
              "#fb9f3a"
             ],
             [
              0.8888888888888888,
              "#fdca26"
             ],
             [
              1,
              "#f0f921"
             ]
            ],
            "type": "contour"
           }
          ],
          "contourcarpet": [
           {
            "colorbar": {
             "outlinewidth": 0,
             "ticks": ""
            },
            "type": "contourcarpet"
           }
          ],
          "heatmap": [
           {
            "colorbar": {
             "outlinewidth": 0,
             "ticks": ""
            },
            "colorscale": [
             [
              0,
              "#0d0887"
             ],
             [
              0.1111111111111111,
              "#46039f"
             ],
             [
              0.2222222222222222,
              "#7201a8"
             ],
             [
              0.3333333333333333,
              "#9c179e"
             ],
             [
              0.4444444444444444,
              "#bd3786"
             ],
             [
              0.5555555555555556,
              "#d8576b"
             ],
             [
              0.6666666666666666,
              "#ed7953"
             ],
             [
              0.7777777777777778,
              "#fb9f3a"
             ],
             [
              0.8888888888888888,
              "#fdca26"
             ],
             [
              1,
              "#f0f921"
             ]
            ],
            "type": "heatmap"
           }
          ],
          "heatmapgl": [
           {
            "colorbar": {
             "outlinewidth": 0,
             "ticks": ""
            },
            "colorscale": [
             [
              0,
              "#0d0887"
             ],
             [
              0.1111111111111111,
              "#46039f"
             ],
             [
              0.2222222222222222,
              "#7201a8"
             ],
             [
              0.3333333333333333,
              "#9c179e"
             ],
             [
              0.4444444444444444,
              "#bd3786"
             ],
             [
              0.5555555555555556,
              "#d8576b"
             ],
             [
              0.6666666666666666,
              "#ed7953"
             ],
             [
              0.7777777777777778,
              "#fb9f3a"
             ],
             [
              0.8888888888888888,
              "#fdca26"
             ],
             [
              1,
              "#f0f921"
             ]
            ],
            "type": "heatmapgl"
           }
          ],
          "histogram": [
           {
            "marker": {
             "pattern": {
              "fillmode": "overlay",
              "size": 10,
              "solidity": 0.2
             }
            },
            "type": "histogram"
           }
          ],
          "histogram2d": [
           {
            "colorbar": {
             "outlinewidth": 0,
             "ticks": ""
            },
            "colorscale": [
             [
              0,
              "#0d0887"
             ],
             [
              0.1111111111111111,
              "#46039f"
             ],
             [
              0.2222222222222222,
              "#7201a8"
             ],
             [
              0.3333333333333333,
              "#9c179e"
             ],
             [
              0.4444444444444444,
              "#bd3786"
             ],
             [
              0.5555555555555556,
              "#d8576b"
             ],
             [
              0.6666666666666666,
              "#ed7953"
             ],
             [
              0.7777777777777778,
              "#fb9f3a"
             ],
             [
              0.8888888888888888,
              "#fdca26"
             ],
             [
              1,
              "#f0f921"
             ]
            ],
            "type": "histogram2d"
           }
          ],
          "histogram2dcontour": [
           {
            "colorbar": {
             "outlinewidth": 0,
             "ticks": ""
            },
            "colorscale": [
             [
              0,
              "#0d0887"
             ],
             [
              0.1111111111111111,
              "#46039f"
             ],
             [
              0.2222222222222222,
              "#7201a8"
             ],
             [
              0.3333333333333333,
              "#9c179e"
             ],
             [
              0.4444444444444444,
              "#bd3786"
             ],
             [
              0.5555555555555556,
              "#d8576b"
             ],
             [
              0.6666666666666666,
              "#ed7953"
             ],
             [
              0.7777777777777778,
              "#fb9f3a"
             ],
             [
              0.8888888888888888,
              "#fdca26"
             ],
             [
              1,
              "#f0f921"
             ]
            ],
            "type": "histogram2dcontour"
           }
          ],
          "mesh3d": [
           {
            "colorbar": {
             "outlinewidth": 0,
             "ticks": ""
            },
            "type": "mesh3d"
           }
          ],
          "parcoords": [
           {
            "line": {
             "colorbar": {
              "outlinewidth": 0,
              "ticks": ""
             }
            },
            "type": "parcoords"
           }
          ],
          "pie": [
           {
            "automargin": true,
            "type": "pie"
           }
          ],
          "scatter": [
           {
            "fillpattern": {
             "fillmode": "overlay",
             "size": 10,
             "solidity": 0.2
            },
            "type": "scatter"
           }
          ],
          "scatter3d": [
           {
            "line": {
             "colorbar": {
              "outlinewidth": 0,
              "ticks": ""
             }
            },
            "marker": {
             "colorbar": {
              "outlinewidth": 0,
              "ticks": ""
             }
            },
            "type": "scatter3d"
           }
          ],
          "scattercarpet": [
           {
            "marker": {
             "colorbar": {
              "outlinewidth": 0,
              "ticks": ""
             }
            },
            "type": "scattercarpet"
           }
          ],
          "scattergeo": [
           {
            "marker": {
             "colorbar": {
              "outlinewidth": 0,
              "ticks": ""
             }
            },
            "type": "scattergeo"
           }
          ],
          "scattergl": [
           {
            "marker": {
             "colorbar": {
              "outlinewidth": 0,
              "ticks": ""
             }
            },
            "type": "scattergl"
           }
          ],
          "scattermapbox": [
           {
            "marker": {
             "colorbar": {
              "outlinewidth": 0,
              "ticks": ""
             }
            },
            "type": "scattermapbox"
           }
          ],
          "scatterpolar": [
           {
            "marker": {
             "colorbar": {
              "outlinewidth": 0,
              "ticks": ""
             }
            },
            "type": "scatterpolar"
           }
          ],
          "scatterpolargl": [
           {
            "marker": {
             "colorbar": {
              "outlinewidth": 0,
              "ticks": ""
             }
            },
            "type": "scatterpolargl"
           }
          ],
          "scatterternary": [
           {
            "marker": {
             "colorbar": {
              "outlinewidth": 0,
              "ticks": ""
             }
            },
            "type": "scatterternary"
           }
          ],
          "surface": [
           {
            "colorbar": {
             "outlinewidth": 0,
             "ticks": ""
            },
            "colorscale": [
             [
              0,
              "#0d0887"
             ],
             [
              0.1111111111111111,
              "#46039f"
             ],
             [
              0.2222222222222222,
              "#7201a8"
             ],
             [
              0.3333333333333333,
              "#9c179e"
             ],
             [
              0.4444444444444444,
              "#bd3786"
             ],
             [
              0.5555555555555556,
              "#d8576b"
             ],
             [
              0.6666666666666666,
              "#ed7953"
             ],
             [
              0.7777777777777778,
              "#fb9f3a"
             ],
             [
              0.8888888888888888,
              "#fdca26"
             ],
             [
              1,
              "#f0f921"
             ]
            ],
            "type": "surface"
           }
          ],
          "table": [
           {
            "cells": {
             "fill": {
              "color": "#EBF0F8"
             },
             "line": {
              "color": "white"
             }
            },
            "header": {
             "fill": {
              "color": "#C8D4E3"
             },
             "line": {
              "color": "white"
             }
            },
            "type": "table"
           }
          ]
         },
         "layout": {
          "title": {
           "font": {
            "family": "Times New Roman"
           }
          }
         }
        },
        "width": 1100,
        "xaxis": {
         "anchor": "y",
         "domain": [
          0,
          1
         ],
         "title": {
          "text": ""
         }
        },
        "yaxis": {
         "anchor": "x",
         "domain": [
          0,
          1
         ],
         "range": [
          0,
          100
         ],
         "tickfont": {
          "size": 20
         },
         "title": {
          "text": ""
         }
        }
       }
      }
     },
     "metadata": {},
     "output_type": "display_data"
    },
    {
     "name": "stdout",
     "output_type": "stream",
     "text": [
      "tokenizing_strategy\n",
      "ascii      0.577222\n",
      "chars      0.574605\n",
      "subword    0.622500\n",
      "Name: correct_language, dtype: float64\n",
      "tokenizing_strategy  eval_completion\n",
      "ascii                incorrect          0.914444\n",
      "                     correct            0.085556\n",
      "chars                incorrect          0.710263\n",
      "                     correct            0.289737\n",
      "subword              incorrect          0.616889\n",
      "                     correct            0.383111\n",
      "Name: eval_completion, dtype: float64\n",
      "Linguistic Fidelity\n"
     ]
    },
    {
     "data": {
      "application/vnd.plotly.v1+json": {
       "config": {
        "plotlyServerURL": "https://plot.ly"
       },
       "data": [
        {
         "hovertemplate": "tokenizing_strategy=subword<br>language=%{x}<br>acc=%{y}<extra></extra>",
         "legendgroup": "subword",
         "marker": {
          "color": "#00cc96",
          "symbol": "circle"
         },
         "mode": "markers",
         "name": "subword",
         "orientation": "v",
         "showlegend": true,
         "type": "scatter",
         "x": [
          "en",
          "es",
          "fr",
          "it",
          "pt",
          "si",
          "ro",
          "hr",
          "tr",
          "ca",
          "de",
          "eo",
          "hu",
          "fi",
          "lt",
          "te",
          "et",
          "id",
          "pl",
          "sl",
          "vi",
          "cs",
          "cy",
          "is",
          "sq",
          "nl",
          "sv",
          "tl",
          "gd",
          "fil",
          "sk",
          "uz",
          "mg",
          "so",
          "da",
          "ga",
          "bs",
          "ny",
          "sr",
          "uk",
          "ru",
          "bg",
          "sw",
          "eu",
          "ht",
          "mt",
          "kk",
          "hmn",
          "sm",
          "no",
          "mi",
          "yo",
          "ig",
          "lg",
          "st",
          "ak",
          "sn",
          "zu",
          "ha",
          "xh",
          "af",
          "haw",
          "ln",
          "ku",
          "mk",
          "nso",
          "rw",
          "co",
          "be",
          "tg",
          "ee",
          "tk",
          "ilo",
          "qu",
          "gn",
          "om",
          "ms",
          "lb",
          "ceb",
          "gl",
          "bm",
          "lus",
          "ts",
          "fy",
          "la",
          "ay",
          "su",
          "jv",
          "kri",
          "jw"
         ],
         "xaxis": "x",
         "y": [
          100,
          100,
          99.5,
          99,
          97,
          97,
          95,
          94.5,
          94.5,
          93.5,
          93,
          93,
          93,
          92,
          91,
          91,
          90,
          90,
          88.5,
          88.5,
          88.5,
          87,
          86,
          86,
          86,
          85,
          84,
          84,
          83.5,
          83,
          81.5,
          80.5,
          79,
          78.5,
          78,
          77.5,
          76,
          76,
          76,
          76,
          74,
          73.5,
          73.5,
          73,
          70.5,
          70.5,
          69.5,
          68.5,
          68,
          67.5,
          66.5,
          64.5,
          63.5,
          58.5,
          57.49999999999999,
          56.99999999999999,
          56.99999999999999,
          56.99999999999999,
          56.00000000000001,
          56.00000000000001,
          53.5,
          52,
          52,
          46.5,
          46.5,
          43.5,
          43.5,
          37,
          36.5,
          33,
          32.5,
          29.5,
          28.499999999999996,
          28.499999999999996,
          27.500000000000004,
          26.5,
          25.5,
          23.5,
          22,
          19.5,
          17.5,
          15.5,
          12.5,
          10.5,
          7.000000000000001,
          6.5,
          4.5,
          2.5,
          2.5,
          2
         ],
         "yaxis": "y"
        },
        {
         "hovertemplate": "tokenizing_strategy=chars<br>language=%{x}<br>acc=%{y}<extra></extra>",
         "legendgroup": "chars",
         "marker": {
          "color": "#ab63fa",
          "symbol": "circle"
         },
         "mode": "markers",
         "name": "chars",
         "orientation": "v",
         "showlegend": true,
         "type": "scatter",
         "x": [
          "my",
          "kn",
          "km",
          "lv",
          "el",
          "hy",
          "ka",
          "th",
          "ta",
          "mn",
          "iw",
          "hi",
          "he",
          "ja",
          "mr",
          "bn",
          "az",
          "ur",
          "fa",
          "ko",
          "zh-TW",
          "zh",
          "zh-CN",
          "ar",
          "ckb",
          "ne",
          "ky",
          "sd",
          "ps",
          "as",
          "yi",
          "tt",
          "ug",
          "sa",
          "bho",
          "doi",
          "gom",
          "mai"
         ],
         "xaxis": "x",
         "y": [
          95.5,
          94,
          92.5,
          92.5,
          90.5,
          87.5,
          87.5,
          87.5,
          83,
          81,
          77.5,
          77,
          76,
          76,
          72.5,
          72,
          70,
          68,
          66.5,
          66.5,
          66.5,
          66,
          65.5,
          57.99999999999999,
          51.5,
          49.5,
          39,
          36.5,
          33.5,
          28.999999999999996,
          27,
          24,
          19.5,
          4.5,
          0,
          0,
          0,
          0
         ],
         "yaxis": "y"
        },
        {
         "hovertemplate": "tokenizing_strategy=ascii<br>language=%{x}<br>acc=%{y}<extra></extra>",
         "legendgroup": "ascii",
         "marker": {
          "color": "#FFA15A",
          "symbol": "circle"
         },
         "mode": "markers",
         "name": "ascii",
         "orientation": "v",
         "showlegend": true,
         "type": "scatter",
         "x": [
          "ml",
          "am",
          "gu",
          "dv",
          "pa",
          "lo",
          "ti",
          "or",
          "mni-Mtei"
         ],
         "xaxis": "x",
         "y": [
          92,
          89.5,
          76.5,
          69,
          65.5,
          59,
          41,
          27,
          0
         ],
         "yaxis": "y"
        }
       ],
       "layout": {
        "font": {
         "family": "Times New Roman"
        },
        "height": 400,
        "legend": {
         "font": {
          "size": 20
         },
         "title": {
          "text": "Tokenization Strategy"
         },
         "tracegroupgap": 0,
         "x": 1,
         "xanchor": "right",
         "y": 1,
         "yanchor": "top"
        },
        "margin": {
         "b": 70,
         "l": 30,
         "r": 0,
         "t": 20
        },
        "template": {
         "data": {
          "bar": [
           {
            "error_x": {
             "color": "#2a3f5f"
            },
            "error_y": {
             "color": "#2a3f5f"
            },
            "marker": {
             "line": {
              "color": "#E5ECF6",
              "width": 0.5
             },
             "pattern": {
              "fillmode": "overlay",
              "size": 10,
              "solidity": 0.2
             }
            },
            "type": "bar"
           }
          ],
          "barpolar": [
           {
            "marker": {
             "line": {
              "color": "#E5ECF6",
              "width": 0.5
             },
             "pattern": {
              "fillmode": "overlay",
              "size": 10,
              "solidity": 0.2
             }
            },
            "type": "barpolar"
           }
          ],
          "carpet": [
           {
            "aaxis": {
             "endlinecolor": "#2a3f5f",
             "gridcolor": "white",
             "linecolor": "white",
             "minorgridcolor": "white",
             "startlinecolor": "#2a3f5f"
            },
            "baxis": {
             "endlinecolor": "#2a3f5f",
             "gridcolor": "white",
             "linecolor": "white",
             "minorgridcolor": "white",
             "startlinecolor": "#2a3f5f"
            },
            "type": "carpet"
           }
          ],
          "choropleth": [
           {
            "colorbar": {
             "outlinewidth": 0,
             "ticks": ""
            },
            "type": "choropleth"
           }
          ],
          "contour": [
           {
            "colorbar": {
             "outlinewidth": 0,
             "ticks": ""
            },
            "colorscale": [
             [
              0,
              "#0d0887"
             ],
             [
              0.1111111111111111,
              "#46039f"
             ],
             [
              0.2222222222222222,
              "#7201a8"
             ],
             [
              0.3333333333333333,
              "#9c179e"
             ],
             [
              0.4444444444444444,
              "#bd3786"
             ],
             [
              0.5555555555555556,
              "#d8576b"
             ],
             [
              0.6666666666666666,
              "#ed7953"
             ],
             [
              0.7777777777777778,
              "#fb9f3a"
             ],
             [
              0.8888888888888888,
              "#fdca26"
             ],
             [
              1,
              "#f0f921"
             ]
            ],
            "type": "contour"
           }
          ],
          "contourcarpet": [
           {
            "colorbar": {
             "outlinewidth": 0,
             "ticks": ""
            },
            "type": "contourcarpet"
           }
          ],
          "heatmap": [
           {
            "colorbar": {
             "outlinewidth": 0,
             "ticks": ""
            },
            "colorscale": [
             [
              0,
              "#0d0887"
             ],
             [
              0.1111111111111111,
              "#46039f"
             ],
             [
              0.2222222222222222,
              "#7201a8"
             ],
             [
              0.3333333333333333,
              "#9c179e"
             ],
             [
              0.4444444444444444,
              "#bd3786"
             ],
             [
              0.5555555555555556,
              "#d8576b"
             ],
             [
              0.6666666666666666,
              "#ed7953"
             ],
             [
              0.7777777777777778,
              "#fb9f3a"
             ],
             [
              0.8888888888888888,
              "#fdca26"
             ],
             [
              1,
              "#f0f921"
             ]
            ],
            "type": "heatmap"
           }
          ],
          "heatmapgl": [
           {
            "colorbar": {
             "outlinewidth": 0,
             "ticks": ""
            },
            "colorscale": [
             [
              0,
              "#0d0887"
             ],
             [
              0.1111111111111111,
              "#46039f"
             ],
             [
              0.2222222222222222,
              "#7201a8"
             ],
             [
              0.3333333333333333,
              "#9c179e"
             ],
             [
              0.4444444444444444,
              "#bd3786"
             ],
             [
              0.5555555555555556,
              "#d8576b"
             ],
             [
              0.6666666666666666,
              "#ed7953"
             ],
             [
              0.7777777777777778,
              "#fb9f3a"
             ],
             [
              0.8888888888888888,
              "#fdca26"
             ],
             [
              1,
              "#f0f921"
             ]
            ],
            "type": "heatmapgl"
           }
          ],
          "histogram": [
           {
            "marker": {
             "pattern": {
              "fillmode": "overlay",
              "size": 10,
              "solidity": 0.2
             }
            },
            "type": "histogram"
           }
          ],
          "histogram2d": [
           {
            "colorbar": {
             "outlinewidth": 0,
             "ticks": ""
            },
            "colorscale": [
             [
              0,
              "#0d0887"
             ],
             [
              0.1111111111111111,
              "#46039f"
             ],
             [
              0.2222222222222222,
              "#7201a8"
             ],
             [
              0.3333333333333333,
              "#9c179e"
             ],
             [
              0.4444444444444444,
              "#bd3786"
             ],
             [
              0.5555555555555556,
              "#d8576b"
             ],
             [
              0.6666666666666666,
              "#ed7953"
             ],
             [
              0.7777777777777778,
              "#fb9f3a"
             ],
             [
              0.8888888888888888,
              "#fdca26"
             ],
             [
              1,
              "#f0f921"
             ]
            ],
            "type": "histogram2d"
           }
          ],
          "histogram2dcontour": [
           {
            "colorbar": {
             "outlinewidth": 0,
             "ticks": ""
            },
            "colorscale": [
             [
              0,
              "#0d0887"
             ],
             [
              0.1111111111111111,
              "#46039f"
             ],
             [
              0.2222222222222222,
              "#7201a8"
             ],
             [
              0.3333333333333333,
              "#9c179e"
             ],
             [
              0.4444444444444444,
              "#bd3786"
             ],
             [
              0.5555555555555556,
              "#d8576b"
             ],
             [
              0.6666666666666666,
              "#ed7953"
             ],
             [
              0.7777777777777778,
              "#fb9f3a"
             ],
             [
              0.8888888888888888,
              "#fdca26"
             ],
             [
              1,
              "#f0f921"
             ]
            ],
            "type": "histogram2dcontour"
           }
          ],
          "mesh3d": [
           {
            "colorbar": {
             "outlinewidth": 0,
             "ticks": ""
            },
            "type": "mesh3d"
           }
          ],
          "parcoords": [
           {
            "line": {
             "colorbar": {
              "outlinewidth": 0,
              "ticks": ""
             }
            },
            "type": "parcoords"
           }
          ],
          "pie": [
           {
            "automargin": true,
            "type": "pie"
           }
          ],
          "scatter": [
           {
            "fillpattern": {
             "fillmode": "overlay",
             "size": 10,
             "solidity": 0.2
            },
            "type": "scatter"
           }
          ],
          "scatter3d": [
           {
            "line": {
             "colorbar": {
              "outlinewidth": 0,
              "ticks": ""
             }
            },
            "marker": {
             "colorbar": {
              "outlinewidth": 0,
              "ticks": ""
             }
            },
            "type": "scatter3d"
           }
          ],
          "scattercarpet": [
           {
            "marker": {
             "colorbar": {
              "outlinewidth": 0,
              "ticks": ""
             }
            },
            "type": "scattercarpet"
           }
          ],
          "scattergeo": [
           {
            "marker": {
             "colorbar": {
              "outlinewidth": 0,
              "ticks": ""
             }
            },
            "type": "scattergeo"
           }
          ],
          "scattergl": [
           {
            "marker": {
             "colorbar": {
              "outlinewidth": 0,
              "ticks": ""
             }
            },
            "type": "scattergl"
           }
          ],
          "scattermapbox": [
           {
            "marker": {
             "colorbar": {
              "outlinewidth": 0,
              "ticks": ""
             }
            },
            "type": "scattermapbox"
           }
          ],
          "scatterpolar": [
           {
            "marker": {
             "colorbar": {
              "outlinewidth": 0,
              "ticks": ""
             }
            },
            "type": "scatterpolar"
           }
          ],
          "scatterpolargl": [
           {
            "marker": {
             "colorbar": {
              "outlinewidth": 0,
              "ticks": ""
             }
            },
            "type": "scatterpolargl"
           }
          ],
          "scatterternary": [
           {
            "marker": {
             "colorbar": {
              "outlinewidth": 0,
              "ticks": ""
             }
            },
            "type": "scatterternary"
           }
          ],
          "surface": [
           {
            "colorbar": {
             "outlinewidth": 0,
             "ticks": ""
            },
            "colorscale": [
             [
              0,
              "#0d0887"
             ],
             [
              0.1111111111111111,
              "#46039f"
             ],
             [
              0.2222222222222222,
              "#7201a8"
             ],
             [
              0.3333333333333333,
              "#9c179e"
             ],
             [
              0.4444444444444444,
              "#bd3786"
             ],
             [
              0.5555555555555556,
              "#d8576b"
             ],
             [
              0.6666666666666666,
              "#ed7953"
             ],
             [
              0.7777777777777778,
              "#fb9f3a"
             ],
             [
              0.8888888888888888,
              "#fdca26"
             ],
             [
              1,
              "#f0f921"
             ]
            ],
            "type": "surface"
           }
          ],
          "table": [
           {
            "cells": {
             "fill": {
              "color": "#EBF0F8"
             },
             "line": {
              "color": "white"
             }
            },
            "header": {
             "fill": {
              "color": "#C8D4E3"
             },
             "line": {
              "color": "white"
             }
            },
            "type": "table"
           }
          ]
         },
         "layout": {
          "title": {
           "font": {
            "family": "Times New Roman"
           }
          }
         }
        },
        "width": 1100,
        "xaxis": {
         "anchor": "y",
         "domain": [
          0,
          1
         ],
         "title": {
          "text": ""
         }
        },
        "yaxis": {
         "anchor": "x",
         "domain": [
          0,
          1
         ],
         "range": [
          0,
          100
         ],
         "tickfont": {
          "size": 20
         },
         "title": {
          "text": ""
         }
        }
       }
      }
     },
     "metadata": {},
     "output_type": "display_data"
    },
    {
     "name": "stdout",
     "output_type": "stream",
     "text": [
      "_________________________________________________________________________________________________________\n",
      "Llama-2-7b-chat-hf\n",
      "Number of ascii languages\n",
      "12\n",
      "Number of char languages\n",
      "36\n",
      "Number of subword languages\n",
      "89\n",
      "Mean perplexity for different tokenization strategies\n",
      "tokenizing_strategy\n",
      "ascii        5.931085\n",
      "chars      236.305429\n",
      "subword    743.589330\n",
      "Name: ppl_mean, dtype: float64\n"
     ]
    },
    {
     "data": {
      "application/vnd.plotly.v1+json": {
       "config": {
        "plotlyServerURL": "https://plot.ly"
       },
       "data": [
        {
         "hovertemplate": "tokenizing_strategy=subword<br>ppl_mean=%{x}<br>answer_accuracy=%{y}<extra></extra>",
         "legendgroup": "subword",
         "marker": {
          "color": "#00cc96",
          "symbol": "circle"
         },
         "mode": "markers",
         "name": "subword",
         "orientation": "v",
         "showlegend": true,
         "type": "scatter",
         "x": [
          362.7580894136429,
          1034.9254365348816,
          1766.7012489318847,
          1119.3107730102538,
          614.7631419181823,
          169.1265939950943,
          65.28989111661912,
          183.1062677693367,
          630.7119648456573,
          128.854725420475,
          599.1511645483971,
          937.3857241630554,
          508.41396247386933,
          194.86548845052718,
          119.44160196781158,
          1445.2560655879975,
          34.119917569160464,
          1135.9912842369079,
          2171.5176792526245,
          1976.2437001419066,
          45.38652975559235,
          37.577387115955354,
          1520.6957180213928,
          1014.0901567459107,
          277.4225293064117,
          916.7267555093765,
          602.1570688724518,
          2496.6513537597657,
          1496.9652338981628,
          1669.6590915870665,
          415.106140127182,
          119.65879935622215,
          135.9678437423706,
          512.7913941001892,
          1925.064798927307,
          88.00300267219544,
          250.07903770446777,
          106.55740559101105,
          1455.711644859314,
          1189.09234167099,
          10.348056626319885,
          1003.8553714942932,
          527.3590002250671,
          1711.696183128357,
          485.3601522731781,
          2331.4490369415284,
          1285.7220568084717,
          1723.1873011016846,
          274.05843138694763,
          852.327243232727,
          160.19481485366822,
          835.0767914390564,
          180.78672939777374,
          239.77652062892915,
          1896.566506500244,
          515.6847468948364,
          1544.4799760055541,
          397.18781058073046,
          57.021575796604154,
          1042.6382734107972,
          195.0975546503067,
          48.67135065674782,
          4.803945162296295,
          209.58984071731567,
          212.12267283201217,
          510.8498818588257,
          903.7992587280273,
          1719.8974601173402,
          1528.665263595581,
          23.432204184532164,
          205.04187107086182,
          1840.3750573348998,
          251.95527058124543,
          380.9382972240448,
          1207.3385385131835,
          112.02256670713425,
          1378.4137932205201,
          46.52274213075638,
          1922.9598867416382,
          18.4361773788929,
          853.8424174690247,
          832.01589427948,
          96.81643967151642,
          829.6098641395569
         ],
         "xaxis": "x",
         "y": [
          0.44,
          0.045,
          0.04,
          0.04,
          0.185,
          0.415,
          0.54,
          0.44,
          0.265,
          0.415,
          0.045,
          0.42,
          0.06,
          0.56,
          0.5,
          0.135,
          0.815,
          0.25,
          0.085,
          0.04,
          0.395,
          0.55,
          0.185,
          0.035,
          0.085,
          0.11,
          0.425,
          0.09,
          0.07,
          0.04,
          0.06,
          0.4325,
          0.3,
          0.065,
          0.1,
          0.46,
          0.1,
          0.555,
          0.135,
          0.055,
          0.515,
          0.07,
          0.245,
          0.105,
          0.075,
          0.19,
          0.04,
          0.11,
          0.455,
          0.13,
          0.08,
          0.005,
          0.485,
          0.555,
          0.055,
          0.02,
          0.04,
          0.4,
          0.49,
          0.05,
          0.47,
          0.4,
          0.035,
          0.43,
          0.405,
          0.055,
          0.04,
          0.035,
          0.075,
          0.53,
          0.13,
          0.15,
          0.55,
          0.06,
          0.045,
          0.3575,
          0.04,
          0.49,
          0.06,
          0.445,
          0.025,
          0.05,
          0.35,
          0.02
         ],
         "yaxis": "y"
        },
        {
         "hovertemplate": "tokenizing_strategy=ascii<br>ppl_mean=%{x}<br>answer_accuracy=%{y}<extra></extra>",
         "legendgroup": "ascii",
         "marker": {
          "color": "#ab63fa",
          "symbol": "circle"
         },
         "mode": "markers",
         "name": "ascii",
         "orientation": "v",
         "showlegend": true,
         "type": "scatter",
         "x": [
          4.591866813898086,
          5.621825939416885,
          3.424436813592911,
          3.4853186690807343,
          5.111896975040436,
          4.242210203409195,
          6.6468892931938175,
          7.197731413841248,
          4.055160223245621,
          3.1401567375659942,
          5.4642112910747525,
          23.374694447517395
         ],
         "xaxis": "x",
         "y": [
          0.035,
          0.035,
          0.04,
          0.035,
          0.035,
          0.07,
          0.015,
          0.03,
          0.03,
          0.03,
          0.03,
          0.5616666666666666
         ],
         "yaxis": "y"
        },
        {
         "hovertemplate": "tokenizing_strategy=chars<br>ppl_mean=%{x}<br>answer_accuracy=%{y}<extra></extra>",
         "legendgroup": "chars",
         "marker": {
          "color": "#FFA15A",
          "symbol": "circle"
         },
         "mode": "markers",
         "name": "chars",
         "orientation": "v",
         "showlegend": true,
         "type": "scatter",
         "x": [
          12.08160227060318,
          13.50364787697792,
          374.8482411766052,
          14.181106663942337,
          17.48805142879486,
          23.51248189687729,
          6.6998597013950345,
          15.00516337633133,
          5.769091030359268,
          13.079583741426468,
          24.545276091098785,
          11.105363510847091,
          756.4475105667115,
          803.8477539634705,
          23.72209668636322,
          705.9961970615387,
          9.22713178396225,
          10.85627722620964,
          250.37372483253478,
          6.990038195848465,
          13.12718460559845,
          11.986943558454513,
          30.74204954624176,
          15.717419965267181,
          51.53195233345032,
          5.524150210618973,
          534.4820444297791,
          15.319099917411805,
          4358.673205566406,
          221.2716696667671,
          46.750130290985105,
          21.42252473115921,
          11.244088127613068,
          14.597283210754394
         ],
         "xaxis": "x",
         "y": [
          0.255,
          0.015,
          0.075,
          0.09,
          0.16,
          0.145,
          0.3,
          0.13,
          0.265,
          0.05,
          0.565,
          0.14,
          0.07,
          0.05,
          0.07,
          0.085,
          0.05,
          0.095,
          0.035,
          0.04,
          0.135,
          0.195,
          0.035,
          0.055,
          0.04,
          0.045,
          0.065,
          0.055,
          0.05,
          0.195,
          0.04,
          0.125,
          0.085,
          0.035
         ],
         "yaxis": "y"
        }
       ],
       "layout": {
        "font": {
         "family": "Times New Roman"
        },
        "height": 500,
        "legend": {
         "title": {
          "text": "tokenizing_strategy"
         },
         "tracegroupgap": 0
        },
        "margin": {
         "t": 60
        },
        "showlegend": false,
        "template": {
         "data": {
          "bar": [
           {
            "error_x": {
             "color": "#2a3f5f"
            },
            "error_y": {
             "color": "#2a3f5f"
            },
            "marker": {
             "line": {
              "color": "#E5ECF6",
              "width": 0.5
             },
             "pattern": {
              "fillmode": "overlay",
              "size": 10,
              "solidity": 0.2
             }
            },
            "type": "bar"
           }
          ],
          "barpolar": [
           {
            "marker": {
             "line": {
              "color": "#E5ECF6",
              "width": 0.5
             },
             "pattern": {
              "fillmode": "overlay",
              "size": 10,
              "solidity": 0.2
             }
            },
            "type": "barpolar"
           }
          ],
          "carpet": [
           {
            "aaxis": {
             "endlinecolor": "#2a3f5f",
             "gridcolor": "white",
             "linecolor": "white",
             "minorgridcolor": "white",
             "startlinecolor": "#2a3f5f"
            },
            "baxis": {
             "endlinecolor": "#2a3f5f",
             "gridcolor": "white",
             "linecolor": "white",
             "minorgridcolor": "white",
             "startlinecolor": "#2a3f5f"
            },
            "type": "carpet"
           }
          ],
          "choropleth": [
           {
            "colorbar": {
             "outlinewidth": 0,
             "ticks": ""
            },
            "type": "choropleth"
           }
          ],
          "contour": [
           {
            "colorbar": {
             "outlinewidth": 0,
             "ticks": ""
            },
            "colorscale": [
             [
              0,
              "#0d0887"
             ],
             [
              0.1111111111111111,
              "#46039f"
             ],
             [
              0.2222222222222222,
              "#7201a8"
             ],
             [
              0.3333333333333333,
              "#9c179e"
             ],
             [
              0.4444444444444444,
              "#bd3786"
             ],
             [
              0.5555555555555556,
              "#d8576b"
             ],
             [
              0.6666666666666666,
              "#ed7953"
             ],
             [
              0.7777777777777778,
              "#fb9f3a"
             ],
             [
              0.8888888888888888,
              "#fdca26"
             ],
             [
              1,
              "#f0f921"
             ]
            ],
            "type": "contour"
           }
          ],
          "contourcarpet": [
           {
            "colorbar": {
             "outlinewidth": 0,
             "ticks": ""
            },
            "type": "contourcarpet"
           }
          ],
          "heatmap": [
           {
            "colorbar": {
             "outlinewidth": 0,
             "ticks": ""
            },
            "colorscale": [
             [
              0,
              "#0d0887"
             ],
             [
              0.1111111111111111,
              "#46039f"
             ],
             [
              0.2222222222222222,
              "#7201a8"
             ],
             [
              0.3333333333333333,
              "#9c179e"
             ],
             [
              0.4444444444444444,
              "#bd3786"
             ],
             [
              0.5555555555555556,
              "#d8576b"
             ],
             [
              0.6666666666666666,
              "#ed7953"
             ],
             [
              0.7777777777777778,
              "#fb9f3a"
             ],
             [
              0.8888888888888888,
              "#fdca26"
             ],
             [
              1,
              "#f0f921"
             ]
            ],
            "type": "heatmap"
           }
          ],
          "heatmapgl": [
           {
            "colorbar": {
             "outlinewidth": 0,
             "ticks": ""
            },
            "colorscale": [
             [
              0,
              "#0d0887"
             ],
             [
              0.1111111111111111,
              "#46039f"
             ],
             [
              0.2222222222222222,
              "#7201a8"
             ],
             [
              0.3333333333333333,
              "#9c179e"
             ],
             [
              0.4444444444444444,
              "#bd3786"
             ],
             [
              0.5555555555555556,
              "#d8576b"
             ],
             [
              0.6666666666666666,
              "#ed7953"
             ],
             [
              0.7777777777777778,
              "#fb9f3a"
             ],
             [
              0.8888888888888888,
              "#fdca26"
             ],
             [
              1,
              "#f0f921"
             ]
            ],
            "type": "heatmapgl"
           }
          ],
          "histogram": [
           {
            "marker": {
             "pattern": {
              "fillmode": "overlay",
              "size": 10,
              "solidity": 0.2
             }
            },
            "type": "histogram"
           }
          ],
          "histogram2d": [
           {
            "colorbar": {
             "outlinewidth": 0,
             "ticks": ""
            },
            "colorscale": [
             [
              0,
              "#0d0887"
             ],
             [
              0.1111111111111111,
              "#46039f"
             ],
             [
              0.2222222222222222,
              "#7201a8"
             ],
             [
              0.3333333333333333,
              "#9c179e"
             ],
             [
              0.4444444444444444,
              "#bd3786"
             ],
             [
              0.5555555555555556,
              "#d8576b"
             ],
             [
              0.6666666666666666,
              "#ed7953"
             ],
             [
              0.7777777777777778,
              "#fb9f3a"
             ],
             [
              0.8888888888888888,
              "#fdca26"
             ],
             [
              1,
              "#f0f921"
             ]
            ],
            "type": "histogram2d"
           }
          ],
          "histogram2dcontour": [
           {
            "colorbar": {
             "outlinewidth": 0,
             "ticks": ""
            },
            "colorscale": [
             [
              0,
              "#0d0887"
             ],
             [
              0.1111111111111111,
              "#46039f"
             ],
             [
              0.2222222222222222,
              "#7201a8"
             ],
             [
              0.3333333333333333,
              "#9c179e"
             ],
             [
              0.4444444444444444,
              "#bd3786"
             ],
             [
              0.5555555555555556,
              "#d8576b"
             ],
             [
              0.6666666666666666,
              "#ed7953"
             ],
             [
              0.7777777777777778,
              "#fb9f3a"
             ],
             [
              0.8888888888888888,
              "#fdca26"
             ],
             [
              1,
              "#f0f921"
             ]
            ],
            "type": "histogram2dcontour"
           }
          ],
          "mesh3d": [
           {
            "colorbar": {
             "outlinewidth": 0,
             "ticks": ""
            },
            "type": "mesh3d"
           }
          ],
          "parcoords": [
           {
            "line": {
             "colorbar": {
              "outlinewidth": 0,
              "ticks": ""
             }
            },
            "type": "parcoords"
           }
          ],
          "pie": [
           {
            "automargin": true,
            "type": "pie"
           }
          ],
          "scatter": [
           {
            "fillpattern": {
             "fillmode": "overlay",
             "size": 10,
             "solidity": 0.2
            },
            "type": "scatter"
           }
          ],
          "scatter3d": [
           {
            "line": {
             "colorbar": {
              "outlinewidth": 0,
              "ticks": ""
             }
            },
            "marker": {
             "colorbar": {
              "outlinewidth": 0,
              "ticks": ""
             }
            },
            "type": "scatter3d"
           }
          ],
          "scattercarpet": [
           {
            "marker": {
             "colorbar": {
              "outlinewidth": 0,
              "ticks": ""
             }
            },
            "type": "scattercarpet"
           }
          ],
          "scattergeo": [
           {
            "marker": {
             "colorbar": {
              "outlinewidth": 0,
              "ticks": ""
             }
            },
            "type": "scattergeo"
           }
          ],
          "scattergl": [
           {
            "marker": {
             "colorbar": {
              "outlinewidth": 0,
              "ticks": ""
             }
            },
            "type": "scattergl"
           }
          ],
          "scattermapbox": [
           {
            "marker": {
             "colorbar": {
              "outlinewidth": 0,
              "ticks": ""
             }
            },
            "type": "scattermapbox"
           }
          ],
          "scatterpolar": [
           {
            "marker": {
             "colorbar": {
              "outlinewidth": 0,
              "ticks": ""
             }
            },
            "type": "scatterpolar"
           }
          ],
          "scatterpolargl": [
           {
            "marker": {
             "colorbar": {
              "outlinewidth": 0,
              "ticks": ""
             }
            },
            "type": "scatterpolargl"
           }
          ],
          "scatterternary": [
           {
            "marker": {
             "colorbar": {
              "outlinewidth": 0,
              "ticks": ""
             }
            },
            "type": "scatterternary"
           }
          ],
          "surface": [
           {
            "colorbar": {
             "outlinewidth": 0,
             "ticks": ""
            },
            "colorscale": [
             [
              0,
              "#0d0887"
             ],
             [
              0.1111111111111111,
              "#46039f"
             ],
             [
              0.2222222222222222,
              "#7201a8"
             ],
             [
              0.3333333333333333,
              "#9c179e"
             ],
             [
              0.4444444444444444,
              "#bd3786"
             ],
             [
              0.5555555555555556,
              "#d8576b"
             ],
             [
              0.6666666666666666,
              "#ed7953"
             ],
             [
              0.7777777777777778,
              "#fb9f3a"
             ],
             [
              0.8888888888888888,
              "#fdca26"
             ],
             [
              1,
              "#f0f921"
             ]
            ],
            "type": "surface"
           }
          ],
          "table": [
           {
            "cells": {
             "fill": {
              "color": "#EBF0F8"
             },
             "line": {
              "color": "white"
             }
            },
            "header": {
             "fill": {
              "color": "#C8D4E3"
             },
             "line": {
              "color": "white"
             }
            },
            "type": "table"
           }
          ]
         },
         "layout": {
          "title": {
           "font": {
            "family": "Times New Roman"
           }
          }
         }
        },
        "title": {
         "text": "Llama-2-7b-chat-hf"
        },
        "width": 500,
        "xaxis": {
         "anchor": "y",
         "domain": [
          0,
          1
         ],
         "title": {
          "text": "Mean Perplexity"
         },
         "type": "log"
        },
        "yaxis": {
         "anchor": "x",
         "domain": [
          0,
          1
         ],
         "title": {
          "text": "Accuracy in % of correctly answered prompts"
         }
        }
       }
      }
     },
     "metadata": {},
     "output_type": "display_data"
    },
    {
     "name": "stdout",
     "output_type": "stream",
     "text": [
      "Answer Accuracy\n"
     ]
    },
    {
     "data": {
      "application/vnd.plotly.v1+json": {
       "config": {
        "plotlyServerURL": "https://plot.ly"
       },
       "data": [
        {
         "hovertemplate": "tokenizing_strategy=subword<br>language=%{x}<br>acc=%{y}<extra></extra>",
         "legendgroup": "subword",
         "marker": {
          "color": "#00cc96",
          "symbol": "circle"
         },
         "mode": "markers",
         "name": "subword",
         "orientation": "v",
         "showlegend": true,
         "type": "scatter",
         "x": [
          "en",
          "zh-CN",
          "da",
          "it",
          "no",
          "fr",
          "sv",
          "zh",
          "bg",
          "es",
          "ko",
          "de",
          "pt",
          "uk",
          "nl",
          "ro",
          "id",
          "mk",
          "vi",
          "af",
          "ca",
          "hr",
          "sk",
          "gl",
          "sr",
          "co",
          "bs",
          "cs",
          "sl",
          "pl",
          "ru",
          "fi",
          "fil",
          "tl",
          "ms",
          "hu",
          "ceb",
          "eo",
          "la",
          "lb",
          "be",
          "fy",
          "su",
          "jv",
          "et",
          "jw",
          "mt",
          "sq",
          "ga",
          "lus",
          "ln",
          "ilo",
          "is",
          "gn",
          "eu",
          "gd",
          "mi",
          "lt",
          "st",
          "ht",
          "kri",
          "ig",
          "cy",
          "haw",
          "sw",
          "uz",
          "nso",
          "rw",
          "sm",
          "qu",
          "yo",
          "ak",
          "ku",
          "tg",
          "ay",
          "bm",
          "ee",
          "ha",
          "lg",
          "mg",
          "sn",
          "ts",
          "om",
          "si",
          "so",
          "xh",
          "ny",
          "zu",
          "hmn"
         ],
         "xaxis": "x",
         "y": [
          81.5,
          56.99999999999999,
          56.00000000000001,
          55.50000000000001,
          55.50000000000001,
          55.00000000000001,
          55.00000000000001,
          54.50000000000001,
          54,
          53,
          51.5,
          50,
          49,
          49,
          48.5,
          47,
          46,
          45.5,
          44.5,
          44,
          44,
          44,
          43,
          42.5,
          42.5,
          42,
          41.5,
          41.5,
          40.5,
          40,
          40,
          39.5,
          36,
          35.5,
          35,
          30,
          26.5,
          25,
          24.5,
          19,
          18.5,
          18.5,
          15,
          14.000000000000002,
          13.5,
          13,
          13,
          13,
          11,
          11,
          10.5,
          10,
          10,
          9,
          8.5,
          8.5,
          8,
          7.5,
          7.5,
          7.000000000000001,
          7.000000000000001,
          6.5,
          6,
          6,
          6,
          6,
          5.5,
          5.5,
          5.5,
          5,
          5,
          4.5,
          4.5,
          4.5,
          4,
          4,
          4,
          4,
          4,
          4,
          4,
          4,
          3.5000000000000004,
          3.5000000000000004,
          3.5000000000000004,
          2.5,
          2,
          2,
          0.5
         ],
         "yaxis": "y"
        },
        {
         "hovertemplate": "tokenizing_strategy=chars<br>language=%{x}<br>acc=%{y}<extra></extra>",
         "legendgroup": "chars",
         "marker": {
          "color": "#ab63fa",
          "symbol": "circle"
         },
         "mode": "markers",
         "name": "chars",
         "orientation": "v",
         "showlegend": true,
         "type": "scatter",
         "x": [
          "ja",
          "el",
          "hi",
          "ar",
          "fa",
          "tr",
          "bho",
          "doi",
          "ka",
          "he",
          "ne",
          "iw",
          "mai",
          "mr",
          "bn",
          "lv",
          "ur",
          "az",
          "gom",
          "kk",
          "tt",
          "sa",
          "th",
          "hy",
          "ky",
          "ml",
          "tk",
          "ckb",
          "ta",
          "my",
          "sd",
          "ug",
          "mn",
          "ps",
          "yi",
          "as"
         ],
         "xaxis": "x",
         "y": [
          56.49999999999999,
          30,
          26.5,
          25.5,
          19.5,
          19.5,
          16,
          14.499999999999998,
          14.000000000000002,
          13.5,
          13.5,
          12.5,
          12.5,
          9.5,
          9,
          8.5,
          8.5,
          7.5,
          7.000000000000001,
          7.000000000000001,
          6.5,
          5.5,
          5.5,
          5,
          5,
          5,
          5,
          4.5,
          4.5,
          4,
          4,
          4,
          3.5000000000000004,
          3.5000000000000004,
          3.5000000000000004,
          1.5
         ],
         "yaxis": "y"
        },
        {
         "hovertemplate": "tokenizing_strategy=ascii<br>language=%{x}<br>acc=%{y}<extra></extra>",
         "legendgroup": "ascii",
         "marker": {
          "color": "#FFA15A",
          "symbol": "circle"
         },
         "mode": "markers",
         "name": "ascii",
         "orientation": "v",
         "showlegend": true,
         "type": "scatter",
         "x": [
          "zh-TW",
          "lo",
          "gu",
          "am",
          "dv",
          "km",
          "kn",
          "or",
          "pa",
          "te",
          "ti",
          "mni-Mtei"
         ],
         "xaxis": "x",
         "y": [
          56.99999999999999,
          7.000000000000001,
          4,
          3.5000000000000004,
          3.5000000000000004,
          3.5000000000000004,
          3.5000000000000004,
          3,
          3,
          3,
          3,
          1.5
         ],
         "yaxis": "y"
        }
       ],
       "layout": {
        "font": {
         "family": "Times New Roman"
        },
        "height": 400,
        "legend": {
         "font": {
          "size": 20
         },
         "title": {
          "text": "Tokenization Strategy"
         },
         "tracegroupgap": 0,
         "x": 1,
         "xanchor": "right",
         "y": 1,
         "yanchor": "top"
        },
        "margin": {
         "b": 70,
         "l": 30,
         "r": 0,
         "t": 20
        },
        "template": {
         "data": {
          "bar": [
           {
            "error_x": {
             "color": "#2a3f5f"
            },
            "error_y": {
             "color": "#2a3f5f"
            },
            "marker": {
             "line": {
              "color": "#E5ECF6",
              "width": 0.5
             },
             "pattern": {
              "fillmode": "overlay",
              "size": 10,
              "solidity": 0.2
             }
            },
            "type": "bar"
           }
          ],
          "barpolar": [
           {
            "marker": {
             "line": {
              "color": "#E5ECF6",
              "width": 0.5
             },
             "pattern": {
              "fillmode": "overlay",
              "size": 10,
              "solidity": 0.2
             }
            },
            "type": "barpolar"
           }
          ],
          "carpet": [
           {
            "aaxis": {
             "endlinecolor": "#2a3f5f",
             "gridcolor": "white",
             "linecolor": "white",
             "minorgridcolor": "white",
             "startlinecolor": "#2a3f5f"
            },
            "baxis": {
             "endlinecolor": "#2a3f5f",
             "gridcolor": "white",
             "linecolor": "white",
             "minorgridcolor": "white",
             "startlinecolor": "#2a3f5f"
            },
            "type": "carpet"
           }
          ],
          "choropleth": [
           {
            "colorbar": {
             "outlinewidth": 0,
             "ticks": ""
            },
            "type": "choropleth"
           }
          ],
          "contour": [
           {
            "colorbar": {
             "outlinewidth": 0,
             "ticks": ""
            },
            "colorscale": [
             [
              0,
              "#0d0887"
             ],
             [
              0.1111111111111111,
              "#46039f"
             ],
             [
              0.2222222222222222,
              "#7201a8"
             ],
             [
              0.3333333333333333,
              "#9c179e"
             ],
             [
              0.4444444444444444,
              "#bd3786"
             ],
             [
              0.5555555555555556,
              "#d8576b"
             ],
             [
              0.6666666666666666,
              "#ed7953"
             ],
             [
              0.7777777777777778,
              "#fb9f3a"
             ],
             [
              0.8888888888888888,
              "#fdca26"
             ],
             [
              1,
              "#f0f921"
             ]
            ],
            "type": "contour"
           }
          ],
          "contourcarpet": [
           {
            "colorbar": {
             "outlinewidth": 0,
             "ticks": ""
            },
            "type": "contourcarpet"
           }
          ],
          "heatmap": [
           {
            "colorbar": {
             "outlinewidth": 0,
             "ticks": ""
            },
            "colorscale": [
             [
              0,
              "#0d0887"
             ],
             [
              0.1111111111111111,
              "#46039f"
             ],
             [
              0.2222222222222222,
              "#7201a8"
             ],
             [
              0.3333333333333333,
              "#9c179e"
             ],
             [
              0.4444444444444444,
              "#bd3786"
             ],
             [
              0.5555555555555556,
              "#d8576b"
             ],
             [
              0.6666666666666666,
              "#ed7953"
             ],
             [
              0.7777777777777778,
              "#fb9f3a"
             ],
             [
              0.8888888888888888,
              "#fdca26"
             ],
             [
              1,
              "#f0f921"
             ]
            ],
            "type": "heatmap"
           }
          ],
          "heatmapgl": [
           {
            "colorbar": {
             "outlinewidth": 0,
             "ticks": ""
            },
            "colorscale": [
             [
              0,
              "#0d0887"
             ],
             [
              0.1111111111111111,
              "#46039f"
             ],
             [
              0.2222222222222222,
              "#7201a8"
             ],
             [
              0.3333333333333333,
              "#9c179e"
             ],
             [
              0.4444444444444444,
              "#bd3786"
             ],
             [
              0.5555555555555556,
              "#d8576b"
             ],
             [
              0.6666666666666666,
              "#ed7953"
             ],
             [
              0.7777777777777778,
              "#fb9f3a"
             ],
             [
              0.8888888888888888,
              "#fdca26"
             ],
             [
              1,
              "#f0f921"
             ]
            ],
            "type": "heatmapgl"
           }
          ],
          "histogram": [
           {
            "marker": {
             "pattern": {
              "fillmode": "overlay",
              "size": 10,
              "solidity": 0.2
             }
            },
            "type": "histogram"
           }
          ],
          "histogram2d": [
           {
            "colorbar": {
             "outlinewidth": 0,
             "ticks": ""
            },
            "colorscale": [
             [
              0,
              "#0d0887"
             ],
             [
              0.1111111111111111,
              "#46039f"
             ],
             [
              0.2222222222222222,
              "#7201a8"
             ],
             [
              0.3333333333333333,
              "#9c179e"
             ],
             [
              0.4444444444444444,
              "#bd3786"
             ],
             [
              0.5555555555555556,
              "#d8576b"
             ],
             [
              0.6666666666666666,
              "#ed7953"
             ],
             [
              0.7777777777777778,
              "#fb9f3a"
             ],
             [
              0.8888888888888888,
              "#fdca26"
             ],
             [
              1,
              "#f0f921"
             ]
            ],
            "type": "histogram2d"
           }
          ],
          "histogram2dcontour": [
           {
            "colorbar": {
             "outlinewidth": 0,
             "ticks": ""
            },
            "colorscale": [
             [
              0,
              "#0d0887"
             ],
             [
              0.1111111111111111,
              "#46039f"
             ],
             [
              0.2222222222222222,
              "#7201a8"
             ],
             [
              0.3333333333333333,
              "#9c179e"
             ],
             [
              0.4444444444444444,
              "#bd3786"
             ],
             [
              0.5555555555555556,
              "#d8576b"
             ],
             [
              0.6666666666666666,
              "#ed7953"
             ],
             [
              0.7777777777777778,
              "#fb9f3a"
             ],
             [
              0.8888888888888888,
              "#fdca26"
             ],
             [
              1,
              "#f0f921"
             ]
            ],
            "type": "histogram2dcontour"
           }
          ],
          "mesh3d": [
           {
            "colorbar": {
             "outlinewidth": 0,
             "ticks": ""
            },
            "type": "mesh3d"
           }
          ],
          "parcoords": [
           {
            "line": {
             "colorbar": {
              "outlinewidth": 0,
              "ticks": ""
             }
            },
            "type": "parcoords"
           }
          ],
          "pie": [
           {
            "automargin": true,
            "type": "pie"
           }
          ],
          "scatter": [
           {
            "fillpattern": {
             "fillmode": "overlay",
             "size": 10,
             "solidity": 0.2
            },
            "type": "scatter"
           }
          ],
          "scatter3d": [
           {
            "line": {
             "colorbar": {
              "outlinewidth": 0,
              "ticks": ""
             }
            },
            "marker": {
             "colorbar": {
              "outlinewidth": 0,
              "ticks": ""
             }
            },
            "type": "scatter3d"
           }
          ],
          "scattercarpet": [
           {
            "marker": {
             "colorbar": {
              "outlinewidth": 0,
              "ticks": ""
             }
            },
            "type": "scattercarpet"
           }
          ],
          "scattergeo": [
           {
            "marker": {
             "colorbar": {
              "outlinewidth": 0,
              "ticks": ""
             }
            },
            "type": "scattergeo"
           }
          ],
          "scattergl": [
           {
            "marker": {
             "colorbar": {
              "outlinewidth": 0,
              "ticks": ""
             }
            },
            "type": "scattergl"
           }
          ],
          "scattermapbox": [
           {
            "marker": {
             "colorbar": {
              "outlinewidth": 0,
              "ticks": ""
             }
            },
            "type": "scattermapbox"
           }
          ],
          "scatterpolar": [
           {
            "marker": {
             "colorbar": {
              "outlinewidth": 0,
              "ticks": ""
             }
            },
            "type": "scatterpolar"
           }
          ],
          "scatterpolargl": [
           {
            "marker": {
             "colorbar": {
              "outlinewidth": 0,
              "ticks": ""
             }
            },
            "type": "scatterpolargl"
           }
          ],
          "scatterternary": [
           {
            "marker": {
             "colorbar": {
              "outlinewidth": 0,
              "ticks": ""
             }
            },
            "type": "scatterternary"
           }
          ],
          "surface": [
           {
            "colorbar": {
             "outlinewidth": 0,
             "ticks": ""
            },
            "colorscale": [
             [
              0,
              "#0d0887"
             ],
             [
              0.1111111111111111,
              "#46039f"
             ],
             [
              0.2222222222222222,
              "#7201a8"
             ],
             [
              0.3333333333333333,
              "#9c179e"
             ],
             [
              0.4444444444444444,
              "#bd3786"
             ],
             [
              0.5555555555555556,
              "#d8576b"
             ],
             [
              0.6666666666666666,
              "#ed7953"
             ],
             [
              0.7777777777777778,
              "#fb9f3a"
             ],
             [
              0.8888888888888888,
              "#fdca26"
             ],
             [
              1,
              "#f0f921"
             ]
            ],
            "type": "surface"
           }
          ],
          "table": [
           {
            "cells": {
             "fill": {
              "color": "#EBF0F8"
             },
             "line": {
              "color": "white"
             }
            },
            "header": {
             "fill": {
              "color": "#C8D4E3"
             },
             "line": {
              "color": "white"
             }
            },
            "type": "table"
           }
          ]
         },
         "layout": {
          "title": {
           "font": {
            "family": "Times New Roman"
           }
          }
         }
        },
        "width": 1100,
        "xaxis": {
         "anchor": "y",
         "domain": [
          0,
          1
         ],
         "title": {
          "text": ""
         }
        },
        "yaxis": {
         "anchor": "x",
         "domain": [
          0,
          1
         ],
         "range": [
          0,
          100
         ],
         "tickfont": {
          "size": 20
         },
         "title": {
          "text": ""
         }
        }
       }
      }
     },
     "metadata": {},
     "output_type": "display_data"
    },
    {
     "name": "stdout",
     "output_type": "stream",
     "text": [
      "tokenizing_strategy\n",
      "ascii      0.002500\n",
      "chars      0.006111\n",
      "subword    0.166910\n",
      "Name: correct_language, dtype: float64\n",
      "tokenizing_strategy  eval_completion\n",
      "ascii                incorrect          0.920417\n",
      "                     correct            0.079583\n",
      "chars                incorrect          0.888472\n",
      "                     correct            0.111528\n",
      "subword              incorrect          0.759719\n",
      "                     correct            0.240281\n",
      "Name: eval_completion, dtype: float64\n",
      "Linguistic Fidelity\n"
     ]
    },
    {
     "data": {
      "application/vnd.plotly.v1+json": {
       "config": {
        "plotlyServerURL": "https://plot.ly"
       },
       "data": [
        {
         "hovertemplate": "tokenizing_strategy=subword<br>language=%{x}<br>acc=%{y}<extra></extra>",
         "legendgroup": "subword",
         "marker": {
          "color": "#00cc96",
          "symbol": "circle"
         },
         "mode": "markers",
         "name": "subword",
         "orientation": "v",
         "showlegend": true,
         "type": "scatter",
         "x": [
          "en",
          "es",
          "ca",
          "pt",
          "fr",
          "it",
          "ru",
          "de",
          "hu",
          "pl",
          "uk",
          "nl",
          "cs",
          "sr",
          "ro",
          "hr",
          "sv",
          "bs",
          "bg",
          "sl",
          "fi",
          "no",
          "da",
          "id",
          "ny",
          "vi",
          "sk",
          "gd",
          "sw",
          "et",
          "sm",
          "ga",
          "lt",
          "mi",
          "ms",
          "sn",
          "af",
          "ig",
          "zu",
          "fil",
          "haw",
          "is",
          "su",
          "tl",
          "xh",
          "ak",
          "cy",
          "gn",
          "lg",
          "ay",
          "be",
          "ee",
          "eo",
          "gl",
          "ht",
          "ilo",
          "jv",
          "jw",
          "la",
          "ln",
          "lus",
          "mg",
          "mk",
          "mt",
          "si",
          "so",
          "sq",
          "yo",
          "bm",
          "ceb",
          "co",
          "eu",
          "fy",
          "ha",
          "hmn",
          "ko",
          "kri",
          "ku",
          "lb",
          "nso",
          "om",
          "qu",
          "rw",
          "st",
          "tg",
          "ts",
          "uz",
          "zh",
          "zh-CN"
         ],
         "xaxis": "x",
         "y": [
          97.5,
          93,
          88,
          84,
          78.5,
          76.5,
          71,
          66.5,
          65,
          61.5,
          59.5,
          59,
          57.49999999999999,
          56.49999999999999,
          53.5,
          51,
          45,
          44.5,
          40,
          37,
          33.5,
          27.500000000000004,
          27,
          24.5,
          12,
          6.5,
          6,
          5,
          5,
          4,
          4,
          3.5000000000000004,
          3.5000000000000004,
          3.5000000000000004,
          3,
          3,
          2.5,
          2,
          2,
          1.5,
          1.5,
          1.5,
          1.5,
          1.5,
          1.5,
          1,
          1,
          1,
          1,
          0.5,
          0.5,
          0.5,
          0.5,
          0.5,
          0.5,
          0.5,
          0.5,
          0.5,
          0.5,
          0.5,
          0.5,
          0.5,
          0.5,
          0.5,
          0.5,
          0.5,
          0.5,
          0.5,
          0,
          0,
          0,
          0,
          0,
          0,
          0,
          0,
          0,
          0,
          0,
          0,
          0,
          0,
          0,
          0,
          0,
          0,
          0,
          0,
          0
         ],
         "yaxis": "y"
        },
        {
         "hovertemplate": "tokenizing_strategy=chars<br>language=%{x}<br>acc=%{y}<extra></extra>",
         "legendgroup": "chars",
         "marker": {
          "color": "#ab63fa",
          "symbol": "circle"
         },
         "mode": "markers",
         "name": "chars",
         "orientation": "v",
         "showlegend": true,
         "type": "scatter",
         "x": [
          "lv",
          "my",
          "tr",
          "ja",
          "az",
          "ml",
          "ta",
          "ka",
          "kk",
          "ne",
          "sa",
          "yi",
          "ar",
          "as",
          "bho",
          "bn",
          "ckb",
          "doi",
          "el",
          "fa",
          "gom",
          "he",
          "hi",
          "hy",
          "iw",
          "ky",
          "mai",
          "mn",
          "mr",
          "ps",
          "sd",
          "th",
          "tk",
          "tt",
          "ug",
          "ur"
         ],
         "xaxis": "x",
         "y": [
          6.5,
          4.5,
          4,
          1.5,
          1,
          1,
          1,
          0.5,
          0.5,
          0.5,
          0.5,
          0.5,
          0,
          0,
          0,
          0,
          0,
          0,
          0,
          0,
          0,
          0,
          0,
          0,
          0,
          0,
          0,
          0,
          0,
          0,
          0,
          0,
          0,
          0,
          0,
          0
         ],
         "yaxis": "y"
        },
        {
         "hovertemplate": "tokenizing_strategy=ascii<br>language=%{x}<br>acc=%{y}<extra></extra>",
         "legendgroup": "ascii",
         "marker": {
          "color": "#FFA15A",
          "symbol": "circle"
         },
         "mode": "markers",
         "name": "ascii",
         "orientation": "v",
         "showlegend": true,
         "type": "scatter",
         "x": [
          "lo",
          "dv",
          "gu",
          "km",
          "zh-TW",
          "am",
          "kn",
          "mni-Mtei",
          "or",
          "pa",
          "te",
          "ti"
         ],
         "xaxis": "x",
         "y": [
          1,
          0.5,
          0.5,
          0.5,
          0.5,
          0,
          0,
          0,
          0,
          0,
          0,
          0
         ],
         "yaxis": "y"
        }
       ],
       "layout": {
        "font": {
         "family": "Times New Roman"
        },
        "height": 400,
        "legend": {
         "font": {
          "size": 20
         },
         "title": {
          "text": "Tokenization Strategy"
         },
         "tracegroupgap": 0,
         "x": 1,
         "xanchor": "right",
         "y": 1,
         "yanchor": "top"
        },
        "margin": {
         "b": 70,
         "l": 30,
         "r": 0,
         "t": 20
        },
        "template": {
         "data": {
          "bar": [
           {
            "error_x": {
             "color": "#2a3f5f"
            },
            "error_y": {
             "color": "#2a3f5f"
            },
            "marker": {
             "line": {
              "color": "#E5ECF6",
              "width": 0.5
             },
             "pattern": {
              "fillmode": "overlay",
              "size": 10,
              "solidity": 0.2
             }
            },
            "type": "bar"
           }
          ],
          "barpolar": [
           {
            "marker": {
             "line": {
              "color": "#E5ECF6",
              "width": 0.5
             },
             "pattern": {
              "fillmode": "overlay",
              "size": 10,
              "solidity": 0.2
             }
            },
            "type": "barpolar"
           }
          ],
          "carpet": [
           {
            "aaxis": {
             "endlinecolor": "#2a3f5f",
             "gridcolor": "white",
             "linecolor": "white",
             "minorgridcolor": "white",
             "startlinecolor": "#2a3f5f"
            },
            "baxis": {
             "endlinecolor": "#2a3f5f",
             "gridcolor": "white",
             "linecolor": "white",
             "minorgridcolor": "white",
             "startlinecolor": "#2a3f5f"
            },
            "type": "carpet"
           }
          ],
          "choropleth": [
           {
            "colorbar": {
             "outlinewidth": 0,
             "ticks": ""
            },
            "type": "choropleth"
           }
          ],
          "contour": [
           {
            "colorbar": {
             "outlinewidth": 0,
             "ticks": ""
            },
            "colorscale": [
             [
              0,
              "#0d0887"
             ],
             [
              0.1111111111111111,
              "#46039f"
             ],
             [
              0.2222222222222222,
              "#7201a8"
             ],
             [
              0.3333333333333333,
              "#9c179e"
             ],
             [
              0.4444444444444444,
              "#bd3786"
             ],
             [
              0.5555555555555556,
              "#d8576b"
             ],
             [
              0.6666666666666666,
              "#ed7953"
             ],
             [
              0.7777777777777778,
              "#fb9f3a"
             ],
             [
              0.8888888888888888,
              "#fdca26"
             ],
             [
              1,
              "#f0f921"
             ]
            ],
            "type": "contour"
           }
          ],
          "contourcarpet": [
           {
            "colorbar": {
             "outlinewidth": 0,
             "ticks": ""
            },
            "type": "contourcarpet"
           }
          ],
          "heatmap": [
           {
            "colorbar": {
             "outlinewidth": 0,
             "ticks": ""
            },
            "colorscale": [
             [
              0,
              "#0d0887"
             ],
             [
              0.1111111111111111,
              "#46039f"
             ],
             [
              0.2222222222222222,
              "#7201a8"
             ],
             [
              0.3333333333333333,
              "#9c179e"
             ],
             [
              0.4444444444444444,
              "#bd3786"
             ],
             [
              0.5555555555555556,
              "#d8576b"
             ],
             [
              0.6666666666666666,
              "#ed7953"
             ],
             [
              0.7777777777777778,
              "#fb9f3a"
             ],
             [
              0.8888888888888888,
              "#fdca26"
             ],
             [
              1,
              "#f0f921"
             ]
            ],
            "type": "heatmap"
           }
          ],
          "heatmapgl": [
           {
            "colorbar": {
             "outlinewidth": 0,
             "ticks": ""
            },
            "colorscale": [
             [
              0,
              "#0d0887"
             ],
             [
              0.1111111111111111,
              "#46039f"
             ],
             [
              0.2222222222222222,
              "#7201a8"
             ],
             [
              0.3333333333333333,
              "#9c179e"
             ],
             [
              0.4444444444444444,
              "#bd3786"
             ],
             [
              0.5555555555555556,
              "#d8576b"
             ],
             [
              0.6666666666666666,
              "#ed7953"
             ],
             [
              0.7777777777777778,
              "#fb9f3a"
             ],
             [
              0.8888888888888888,
              "#fdca26"
             ],
             [
              1,
              "#f0f921"
             ]
            ],
            "type": "heatmapgl"
           }
          ],
          "histogram": [
           {
            "marker": {
             "pattern": {
              "fillmode": "overlay",
              "size": 10,
              "solidity": 0.2
             }
            },
            "type": "histogram"
           }
          ],
          "histogram2d": [
           {
            "colorbar": {
             "outlinewidth": 0,
             "ticks": ""
            },
            "colorscale": [
             [
              0,
              "#0d0887"
             ],
             [
              0.1111111111111111,
              "#46039f"
             ],
             [
              0.2222222222222222,
              "#7201a8"
             ],
             [
              0.3333333333333333,
              "#9c179e"
             ],
             [
              0.4444444444444444,
              "#bd3786"
             ],
             [
              0.5555555555555556,
              "#d8576b"
             ],
             [
              0.6666666666666666,
              "#ed7953"
             ],
             [
              0.7777777777777778,
              "#fb9f3a"
             ],
             [
              0.8888888888888888,
              "#fdca26"
             ],
             [
              1,
              "#f0f921"
             ]
            ],
            "type": "histogram2d"
           }
          ],
          "histogram2dcontour": [
           {
            "colorbar": {
             "outlinewidth": 0,
             "ticks": ""
            },
            "colorscale": [
             [
              0,
              "#0d0887"
             ],
             [
              0.1111111111111111,
              "#46039f"
             ],
             [
              0.2222222222222222,
              "#7201a8"
             ],
             [
              0.3333333333333333,
              "#9c179e"
             ],
             [
              0.4444444444444444,
              "#bd3786"
             ],
             [
              0.5555555555555556,
              "#d8576b"
             ],
             [
              0.6666666666666666,
              "#ed7953"
             ],
             [
              0.7777777777777778,
              "#fb9f3a"
             ],
             [
              0.8888888888888888,
              "#fdca26"
             ],
             [
              1,
              "#f0f921"
             ]
            ],
            "type": "histogram2dcontour"
           }
          ],
          "mesh3d": [
           {
            "colorbar": {
             "outlinewidth": 0,
             "ticks": ""
            },
            "type": "mesh3d"
           }
          ],
          "parcoords": [
           {
            "line": {
             "colorbar": {
              "outlinewidth": 0,
              "ticks": ""
             }
            },
            "type": "parcoords"
           }
          ],
          "pie": [
           {
            "automargin": true,
            "type": "pie"
           }
          ],
          "scatter": [
           {
            "fillpattern": {
             "fillmode": "overlay",
             "size": 10,
             "solidity": 0.2
            },
            "type": "scatter"
           }
          ],
          "scatter3d": [
           {
            "line": {
             "colorbar": {
              "outlinewidth": 0,
              "ticks": ""
             }
            },
            "marker": {
             "colorbar": {
              "outlinewidth": 0,
              "ticks": ""
             }
            },
            "type": "scatter3d"
           }
          ],
          "scattercarpet": [
           {
            "marker": {
             "colorbar": {
              "outlinewidth": 0,
              "ticks": ""
             }
            },
            "type": "scattercarpet"
           }
          ],
          "scattergeo": [
           {
            "marker": {
             "colorbar": {
              "outlinewidth": 0,
              "ticks": ""
             }
            },
            "type": "scattergeo"
           }
          ],
          "scattergl": [
           {
            "marker": {
             "colorbar": {
              "outlinewidth": 0,
              "ticks": ""
             }
            },
            "type": "scattergl"
           }
          ],
          "scattermapbox": [
           {
            "marker": {
             "colorbar": {
              "outlinewidth": 0,
              "ticks": ""
             }
            },
            "type": "scattermapbox"
           }
          ],
          "scatterpolar": [
           {
            "marker": {
             "colorbar": {
              "outlinewidth": 0,
              "ticks": ""
             }
            },
            "type": "scatterpolar"
           }
          ],
          "scatterpolargl": [
           {
            "marker": {
             "colorbar": {
              "outlinewidth": 0,
              "ticks": ""
             }
            },
            "type": "scatterpolargl"
           }
          ],
          "scatterternary": [
           {
            "marker": {
             "colorbar": {
              "outlinewidth": 0,
              "ticks": ""
             }
            },
            "type": "scatterternary"
           }
          ],
          "surface": [
           {
            "colorbar": {
             "outlinewidth": 0,
             "ticks": ""
            },
            "colorscale": [
             [
              0,
              "#0d0887"
             ],
             [
              0.1111111111111111,
              "#46039f"
             ],
             [
              0.2222222222222222,
              "#7201a8"
             ],
             [
              0.3333333333333333,
              "#9c179e"
             ],
             [
              0.4444444444444444,
              "#bd3786"
             ],
             [
              0.5555555555555556,
              "#d8576b"
             ],
             [
              0.6666666666666666,
              "#ed7953"
             ],
             [
              0.7777777777777778,
              "#fb9f3a"
             ],
             [
              0.8888888888888888,
              "#fdca26"
             ],
             [
              1,
              "#f0f921"
             ]
            ],
            "type": "surface"
           }
          ],
          "table": [
           {
            "cells": {
             "fill": {
              "color": "#EBF0F8"
             },
             "line": {
              "color": "white"
             }
            },
            "header": {
             "fill": {
              "color": "#C8D4E3"
             },
             "line": {
              "color": "white"
             }
            },
            "type": "table"
           }
          ]
         },
         "layout": {
          "title": {
           "font": {
            "family": "Times New Roman"
           }
          }
         }
        },
        "width": 1100,
        "xaxis": {
         "anchor": "y",
         "domain": [
          0,
          1
         ],
         "title": {
          "text": ""
         }
        },
        "yaxis": {
         "anchor": "x",
         "domain": [
          0,
          1
         ],
         "range": [
          0,
          100
         ],
         "tickfont": {
          "size": 20
         },
         "title": {
          "text": ""
         }
        }
       }
      }
     },
     "metadata": {},
     "output_type": "display_data"
    },
    {
     "name": "stdout",
     "output_type": "stream",
     "text": [
      "_________________________________________________________________________________________________________\n",
      "Qwen1.5-7B-Chat\n",
      "Number of ascii languages\n",
      "0\n",
      "Number of char languages\n",
      "5\n",
      "Number of subword languages\n",
      "132\n",
      "Mean perplexity for different tokenization strategies\n",
      "tokenizing_strategy\n",
      "chars         8.669265\n",
      "subword    2040.717252\n",
      "Name: ppl_mean, dtype: float64\n"
     ]
    },
    {
     "data": {
      "application/vnd.plotly.v1+json": {
       "config": {
        "plotlyServerURL": "https://plot.ly"
       },
       "data": [
        {
         "hovertemplate": "tokenizing_strategy=subword<br>ppl_mean=%{x}<br>answer_accuracy=%{y}<extra></extra>",
         "legendgroup": "subword",
         "marker": {
          "color": "#00cc96",
          "symbol": "circle"
         },
         "mode": "markers",
         "name": "subword",
         "orientation": "v",
         "showlegend": true,
         "type": "scatter",
         "x": [
          1291.1226039505004,
          2717.4710961723326,
          34.27358817577362,
          222.3132144331932,
          28.57108794927597,
          7442.449532623291,
          374.543873257637,
          4685.028480834961,
          407.00606588840486,
          16.059185137748717,
          26.96489379644394,
          161.21896000146864,
          3295.9033210349085,
          76.56095808982849,
          1153.358828983307,
          156.93948656201363,
          3359.7478539633753,
          2684.877691116333,
          3324.1379833221436,
          199.9716445374489,
          52.63841629743576,
          41.25107007741928,
          1094.694616804123,
          6.226055753231049,
          34.79564996361732,
          596.8308835959434,
          2684.0462596702578,
          4937.521244812012,
          66.0992331123352,
          35.69219918131828,
          4513.816884002686,
          3876.442705001831,
          682.8843032550811,
          4696.666762104034,
          547.5077282571792,
          8846.72780883789,
          4611.103368730545,
          14717.13681842804,
          989.0419434452057,
          124.8942848277092,
          525.7892060351372,
          5.871813921928406,
          396.9104685628414,
          30.651848390102387,
          10966.604084739685,
          25151.560678100584,
          87.88553010940552,
          753.448324728012,
          68.57946191310883,
          3143.7793151283263,
          259.8339623093605,
          8.515970588922501,
          6.885931085944176,
          129.80019644260406,
          8.962529563903809,
          2968.098098888397,
          399.34935317993165,
          37.04573972702026,
          34.876086196899415,
          3657.3457136535644,
          27.14523737192154,
          1801.323974852562,
          178.3662709891796,
          2722.586186695099,
          134.28237008333207,
          3342.063699836731,
          5043.96213142395,
          5422.0375860595705,
          5.395639977455139,
          9.071337202787399,
          47.36212317466736,
          19133.634784202575,
          41.49054953336716,
          681.4489409446717,
          6389.493000760079,
          4.173143508434296,
          80.94312129735947,
          467.9219446206093,
          38.425584440231326,
          6446.880423812866,
          2597.1610812950134,
          84.78765050888062,
          4684.2554161453245,
          119.74298723340034,
          55.26367314577103,
          75.35991434574127,
          4362.195382194519,
          132.49420513391496,
          35.13141978263855,
          36.06355045318603,
          12.838794605731964,
          162.73321110010147,
          209.46229546427728,
          1479.063733778,
          6637.331834526062,
          450.9269169616699,
          3758.828008117676,
          6340.010468101502,
          20.957473236322404,
          595.3558496308327,
          3578.4652205467223,
          121.6410912847519,
          511.4314705324173,
          8.276629030704498,
          1072.37238489151,
          5.14886701643467,
          2467.729304924011,
          189.43283920288087,
          158.44391154050828,
          181.7161422729492,
          3372.365906639099,
          14163.842596206665,
          566.0269904899598,
          305.27119124412536,
          23.44703069090843,
          42.95593636751175,
          41.93253437280655,
          6026.869791669846,
          313.39021679162977,
          1235.1456949996948,
          349.2183370304108,
          7414.375142803192,
          191.32841553449632,
          692.9234305286408,
          1290.3210541152955
         ],
         "xaxis": "x",
         "y": [
          0.36,
          0.035,
          0.08,
          0.27,
          0.07,
          0.035,
          0.145,
          0.04,
          0.14,
          0.14,
          0.105,
          0.33,
          0.285,
          0.365,
          0.075,
          0.315,
          0.04,
          0.325,
          0.035,
          0.355,
          0.475,
          0.1,
          0.11,
          0.135,
          0.84,
          0.135,
          0.01,
          0.03,
          0.205,
          0.515,
          0.115,
          0.025,
          0.045,
          0.06,
          0.43,
          0.035,
          0.055,
          0.03,
          0.045,
          0.3225,
          0.175,
          0.165,
          0.225,
          0.025,
          0.04,
          0.07,
          0.35,
          0.08,
          0.46,
          0.1125,
          0.54,
          0.09,
          0.06,
          0.155,
          0.065,
          0.015,
          0.045,
          0.055,
          0.375,
          0.115,
          0.05,
          0.2,
          0.165,
          0.06,
          0.15,
          0.19,
          0.03,
          0.09,
          0.12,
          0.135,
          0.25,
          0.045,
          0.045,
          0.025,
          0.025,
          0.09,
          0.47,
          0.325,
          0.115,
          0.03,
          0.03,
          0.175,
          0.035,
          0.33,
          0.525,
          0.07,
          0.03,
          0.38,
          0.39,
          0.07,
          0.03,
          0.2,
          0.27,
          0.035,
          0.04,
          0.035,
          0.04,
          0.05,
          0.57,
          0.07,
          0.16,
          0.405,
          0.03,
          0.095,
          0.025,
          0.05,
          0.03,
          0.17,
          0.19,
          0.18,
          0.025,
          0.04,
          0.165,
          0.02,
          0.255,
          0.095,
          0.075,
          0.025,
          0.32,
          0.025,
          0.025,
          0.03,
          0.7416666666666667,
          0.31,
          0.02
         ],
         "yaxis": "y"
        },
        {
         "hovertemplate": "tokenizing_strategy=chars<br>ppl_mean=%{x}<br>answer_accuracy=%{y}<extra></extra>",
         "legendgroup": "chars",
         "marker": {
          "color": "#ab63fa",
          "symbol": "circle"
         },
         "mode": "markers",
         "name": "chars",
         "orientation": "v",
         "showlegend": true,
         "type": "scatter",
         "x": [
          7.705448613166809,
          4.790893971920013,
          12.010756435394287,
          12.275813654661178,
          6.563413237333298
         ],
         "xaxis": "x",
         "y": [
          0.035,
          0.16,
          0.1,
          0.07,
          0.095
         ],
         "yaxis": "y"
        }
       ],
       "layout": {
        "font": {
         "family": "Times New Roman"
        },
        "height": 500,
        "legend": {
         "title": {
          "text": "tokenizing_strategy"
         },
         "tracegroupgap": 0
        },
        "margin": {
         "t": 60
        },
        "showlegend": false,
        "template": {
         "data": {
          "bar": [
           {
            "error_x": {
             "color": "#2a3f5f"
            },
            "error_y": {
             "color": "#2a3f5f"
            },
            "marker": {
             "line": {
              "color": "#E5ECF6",
              "width": 0.5
             },
             "pattern": {
              "fillmode": "overlay",
              "size": 10,
              "solidity": 0.2
             }
            },
            "type": "bar"
           }
          ],
          "barpolar": [
           {
            "marker": {
             "line": {
              "color": "#E5ECF6",
              "width": 0.5
             },
             "pattern": {
              "fillmode": "overlay",
              "size": 10,
              "solidity": 0.2
             }
            },
            "type": "barpolar"
           }
          ],
          "carpet": [
           {
            "aaxis": {
             "endlinecolor": "#2a3f5f",
             "gridcolor": "white",
             "linecolor": "white",
             "minorgridcolor": "white",
             "startlinecolor": "#2a3f5f"
            },
            "baxis": {
             "endlinecolor": "#2a3f5f",
             "gridcolor": "white",
             "linecolor": "white",
             "minorgridcolor": "white",
             "startlinecolor": "#2a3f5f"
            },
            "type": "carpet"
           }
          ],
          "choropleth": [
           {
            "colorbar": {
             "outlinewidth": 0,
             "ticks": ""
            },
            "type": "choropleth"
           }
          ],
          "contour": [
           {
            "colorbar": {
             "outlinewidth": 0,
             "ticks": ""
            },
            "colorscale": [
             [
              0,
              "#0d0887"
             ],
             [
              0.1111111111111111,
              "#46039f"
             ],
             [
              0.2222222222222222,
              "#7201a8"
             ],
             [
              0.3333333333333333,
              "#9c179e"
             ],
             [
              0.4444444444444444,
              "#bd3786"
             ],
             [
              0.5555555555555556,
              "#d8576b"
             ],
             [
              0.6666666666666666,
              "#ed7953"
             ],
             [
              0.7777777777777778,
              "#fb9f3a"
             ],
             [
              0.8888888888888888,
              "#fdca26"
             ],
             [
              1,
              "#f0f921"
             ]
            ],
            "type": "contour"
           }
          ],
          "contourcarpet": [
           {
            "colorbar": {
             "outlinewidth": 0,
             "ticks": ""
            },
            "type": "contourcarpet"
           }
          ],
          "heatmap": [
           {
            "colorbar": {
             "outlinewidth": 0,
             "ticks": ""
            },
            "colorscale": [
             [
              0,
              "#0d0887"
             ],
             [
              0.1111111111111111,
              "#46039f"
             ],
             [
              0.2222222222222222,
              "#7201a8"
             ],
             [
              0.3333333333333333,
              "#9c179e"
             ],
             [
              0.4444444444444444,
              "#bd3786"
             ],
             [
              0.5555555555555556,
              "#d8576b"
             ],
             [
              0.6666666666666666,
              "#ed7953"
             ],
             [
              0.7777777777777778,
              "#fb9f3a"
             ],
             [
              0.8888888888888888,
              "#fdca26"
             ],
             [
              1,
              "#f0f921"
             ]
            ],
            "type": "heatmap"
           }
          ],
          "heatmapgl": [
           {
            "colorbar": {
             "outlinewidth": 0,
             "ticks": ""
            },
            "colorscale": [
             [
              0,
              "#0d0887"
             ],
             [
              0.1111111111111111,
              "#46039f"
             ],
             [
              0.2222222222222222,
              "#7201a8"
             ],
             [
              0.3333333333333333,
              "#9c179e"
             ],
             [
              0.4444444444444444,
              "#bd3786"
             ],
             [
              0.5555555555555556,
              "#d8576b"
             ],
             [
              0.6666666666666666,
              "#ed7953"
             ],
             [
              0.7777777777777778,
              "#fb9f3a"
             ],
             [
              0.8888888888888888,
              "#fdca26"
             ],
             [
              1,
              "#f0f921"
             ]
            ],
            "type": "heatmapgl"
           }
          ],
          "histogram": [
           {
            "marker": {
             "pattern": {
              "fillmode": "overlay",
              "size": 10,
              "solidity": 0.2
             }
            },
            "type": "histogram"
           }
          ],
          "histogram2d": [
           {
            "colorbar": {
             "outlinewidth": 0,
             "ticks": ""
            },
            "colorscale": [
             [
              0,
              "#0d0887"
             ],
             [
              0.1111111111111111,
              "#46039f"
             ],
             [
              0.2222222222222222,
              "#7201a8"
             ],
             [
              0.3333333333333333,
              "#9c179e"
             ],
             [
              0.4444444444444444,
              "#bd3786"
             ],
             [
              0.5555555555555556,
              "#d8576b"
             ],
             [
              0.6666666666666666,
              "#ed7953"
             ],
             [
              0.7777777777777778,
              "#fb9f3a"
             ],
             [
              0.8888888888888888,
              "#fdca26"
             ],
             [
              1,
              "#f0f921"
             ]
            ],
            "type": "histogram2d"
           }
          ],
          "histogram2dcontour": [
           {
            "colorbar": {
             "outlinewidth": 0,
             "ticks": ""
            },
            "colorscale": [
             [
              0,
              "#0d0887"
             ],
             [
              0.1111111111111111,
              "#46039f"
             ],
             [
              0.2222222222222222,
              "#7201a8"
             ],
             [
              0.3333333333333333,
              "#9c179e"
             ],
             [
              0.4444444444444444,
              "#bd3786"
             ],
             [
              0.5555555555555556,
              "#d8576b"
             ],
             [
              0.6666666666666666,
              "#ed7953"
             ],
             [
              0.7777777777777778,
              "#fb9f3a"
             ],
             [
              0.8888888888888888,
              "#fdca26"
             ],
             [
              1,
              "#f0f921"
             ]
            ],
            "type": "histogram2dcontour"
           }
          ],
          "mesh3d": [
           {
            "colorbar": {
             "outlinewidth": 0,
             "ticks": ""
            },
            "type": "mesh3d"
           }
          ],
          "parcoords": [
           {
            "line": {
             "colorbar": {
              "outlinewidth": 0,
              "ticks": ""
             }
            },
            "type": "parcoords"
           }
          ],
          "pie": [
           {
            "automargin": true,
            "type": "pie"
           }
          ],
          "scatter": [
           {
            "fillpattern": {
             "fillmode": "overlay",
             "size": 10,
             "solidity": 0.2
            },
            "type": "scatter"
           }
          ],
          "scatter3d": [
           {
            "line": {
             "colorbar": {
              "outlinewidth": 0,
              "ticks": ""
             }
            },
            "marker": {
             "colorbar": {
              "outlinewidth": 0,
              "ticks": ""
             }
            },
            "type": "scatter3d"
           }
          ],
          "scattercarpet": [
           {
            "marker": {
             "colorbar": {
              "outlinewidth": 0,
              "ticks": ""
             }
            },
            "type": "scattercarpet"
           }
          ],
          "scattergeo": [
           {
            "marker": {
             "colorbar": {
              "outlinewidth": 0,
              "ticks": ""
             }
            },
            "type": "scattergeo"
           }
          ],
          "scattergl": [
           {
            "marker": {
             "colorbar": {
              "outlinewidth": 0,
              "ticks": ""
             }
            },
            "type": "scattergl"
           }
          ],
          "scattermapbox": [
           {
            "marker": {
             "colorbar": {
              "outlinewidth": 0,
              "ticks": ""
             }
            },
            "type": "scattermapbox"
           }
          ],
          "scatterpolar": [
           {
            "marker": {
             "colorbar": {
              "outlinewidth": 0,
              "ticks": ""
             }
            },
            "type": "scatterpolar"
           }
          ],
          "scatterpolargl": [
           {
            "marker": {
             "colorbar": {
              "outlinewidth": 0,
              "ticks": ""
             }
            },
            "type": "scatterpolargl"
           }
          ],
          "scatterternary": [
           {
            "marker": {
             "colorbar": {
              "outlinewidth": 0,
              "ticks": ""
             }
            },
            "type": "scatterternary"
           }
          ],
          "surface": [
           {
            "colorbar": {
             "outlinewidth": 0,
             "ticks": ""
            },
            "colorscale": [
             [
              0,
              "#0d0887"
             ],
             [
              0.1111111111111111,
              "#46039f"
             ],
             [
              0.2222222222222222,
              "#7201a8"
             ],
             [
              0.3333333333333333,
              "#9c179e"
             ],
             [
              0.4444444444444444,
              "#bd3786"
             ],
             [
              0.5555555555555556,
              "#d8576b"
             ],
             [
              0.6666666666666666,
              "#ed7953"
             ],
             [
              0.7777777777777778,
              "#fb9f3a"
             ],
             [
              0.8888888888888888,
              "#fdca26"
             ],
             [
              1,
              "#f0f921"
             ]
            ],
            "type": "surface"
           }
          ],
          "table": [
           {
            "cells": {
             "fill": {
              "color": "#EBF0F8"
             },
             "line": {
              "color": "white"
             }
            },
            "header": {
             "fill": {
              "color": "#C8D4E3"
             },
             "line": {
              "color": "white"
             }
            },
            "type": "table"
           }
          ]
         },
         "layout": {
          "title": {
           "font": {
            "family": "Times New Roman"
           }
          }
         }
        },
        "title": {
         "text": "Qwen1.5-7B-Chat"
        },
        "width": 500,
        "xaxis": {
         "anchor": "y",
         "domain": [
          0,
          1
         ],
         "title": {
          "text": "Mean Perplexity"
         },
         "type": "log"
        },
        "yaxis": {
         "anchor": "x",
         "domain": [
          0,
          1
         ],
         "title": {
          "text": "Accuracy in % of correctly answered prompts"
         }
        }
       }
      }
     },
     "metadata": {},
     "output_type": "display_data"
    },
    {
     "name": "stdout",
     "output_type": "stream",
     "text": [
      "Answer Accuracy\n"
     ]
    },
    {
     "data": {
      "application/vnd.plotly.v1+json": {
       "config": {
        "plotlyServerURL": "https://plot.ly"
       },
       "data": [
        {
         "hovertemplate": "tokenizing_strategy=subword<br>language=%{x}<br>acc=%{y}<extra></extra>",
         "legendgroup": "subword",
         "marker": {
          "color": "#00cc96",
          "symbol": "circle"
         },
         "mode": "markers",
         "name": "subword",
         "orientation": "v",
         "showlegend": true,
         "type": "scatter",
         "x": [
          "en",
          "zh-CN",
          "zh",
          "zh-TW",
          "es",
          "ja",
          "pt",
          "fr",
          "de",
          "nl",
          "it",
          "gl",
          "sv",
          "ru",
          "ro",
          "ko",
          "ca",
          "af",
          "da",
          "id",
          "hr",
          "bs",
          "pl",
          "co",
          "no",
          "vi",
          "cs",
          "ms",
          "sr",
          "bg",
          "ar",
          "sl",
          "uk",
          "mk",
          "hu",
          "fi",
          "la",
          "sk",
          "lb",
          "th",
          "iw",
          "ti",
          "fa",
          "fil",
          "he",
          "tl",
          "hi",
          "lv",
          "tr",
          "su",
          "kk",
          "lt",
          "az",
          "be",
          "bn",
          "el",
          "eo",
          "mr",
          "jv",
          "ml",
          "fy",
          "kri",
          "ne",
          "et",
          "bho",
          "jw",
          "doi",
          "mai",
          "ta",
          "kn",
          "lus",
          "my",
          "am",
          "is",
          "ceb",
          "ur",
          "as",
          "ilo",
          "ps",
          "sa",
          "sq",
          "km",
          "ga",
          "ka",
          "ln",
          "gom",
          "ht",
          "lo",
          "st",
          "te",
          "ckb",
          "gd",
          "haw",
          "ky",
          "mn",
          "mt",
          "bm",
          "ig",
          "sn",
          "so",
          "tk",
          "ak",
          "ay",
          "cy",
          "gn",
          "ku",
          "mg",
          "sd",
          "sm",
          "ee",
          "ha",
          "lg",
          "nso",
          "ny",
          "qu",
          "si",
          "sw",
          "tg",
          "yo",
          "hmn",
          "hy",
          "mi",
          "om",
          "ts",
          "tt",
          "uz",
          "xh",
          "yi",
          "ug",
          "zu",
          "rw",
          "eu"
         ],
         "xaxis": "x",
         "y": [
          84,
          75.5,
          73.5,
          73.5,
          56.99999999999999,
          54,
          52.5,
          51.5,
          47.5,
          47,
          46,
          43,
          40.5,
          39,
          38,
          37.5,
          36.5,
          36,
          35.5,
          35,
          33.5,
          33,
          33,
          32.5,
          32.5,
          32,
          31.5,
          31,
          31,
          28.499999999999996,
          27,
          27,
          25.5,
          25,
          22.5,
          20.5,
          20,
          20,
          19,
          19,
          18,
          18,
          17.5,
          17,
          17,
          17,
          16.5,
          16.5,
          16.5,
          16,
          15.5,
          15,
          14.499999999999998,
          14.000000000000002,
          14.000000000000002,
          13.5,
          13.5,
          13.5,
          12,
          12,
          11.5,
          11.5,
          11.5,
          11,
          10.5,
          10.5,
          10,
          9.5,
          9.5,
          9,
          9,
          9,
          8,
          8,
          7.5,
          7.5,
          7.000000000000001,
          7.000000000000001,
          7.000000000000001,
          7.000000000000001,
          7.000000000000001,
          6.5,
          6,
          6,
          6,
          5.5,
          5.5,
          5,
          5,
          5,
          4.5,
          4.5,
          4.5,
          4.5,
          4.5,
          4.5,
          4,
          4,
          4,
          4,
          4,
          3.5000000000000004,
          3.5000000000000004,
          3.5000000000000004,
          3.5000000000000004,
          3.5000000000000004,
          3.5000000000000004,
          3.5000000000000004,
          3.5000000000000004,
          3,
          3,
          3,
          3,
          3,
          3,
          3,
          3,
          3,
          3,
          2.5,
          2.5,
          2.5,
          2.5,
          2.5,
          2.5,
          2.5,
          2.5,
          2.5,
          2,
          2,
          1.5,
          1
         ],
         "yaxis": "y"
        },
        {
         "hovertemplate": "tokenizing_strategy=chars<br>language=%{x}<br>acc=%{y}<extra></extra>",
         "legendgroup": "chars",
         "marker": {
          "color": "#ab63fa",
          "symbol": "circle"
         },
         "mode": "markers",
         "name": "chars",
         "orientation": "v",
         "showlegend": true,
         "type": "scatter",
         "x": [
          "gu",
          "mni-Mtei",
          "pa",
          "or",
          "dv"
         ],
         "xaxis": "x",
         "y": [
          16,
          10,
          9.5,
          7.000000000000001,
          3.5000000000000004
         ],
         "yaxis": "y"
        }
       ],
       "layout": {
        "font": {
         "family": "Times New Roman"
        },
        "height": 400,
        "legend": {
         "font": {
          "size": 20
         },
         "title": {
          "text": "Tokenization Strategy"
         },
         "tracegroupgap": 0,
         "x": 1,
         "xanchor": "right",
         "y": 1,
         "yanchor": "top"
        },
        "margin": {
         "b": 70,
         "l": 30,
         "r": 0,
         "t": 20
        },
        "template": {
         "data": {
          "bar": [
           {
            "error_x": {
             "color": "#2a3f5f"
            },
            "error_y": {
             "color": "#2a3f5f"
            },
            "marker": {
             "line": {
              "color": "#E5ECF6",
              "width": 0.5
             },
             "pattern": {
              "fillmode": "overlay",
              "size": 10,
              "solidity": 0.2
             }
            },
            "type": "bar"
           }
          ],
          "barpolar": [
           {
            "marker": {
             "line": {
              "color": "#E5ECF6",
              "width": 0.5
             },
             "pattern": {
              "fillmode": "overlay",
              "size": 10,
              "solidity": 0.2
             }
            },
            "type": "barpolar"
           }
          ],
          "carpet": [
           {
            "aaxis": {
             "endlinecolor": "#2a3f5f",
             "gridcolor": "white",
             "linecolor": "white",
             "minorgridcolor": "white",
             "startlinecolor": "#2a3f5f"
            },
            "baxis": {
             "endlinecolor": "#2a3f5f",
             "gridcolor": "white",
             "linecolor": "white",
             "minorgridcolor": "white",
             "startlinecolor": "#2a3f5f"
            },
            "type": "carpet"
           }
          ],
          "choropleth": [
           {
            "colorbar": {
             "outlinewidth": 0,
             "ticks": ""
            },
            "type": "choropleth"
           }
          ],
          "contour": [
           {
            "colorbar": {
             "outlinewidth": 0,
             "ticks": ""
            },
            "colorscale": [
             [
              0,
              "#0d0887"
             ],
             [
              0.1111111111111111,
              "#46039f"
             ],
             [
              0.2222222222222222,
              "#7201a8"
             ],
             [
              0.3333333333333333,
              "#9c179e"
             ],
             [
              0.4444444444444444,
              "#bd3786"
             ],
             [
              0.5555555555555556,
              "#d8576b"
             ],
             [
              0.6666666666666666,
              "#ed7953"
             ],
             [
              0.7777777777777778,
              "#fb9f3a"
             ],
             [
              0.8888888888888888,
              "#fdca26"
             ],
             [
              1,
              "#f0f921"
             ]
            ],
            "type": "contour"
           }
          ],
          "contourcarpet": [
           {
            "colorbar": {
             "outlinewidth": 0,
             "ticks": ""
            },
            "type": "contourcarpet"
           }
          ],
          "heatmap": [
           {
            "colorbar": {
             "outlinewidth": 0,
             "ticks": ""
            },
            "colorscale": [
             [
              0,
              "#0d0887"
             ],
             [
              0.1111111111111111,
              "#46039f"
             ],
             [
              0.2222222222222222,
              "#7201a8"
             ],
             [
              0.3333333333333333,
              "#9c179e"
             ],
             [
              0.4444444444444444,
              "#bd3786"
             ],
             [
              0.5555555555555556,
              "#d8576b"
             ],
             [
              0.6666666666666666,
              "#ed7953"
             ],
             [
              0.7777777777777778,
              "#fb9f3a"
             ],
             [
              0.8888888888888888,
              "#fdca26"
             ],
             [
              1,
              "#f0f921"
             ]
            ],
            "type": "heatmap"
           }
          ],
          "heatmapgl": [
           {
            "colorbar": {
             "outlinewidth": 0,
             "ticks": ""
            },
            "colorscale": [
             [
              0,
              "#0d0887"
             ],
             [
              0.1111111111111111,
              "#46039f"
             ],
             [
              0.2222222222222222,
              "#7201a8"
             ],
             [
              0.3333333333333333,
              "#9c179e"
             ],
             [
              0.4444444444444444,
              "#bd3786"
             ],
             [
              0.5555555555555556,
              "#d8576b"
             ],
             [
              0.6666666666666666,
              "#ed7953"
             ],
             [
              0.7777777777777778,
              "#fb9f3a"
             ],
             [
              0.8888888888888888,
              "#fdca26"
             ],
             [
              1,
              "#f0f921"
             ]
            ],
            "type": "heatmapgl"
           }
          ],
          "histogram": [
           {
            "marker": {
             "pattern": {
              "fillmode": "overlay",
              "size": 10,
              "solidity": 0.2
             }
            },
            "type": "histogram"
           }
          ],
          "histogram2d": [
           {
            "colorbar": {
             "outlinewidth": 0,
             "ticks": ""
            },
            "colorscale": [
             [
              0,
              "#0d0887"
             ],
             [
              0.1111111111111111,
              "#46039f"
             ],
             [
              0.2222222222222222,
              "#7201a8"
             ],
             [
              0.3333333333333333,
              "#9c179e"
             ],
             [
              0.4444444444444444,
              "#bd3786"
             ],
             [
              0.5555555555555556,
              "#d8576b"
             ],
             [
              0.6666666666666666,
              "#ed7953"
             ],
             [
              0.7777777777777778,
              "#fb9f3a"
             ],
             [
              0.8888888888888888,
              "#fdca26"
             ],
             [
              1,
              "#f0f921"
             ]
            ],
            "type": "histogram2d"
           }
          ],
          "histogram2dcontour": [
           {
            "colorbar": {
             "outlinewidth": 0,
             "ticks": ""
            },
            "colorscale": [
             [
              0,
              "#0d0887"
             ],
             [
              0.1111111111111111,
              "#46039f"
             ],
             [
              0.2222222222222222,
              "#7201a8"
             ],
             [
              0.3333333333333333,
              "#9c179e"
             ],
             [
              0.4444444444444444,
              "#bd3786"
             ],
             [
              0.5555555555555556,
              "#d8576b"
             ],
             [
              0.6666666666666666,
              "#ed7953"
             ],
             [
              0.7777777777777778,
              "#fb9f3a"
             ],
             [
              0.8888888888888888,
              "#fdca26"
             ],
             [
              1,
              "#f0f921"
             ]
            ],
            "type": "histogram2dcontour"
           }
          ],
          "mesh3d": [
           {
            "colorbar": {
             "outlinewidth": 0,
             "ticks": ""
            },
            "type": "mesh3d"
           }
          ],
          "parcoords": [
           {
            "line": {
             "colorbar": {
              "outlinewidth": 0,
              "ticks": ""
             }
            },
            "type": "parcoords"
           }
          ],
          "pie": [
           {
            "automargin": true,
            "type": "pie"
           }
          ],
          "scatter": [
           {
            "fillpattern": {
             "fillmode": "overlay",
             "size": 10,
             "solidity": 0.2
            },
            "type": "scatter"
           }
          ],
          "scatter3d": [
           {
            "line": {
             "colorbar": {
              "outlinewidth": 0,
              "ticks": ""
             }
            },
            "marker": {
             "colorbar": {
              "outlinewidth": 0,
              "ticks": ""
             }
            },
            "type": "scatter3d"
           }
          ],
          "scattercarpet": [
           {
            "marker": {
             "colorbar": {
              "outlinewidth": 0,
              "ticks": ""
             }
            },
            "type": "scattercarpet"
           }
          ],
          "scattergeo": [
           {
            "marker": {
             "colorbar": {
              "outlinewidth": 0,
              "ticks": ""
             }
            },
            "type": "scattergeo"
           }
          ],
          "scattergl": [
           {
            "marker": {
             "colorbar": {
              "outlinewidth": 0,
              "ticks": ""
             }
            },
            "type": "scattergl"
           }
          ],
          "scattermapbox": [
           {
            "marker": {
             "colorbar": {
              "outlinewidth": 0,
              "ticks": ""
             }
            },
            "type": "scattermapbox"
           }
          ],
          "scatterpolar": [
           {
            "marker": {
             "colorbar": {
              "outlinewidth": 0,
              "ticks": ""
             }
            },
            "type": "scatterpolar"
           }
          ],
          "scatterpolargl": [
           {
            "marker": {
             "colorbar": {
              "outlinewidth": 0,
              "ticks": ""
             }
            },
            "type": "scatterpolargl"
           }
          ],
          "scatterternary": [
           {
            "marker": {
             "colorbar": {
              "outlinewidth": 0,
              "ticks": ""
             }
            },
            "type": "scatterternary"
           }
          ],
          "surface": [
           {
            "colorbar": {
             "outlinewidth": 0,
             "ticks": ""
            },
            "colorscale": [
             [
              0,
              "#0d0887"
             ],
             [
              0.1111111111111111,
              "#46039f"
             ],
             [
              0.2222222222222222,
              "#7201a8"
             ],
             [
              0.3333333333333333,
              "#9c179e"
             ],
             [
              0.4444444444444444,
              "#bd3786"
             ],
             [
              0.5555555555555556,
              "#d8576b"
             ],
             [
              0.6666666666666666,
              "#ed7953"
             ],
             [
              0.7777777777777778,
              "#fb9f3a"
             ],
             [
              0.8888888888888888,
              "#fdca26"
             ],
             [
              1,
              "#f0f921"
             ]
            ],
            "type": "surface"
           }
          ],
          "table": [
           {
            "cells": {
             "fill": {
              "color": "#EBF0F8"
             },
             "line": {
              "color": "white"
             }
            },
            "header": {
             "fill": {
              "color": "#C8D4E3"
             },
             "line": {
              "color": "white"
             }
            },
            "type": "table"
           }
          ]
         },
         "layout": {
          "title": {
           "font": {
            "family": "Times New Roman"
           }
          }
         }
        },
        "width": 1100,
        "xaxis": {
         "anchor": "y",
         "domain": [
          0,
          1
         ],
         "title": {
          "text": ""
         }
        },
        "yaxis": {
         "anchor": "x",
         "domain": [
          0,
          1
         ],
         "range": [
          0,
          100
         ],
         "tickfont": {
          "size": 20
         },
         "title": {
          "text": ""
         }
        }
       }
      }
     },
     "metadata": {},
     "output_type": "display_data"
    },
    {
     "name": "stdout",
     "output_type": "stream",
     "text": [
      "tokenizing_strategy\n",
      "chars      0.499000\n",
      "subword    0.504394\n",
      "Name: correct_language, dtype: float64\n",
      "tokenizing_strategy  eval_completion\n",
      "chars                incorrect          0.90800\n",
      "                     correct            0.09200\n",
      "subword              incorrect          0.83125\n",
      "                     correct            0.16875\n",
      "Name: eval_completion, dtype: float64\n",
      "Linguistic Fidelity\n"
     ]
    },
    {
     "data": {
      "application/vnd.plotly.v1+json": {
       "config": {
        "plotlyServerURL": "https://plot.ly"
       },
       "data": [
        {
         "hovertemplate": "tokenizing_strategy=subword<br>language=%{x}<br>acc=%{y}<extra></extra>",
         "legendgroup": "subword",
         "marker": {
          "color": "#00cc96",
          "symbol": "circle"
         },
         "mode": "markers",
         "name": "subword",
         "orientation": "v",
         "showlegend": true,
         "type": "scatter",
         "x": [
          "fr",
          "en",
          "id",
          "zh",
          "zh-CN",
          "zh-TW",
          "es",
          "fil",
          "lt",
          "tl",
          "lv",
          "ro",
          "uk",
          "cs",
          "de",
          "et",
          "hu",
          "pt",
          "ru",
          "fi",
          "ka",
          "pl",
          "sv",
          "ca",
          "km",
          "ar",
          "it",
          "te",
          "tr",
          "hr",
          "sq",
          "bs",
          "cy",
          "sw",
          "ja",
          "my",
          "bg",
          "nl",
          "ko",
          "vi",
          "mn",
          "ur",
          "hi",
          "el",
          "da",
          "hy",
          "mr",
          "bn",
          "si",
          "iw",
          "fa",
          "eo",
          "kk",
          "he",
          "sl",
          "th",
          "ml",
          "kn",
          "am",
          "no",
          "sr",
          "ta",
          "ig",
          "eu",
          "is",
          "lo",
          "ga",
          "sk",
          "mg",
          "xh",
          "mi",
          "mt",
          "gd",
          "so",
          "ug",
          "yo",
          "uz",
          "ak",
          "mk",
          "af",
          "haw",
          "ht",
          "az",
          "ee",
          "zu",
          "be",
          "hmn",
          "ps",
          "sm",
          "st",
          "nso",
          "ti",
          "la",
          "ms",
          "bm",
          "gl",
          "ts",
          "ckb",
          "ha",
          "om",
          "sn",
          "ku",
          "tk",
          "kri",
          "ln",
          "rw",
          "sa",
          "ay",
          "bho",
          "ceb",
          "gn",
          "sd",
          "su",
          "tg",
          "as",
          "jv",
          "ky",
          "lg",
          "lus",
          "ne",
          "qu",
          "yi",
          "co",
          "doi",
          "fy",
          "gom",
          "ilo",
          "jw",
          "lb",
          "mai",
          "ny",
          "tt"
         ],
         "xaxis": "x",
         "y": [
          98.5,
          97,
          97,
          97,
          97,
          97,
          96.5,
          96.5,
          96,
          96,
          95.5,
          95.5,
          95.5,
          95,
          95,
          95,
          95,
          94.5,
          94.5,
          94,
          93.5,
          93.5,
          93.5,
          93,
          93,
          92,
          92,
          92,
          92,
          91.5,
          91.5,
          91,
          91,
          91,
          90.5,
          90.5,
          90,
          89,
          88.5,
          88,
          87.5,
          87.5,
          87,
          86.5,
          85.5,
          83.5,
          83.5,
          83,
          82.5,
          82,
          81.5,
          81,
          80.5,
          79,
          77,
          77,
          75.5,
          75,
          74,
          73,
          70.5,
          70.5,
          68,
          66.5,
          66.5,
          65.5,
          61.5,
          60,
          59.5,
          57.49999999999999,
          56.00000000000001,
          47,
          46.5,
          46,
          43,
          43,
          41,
          35,
          34,
          28.499999999999996,
          23.5,
          22,
          19.5,
          14.000000000000002,
          14.000000000000002,
          12.5,
          12.5,
          12,
          11.5,
          10.5,
          8.5,
          7.5,
          6,
          5,
          4.5,
          4,
          4,
          3.5000000000000004,
          3.5000000000000004,
          3,
          2.5,
          2,
          2,
          1.5,
          1.5,
          1.5,
          1.5,
          1,
          1,
          1,
          1,
          1,
          1,
          1,
          0.5,
          0.5,
          0.5,
          0.5,
          0.5,
          0.5,
          0.5,
          0.5,
          0,
          0,
          0,
          0,
          0,
          0,
          0,
          0,
          0,
          0
         ],
         "yaxis": "y"
        },
        {
         "hovertemplate": "tokenizing_strategy=chars<br>language=%{x}<br>acc=%{y}<extra></extra>",
         "legendgroup": "chars",
         "marker": {
          "color": "#ab63fa",
          "symbol": "circle"
         },
         "mode": "markers",
         "name": "chars",
         "orientation": "v",
         "showlegend": true,
         "type": "scatter",
         "x": [
          "pa",
          "gu",
          "dv",
          "or",
          "mni-Mtei"
         ],
         "xaxis": "x",
         "y": [
          85,
          76,
          59,
          29.5,
          0
         ],
         "yaxis": "y"
        }
       ],
       "layout": {
        "font": {
         "family": "Times New Roman"
        },
        "height": 400,
        "legend": {
         "font": {
          "size": 20
         },
         "title": {
          "text": "Tokenization Strategy"
         },
         "tracegroupgap": 0,
         "x": 1,
         "xanchor": "right",
         "y": 1,
         "yanchor": "top"
        },
        "margin": {
         "b": 70,
         "l": 30,
         "r": 0,
         "t": 20
        },
        "template": {
         "data": {
          "bar": [
           {
            "error_x": {
             "color": "#2a3f5f"
            },
            "error_y": {
             "color": "#2a3f5f"
            },
            "marker": {
             "line": {
              "color": "#E5ECF6",
              "width": 0.5
             },
             "pattern": {
              "fillmode": "overlay",
              "size": 10,
              "solidity": 0.2
             }
            },
            "type": "bar"
           }
          ],
          "barpolar": [
           {
            "marker": {
             "line": {
              "color": "#E5ECF6",
              "width": 0.5
             },
             "pattern": {
              "fillmode": "overlay",
              "size": 10,
              "solidity": 0.2
             }
            },
            "type": "barpolar"
           }
          ],
          "carpet": [
           {
            "aaxis": {
             "endlinecolor": "#2a3f5f",
             "gridcolor": "white",
             "linecolor": "white",
             "minorgridcolor": "white",
             "startlinecolor": "#2a3f5f"
            },
            "baxis": {
             "endlinecolor": "#2a3f5f",
             "gridcolor": "white",
             "linecolor": "white",
             "minorgridcolor": "white",
             "startlinecolor": "#2a3f5f"
            },
            "type": "carpet"
           }
          ],
          "choropleth": [
           {
            "colorbar": {
             "outlinewidth": 0,
             "ticks": ""
            },
            "type": "choropleth"
           }
          ],
          "contour": [
           {
            "colorbar": {
             "outlinewidth": 0,
             "ticks": ""
            },
            "colorscale": [
             [
              0,
              "#0d0887"
             ],
             [
              0.1111111111111111,
              "#46039f"
             ],
             [
              0.2222222222222222,
              "#7201a8"
             ],
             [
              0.3333333333333333,
              "#9c179e"
             ],
             [
              0.4444444444444444,
              "#bd3786"
             ],
             [
              0.5555555555555556,
              "#d8576b"
             ],
             [
              0.6666666666666666,
              "#ed7953"
             ],
             [
              0.7777777777777778,
              "#fb9f3a"
             ],
             [
              0.8888888888888888,
              "#fdca26"
             ],
             [
              1,
              "#f0f921"
             ]
            ],
            "type": "contour"
           }
          ],
          "contourcarpet": [
           {
            "colorbar": {
             "outlinewidth": 0,
             "ticks": ""
            },
            "type": "contourcarpet"
           }
          ],
          "heatmap": [
           {
            "colorbar": {
             "outlinewidth": 0,
             "ticks": ""
            },
            "colorscale": [
             [
              0,
              "#0d0887"
             ],
             [
              0.1111111111111111,
              "#46039f"
             ],
             [
              0.2222222222222222,
              "#7201a8"
             ],
             [
              0.3333333333333333,
              "#9c179e"
             ],
             [
              0.4444444444444444,
              "#bd3786"
             ],
             [
              0.5555555555555556,
              "#d8576b"
             ],
             [
              0.6666666666666666,
              "#ed7953"
             ],
             [
              0.7777777777777778,
              "#fb9f3a"
             ],
             [
              0.8888888888888888,
              "#fdca26"
             ],
             [
              1,
              "#f0f921"
             ]
            ],
            "type": "heatmap"
           }
          ],
          "heatmapgl": [
           {
            "colorbar": {
             "outlinewidth": 0,
             "ticks": ""
            },
            "colorscale": [
             [
              0,
              "#0d0887"
             ],
             [
              0.1111111111111111,
              "#46039f"
             ],
             [
              0.2222222222222222,
              "#7201a8"
             ],
             [
              0.3333333333333333,
              "#9c179e"
             ],
             [
              0.4444444444444444,
              "#bd3786"
             ],
             [
              0.5555555555555556,
              "#d8576b"
             ],
             [
              0.6666666666666666,
              "#ed7953"
             ],
             [
              0.7777777777777778,
              "#fb9f3a"
             ],
             [
              0.8888888888888888,
              "#fdca26"
             ],
             [
              1,
              "#f0f921"
             ]
            ],
            "type": "heatmapgl"
           }
          ],
          "histogram": [
           {
            "marker": {
             "pattern": {
              "fillmode": "overlay",
              "size": 10,
              "solidity": 0.2
             }
            },
            "type": "histogram"
           }
          ],
          "histogram2d": [
           {
            "colorbar": {
             "outlinewidth": 0,
             "ticks": ""
            },
            "colorscale": [
             [
              0,
              "#0d0887"
             ],
             [
              0.1111111111111111,
              "#46039f"
             ],
             [
              0.2222222222222222,
              "#7201a8"
             ],
             [
              0.3333333333333333,
              "#9c179e"
             ],
             [
              0.4444444444444444,
              "#bd3786"
             ],
             [
              0.5555555555555556,
              "#d8576b"
             ],
             [
              0.6666666666666666,
              "#ed7953"
             ],
             [
              0.7777777777777778,
              "#fb9f3a"
             ],
             [
              0.8888888888888888,
              "#fdca26"
             ],
             [
              1,
              "#f0f921"
             ]
            ],
            "type": "histogram2d"
           }
          ],
          "histogram2dcontour": [
           {
            "colorbar": {
             "outlinewidth": 0,
             "ticks": ""
            },
            "colorscale": [
             [
              0,
              "#0d0887"
             ],
             [
              0.1111111111111111,
              "#46039f"
             ],
             [
              0.2222222222222222,
              "#7201a8"
             ],
             [
              0.3333333333333333,
              "#9c179e"
             ],
             [
              0.4444444444444444,
              "#bd3786"
             ],
             [
              0.5555555555555556,
              "#d8576b"
             ],
             [
              0.6666666666666666,
              "#ed7953"
             ],
             [
              0.7777777777777778,
              "#fb9f3a"
             ],
             [
              0.8888888888888888,
              "#fdca26"
             ],
             [
              1,
              "#f0f921"
             ]
            ],
            "type": "histogram2dcontour"
           }
          ],
          "mesh3d": [
           {
            "colorbar": {
             "outlinewidth": 0,
             "ticks": ""
            },
            "type": "mesh3d"
           }
          ],
          "parcoords": [
           {
            "line": {
             "colorbar": {
              "outlinewidth": 0,
              "ticks": ""
             }
            },
            "type": "parcoords"
           }
          ],
          "pie": [
           {
            "automargin": true,
            "type": "pie"
           }
          ],
          "scatter": [
           {
            "fillpattern": {
             "fillmode": "overlay",
             "size": 10,
             "solidity": 0.2
            },
            "type": "scatter"
           }
          ],
          "scatter3d": [
           {
            "line": {
             "colorbar": {
              "outlinewidth": 0,
              "ticks": ""
             }
            },
            "marker": {
             "colorbar": {
              "outlinewidth": 0,
              "ticks": ""
             }
            },
            "type": "scatter3d"
           }
          ],
          "scattercarpet": [
           {
            "marker": {
             "colorbar": {
              "outlinewidth": 0,
              "ticks": ""
             }
            },
            "type": "scattercarpet"
           }
          ],
          "scattergeo": [
           {
            "marker": {
             "colorbar": {
              "outlinewidth": 0,
              "ticks": ""
             }
            },
            "type": "scattergeo"
           }
          ],
          "scattergl": [
           {
            "marker": {
             "colorbar": {
              "outlinewidth": 0,
              "ticks": ""
             }
            },
            "type": "scattergl"
           }
          ],
          "scattermapbox": [
           {
            "marker": {
             "colorbar": {
              "outlinewidth": 0,
              "ticks": ""
             }
            },
            "type": "scattermapbox"
           }
          ],
          "scatterpolar": [
           {
            "marker": {
             "colorbar": {
              "outlinewidth": 0,
              "ticks": ""
             }
            },
            "type": "scatterpolar"
           }
          ],
          "scatterpolargl": [
           {
            "marker": {
             "colorbar": {
              "outlinewidth": 0,
              "ticks": ""
             }
            },
            "type": "scatterpolargl"
           }
          ],
          "scatterternary": [
           {
            "marker": {
             "colorbar": {
              "outlinewidth": 0,
              "ticks": ""
             }
            },
            "type": "scatterternary"
           }
          ],
          "surface": [
           {
            "colorbar": {
             "outlinewidth": 0,
             "ticks": ""
            },
            "colorscale": [
             [
              0,
              "#0d0887"
             ],
             [
              0.1111111111111111,
              "#46039f"
             ],
             [
              0.2222222222222222,
              "#7201a8"
             ],
             [
              0.3333333333333333,
              "#9c179e"
             ],
             [
              0.4444444444444444,
              "#bd3786"
             ],
             [
              0.5555555555555556,
              "#d8576b"
             ],
             [
              0.6666666666666666,
              "#ed7953"
             ],
             [
              0.7777777777777778,
              "#fb9f3a"
             ],
             [
              0.8888888888888888,
              "#fdca26"
             ],
             [
              1,
              "#f0f921"
             ]
            ],
            "type": "surface"
           }
          ],
          "table": [
           {
            "cells": {
             "fill": {
              "color": "#EBF0F8"
             },
             "line": {
              "color": "white"
             }
            },
            "header": {
             "fill": {
              "color": "#C8D4E3"
             },
             "line": {
              "color": "white"
             }
            },
            "type": "table"
           }
          ]
         },
         "layout": {
          "title": {
           "font": {
            "family": "Times New Roman"
           }
          }
         }
        },
        "width": 1100,
        "xaxis": {
         "anchor": "y",
         "domain": [
          0,
          1
         ],
         "title": {
          "text": ""
         }
        },
        "yaxis": {
         "anchor": "x",
         "domain": [
          0,
          1
         ],
         "range": [
          0,
          100
         ],
         "tickfont": {
          "size": 20
         },
         "title": {
          "text": ""
         }
        }
       }
      }
     },
     "metadata": {},
     "output_type": "display_data"
    },
    {
     "name": "stdout",
     "output_type": "stream",
     "text": [
      "_________________________________________________________________________________________________________\n",
      "Mistral-7B-Instruct-v0.1\n",
      "Number of ascii languages\n",
      "9\n",
      "Number of char languages\n",
      "37\n",
      "Number of subword languages\n",
      "91\n",
      "Mean perplexity for different tokenization strategies\n",
      "tokenizing_strategy\n",
      "ascii        14.525092\n",
      "chars       273.771808\n",
      "subword    1768.218287\n",
      "Name: ppl_mean, dtype: float64\n"
     ]
    },
    {
     "data": {
      "application/vnd.plotly.v1+json": {
       "config": {
        "plotlyServerURL": "https://plot.ly"
       },
       "data": [
        {
         "hovertemplate": "tokenizing_strategy=subword<br>ppl_mean=%{x}<br>answer_accuracy=%{y}<extra></extra>",
         "legendgroup": "subword",
         "marker": {
          "color": "#00cc96",
          "symbol": "circle"
         },
         "mode": "markers",
         "name": "subword",
         "orientation": "v",
         "showlegend": true,
         "type": "scatter",
         "x": [
          968.1926662921906,
          2042.9260876846313,
          2276.5542850494385,
          1898.7953912734986,
          1843.0395010375976,
          1243.3709590148926,
          666.9550589895248,
          488.0578940224648,
          1163.8963840866088,
          1002.6730763149261,
          1406.2686419820786,
          1026.098519935608,
          1628.020064277649,
          360.17408018112184,
          1214.6374000167846,
          2672.0971688842774,
          117.26532154798508,
          1996.7250625801087,
          4041.9002556610108,
          1859.0373430633545,
          2492.8631253147123,
          146.9056429862976,
          2306.6332878685,
          1746.5368754196168,
          1365.3290335273743,
          5013.001796875,
          1284.7155423545837,
          2825.186002807617,
          4833.034895858765,
          4876.099713516235,
          397.88195286750795,
          1813.715298719406,
          588.3794647979736,
          1257.8980141448974,
          2004.6072334289552,
          214.90485144138336,
          474.22912684440615,
          317.3235853385925,
          1293.0087142944335,
          2381.568350582123,
          1455.6706118392945,
          11250.073827896118,
          1148.1379587173462,
          728.0894215774537,
          1450.963724708557,
          2148.092778635025,
          9820.123722801209,
          1802.3002321243287,
          2411.768627471924,
          1262.9121194076538,
          1379.6658771896361,
          312.34262331962583,
          1633.5822677612305,
          306.0013713169098,
          528.9392101049423,
          4428.194246826172,
          1530.3912042999268,
          2974.179316482544,
          279.60537029266357,
          194.66478923797607,
          2201.1394681167603,
          1080.069910926819,
          170.19838073253632,
          12.731917297840118,
          1015.3758867931366,
          773.1289355230332,
          1055.2340663146972,
          1512.5023441314697,
          1707.461116104126,
          3926.159341697693,
          83.76707849979401,
          550.406777086258,
          3531.1638277435304,
          625.2322789955139,
          907.6203826904297,
          10.058476896286011,
          6962.670080337524,
          505.6835535526276,
          1256.880534553528,
          4797.094414520264,
          370.40024844646456,
          236.46258821487427,
          2935.4753043937685,
          82.86111369848251,
          1479.558409461975,
          1950.7317607879638,
          216.31187661647797,
          1478.9636644363404
         ],
         "xaxis": "x",
         "y": [
          0.4,
          0.02,
          0.045,
          0.025,
          0.19,
          0.46,
          0.525,
          0.455,
          0.18,
          0.455,
          0.02,
          0.38,
          0.025,
          0.58,
          0.665,
          0.065,
          0.845,
          0.15,
          0.015,
          0.015,
          0.14,
          0.68,
          0.175,
          0.025,
          0.03,
          0.01,
          0.45,
          0.04,
          0.04,
          0.03,
          0.03,
          0.415,
          0.365,
          0.015,
          0.055,
          0.315,
          0.135,
          0.64,
          0.0875,
          0.025,
          0.02,
          0.02,
          0.095,
          0.235,
          0.06,
          0.075,
          0.165,
          0.02,
          0.115,
          0.345,
          0.05,
          0.025,
          0.045,
          0.58,
          0.56,
          0.04,
          0.015,
          0.025,
          0.57,
          0.615,
          0.015,
          0.37,
          0.595,
          0.065,
          0.365,
          0.405,
          0.035,
          0.03,
          0.035,
          0.065,
          0.675,
          0.045,
          0.06,
          0.58,
          0.03,
          0.01,
          0.03,
          0.22,
          0.02,
          0.045,
          0.18,
          0.555,
          0.025,
          0.145,
          0.005,
          0.025,
          0.275,
          0.005
         ],
         "yaxis": "y"
        },
        {
         "hovertemplate": "tokenizing_strategy=ascii<br>ppl_mean=%{x}<br>answer_accuracy=%{y}<extra></extra>",
         "legendgroup": "ascii",
         "marker": {
          "color": "#ab63fa",
          "symbol": "circle"
         },
         "mode": "markers",
         "name": "ascii",
         "orientation": "v",
         "showlegend": true,
         "type": "scatter",
         "x": [
          32.33927087783813,
          6.705749989748001,
          7.165092599391937,
          10.774639081954955,
          5.299562165737152,
          6.726092242002487,
          11.642615805864335,
          5.454465863704681,
          44.61833653450012
         ],
         "xaxis": "x",
         "y": [
          0,
          0.025,
          0.025,
          0.01,
          0.07,
          0.005,
          0.025,
          0.025,
          0
         ],
         "yaxis": "y"
        },
        {
         "hovertemplate": "tokenizing_strategy=chars<br>ppl_mean=%{x}<br>answer_accuracy=%{y}<extra></extra>",
         "legendgroup": "chars",
         "marker": {
          "color": "#FFA15A",
          "symbol": "circle"
         },
         "mode": "markers",
         "name": "chars",
         "orientation": "v",
         "showlegend": true,
         "type": "scatter",
         "x": [
          107.97173853158951,
          187.65845900058747,
          991.8114165973664,
          92.170758330822,
          31.291556327342988,
          37.83770073890686,
          9.911979148387909,
          21.834227473735808,
          12.222110795974732,
          20.799433839321136,
          58.535118131637574,
          14.962436513900757,
          971.4510410404205,
          129.01471101760865,
          39.36402284622192,
          17.690493552684785,
          2757.4244186878204,
          27.03562554836273,
          1824.2463407230377,
          25.324043464660644,
          27.099199600219727,
          152.59472704410553,
          123.6727949666977,
          19.087808356285095,
          211.8526560974121,
          13.202213382720947,
          1593.4037222099305,
          32.132497961521146,
          70.70910373210907,
          34.76386467695236,
          57.35524769306183,
          32.54139017105103,
          72.79566484928131
         ],
         "xaxis": "x",
         "y": [
          0.095,
          0.01,
          0.05,
          0.015,
          0.03,
          0.015,
          0.07,
          0.005,
          0.015,
          0.005,
          0.305,
          0.045,
          0,
          0.01,
          0,
          0.28,
          0.055,
          0.01,
          0.01,
          0.005,
          0.01,
          0.06,
          0.025,
          0.01,
          0,
          0.005,
          0.02,
          0.005,
          0.005,
          0.005,
          0.03,
          0,
          0.38666666666666666
         ],
         "yaxis": "y"
        }
       ],
       "layout": {
        "font": {
         "family": "Times New Roman"
        },
        "height": 500,
        "legend": {
         "title": {
          "text": "tokenizing_strategy"
         },
         "tracegroupgap": 0
        },
        "margin": {
         "t": 60
        },
        "showlegend": false,
        "template": {
         "data": {
          "bar": [
           {
            "error_x": {
             "color": "#2a3f5f"
            },
            "error_y": {
             "color": "#2a3f5f"
            },
            "marker": {
             "line": {
              "color": "#E5ECF6",
              "width": 0.5
             },
             "pattern": {
              "fillmode": "overlay",
              "size": 10,
              "solidity": 0.2
             }
            },
            "type": "bar"
           }
          ],
          "barpolar": [
           {
            "marker": {
             "line": {
              "color": "#E5ECF6",
              "width": 0.5
             },
             "pattern": {
              "fillmode": "overlay",
              "size": 10,
              "solidity": 0.2
             }
            },
            "type": "barpolar"
           }
          ],
          "carpet": [
           {
            "aaxis": {
             "endlinecolor": "#2a3f5f",
             "gridcolor": "white",
             "linecolor": "white",
             "minorgridcolor": "white",
             "startlinecolor": "#2a3f5f"
            },
            "baxis": {
             "endlinecolor": "#2a3f5f",
             "gridcolor": "white",
             "linecolor": "white",
             "minorgridcolor": "white",
             "startlinecolor": "#2a3f5f"
            },
            "type": "carpet"
           }
          ],
          "choropleth": [
           {
            "colorbar": {
             "outlinewidth": 0,
             "ticks": ""
            },
            "type": "choropleth"
           }
          ],
          "contour": [
           {
            "colorbar": {
             "outlinewidth": 0,
             "ticks": ""
            },
            "colorscale": [
             [
              0,
              "#0d0887"
             ],
             [
              0.1111111111111111,
              "#46039f"
             ],
             [
              0.2222222222222222,
              "#7201a8"
             ],
             [
              0.3333333333333333,
              "#9c179e"
             ],
             [
              0.4444444444444444,
              "#bd3786"
             ],
             [
              0.5555555555555556,
              "#d8576b"
             ],
             [
              0.6666666666666666,
              "#ed7953"
             ],
             [
              0.7777777777777778,
              "#fb9f3a"
             ],
             [
              0.8888888888888888,
              "#fdca26"
             ],
             [
              1,
              "#f0f921"
             ]
            ],
            "type": "contour"
           }
          ],
          "contourcarpet": [
           {
            "colorbar": {
             "outlinewidth": 0,
             "ticks": ""
            },
            "type": "contourcarpet"
           }
          ],
          "heatmap": [
           {
            "colorbar": {
             "outlinewidth": 0,
             "ticks": ""
            },
            "colorscale": [
             [
              0,
              "#0d0887"
             ],
             [
              0.1111111111111111,
              "#46039f"
             ],
             [
              0.2222222222222222,
              "#7201a8"
             ],
             [
              0.3333333333333333,
              "#9c179e"
             ],
             [
              0.4444444444444444,
              "#bd3786"
             ],
             [
              0.5555555555555556,
              "#d8576b"
             ],
             [
              0.6666666666666666,
              "#ed7953"
             ],
             [
              0.7777777777777778,
              "#fb9f3a"
             ],
             [
              0.8888888888888888,
              "#fdca26"
             ],
             [
              1,
              "#f0f921"
             ]
            ],
            "type": "heatmap"
           }
          ],
          "heatmapgl": [
           {
            "colorbar": {
             "outlinewidth": 0,
             "ticks": ""
            },
            "colorscale": [
             [
              0,
              "#0d0887"
             ],
             [
              0.1111111111111111,
              "#46039f"
             ],
             [
              0.2222222222222222,
              "#7201a8"
             ],
             [
              0.3333333333333333,
              "#9c179e"
             ],
             [
              0.4444444444444444,
              "#bd3786"
             ],
             [
              0.5555555555555556,
              "#d8576b"
             ],
             [
              0.6666666666666666,
              "#ed7953"
             ],
             [
              0.7777777777777778,
              "#fb9f3a"
             ],
             [
              0.8888888888888888,
              "#fdca26"
             ],
             [
              1,
              "#f0f921"
             ]
            ],
            "type": "heatmapgl"
           }
          ],
          "histogram": [
           {
            "marker": {
             "pattern": {
              "fillmode": "overlay",
              "size": 10,
              "solidity": 0.2
             }
            },
            "type": "histogram"
           }
          ],
          "histogram2d": [
           {
            "colorbar": {
             "outlinewidth": 0,
             "ticks": ""
            },
            "colorscale": [
             [
              0,
              "#0d0887"
             ],
             [
              0.1111111111111111,
              "#46039f"
             ],
             [
              0.2222222222222222,
              "#7201a8"
             ],
             [
              0.3333333333333333,
              "#9c179e"
             ],
             [
              0.4444444444444444,
              "#bd3786"
             ],
             [
              0.5555555555555556,
              "#d8576b"
             ],
             [
              0.6666666666666666,
              "#ed7953"
             ],
             [
              0.7777777777777778,
              "#fb9f3a"
             ],
             [
              0.8888888888888888,
              "#fdca26"
             ],
             [
              1,
              "#f0f921"
             ]
            ],
            "type": "histogram2d"
           }
          ],
          "histogram2dcontour": [
           {
            "colorbar": {
             "outlinewidth": 0,
             "ticks": ""
            },
            "colorscale": [
             [
              0,
              "#0d0887"
             ],
             [
              0.1111111111111111,
              "#46039f"
             ],
             [
              0.2222222222222222,
              "#7201a8"
             ],
             [
              0.3333333333333333,
              "#9c179e"
             ],
             [
              0.4444444444444444,
              "#bd3786"
             ],
             [
              0.5555555555555556,
              "#d8576b"
             ],
             [
              0.6666666666666666,
              "#ed7953"
             ],
             [
              0.7777777777777778,
              "#fb9f3a"
             ],
             [
              0.8888888888888888,
              "#fdca26"
             ],
             [
              1,
              "#f0f921"
             ]
            ],
            "type": "histogram2dcontour"
           }
          ],
          "mesh3d": [
           {
            "colorbar": {
             "outlinewidth": 0,
             "ticks": ""
            },
            "type": "mesh3d"
           }
          ],
          "parcoords": [
           {
            "line": {
             "colorbar": {
              "outlinewidth": 0,
              "ticks": ""
             }
            },
            "type": "parcoords"
           }
          ],
          "pie": [
           {
            "automargin": true,
            "type": "pie"
           }
          ],
          "scatter": [
           {
            "fillpattern": {
             "fillmode": "overlay",
             "size": 10,
             "solidity": 0.2
            },
            "type": "scatter"
           }
          ],
          "scatter3d": [
           {
            "line": {
             "colorbar": {
              "outlinewidth": 0,
              "ticks": ""
             }
            },
            "marker": {
             "colorbar": {
              "outlinewidth": 0,
              "ticks": ""
             }
            },
            "type": "scatter3d"
           }
          ],
          "scattercarpet": [
           {
            "marker": {
             "colorbar": {
              "outlinewidth": 0,
              "ticks": ""
             }
            },
            "type": "scattercarpet"
           }
          ],
          "scattergeo": [
           {
            "marker": {
             "colorbar": {
              "outlinewidth": 0,
              "ticks": ""
             }
            },
            "type": "scattergeo"
           }
          ],
          "scattergl": [
           {
            "marker": {
             "colorbar": {
              "outlinewidth": 0,
              "ticks": ""
             }
            },
            "type": "scattergl"
           }
          ],
          "scattermapbox": [
           {
            "marker": {
             "colorbar": {
              "outlinewidth": 0,
              "ticks": ""
             }
            },
            "type": "scattermapbox"
           }
          ],
          "scatterpolar": [
           {
            "marker": {
             "colorbar": {
              "outlinewidth": 0,
              "ticks": ""
             }
            },
            "type": "scatterpolar"
           }
          ],
          "scatterpolargl": [
           {
            "marker": {
             "colorbar": {
              "outlinewidth": 0,
              "ticks": ""
             }
            },
            "type": "scatterpolargl"
           }
          ],
          "scatterternary": [
           {
            "marker": {
             "colorbar": {
              "outlinewidth": 0,
              "ticks": ""
             }
            },
            "type": "scatterternary"
           }
          ],
          "surface": [
           {
            "colorbar": {
             "outlinewidth": 0,
             "ticks": ""
            },
            "colorscale": [
             [
              0,
              "#0d0887"
             ],
             [
              0.1111111111111111,
              "#46039f"
             ],
             [
              0.2222222222222222,
              "#7201a8"
             ],
             [
              0.3333333333333333,
              "#9c179e"
             ],
             [
              0.4444444444444444,
              "#bd3786"
             ],
             [
              0.5555555555555556,
              "#d8576b"
             ],
             [
              0.6666666666666666,
              "#ed7953"
             ],
             [
              0.7777777777777778,
              "#fb9f3a"
             ],
             [
              0.8888888888888888,
              "#fdca26"
             ],
             [
              1,
              "#f0f921"
             ]
            ],
            "type": "surface"
           }
          ],
          "table": [
           {
            "cells": {
             "fill": {
              "color": "#EBF0F8"
             },
             "line": {
              "color": "white"
             }
            },
            "header": {
             "fill": {
              "color": "#C8D4E3"
             },
             "line": {
              "color": "white"
             }
            },
            "type": "table"
           }
          ]
         },
         "layout": {
          "title": {
           "font": {
            "family": "Times New Roman"
           }
          }
         }
        },
        "title": {
         "text": "Mistral-7B-Instruct-v0.1"
        },
        "width": 500,
        "xaxis": {
         "anchor": "y",
         "domain": [
          0,
          1
         ],
         "title": {
          "text": "Mean Perplexity"
         },
         "type": "log"
        },
        "yaxis": {
         "anchor": "x",
         "domain": [
          0,
          1
         ],
         "title": {
          "text": "Accuracy in % of correctly answered prompts"
         }
        }
       }
      }
     },
     "metadata": {},
     "output_type": "display_data"
    },
    {
     "name": "stdout",
     "output_type": "stream",
     "text": [
      "Answer Accuracy\n"
     ]
    },
    {
     "data": {
      "application/vnd.plotly.v1+json": {
       "config": {
        "plotlyServerURL": "https://plot.ly"
       },
       "data": [
        {
         "hovertemplate": "tokenizing_strategy=subword<br>language=%{x}<br>acc=%{y}<extra></extra>",
         "legendgroup": "subword",
         "marker": {
          "color": "#00cc96",
          "symbol": "circle"
         },
         "mode": "markers",
         "name": "subword",
         "orientation": "v",
         "showlegend": true,
         "type": "scatter",
         "x": [
          "en",
          "fr",
          "es",
          "de",
          "it",
          "pt",
          "ru",
          "da",
          "nl",
          "sv",
          "pl",
          "no",
          "uk",
          "bg",
          "bs",
          "ca",
          "cs",
          "gl",
          "hr",
          "sl",
          "sr",
          "af",
          "co",
          "ro",
          "hu",
          "sk",
          "mk",
          "id",
          "ms",
          "la",
          "fil",
          "tl",
          "be",
          "ceb",
          "tr",
          "fy",
          "lb",
          "eo",
          "vi",
          "fi",
          "is",
          "lus",
          "jv",
          "kri",
          "jw",
          "lt",
          "et",
          "si",
          "st",
          "ln",
          "su",
          "ilo",
          "mt",
          "ay",
          "hmn",
          "sq",
          "tk",
          "gn",
          "ht",
          "nso",
          "sm",
          "so",
          "gd",
          "ha",
          "haw",
          "ku",
          "sn",
          "sw",
          "tg",
          "bm",
          "cy",
          "kk",
          "mg",
          "mi",
          "om",
          "uz",
          "yo",
          "ak",
          "ky",
          "lg",
          "rw",
          "ts",
          "ee",
          "eu",
          "ig",
          "ny",
          "qu",
          "ga",
          "te",
          "xh",
          "zu"
         ],
         "xaxis": "x",
         "y": [
          84.5,
          68,
          67.5,
          66.5,
          64,
          61.5,
          59.5,
          57.99999999999999,
          57.99999999999999,
          57.99999999999999,
          56.99999999999999,
          56.00000000000001,
          55.50000000000001,
          52.5,
          46,
          45.5,
          45.5,
          45,
          42.5,
          40.5,
          40.5,
          40,
          38,
          37,
          36.5,
          36.5,
          34.5,
          31.5,
          27.500000000000004,
          23.5,
          22,
          22,
          19,
          18,
          18,
          17.5,
          16.5,
          15,
          14.499999999999998,
          14.000000000000002,
          13.5,
          11.5,
          9.5,
          9.5,
          8,
          7.5,
          6.5,
          6.5,
          6.5,
          6,
          6,
          5.5,
          5,
          4.5,
          4.5,
          4.5,
          4.5,
          4,
          4,
          4,
          3.5000000000000004,
          3.5000000000000004,
          3,
          3,
          3,
          3,
          3,
          3,
          3,
          2.5,
          2.5,
          2.5,
          2.5,
          2.5,
          2.5,
          2.5,
          2.5,
          2,
          2,
          2,
          2,
          2,
          1.5,
          1.5,
          1.5,
          1.5,
          1.5,
          1,
          1,
          0.5,
          0.5
         ],
         "yaxis": "y"
        },
        {
         "hovertemplate": "tokenizing_strategy=chars<br>language=%{x}<br>acc=%{y}<extra></extra>",
         "legendgroup": "chars",
         "marker": {
          "color": "#ab63fa",
          "symbol": "circle"
         },
         "mode": "markers",
         "name": "chars",
         "orientation": "v",
         "showlegend": true,
         "type": "scatter",
         "x": [
          "zh-CN",
          "zh",
          "zh-TW",
          "ja",
          "ko",
          "ar",
          "el",
          "fa",
          "lv",
          "az",
          "kn",
          "bho",
          "ur",
          "ps",
          "tt",
          "bn",
          "doi",
          "hi",
          "as",
          "ckb",
          "km",
          "mn",
          "mr",
          "ne",
          "sa",
          "he",
          "hy",
          "iw",
          "mai",
          "my",
          "ta",
          "th",
          "ug"
         ],
         "xaxis": "x",
         "y": [
          40.5,
          39.5,
          36,
          30.5,
          28.000000000000004,
          9.5,
          7.000000000000001,
          6,
          5.5,
          5,
          4.5,
          3,
          3,
          2.5,
          2,
          1.5,
          1.5,
          1.5,
          1,
          1,
          1,
          1,
          1,
          1,
          1,
          0.5,
          0.5,
          0.5,
          0.5,
          0.5,
          0.5,
          0.5,
          0.5
         ],
         "yaxis": "y"
        },
        {
         "hovertemplate": "tokenizing_strategy=ascii<br>language=%{x}<br>acc=%{y}<extra></extra>",
         "legendgroup": "ascii",
         "marker": {
          "color": "#FFA15A",
          "symbol": "circle"
         },
         "mode": "markers",
         "name": "ascii",
         "orientation": "v",
         "showlegend": true,
         "type": "scatter",
         "x": [
          "ml",
          "dv",
          "gu",
          "or",
          "pa",
          "lo",
          "mni-Mtei"
         ],
         "xaxis": "x",
         "y": [
          7.000000000000001,
          2.5,
          2.5,
          2.5,
          2.5,
          1,
          0.5
         ],
         "yaxis": "y"
        }
       ],
       "layout": {
        "font": {
         "family": "Times New Roman"
        },
        "height": 400,
        "legend": {
         "font": {
          "size": 20
         },
         "title": {
          "text": "Tokenization Strategy"
         },
         "tracegroupgap": 0,
         "x": 1,
         "xanchor": "right",
         "y": 1,
         "yanchor": "top"
        },
        "margin": {
         "b": 70,
         "l": 30,
         "r": 0,
         "t": 20
        },
        "template": {
         "data": {
          "bar": [
           {
            "error_x": {
             "color": "#2a3f5f"
            },
            "error_y": {
             "color": "#2a3f5f"
            },
            "marker": {
             "line": {
              "color": "#E5ECF6",
              "width": 0.5
             },
             "pattern": {
              "fillmode": "overlay",
              "size": 10,
              "solidity": 0.2
             }
            },
            "type": "bar"
           }
          ],
          "barpolar": [
           {
            "marker": {
             "line": {
              "color": "#E5ECF6",
              "width": 0.5
             },
             "pattern": {
              "fillmode": "overlay",
              "size": 10,
              "solidity": 0.2
             }
            },
            "type": "barpolar"
           }
          ],
          "carpet": [
           {
            "aaxis": {
             "endlinecolor": "#2a3f5f",
             "gridcolor": "white",
             "linecolor": "white",
             "minorgridcolor": "white",
             "startlinecolor": "#2a3f5f"
            },
            "baxis": {
             "endlinecolor": "#2a3f5f",
             "gridcolor": "white",
             "linecolor": "white",
             "minorgridcolor": "white",
             "startlinecolor": "#2a3f5f"
            },
            "type": "carpet"
           }
          ],
          "choropleth": [
           {
            "colorbar": {
             "outlinewidth": 0,
             "ticks": ""
            },
            "type": "choropleth"
           }
          ],
          "contour": [
           {
            "colorbar": {
             "outlinewidth": 0,
             "ticks": ""
            },
            "colorscale": [
             [
              0,
              "#0d0887"
             ],
             [
              0.1111111111111111,
              "#46039f"
             ],
             [
              0.2222222222222222,
              "#7201a8"
             ],
             [
              0.3333333333333333,
              "#9c179e"
             ],
             [
              0.4444444444444444,
              "#bd3786"
             ],
             [
              0.5555555555555556,
              "#d8576b"
             ],
             [
              0.6666666666666666,
              "#ed7953"
             ],
             [
              0.7777777777777778,
              "#fb9f3a"
             ],
             [
              0.8888888888888888,
              "#fdca26"
             ],
             [
              1,
              "#f0f921"
             ]
            ],
            "type": "contour"
           }
          ],
          "contourcarpet": [
           {
            "colorbar": {
             "outlinewidth": 0,
             "ticks": ""
            },
            "type": "contourcarpet"
           }
          ],
          "heatmap": [
           {
            "colorbar": {
             "outlinewidth": 0,
             "ticks": ""
            },
            "colorscale": [
             [
              0,
              "#0d0887"
             ],
             [
              0.1111111111111111,
              "#46039f"
             ],
             [
              0.2222222222222222,
              "#7201a8"
             ],
             [
              0.3333333333333333,
              "#9c179e"
             ],
             [
              0.4444444444444444,
              "#bd3786"
             ],
             [
              0.5555555555555556,
              "#d8576b"
             ],
             [
              0.6666666666666666,
              "#ed7953"
             ],
             [
              0.7777777777777778,
              "#fb9f3a"
             ],
             [
              0.8888888888888888,
              "#fdca26"
             ],
             [
              1,
              "#f0f921"
             ]
            ],
            "type": "heatmap"
           }
          ],
          "heatmapgl": [
           {
            "colorbar": {
             "outlinewidth": 0,
             "ticks": ""
            },
            "colorscale": [
             [
              0,
              "#0d0887"
             ],
             [
              0.1111111111111111,
              "#46039f"
             ],
             [
              0.2222222222222222,
              "#7201a8"
             ],
             [
              0.3333333333333333,
              "#9c179e"
             ],
             [
              0.4444444444444444,
              "#bd3786"
             ],
             [
              0.5555555555555556,
              "#d8576b"
             ],
             [
              0.6666666666666666,
              "#ed7953"
             ],
             [
              0.7777777777777778,
              "#fb9f3a"
             ],
             [
              0.8888888888888888,
              "#fdca26"
             ],
             [
              1,
              "#f0f921"
             ]
            ],
            "type": "heatmapgl"
           }
          ],
          "histogram": [
           {
            "marker": {
             "pattern": {
              "fillmode": "overlay",
              "size": 10,
              "solidity": 0.2
             }
            },
            "type": "histogram"
           }
          ],
          "histogram2d": [
           {
            "colorbar": {
             "outlinewidth": 0,
             "ticks": ""
            },
            "colorscale": [
             [
              0,
              "#0d0887"
             ],
             [
              0.1111111111111111,
              "#46039f"
             ],
             [
              0.2222222222222222,
              "#7201a8"
             ],
             [
              0.3333333333333333,
              "#9c179e"
             ],
             [
              0.4444444444444444,
              "#bd3786"
             ],
             [
              0.5555555555555556,
              "#d8576b"
             ],
             [
              0.6666666666666666,
              "#ed7953"
             ],
             [
              0.7777777777777778,
              "#fb9f3a"
             ],
             [
              0.8888888888888888,
              "#fdca26"
             ],
             [
              1,
              "#f0f921"
             ]
            ],
            "type": "histogram2d"
           }
          ],
          "histogram2dcontour": [
           {
            "colorbar": {
             "outlinewidth": 0,
             "ticks": ""
            },
            "colorscale": [
             [
              0,
              "#0d0887"
             ],
             [
              0.1111111111111111,
              "#46039f"
             ],
             [
              0.2222222222222222,
              "#7201a8"
             ],
             [
              0.3333333333333333,
              "#9c179e"
             ],
             [
              0.4444444444444444,
              "#bd3786"
             ],
             [
              0.5555555555555556,
              "#d8576b"
             ],
             [
              0.6666666666666666,
              "#ed7953"
             ],
             [
              0.7777777777777778,
              "#fb9f3a"
             ],
             [
              0.8888888888888888,
              "#fdca26"
             ],
             [
              1,
              "#f0f921"
             ]
            ],
            "type": "histogram2dcontour"
           }
          ],
          "mesh3d": [
           {
            "colorbar": {
             "outlinewidth": 0,
             "ticks": ""
            },
            "type": "mesh3d"
           }
          ],
          "parcoords": [
           {
            "line": {
             "colorbar": {
              "outlinewidth": 0,
              "ticks": ""
             }
            },
            "type": "parcoords"
           }
          ],
          "pie": [
           {
            "automargin": true,
            "type": "pie"
           }
          ],
          "scatter": [
           {
            "fillpattern": {
             "fillmode": "overlay",
             "size": 10,
             "solidity": 0.2
            },
            "type": "scatter"
           }
          ],
          "scatter3d": [
           {
            "line": {
             "colorbar": {
              "outlinewidth": 0,
              "ticks": ""
             }
            },
            "marker": {
             "colorbar": {
              "outlinewidth": 0,
              "ticks": ""
             }
            },
            "type": "scatter3d"
           }
          ],
          "scattercarpet": [
           {
            "marker": {
             "colorbar": {
              "outlinewidth": 0,
              "ticks": ""
             }
            },
            "type": "scattercarpet"
           }
          ],
          "scattergeo": [
           {
            "marker": {
             "colorbar": {
              "outlinewidth": 0,
              "ticks": ""
             }
            },
            "type": "scattergeo"
           }
          ],
          "scattergl": [
           {
            "marker": {
             "colorbar": {
              "outlinewidth": 0,
              "ticks": ""
             }
            },
            "type": "scattergl"
           }
          ],
          "scattermapbox": [
           {
            "marker": {
             "colorbar": {
              "outlinewidth": 0,
              "ticks": ""
             }
            },
            "type": "scattermapbox"
           }
          ],
          "scatterpolar": [
           {
            "marker": {
             "colorbar": {
              "outlinewidth": 0,
              "ticks": ""
             }
            },
            "type": "scatterpolar"
           }
          ],
          "scatterpolargl": [
           {
            "marker": {
             "colorbar": {
              "outlinewidth": 0,
              "ticks": ""
             }
            },
            "type": "scatterpolargl"
           }
          ],
          "scatterternary": [
           {
            "marker": {
             "colorbar": {
              "outlinewidth": 0,
              "ticks": ""
             }
            },
            "type": "scatterternary"
           }
          ],
          "surface": [
           {
            "colorbar": {
             "outlinewidth": 0,
             "ticks": ""
            },
            "colorscale": [
             [
              0,
              "#0d0887"
             ],
             [
              0.1111111111111111,
              "#46039f"
             ],
             [
              0.2222222222222222,
              "#7201a8"
             ],
             [
              0.3333333333333333,
              "#9c179e"
             ],
             [
              0.4444444444444444,
              "#bd3786"
             ],
             [
              0.5555555555555556,
              "#d8576b"
             ],
             [
              0.6666666666666666,
              "#ed7953"
             ],
             [
              0.7777777777777778,
              "#fb9f3a"
             ],
             [
              0.8888888888888888,
              "#fdca26"
             ],
             [
              1,
              "#f0f921"
             ]
            ],
            "type": "surface"
           }
          ],
          "table": [
           {
            "cells": {
             "fill": {
              "color": "#EBF0F8"
             },
             "line": {
              "color": "white"
             }
            },
            "header": {
             "fill": {
              "color": "#C8D4E3"
             },
             "line": {
              "color": "white"
             }
            },
            "type": "table"
           }
          ]
         },
         "layout": {
          "title": {
           "font": {
            "family": "Times New Roman"
           }
          }
         }
        },
        "width": 1100,
        "xaxis": {
         "anchor": "y",
         "domain": [
          0,
          1
         ],
         "title": {
          "text": ""
         }
        },
        "yaxis": {
         "anchor": "x",
         "domain": [
          0,
          1
         ],
         "range": [
          0,
          100
         ],
         "tickfont": {
          "size": 20
         },
         "title": {
          "text": ""
         }
        }
       }
      }
     },
     "metadata": {},
     "output_type": "display_data"
    },
    {
     "name": "stdout",
     "output_type": "stream",
     "text": [
      "tokenizing_strategy\n",
      "ascii      0.561111\n",
      "chars      0.620135\n",
      "subword    0.626264\n",
      "Name: correct_language, dtype: float64\n",
      "tokenizing_strategy  eval_completion\n",
      "ascii                incorrect          0.979444\n",
      "                     correct            0.020556\n",
      "chars                incorrect          0.935676\n",
      "                     correct            0.064324\n",
      "subword              incorrect          0.796319\n",
      "                     correct            0.203681\n",
      "Name: eval_completion, dtype: float64\n",
      "Linguistic Fidelity\n"
     ]
    },
    {
     "data": {
      "application/vnd.plotly.v1+json": {
       "config": {
        "plotlyServerURL": "https://plot.ly"
       },
       "data": [
        {
         "hovertemplate": "tokenizing_strategy=subword<br>language=%{x}<br>acc=%{y}<extra></extra>",
         "legendgroup": "subword",
         "marker": {
          "color": "#00cc96",
          "symbol": "circle"
         },
         "mode": "markers",
         "name": "subword",
         "orientation": "v",
         "showlegend": true,
         "type": "scatter",
         "x": [
          "si",
          "fr",
          "te",
          "pt",
          "vi",
          "de",
          "es",
          "nl",
          "it",
          "sv",
          "tr",
          "hr",
          "hu",
          "en",
          "fi",
          "sr",
          "ca",
          "id",
          "da",
          "ro",
          "ru",
          "uk",
          "cs",
          "sq",
          "ny",
          "bg",
          "sl",
          "tl",
          "fil",
          "pl",
          "lt",
          "ig",
          "is",
          "lg",
          "bs",
          "nso",
          "sm",
          "st",
          "cy",
          "so",
          "xh",
          "sw",
          "om",
          "kk",
          "ln",
          "uz",
          "gd",
          "mt",
          "mi",
          "sn",
          "zu",
          "eu",
          "ga",
          "eo",
          "qu",
          "et",
          "ku",
          "ky",
          "yo",
          "bm",
          "mg",
          "ay",
          "tg",
          "tk",
          "ak",
          "hmn",
          "ht",
          "ilo",
          "ceb",
          "no",
          "sk",
          "su",
          "ts",
          "ha",
          "ms",
          "ee",
          "haw",
          "rw",
          "kri",
          "lus",
          "jw",
          "mk",
          "jv",
          "la",
          "gn",
          "lb",
          "be",
          "co",
          "fy",
          "gl",
          "af"
         ],
         "xaxis": "x",
         "y": [
          99,
          95.5,
          95.5,
          95,
          95,
          94,
          94,
          94,
          91.5,
          91,
          91,
          90.5,
          90.5,
          90,
          89.5,
          89.5,
          88.5,
          88.5,
          88,
          88,
          88,
          87,
          86,
          86,
          85.5,
          84,
          81.5,
          79.5,
          79,
          79,
          78.5,
          74.5,
          74.5,
          74.5,
          74,
          71,
          71,
          71,
          69.5,
          69.5,
          69.5,
          69,
          68,
          67,
          66.5,
          66.5,
          65.5,
          65.5,
          65,
          65,
          64.5,
          61.5,
          61.5,
          60.5,
          59,
          58.5,
          56.99999999999999,
          56.99999999999999,
          56.49999999999999,
          54,
          54,
          53.5,
          52.5,
          52,
          48,
          46.5,
          46.5,
          46.5,
          44,
          43,
          42.5,
          42.5,
          42.5,
          41,
          41,
          39.5,
          39,
          37,
          31.5,
          31.5,
          25,
          23.5,
          23,
          22,
          18,
          16,
          11.5,
          8.5,
          7.000000000000001,
          6.5,
          4
         ],
         "yaxis": "y"
        },
        {
         "hovertemplate": "tokenizing_strategy=chars<br>language=%{x}<br>acc=%{y}<extra></extra>",
         "legendgroup": "chars",
         "marker": {
          "color": "#ab63fa",
          "symbol": "circle"
         },
         "mode": "markers",
         "name": "chars",
         "orientation": "v",
         "showlegend": true,
         "type": "scatter",
         "x": [
          "ko",
          "ta",
          "ja",
          "kn",
          "zh-TW",
          "zh-CN",
          "th",
          "zh",
          "he",
          "hy",
          "iw",
          "hi",
          "ug",
          "ur",
          "el",
          "ar",
          "mr",
          "mn",
          "ckb",
          "lv",
          "bn",
          "fa",
          "tt",
          "ps",
          "az",
          "yi",
          "sa",
          "ka",
          "ne",
          "bho",
          "as",
          "sd",
          "km",
          "my",
          "doi",
          "gom",
          "mai"
         ],
         "xaxis": "x",
         "y": [
          100,
          100,
          98,
          96.5,
          96.5,
          96,
          95,
          95,
          93,
          91.5,
          91.5,
          91,
          81.5,
          81,
          80.5,
          79.5,
          74.5,
          69.5,
          68.5,
          67.5,
          64,
          55.50000000000001,
          55.50000000000001,
          53,
          46,
          45,
          42,
          41,
          39.5,
          37.5,
          32.5,
          24,
          8.5,
          4,
          0,
          0,
          0
         ],
         "yaxis": "y"
        },
        {
         "hovertemplate": "tokenizing_strategy=ascii<br>language=%{x}<br>acc=%{y}<extra></extra>",
         "legendgroup": "ascii",
         "marker": {
          "color": "#FFA15A",
          "symbol": "circle"
         },
         "mode": "markers",
         "name": "ascii",
         "orientation": "v",
         "showlegend": true,
         "type": "scatter",
         "x": [
          "ml",
          "gu",
          "pa",
          "dv",
          "lo",
          "am",
          "or",
          "ti",
          "mni-Mtei"
         ],
         "xaxis": "x",
         "y": [
          100,
          99.5,
          95.5,
          79,
          61,
          33.5,
          22.5,
          14.000000000000002,
          0
         ],
         "yaxis": "y"
        }
       ],
       "layout": {
        "font": {
         "family": "Times New Roman"
        },
        "height": 400,
        "legend": {
         "font": {
          "size": 20
         },
         "title": {
          "text": "Tokenization Strategy"
         },
         "tracegroupgap": 0,
         "x": 1,
         "xanchor": "right",
         "y": 1,
         "yanchor": "top"
        },
        "margin": {
         "b": 70,
         "l": 30,
         "r": 0,
         "t": 20
        },
        "template": {
         "data": {
          "bar": [
           {
            "error_x": {
             "color": "#2a3f5f"
            },
            "error_y": {
             "color": "#2a3f5f"
            },
            "marker": {
             "line": {
              "color": "#E5ECF6",
              "width": 0.5
             },
             "pattern": {
              "fillmode": "overlay",
              "size": 10,
              "solidity": 0.2
             }
            },
            "type": "bar"
           }
          ],
          "barpolar": [
           {
            "marker": {
             "line": {
              "color": "#E5ECF6",
              "width": 0.5
             },
             "pattern": {
              "fillmode": "overlay",
              "size": 10,
              "solidity": 0.2
             }
            },
            "type": "barpolar"
           }
          ],
          "carpet": [
           {
            "aaxis": {
             "endlinecolor": "#2a3f5f",
             "gridcolor": "white",
             "linecolor": "white",
             "minorgridcolor": "white",
             "startlinecolor": "#2a3f5f"
            },
            "baxis": {
             "endlinecolor": "#2a3f5f",
             "gridcolor": "white",
             "linecolor": "white",
             "minorgridcolor": "white",
             "startlinecolor": "#2a3f5f"
            },
            "type": "carpet"
           }
          ],
          "choropleth": [
           {
            "colorbar": {
             "outlinewidth": 0,
             "ticks": ""
            },
            "type": "choropleth"
           }
          ],
          "contour": [
           {
            "colorbar": {
             "outlinewidth": 0,
             "ticks": ""
            },
            "colorscale": [
             [
              0,
              "#0d0887"
             ],
             [
              0.1111111111111111,
              "#46039f"
             ],
             [
              0.2222222222222222,
              "#7201a8"
             ],
             [
              0.3333333333333333,
              "#9c179e"
             ],
             [
              0.4444444444444444,
              "#bd3786"
             ],
             [
              0.5555555555555556,
              "#d8576b"
             ],
             [
              0.6666666666666666,
              "#ed7953"
             ],
             [
              0.7777777777777778,
              "#fb9f3a"
             ],
             [
              0.8888888888888888,
              "#fdca26"
             ],
             [
              1,
              "#f0f921"
             ]
            ],
            "type": "contour"
           }
          ],
          "contourcarpet": [
           {
            "colorbar": {
             "outlinewidth": 0,
             "ticks": ""
            },
            "type": "contourcarpet"
           }
          ],
          "heatmap": [
           {
            "colorbar": {
             "outlinewidth": 0,
             "ticks": ""
            },
            "colorscale": [
             [
              0,
              "#0d0887"
             ],
             [
              0.1111111111111111,
              "#46039f"
             ],
             [
              0.2222222222222222,
              "#7201a8"
             ],
             [
              0.3333333333333333,
              "#9c179e"
             ],
             [
              0.4444444444444444,
              "#bd3786"
             ],
             [
              0.5555555555555556,
              "#d8576b"
             ],
             [
              0.6666666666666666,
              "#ed7953"
             ],
             [
              0.7777777777777778,
              "#fb9f3a"
             ],
             [
              0.8888888888888888,
              "#fdca26"
             ],
             [
              1,
              "#f0f921"
             ]
            ],
            "type": "heatmap"
           }
          ],
          "heatmapgl": [
           {
            "colorbar": {
             "outlinewidth": 0,
             "ticks": ""
            },
            "colorscale": [
             [
              0,
              "#0d0887"
             ],
             [
              0.1111111111111111,
              "#46039f"
             ],
             [
              0.2222222222222222,
              "#7201a8"
             ],
             [
              0.3333333333333333,
              "#9c179e"
             ],
             [
              0.4444444444444444,
              "#bd3786"
             ],
             [
              0.5555555555555556,
              "#d8576b"
             ],
             [
              0.6666666666666666,
              "#ed7953"
             ],
             [
              0.7777777777777778,
              "#fb9f3a"
             ],
             [
              0.8888888888888888,
              "#fdca26"
             ],
             [
              1,
              "#f0f921"
             ]
            ],
            "type": "heatmapgl"
           }
          ],
          "histogram": [
           {
            "marker": {
             "pattern": {
              "fillmode": "overlay",
              "size": 10,
              "solidity": 0.2
             }
            },
            "type": "histogram"
           }
          ],
          "histogram2d": [
           {
            "colorbar": {
             "outlinewidth": 0,
             "ticks": ""
            },
            "colorscale": [
             [
              0,
              "#0d0887"
             ],
             [
              0.1111111111111111,
              "#46039f"
             ],
             [
              0.2222222222222222,
              "#7201a8"
             ],
             [
              0.3333333333333333,
              "#9c179e"
             ],
             [
              0.4444444444444444,
              "#bd3786"
             ],
             [
              0.5555555555555556,
              "#d8576b"
             ],
             [
              0.6666666666666666,
              "#ed7953"
             ],
             [
              0.7777777777777778,
              "#fb9f3a"
             ],
             [
              0.8888888888888888,
              "#fdca26"
             ],
             [
              1,
              "#f0f921"
             ]
            ],
            "type": "histogram2d"
           }
          ],
          "histogram2dcontour": [
           {
            "colorbar": {
             "outlinewidth": 0,
             "ticks": ""
            },
            "colorscale": [
             [
              0,
              "#0d0887"
             ],
             [
              0.1111111111111111,
              "#46039f"
             ],
             [
              0.2222222222222222,
              "#7201a8"
             ],
             [
              0.3333333333333333,
              "#9c179e"
             ],
             [
              0.4444444444444444,
              "#bd3786"
             ],
             [
              0.5555555555555556,
              "#d8576b"
             ],
             [
              0.6666666666666666,
              "#ed7953"
             ],
             [
              0.7777777777777778,
              "#fb9f3a"
             ],
             [
              0.8888888888888888,
              "#fdca26"
             ],
             [
              1,
              "#f0f921"
             ]
            ],
            "type": "histogram2dcontour"
           }
          ],
          "mesh3d": [
           {
            "colorbar": {
             "outlinewidth": 0,
             "ticks": ""
            },
            "type": "mesh3d"
           }
          ],
          "parcoords": [
           {
            "line": {
             "colorbar": {
              "outlinewidth": 0,
              "ticks": ""
             }
            },
            "type": "parcoords"
           }
          ],
          "pie": [
           {
            "automargin": true,
            "type": "pie"
           }
          ],
          "scatter": [
           {
            "fillpattern": {
             "fillmode": "overlay",
             "size": 10,
             "solidity": 0.2
            },
            "type": "scatter"
           }
          ],
          "scatter3d": [
           {
            "line": {
             "colorbar": {
              "outlinewidth": 0,
              "ticks": ""
             }
            },
            "marker": {
             "colorbar": {
              "outlinewidth": 0,
              "ticks": ""
             }
            },
            "type": "scatter3d"
           }
          ],
          "scattercarpet": [
           {
            "marker": {
             "colorbar": {
              "outlinewidth": 0,
              "ticks": ""
             }
            },
            "type": "scattercarpet"
           }
          ],
          "scattergeo": [
           {
            "marker": {
             "colorbar": {
              "outlinewidth": 0,
              "ticks": ""
             }
            },
            "type": "scattergeo"
           }
          ],
          "scattergl": [
           {
            "marker": {
             "colorbar": {
              "outlinewidth": 0,
              "ticks": ""
             }
            },
            "type": "scattergl"
           }
          ],
          "scattermapbox": [
           {
            "marker": {
             "colorbar": {
              "outlinewidth": 0,
              "ticks": ""
             }
            },
            "type": "scattermapbox"
           }
          ],
          "scatterpolar": [
           {
            "marker": {
             "colorbar": {
              "outlinewidth": 0,
              "ticks": ""
             }
            },
            "type": "scatterpolar"
           }
          ],
          "scatterpolargl": [
           {
            "marker": {
             "colorbar": {
              "outlinewidth": 0,
              "ticks": ""
             }
            },
            "type": "scatterpolargl"
           }
          ],
          "scatterternary": [
           {
            "marker": {
             "colorbar": {
              "outlinewidth": 0,
              "ticks": ""
             }
            },
            "type": "scatterternary"
           }
          ],
          "surface": [
           {
            "colorbar": {
             "outlinewidth": 0,
             "ticks": ""
            },
            "colorscale": [
             [
              0,
              "#0d0887"
             ],
             [
              0.1111111111111111,
              "#46039f"
             ],
             [
              0.2222222222222222,
              "#7201a8"
             ],
             [
              0.3333333333333333,
              "#9c179e"
             ],
             [
              0.4444444444444444,
              "#bd3786"
             ],
             [
              0.5555555555555556,
              "#d8576b"
             ],
             [
              0.6666666666666666,
              "#ed7953"
             ],
             [
              0.7777777777777778,
              "#fb9f3a"
             ],
             [
              0.8888888888888888,
              "#fdca26"
             ],
             [
              1,
              "#f0f921"
             ]
            ],
            "type": "surface"
           }
          ],
          "table": [
           {
            "cells": {
             "fill": {
              "color": "#EBF0F8"
             },
             "line": {
              "color": "white"
             }
            },
            "header": {
             "fill": {
              "color": "#C8D4E3"
             },
             "line": {
              "color": "white"
             }
            },
            "type": "table"
           }
          ]
         },
         "layout": {
          "title": {
           "font": {
            "family": "Times New Roman"
           }
          }
         }
        },
        "width": 1100,
        "xaxis": {
         "anchor": "y",
         "domain": [
          0,
          1
         ],
         "title": {
          "text": ""
         }
        },
        "yaxis": {
         "anchor": "x",
         "domain": [
          0,
          1
         ],
         "range": [
          0,
          100
         ],
         "tickfont": {
          "size": 20
         },
         "title": {
          "text": ""
         }
        }
       }
      }
     },
     "metadata": {},
     "output_type": "display_data"
    },
    {
     "name": "stdout",
     "output_type": "stream",
     "text": [
      "_________________________________________________________________________________________________________\n"
     ]
    }
   ],
   "source": [
    "for model in ['Mixtral-8x7B-Instruct-v0.1', 'Llama-2-7b-chat-hf', 'Mistral-7B-Instruct-v0.1']:\n",
    "    print(model)\n",
    "    # Define token ranges \n",
    "    if 'Qwen' in model: \n",
    "        ascii_ids = []\n",
    "\n",
    "        character_ids = list(range(1, 250))\n",
    "\n",
    "    else: \n",
    "        ascii_ids = list(range(132, 237))\n",
    "\n",
    "        character_ids = list(range(28000, 32000))\n",
    "\n",
    "\n",
    "    def intersection(lst1, lst2):\n",
    "        lst3 = [value for value in lst1 if value in lst2]\n",
    "        return lst3\n",
    "\n",
    "    def get_tokenizing_strategy(row):\n",
    "        if row['language'] in asci_langs:\n",
    "            return 'ascii'\n",
    "        elif row['language'] in char_langs:\n",
    "            return 'chars'\n",
    "        else: \n",
    "            return 'subword'\n",
    "\n",
    "    asci_langs = []\n",
    "    char_langs = []\n",
    "    for lang in df_dict[model].language.unique():\n",
    "        subset = df_dict[model][df_dict[model]['language'] == lang]\n",
    "        most_used_tokens = list(subset['token_ids'].explode().value_counts().nlargest(20).reset_index()['index'])\n",
    "\n",
    "        unnecessary_tokens = [1, # <s>\n",
    "    28804, # ?\n",
    "    28725, # ,\n",
    "    28705, #_\n",
    "    ]\n",
    "\n",
    "        # Remove unnecessary tokens\n",
    "        most_used_tokens = [x for x in most_used_tokens if x not in  unnecessary_tokens]\n",
    "\n",
    "        \n",
    "\n",
    "        if(len(intersection(ascii_ids, most_used_tokens)) /  len(most_used_tokens) > 0.7):\n",
    "            asci_langs.append(lang)\n",
    "\n",
    "        elif(len(intersection(character_ids, most_used_tokens)) /  len(most_used_tokens) > 0.7):\n",
    "            char_langs.append(lang)\n",
    "\n",
    "    subword_langs = [value for value in df_dict[model].language.unique() if value not in asci_langs and value not in char_langs ]\n",
    "\n",
    "    print('Number of ascii languages')\n",
    "    print(len(asci_langs))\n",
    "\n",
    "    print('Number of char languages')\n",
    "    print(len(char_langs))\n",
    "\n",
    "    print('Number of subword languages')\n",
    "    print(len(subword_langs))\n",
    "\n",
    "\n",
    "    df_dict[model]['tokenizing_strategy'] = df_dict[model].apply(lambda row: get_tokenizing_strategy(row), axis = 1)\n",
    "\n",
    "\n",
    "\n",
    "\n",
    "    if not 'Mixtral' in model: \n",
    "\n",
    "        print('Mean perplexity for different tokenization strategies')\n",
    "        print(df_dict[model].groupby('tokenizing_strategy')['ppl_mean'].mean())\n",
    "\n",
    "        mean_acc =  df_dict[model].groupby('iso_639_3').agg({'ppl_mean': np.mean,'correct_language': np.mean, 'answer_accuracy': np.mean, 'tokenizing_strategy': 'first'}).reset_index()\n",
    "\n",
    "        fig = px.scatter(mean_acc, \n",
    "                        x='ppl_mean', \n",
    "                        y='answer_accuracy',\n",
    "                        color='tokenizing_strategy',\n",
    "                        color_discrete_map=color_map,\n",
    "                        log_x=True\n",
    "        )\n",
    "\n",
    "        fig.update_layout(\n",
    "            yaxis_title=\"Accuracy in % of correctly answered prompts\",\n",
    "            xaxis_title=\"Mean Perplexity\",\n",
    "            font_family=\"Times New Roman\",\n",
    "            width=500,\n",
    "            showlegend=False,\n",
    "            height=500,\n",
    "            template=custom_template,\n",
    "            title=model)\n",
    "\n",
    "        fig.show()\n",
    "\n",
    "    print('Answer Accuracy')\n",
    "\n",
    "    group = df_dict[model].groupby(['language', 'tokenizing_strategy', 'eval_completion']).size().to_frame('size').reset_index()\n",
    "    group['acc'] = group['size'] / group.groupby('language')['size'].transform('sum') * 100\n",
    "\n",
    "    group = group[group['eval_completion'] == 'correct']\n",
    "\n",
    "    group.sort_values(by=[\"tokenizing_strategy\",\"acc\"], ascending=[False, False], inplace=True)\n",
    "\n",
    "    fig = px.scatter(group, \n",
    "                        x='language', \n",
    "                        y='acc',\n",
    "                        color='tokenizing_strategy',\n",
    "                        color_discrete_map=color_map,\n",
    "        )\n",
    "\n",
    "\n",
    "\n",
    "    fig.update_layout(\n",
    "        yaxis_title=\"\",\n",
    "        xaxis_title=\"\",\n",
    "        font_family=\"Times New Roman\",\n",
    "        legend_title_text='Tokenization Strategy',\n",
    "        yaxis_range=[0,100],\n",
    "        width=1100,\n",
    "        height=400,\n",
    "        #font=dict(size=24),\n",
    "        template=custom_template,\n",
    "        margin=dict(l=30, r=0, t=20, b=70),\n",
    "        yaxis = dict(tickfont = dict(size=20)),\n",
    "        legend = dict(font = dict(size = 20),\n",
    "        yanchor=\"top\",\n",
    "        y=1,\n",
    "        xanchor=\"right\",\n",
    "        x=1)\n",
    "        )\n",
    "    fig.show()\n",
    "\n",
    "\n",
    "\n",
    "\n",
    "\n",
    "    print(df_dict[model].groupby('tokenizing_strategy')['correct_language'].mean())\n",
    "\n",
    "    print(df_dict[model].groupby('tokenizing_strategy')['eval_completion'].value_counts(normalize = True))\n",
    "\n",
    "    fig.write_image(\"../../img/io_plot_\"+model+\".pdf\", format=\"pdf\")\n",
    "\n",
    "\n",
    "    print('Linguistic Fidelity')\n",
    "    group = df_dict[model].groupby(['language', 'tokenizing_strategy'])['correct_language'].mean().reset_index()\n",
    "    group['acc'] = group['correct_language'] * 100  \n",
    "\n",
    "\n",
    "    group.sort_values(by=[\"tokenizing_strategy\",\"acc\"], ascending=[False, False], inplace=True)\n",
    "\n",
    "    fig = px.scatter(group, \n",
    "                        x='language', \n",
    "                        y='acc',\n",
    "                        color='tokenizing_strategy',\n",
    "                        color_discrete_map=color_map,\n",
    "        )\n",
    "\n",
    "\n",
    "\n",
    "    fig.update_layout(\n",
    "        yaxis_title=\"\",\n",
    "        xaxis_title=\"\",\n",
    "        font_family=\"Times New Roman\",\n",
    "        legend_title_text='Tokenization Strategy',\n",
    "        yaxis_range=[0,100],\n",
    "        width=1100,\n",
    "        height=400,\n",
    "        #font=dict(size=24),\n",
    "        template=custom_template,\n",
    "        margin=dict(l=30, r=0, t=20, b=70),\n",
    "        yaxis = dict(tickfont = dict(size=20)),\n",
    "        legend = dict(font = dict(size = 20),\n",
    "        yanchor=\"top\",\n",
    "        y=1,\n",
    "        xanchor=\"right\",\n",
    "        x=1)\n",
    "        )\n",
    "    fig.show()\n",
    "    print('_________________________________________________________________________________________________________')"
   ]
  }
 ],
 "metadata": {
  "kernelspec": {
   "display_name": "Python 3",
   "language": "python",
   "name": "python3"
  },
  "language_info": {
   "codemirror_mode": {
    "name": "ipython",
    "version": 3
   },
   "file_extension": ".py",
   "mimetype": "text/x-python",
   "name": "python",
   "nbconvert_exporter": "python",
   "pygments_lexer": "ipython3",
   "version": "3.9.6"
  }
 },
 "nbformat": 4,
 "nbformat_minor": 2
}
