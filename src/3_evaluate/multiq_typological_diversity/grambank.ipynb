{
 "cells": [
  {
   "cell_type": "markdown",
   "metadata": {},
   "source": [
    "# Analyze coverage of Grambank features\n",
    "This code is mainly adapted from: https://github.com/WPoelman/typ-div-survey"
   ]
  },
  {
   "cell_type": "code",
   "execution_count": 5,
   "metadata": {},
   "outputs": [],
   "source": [
    "import pandas as pd\n",
    "import os\n",
    "\n",
    "\n",
    "feature_url = 'https://raw.githubusercontent.com/WPoelman/typ-div-survey/c11c1c9aa0d7723655c6aaf047e7201a9d78ad03/data/gb_lang_feat_vals.csv'\n",
    "\n",
    "df_gb_features = pd.read_csv(feature_url)\n",
    "\n",
    "grambank_url = 'https://raw.githubusercontent.com/grambank/grambank/master/cldf/languages.csv'\n",
    "\n",
    "df_gb_languages = pd.read_csv(grambank_url)\n",
    "\n",
    "multiq_path = '../../../data/model_language_fidelity/Mistral-7B-Instruct-v0.1.csv'\n",
    "\n",
    "df_multiq =  pd.read_csv(multiq_path)"
   ]
  },
  {
   "cell_type": "code",
   "execution_count": 25,
   "metadata": {},
   "outputs": [
    {
     "data": {
      "text/plain": [
       "0.9538461538461539"
      ]
     },
     "execution_count": 25,
     "metadata": {},
     "output_type": "execute_result"
    }
   ],
   "source": [
    "print('Number of languages with corresponding code in grambank: ')\n",
    "print(len(df_multiq.input_glottocode.unique()))\n",
    "\n",
    "\n",
    "subset = df_gb_features[df_gb_features['Lang_ID'].isin(df_multiq.input_glottocode.unique()) ]\n",
    "\n",
    "gb_feats  = [x for x in df_gb_features.columns if x.startswith(\"GB\")]\n",
    "\n",
    "GB_FEATURE_MISSING = {\"no_cov\", \"?\"}\n",
    "\n",
    "\n",
    "def get_gb_feature_cov(gb, treat_as_missing):\n",
    "    max_coverage_per_feature = dict()\n",
    "    for i, (feature_name, series) in enumerate(gb.items()):\n",
    "        if not feature_name.startswith(\"GB\"):\n",
    "            continue\n",
    "        max_coverage_per_feature[feature_name] = {\n",
    "            i for i in series.unique() if i not in treat_as_missing\n",
    "        }\n",
    "    return max_coverage_per_feature\n",
    "\n",
    "gb_max_coverage = get_gb_feature_cov(df_gb_features, GB_FEATURE_MISSING)\n",
    "\n",
    "\n",
    "# GB feature coverage\n",
    "compl_cov, incompl_cov = [], []\n",
    "for f_name in gb_feats:\n",
    "    f_vals = {val for val in subset[f_name] if val not in GB_FEATURE_MISSING}\n",
    "    if gb_max_coverage[f_name] == f_vals:\n",
    "        compl_cov.append(f_name)\n",
    "    else:\n",
    "        incompl_cov.append(f_name)\n",
    "\n",
    "coverage = len(compl_cov) / len(gb_feats)\n",
    "\n",
    "\n",
    "print(coverage)"
   ]
  }
 ],
 "metadata": {
  "kernelspec": {
   "display_name": "Python 3",
   "language": "python",
   "name": "python3"
  },
  "language_info": {
   "codemirror_mode": {
    "name": "ipython",
    "version": 3
   },
   "file_extension": ".py",
   "mimetype": "text/x-python",
   "name": "python",
   "nbconvert_exporter": "python",
   "pygments_lexer": "ipython3",
   "version": "3.9.6"
  }
 },
 "nbformat": 4,
 "nbformat_minor": 2
}
